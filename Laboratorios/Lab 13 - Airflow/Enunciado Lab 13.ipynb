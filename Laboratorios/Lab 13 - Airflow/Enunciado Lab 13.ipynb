{
 "cells": [
  {
   "cell_type": "markdown",
   "metadata": {
    "id": "Kl0JoW4Eodvi"
   },
   "source": [
    "# **Laboratorio 13: 💨 Airflow 💨**\n",
    "\n",
    "<center><strong>MDS7202: Laboratorio de Programación Científica para Ciencia de Datos</strong></center>\n",
    "\n",
    "### **Cuerpo Docente:**\n",
    "\n",
    "- Profesores: Ignacio Meza, Sebastián Tinoco\n",
    "- Auxiliar: Eduardo Moya\n",
    "- Ayudantes: Nicolás Ojeda, Melanie Peña, Valentina Rojas"
   ]
  },
  {
   "cell_type": "markdown",
   "metadata": {
    "id": "o3ypG7Fsodvj"
   },
   "source": [
    "### Equipo: Ratas.py 🐁\n",
    "\n",
    "- Nombre de alumno 1: Geraldyn Pérez\n",
    "- Nombre de alumno 2: Diego Rojas\n",
    "\n",
    "### **Link de repositorio de GitHub:** [Repositorio](https://github.com/Geral37/MDS7202.git)"
   ]
  },
  {
   "cell_type": "markdown",
   "metadata": {
    "id": "J_P7PCPTodvk"
   },
   "source": [
    "## Temas a tratar\n",
    "\n",
    "- Construcción de pipelines productivos usando `Airflow`.\n",
    "\n",
    "\n",
    "## Reglas:\n",
    "\n",
    "- **Grupos de 2 personas**\n",
    "- Cualquier duda fuera del horario de clases al foro. Mensajes al equipo docente serán respondidos por este medio.\n",
    "- Prohibidas las copias.\n",
    "- Pueden usar cualquer material del curso que estimen conveniente.\n",
    "\n",
    "### Objetivos principales del laboratorio\n",
    "\n",
    "- Reconocer los componentes pricipales de `Airflow` y su funcionamiento.\n",
    "- Poner en práctica la construcción de pipelines de `Airflow`.\n",
    "- Automatizar procesos típicos de un proyecto de ciencia de datos mediante `Airflow` y `Docker`.\n",
    "\n",
    "El laboratorio deberá ser desarrollado sin el uso indiscriminado de iteradores nativos de python (aka \"for\", \"while\"). La idea es que aprendan a exprimir al máximo las funciones optimizadas que nos entrega `pandas`, las cuales vale mencionar, son bastante más eficientes que los iteradores nativos sobre DataFrames."
   ]
  },
  {
   "cell_type": "markdown",
   "metadata": {
    "id": "KsfK981Uodvk"
   },
   "source": [
    "# **Introducción**"
   ]
  },
  {
   "cell_type": "markdown",
   "metadata": {
    "id": "1ilM8YDjodvk"
   },
   "source": [
    "<p align=\"center\">\n",
    "  <img src=\"https://i.gifer.com/SUFL.gif\" width=\"400\">\n",
    "</p>"
   ]
  },
  {
   "cell_type": "markdown",
   "metadata": {
    "id": "7zrLPQNBodvk"
   },
   "source": [
    "Nico, un estudiante del Magíster en Ciencia de Datos, se encuentra en la etapa final de sus estudios. Por un lado, está muy contento por haber llegado tan lejos, pero por otro, no puede evitar sentirse inquieto. Desde que ingresó a la universidad, una pregunta lo ha perseguido: ¿qué tan probable es que pueda ser seleccionado en los lugares donde envíe postulaciones para puestos de trabajo?\n",
    "\n",
    "Esta duda lo mantiene en constante reflexión, especialmente porque sabe que el mercado laboral en Ciencia de Datos es competitivo y exige habilidades no solo técnicas, sino también estratégicas para destacar. Sin embargo, Nico actualmente está completamente enfocado en terminar su tesis de magíster y ha tenido que postergar cualquier preparación específica para enfrentar el desafío de las postulaciones laborales.\n",
    "\n",
    "Al ver el avance y las habilidades que usted ha demostrado en el curso, Nico decidió proponerle un desafío que le permitirá disminuir la incertidumbre sobre su futuro laboral. Inspirado en sus conocimientos, él recolectó un conjunto de datos que contiene información sobre diversos factores que influyen en las decisiones de contratación de empresas al seleccionar entre sus postulantes. Este set de datos incluye los siguientes atributos:\n",
    "\n",
    "- Age: Edad del candidato\n",
    "- Gender: Genero del candidato. Male (0), Female (1).\n",
    "- EducationLevel: Mayor nivel educacional alcanzado por el candidato. Licenciatura Tipo 1 (1), Licenciatura Tipo 2 (2), Maestría (3), PhD. (4).\n",
    "- ExperienceYears: Años de experiencia profesional.\n",
    "- PreviousCompanies: Numero de compañías donde el candidato ha trabajado anteriormente.\n",
    "- DistanceFromCompany: Distancia en kilometros entre la residencia del candidato y la compañía donde postula.\n",
    "- InterviewScore: Puntaje obtenido en la entrevista por el candidato entre 0 a 100.\n",
    "- SkillScore: Puntaje obtenido en evaluación de habilidades técnicas por el candidato, entre 0 a 100.\n",
    "- PersonalityScore: Puntaje obtenido en pruebas de personalidad del candidato, entre 0 a 100.\n",
    "- RecruitmentStrategy: Estrategia del equipo de reclutamiento. Agresiva (1), Moderada (2), Conservadora (3).\n",
    "\n",
    "Variable a predecir:\n",
    "- HiringDecision: Resultado de la postulación. No contratado (0), Contratado (1).\n",
    "\n",
    "Su objetivo será ayudar a Nico a desarrollar un modelo que le permita predecir, basado en estos factores, si un postulante será contratado o no. Esta herramienta no solo le dará a Nico mayor claridad sobre el impacto de ciertos atributos en la decisión final de contratación, sino que también le permitirá aplicar sus conocimientos de Ciencia de Datos para resolver una pregunta que a muchos estudiantes como él les inquieta.\n",
    "\n",
    "Como estudiante del curso Laboratorio de Programación Científica para Ciencia de Datos, deberá demostrar sus capacidades para preprocesar, analizar y modelar datos, brindándole a Nico una solución robusta y bien fundamentada para su problemática.\n",
    "\n",
    "`Nota:` El siguiente [enlace](https://www.kaggle.com/datasets/rabieelkharoua/predicting-hiring-decisions-in-recruitment-data/data) contiene el set de datos original."
   ]
  },
  {
   "cell_type": "markdown",
   "metadata": {
    "id": "Yeh268atodvl"
   },
   "source": [
    "# **1. Pipeline de Predicción Lineal** (30 Puntos)"
   ]
  },
  {
   "cell_type": "markdown",
   "metadata": {
    "id": "CmB1LTWnodvl"
   },
   "source": [
    "<p align=\"center\">\n",
    "  <img src=\"https://c.tenor.com/WvHhQt2UpuAAAAAd/wolf-of-wall-street.gif\" width=\"400\">\n",
    "</p>"
   ]
  },
  {
   "cell_type": "markdown",
   "metadata": {
    "id": "bF1bTY0Modvl"
   },
   "source": [
    "En esta sección buscaremos desplegar un producto utilizando un modelo de clasificación `Random Forest` para determinar si una persona será contratada o no en un proceso de selección. Para ello, comenzaremos preparando un pipeline lineal mediante `Airflow`."
   ]
  },
  {
   "cell_type": "markdown",
   "metadata": {
    "id": "i7MllF4fodvl"
   },
   "source": [
    "## **1.1 Preparando el Pipeline** (15 puntos)"
   ]
  },
  {
   "cell_type": "markdown",
   "metadata": {
    "id": "V1JxaZgModvl"
   },
   "source": [
    "**Primero, asegúrese de tener creada las carpetas `dags`, `plugins` y `logs`**.\n",
    "\n",
    "Comenzamos preparando un archivo llamado `hiring_functions.py`, el cual guardará en la carpeta `dags` y debe contener lo siguiente:\n",
    "\n",
    "1. (3 puntos) Una función llamada `create_folders()` que cree una carpeta, la cual utilice la fecha de ejecución como nombre. Adicionalmente, dentro de esta carpeta debe crear las siguientes subcarpetas:\n",
    "  - raw\n",
    "  - splits\n",
    "  - models\n",
    "\n",
    "  `Hint`: Puede hacer uso de kwargs para obtener la fecha de ejecución mediante el DAG. El siguiente [Enlace](https://airflow.apache.org/docs/apache-airflow/stable/templates-ref.html) le puede ser útil.\n",
    "\n",
    "2. (3 puntos) Una función llamada `split_data()` que lea el archivo `data_1.csv` de la carepta `raw` y a partir de este, aplique un *hold out*, generando un dataset de entrenamiento y uno de prueba. Luego debe guardar estos nuevos conjuntos de datos en la carpeta `splits`. `Nota:` Utilice un 20% para el conjunto de prueba, mantenga la proporción original en la variable objetivo y fije una semilla.\n",
    "\n",
    "3. (8 puntos) Cree una función llamada `preprocess_and_train()` que:\n",
    "  - Lea los set de entrenamiento y prueba de la carpeta `splits`.\n",
    "  - Cree y aplique un `Pipeline` con una etapa de preprocesamiento. Utilice `ColumnTransformers` para aplicar las transformaciones que estime convenientes. Puede apoyarse del archivo `data_1_report.html` para justificar cualquier paso del preprocesamiento.\n",
    "  \n",
    "  - Añada una etapa de entrenamiento utilizando el modelo `RandomForest`.\n",
    "  \n",
    "  Esta función **debe crear un archivo `joblib` (análogo a `pickle`) con el pipeline entrenado** en la carepta `models`, además debe **imprimir** el accuracy en el conjunto de prueba y el f1-score de la clase positiva (contratado).\n",
    "\n",
    "4. (1 punto) Incorpore la función `gradio_interface` en su script, modificando la ruta de acceso a su modelo, de forma que pueda leerlo desde la carepta `models`. Puede realizar modificacioneds adicionales en caso de ser necesario.\n",
    "\n",
    "`NOTA:` Se permite la creación de funciones auxiliares si lo estiman conveniente."
   ]
  },
  {
   "cell_type": "code",
   "execution_count": null,
   "metadata": {
    "executionInfo": {
     "elapsed": 382,
     "status": "ok",
     "timestamp": 1732807326416,
     "user": {
      "displayName": "Eduardo Andrés Moya Briones",
      "userId": "15114984037692151374"
     },
     "user_tz": 180
    },
    "id": "ze9Iotloodvl"
   },
   "outputs": [],
   "source": [
    "import os\n",
    "from datetime import datetime\n",
    "from sklearn.model_selection import train_test_split\n",
    "from sklearn.compose import ColumnTransformer\n",
    "from sklearn.pipeline import Pipeline\n",
    "from sklearn.ensemble import RandomForestClassifier\n",
    "from sklearn.preprocessing import StandardScaler, OneHotEncoder\n",
    "from sklearn.metrics import accuracy_score, f1_score\n",
    "import pandas as pd\n",
    "import joblib\n",
    "import gradio as gr\n",
    "\n",
    "# 1. create_folders()\n",
    "def create_folders(**kwargs):\n",
    "    \"\"\"\n",
    "    Crea una carpeta con la fecha de ejecución del DAG como nombre y las subcarpetas: raw, splits, models.\n",
    "    \"\"\"\n",
    "    # Obtener execution_date desde kwargs\n",
    "    execution_date_str = kwargs.get(\"execution_date\", datetime.now().strftime('%Y-%m-%d'))\n",
    "    execution_date = datetime.strptime(execution_date_str, \"%Y-%m-%d\")\n",
    "\n",
    "    base_folder = f\"dags/{execution_date.strftime('%Y-%m-%d')}\"\n",
    "    subfolders = [\"raw\", \"splits\", \"models\"]\n",
    "\n",
    "    # Crear las carpetas\n",
    "    for subfolder in subfolders:\n",
    "        os.makedirs(os.path.join(base_folder, subfolder), exist_ok=True)\n",
    "\n",
    "    print(f\"Carpetas creadas en: {base_folder}\")\n",
    "\n",
    "# 2. split_data()\n",
    "def split_data(**kwargs):\n",
    "    \"\"\"\n",
    "    Realiza un split del archivo `data_1.csv` en conjuntos de entrenamiento y prueba, y los guarda en la carpeta `splits`.\n",
    "    \"\"\"\n",
    "    execution_date_str = kwargs.get(\"execution_date\", datetime.now().strftime('%Y-%m-%d'))\n",
    "    execution_date = datetime.strptime(execution_date_str, \"%Y-%m-%d\")\n",
    "    base_folder = f\"dags/{execution_date.strftime('%Y-%m-%d')}\"\n",
    "    raw_path = os.path.join(base_folder, \"raw\", \"data_1.csv\")\n",
    "    splits_path = os.path.join(base_folder, \"splits\")\n",
    "\n",
    "    # Leer el archivo CSV\n",
    "    data = pd.read_csv(raw_path)\n",
    "\n",
    "    # Separar variables predictoras y objetivo\n",
    "    X = data.drop(columns=[\"HiringDecision\"])\n",
    "    y = data[\"HiringDecision\"]\n",
    "\n",
    "    # Dividir los datos manteniendo la proporción\n",
    "    X_train, X_test, y_train, y_test = train_test_split(\n",
    "        X, y, test_size=0.2, stratify=y, random_state=333\n",
    "    )\n",
    "\n",
    "    # Guardar los conjuntos de datos\n",
    "    os.makedirs(splits_path, exist_ok=True)\n",
    "    X_train.to_csv(os.path.join(splits_path, \"X_train.csv\"), index=False)\n",
    "    X_test.to_csv(os.path.join(splits_path, \"X_test.csv\"), index=False)\n",
    "    y_train.to_csv(os.path.join(splits_path, \"y_train.csv\"), index=False)\n",
    "    y_test.to_csv(os.path.join(splits_path, \"y_test.csv\"), index=False)\n",
    "\n",
    "    print(f\"Datos divididos y guardados en: {splits_path}\")\n",
    "\n",
    "\n",
    "# 3. preprocess_and_train()\n",
    "def preprocess_and_train(**kwargs):\n",
    "    \"\"\"\n",
    "    Preprocesa los datos y entrena un modelo RandomForest. Guarda el modelo entrenado en la carpeta `models`.\n",
    "    \"\"\"\n",
    "    # Obtener la fecha de ejecución\n",
    "    execution_date_str = kwargs.get(\"execution_date\", datetime.now().strftime('%Y-%m-%d'))\n",
    "    execution_date = datetime.strptime(execution_date_str, \"%Y-%m-%d\")\n",
    "    base_folder = f\"dags/{execution_date.strftime('%Y-%m-%d')}\"\n",
    "    splits_path = os.path.join(base_folder, \"splits\")\n",
    "    models_path = os.path.join(base_folder, \"models\")\n",
    "\n",
    "    # Leer los conjuntos de datos\n",
    "    X_train = pd.read_csv(os.path.join(splits_path, \"X_train.csv\"))\n",
    "    X_test = pd.read_csv(os.path.join(splits_path, \"X_test.csv\"))\n",
    "    y_train = pd.read_csv(os.path.join(splits_path, \"y_train.csv\")).squeeze()\n",
    "    y_test = pd.read_csv(os.path.join(splits_path, \"y_test.csv\")).squeeze()\n",
    "\n",
    "    # Identificar características numéricas y categóricas\n",
    "    numeric_features = [\n",
    "        \"Age\",\n",
    "        \"ExperienceYears\",\n",
    "        \"PreviousCompanies\",\n",
    "        \"DistanceFromCompany\",\n",
    "        \"InterviewScore\",\n",
    "        \"SkillScore\",\n",
    "        \"PersonalityScore\",\n",
    "    ]\n",
    "    categorical_features = [\"Gender\", \"EducationLevel\", \"RecruitmentStrategy\"]\n",
    "\n",
    "    # Crear el preprocesador\n",
    "    preprocessor = ColumnTransformer(\n",
    "        transformers=[\n",
    "            (\"num\", StandardScaler(), numeric_features),\n",
    "            (\"cat\", OneHotEncoder(handle_unknown=\"ignore\"), categorical_features),\n",
    "        ]\n",
    "    )\n",
    "\n",
    "    # Crear el pipeline\n",
    "    pipeline = Pipeline(\n",
    "        steps=[\n",
    "            (\"preprocessor\", preprocessor),\n",
    "            (\"classifier\", RandomForestClassifier(random_state=333)),\n",
    "        ]\n",
    "    )\n",
    "\n",
    "    # Entrenar el modelo\n",
    "    pipeline.fit(X_train, y_train)\n",
    "\n",
    "    # Evaluar el modelo\n",
    "    y_pred = pipeline.predict(X_test)\n",
    "    accuracy = accuracy_score(y_test, y_pred)\n",
    "    f1 = f1_score(y_test, y_pred, pos_label=1)\n",
    "\n",
    "    print(f\"Accuracy en el conjunto de prueba: {accuracy:.2f}\")\n",
    "    print(f\"F1-Score (clase positiva): {f1:.2f}\")\n",
    "\n",
    "    # Guardar el modelo entrenado\n",
    "    os.makedirs(models_path, exist_ok=True)\n",
    "    model_path = os.path.join(models_path, \"model.joblib\")\n",
    "    joblib.dump(pipeline, model_path)\n",
    "    print(f\"Modelo guardado en: {model_path}\")"
   ]
  },
  {
   "cell_type": "code",
   "execution_count": null,
   "metadata": {
    "id": "K_RCVPnUodvm"
   },
   "outputs": [],
   "source": [
    "def predict(file, model_path):\n",
    "\n",
    "    pipeline = joblib.load(model_path)\n",
    "    input_data = pd.read_json(file)\n",
    "    predictions = pipeline.predict(input_data)\n",
    "    labels = [\"No contratado\" if pred == 0 else \"Contratado\" for pred in predictions]\n",
    "    \n",
    "    return {\"Predicción\": labels[0]}\n",
    "\n",
    "\n",
    "def gradio_interface(**kwargs):\n",
    "    execution_date_str = kwargs.get(\"execution_date\", datetime.now().strftime('%Y-%m-%d'))\n",
    "    execution_date = datetime.strptime(execution_date_str, \"%Y-%m-%d\")\n",
    "    model_path = f\"dags/{execution_date.strftime('%Y-%m-%d')}/models/model.joblib\"\n",
    "\n",
    "    interface = gr.Interface(\n",
    "        fn=lambda file: predict(file, model_path),\n",
    "        inputs=gr.File(label=\"Sube un archivo JSON\"),\n",
    "        outputs=\"json\",\n",
    "        title=\"Hiring Decision Prediction\",\n",
    "        description=\"Sube un archivo JSON con las características de entrada para predecir si Nico será contratado o no.\",\n",
    "    )\n",
    "    interface.launch(share=True)"
   ]
  },
  {
   "cell_type": "markdown",
   "metadata": {
    "id": "lTKOj1hfodvm"
   },
   "source": [
    "## **1.2 Creando Nuestro DAG** (15 puntos)"
   ]
  },
  {
   "cell_type": "markdown",
   "metadata": {
    "id": "RkEZcEh4odvm"
   },
   "source": [
    "<p align=\"center\">\n",
    "  <img src=\"https://media1.giphy.com/media/v1.Y2lkPTc5MGI3NjExMzNjd3hxOWIzZjhwZDc5NnJwZzZodnNrbWI5cGtjY2VwZjI0eDdnOSZlcD12MV9pbnRlcm5hbF9naWZfYnlfaWQmY3Q9Zw/Dh5q0sShxgp13DwrvG/giphy.webp\" width=\"400\">\n",
    "</p>"
   ]
  },
  {
   "cell_type": "markdown",
   "metadata": {
    "id": "r-MTaxTgodvm"
   },
   "source": [
    "Con las funciones del pipeline ya creadas, ahora vamos a proceder a crear un Directed Acyclic Graph (DAG). Para ello, se le pide lo siguiente:"
   ]
  },
  {
   "cell_type": "markdown",
   "metadata": {
    "id": "Y-yUak2Rodvm"
   },
   "source": [
    "- (10 puntos) Cree un segundo archivo llamado `dag_lineal.py` y guardelo en la carpeta dags. Este script debe seguir la siguiente estructura (Ver imagen de referencia):\n",
    "\n",
    "    0. Inicialice un DAG con fecha de inicio el 1 de octubre de 2024, ejecución manual y **sin backfill**. Asigne un `dag_id` que pueda reconocer facilmente, como `hiring_lineal`, etc.\n",
    "    1. Debe comenzar con un marcador de posición que indique el inicio del pipeline.\n",
    "    2. Cree una carpeta correspondiente a la ejecución del pipeline y cree las subcarpetas `raw`, `splits` y `models` mediante la función `create_folders()`.\n",
    "    3. Debe descargar el archivo `data_1.csv` del siguiente [enlace](https://gitlab.com/eduardomoyab/laboratorio-13/-/raw/main/files/data_1.csv). Debe guardar el archivo en la carpeta raw de la ejecución correspondiente.`Hint:` Le puede ser útil el comando `curl -o <path de guardado> <enlace con los datos>`.\n",
    "    4. Debe aplicar un hold out mediante la función `split_data()` de su archivo creado en la subsección anterior.\n",
    "    5. Debe aplicar el preprocesamiento y el entrenamiento del modelo mediante la función `preprocess_and_train()`.\n",
    "    6. Finalmente, debe montar una interfaz en gradio donde pueda cargar un archivo ``json``.\n",
    "\n",
    "\n",
    "- (3 puntos) Cree un `DockerFile` para montar un contenedor que contenga Airflow. Adicionalmente, cree una carpeta llamada dags donde guardará el script.py creado anteriormente.\n",
    "\n",
    "    `Nota:` Para la imagen, se recomienda utilizar python 3.10-slim. Adicionalmente, puede instalar `curl` mediante la siguiente linea de código: `RUN apt-get update && apt-get install -y curl`.\n",
    "\n",
    "- Construya el contenedor en Docker y acceda a la aplicación web de Airflow mediante el siguiente [enlace](http://localhost:8080/). Inicie sesión, acceda al DAG creado y ejecute de forma manual su pipeline.\n",
    "\n",
    "- (2 puntos) Acceda a la URL pública de Gradio e ingrese el archivo `nico_data.json` a su modelo. ¿Que predicción entregó el modelo para Nico? Adjunte imágenes de su resultado. `Hint:` Puede acceder a los `logs` para obtener los prints y la URL pública.\n",
    "\n",
    "`Hint:` Recuerde que puede entregar `kwargs` a sus funciones, como por ejemplo la fecha de ejecución `ds`.\n",
    "\n",
    "**Para esta sección, debe adjuntar todos los scripts creados junto a su notebook en la entrega, ya que serán ejecutados para validar el funcionamiento. Para justificar sus respuestas, adicionaslmente puede utilizar imágenes de apoyo, como screenshots.**"
   ]
  },
  {
   "cell_type": "markdown",
   "metadata": {
    "id": "tiMTgQfJpuIv"
   },
   "source": [
    "DAG de referencia:\n",
    "<p align=\"center\">\n",
    "  <img src=\"ejemplo_dag_enunciado.png\" width=\"1200\">\n",
    "</p>"
   ]
  },
  {
   "cell_type": "code",
   "execution_count": null,
   "metadata": {
    "id": "ckzDqsF4odvn"
   },
   "outputs": [],
   "source": [
    "#Inserte código aqui\n",
    "\n",
    "from datetime import timedelta\n",
    "from airflow import DAG\n",
    "from airflow.operators.python import PythonOperator\n",
    "from airflow.operators.empty import EmptyOperator\n",
    "from airflow.operators.bash import BashOperator\n",
    "from airflow.operators.python_operator import BranchPythonOperator\n",
    "from airflow.utils.dates import days_ago\n",
    "\n",
    "from hiring_functions import create_folders, split_data, preprocess_and_train, gradio_interface\n",
    "import os\n",
    "import subprocess\n",
    "from datetime import datetime\n",
    "import gradio as gr\n",
    "\n",
    "args = {\n",
    "    'owner': 'MDS7202',\n",
    "    'retries': 1,\n",
    "}\n",
    "\n",
    "dag_id = \"hiring_pipeline\"\n",
    "fecha_inicio = datetime(2024, 10, 1)\n",
    "\n",
    "with DAG(\n",
    "    dag_id=dag_id,\n",
    "    default_args=args,\n",
    "    description='Pipeline intento 28374913',\n",
    "    start_date=days_ago(5),\n",
    "    schedule_interval=None,\n",
    "    catchup=False  # Sin backfill: entrenamiento retroactivo para cubrir tareas no ejecutadas que debieron haberlo sido o algo así entendí\n",
    ") as dag:\n",
    "    \n",
    "    # Task 1 - Start\n",
    "    start_pipeline = EmptyOperator(task_id='Start')\n",
    "\n",
    "    # Task 2 - Create folders\n",
    "    create_folders_task = PythonOperator(\n",
    "        task_id=\"create_folders\",\n",
    "        python_callable=create_folders,\n",
    "        op_kwargs={\"execution_date\": \"{{ ds }}\"},\n",
    "    )\n",
    "\n",
    "    # Task 3 - Download data\n",
    "    download_dataset_task = BashOperator(\n",
    "        task_id='download_dataset',\n",
    "        bash_command=(\n",
    "            \"curl -o dags/{{ ds }}/raw/data_1.csv \"\n",
    "            \"https://gitlab.com/eduardomoyab/laboratorio-13/-/raw/main/files/data_1.csv\"\n",
    "        )\n",
    "    )\n",
    "\n",
    "    # Task 4 - Split data\n",
    "    split_data_task = PythonOperator(\n",
    "        task_id=\"split_data\",\n",
    "        python_callable=split_data,\n",
    "        op_kwargs={\"execution_date\": \"{{ ds }}\"},\n",
    "    )\n",
    "\n",
    "    # Task 5 - Preprocess and train the model\n",
    "    preprocess_and_train_task = PythonOperator(\n",
    "        task_id=\"preprocess_and_train\",\n",
    "        python_callable=preprocess_and_train,\n",
    "        op_kwargs={\"execution_date\": \"{{ ds }}\"},\n",
    "    )\n",
    "\n",
    "    # Task 6 - Run Gradio interface\n",
    "    gradio_interface_task = PythonOperator(\n",
    "        task_id=\"gradio_interface\",\n",
    "        python_callable=gradio_interface,\n",
    "        op_kwargs={\"execution_date\": \"{{ ds }}\"},\n",
    "    )\n",
    "\n",
    "    # Task 7 - End\n",
    "    end_pipeline = EmptyOperator(task_id='End')\n",
    "\n",
    "    # Define the workflow process\n",
    "    start_pipeline >> create_folders_task\n",
    "    create_folders_task >> download_dataset_task\n",
    "    download_dataset_task >> split_data_task\n",
    "    split_data_task >> preprocess_and_train_task\n",
    "    preprocess_and_train_task >> gradio_interface_task\n",
    "    gradio_interface_task >> end_pipeline"
   ]
  },
  {
   "cell_type": "markdown",
   "metadata": {
    "id": "KqBlHcBQpXJb"
   },
   "source": [
    "# **2. Paralelizando el Pipeline** (30 puntos)\n",
    "\n",
    "<p align=\"center\">\n",
    "  <img src=\"https://media.tenor.com/vDv7mn58skcAAAAM/clapping.gif\" width=\"300\">\n",
    "</p>\n",
    "\n"
   ]
  },
  {
   "cell_type": "markdown",
   "metadata": {
    "id": "SoQaVOeiqO_R"
   },
   "source": [
    "Al ver los resultados obtenidos, Nico queda muy contento con el clasificador. Sin embargo, le aparecen algunas dudas respecto al funcionamiento del pipeline. Primero le comenta que es posible que en un futuro tenga nuevos datos que podrían ser útiles para realizar nuevos entrenamientos, por lo que sería ideal si este pipeline se fuera ejecutando de forma periódica y no de forma manual. Además, Nico le menciona que le gustaría explorar el desempeño de otros modelos además de `Random Forest`, de forma que el pipeline seleccione de forma automática el modelo con mejor desempeño para luego hacer la predicción de Nico."
   ]
  },
  {
   "cell_type": "markdown",
   "metadata": {
    "id": "9mGPMg0ur-wR"
   },
   "source": [
    "## **2.1 Preparando un Nuevo Pipeline** (15 puntos)"
   ]
  },
  {
   "cell_type": "markdown",
   "metadata": {
    "id": "fpU81VCRr-Hr"
   },
   "source": [
    "<p align=\"center\">\n",
    "  <img src=\"https://i.makeagif.com/media/7-07-2015/oH6WRw.gif\" width=\"400\">\n",
    "</p>"
   ]
  },
  {
   "cell_type": "markdown",
   "metadata": {
    "id": "7KcXuS6bsZAw"
   },
   "source": [
    "De acuerdo a lo que le comentó Nico, usted decide crear un nuevo script con las funciones que utilizará su pipeline. Por ende, dentro de la carpeta `dags`, usted creará el archivo `hiring_dynamic_functions.py` el cual debe contener:\n",
    "\n",
    "1. (2 puntos) Una función llamada `create_folders()` que cree una carpeta, la cual utilice la fecha de ejecución como nombre. Adicionalmente, dentro de esta carpeta debe crear las siguientes subcarpetas:\n",
    "  - raw\n",
    "  - preprocessed\n",
    "  - splits\n",
    "  - models\n",
    "2. (2 puntos) Una función llamada `load_ands_merge()` que lea desde la carpeta `raw` los archivos `data_1.csv`y `data_2.csv` en caso de estar disponible. Luego concatene estos y genere un nuevo archivo resultante, guardándolo en la carpeta `preprocessed`.\n",
    "\n",
    "3. (2 puntos) Una función llamada `split_data()` que lea la data guardada en la carpeta `preprocessed` y realice un hold out sobre esta data. Esta función debe crear un conjunto de entrenamiento y uno de prueba. Mantenga una semilla y 20% para el conjunto de prueba. Guarde los conjuntos resultantes en la carpeta `splits`.\n",
    "\n",
    "4. (6 puntos) Una función llamada `train_model()` que reciba un modelo de clasificación.\n",
    "    - La función debe comenzar leyendo el conjunto de entrenamiento desde la carpeta `spits`.\n",
    "    - Esta debe crear y aplicar un `Pipeline` con una etapa de preprocesamiento. Utilice `ColumnTransformers` para aplicar las transformaciones que estime convenientes.\n",
    "    - Añada una etapa de entrenamiento utilizando un modelo que ingrese a la función.\n",
    "  \n",
    "  Esta función **debe crear un archivo joblib con el pipeline entrenado**. Guarde el modelo con un nombre que le permita una facil identificación dentro de la carpeta `models`.\n",
    "\n",
    "5. (3 puntos) Una función llamada `evaluate_models()` que reciba sus modelos entrenados desde la carpeta `models`, evalúe su desempeño mediante `accuracy` en el conjunto de prueba y seleccione el mejor modelo obtenido. Luego guarde el mejor modelo como archivo `.joblib`. Su función debe imprimir el nombre del modelo seleccionado y el accuracy obtenido."
   ]
  },
  {
   "cell_type": "code",
   "execution_count": null,
   "metadata": {
    "id": "KnX61hxjW9rI"
   },
   "outputs": [],
   "source": [
    "#Inserte código aqui"
   ]
  },
  {
   "cell_type": "markdown",
   "metadata": {
    "id": "RUYkXWcZJz3b"
   },
   "source": [
    "## **2.2 Componiendo un nuevo DAG** (15 puntos)"
   ]
  },
  {
   "cell_type": "markdown",
   "metadata": {
    "id": "ak7uL9YXJ6Xj"
   },
   "source": [
    "<p align=\"center\">\n",
    "  <img src=\"https://y.yarn.co/977552ab-0b55-4118-9948-06f6386474da_text.gif\" width=\"400\">\n",
    "</p>"
   ]
  },
  {
   "cell_type": "markdown",
   "metadata": {
    "id": "NbE6mu20LfWd"
   },
   "source": [
    "Con las nuevas funciones, vamos a crear nuestro nuevo DAG. Para ello, cree un nuevo script en la carpeta `dags`, llamandolo `dag_dynamic.py`. Este script debe contener la siguiente estructura:\n",
    "\n",
    "1. (1 punto) Inicialice un DAG con fecha de inicio el 1 de octubre de 2024, el cual se debe ejecutar el día 5 de cada mes a las 15:00 UTC. Utilice un `dag_id` interpretable para identificar fácilmente. **Habilite el backfill** para que pueda ejecutar tareas programadas desde fechas pasadas.\n",
    "2. (1 punto) Comience con un marcador de posición que indique el inicio del pipeline.\n",
    "3. (2 puntos) Cree una carpeta correspondiente a la ejecución del pipeline y cree las subcarpetas `raw`, `preprocessed`, `splits` y `models` mediante la función `create_folders()`.\n",
    "4. (2 puntos) Implemente un `Branching`que siga la siguiente lógica:\n",
    "  - Fechas previas al 1 de noviembre de 2024: Se descarga solo `data_1.csv`\n",
    "  - Desde el 1 de noviembre del 2024: descarga `data_1.csv` y `data_2.csv`.\n",
    "  En el siguiente [enlace](https://gitlab.com/eduardomoyab/laboratorio-13/-/raw/main/files/data_2.csv) puede descargar `data_2.csv`.\n",
    "5. (1 punto) Cree una tarea que concatene los datasets disponibles mediante la función `load_and_merge()`. Configure un `Trigger` para que la tarea se ejecute si encuentra disponible **como mínimo** uno de los archivos.\n",
    "6. (1 punto) Aplique el hold out al dataset mediante la función `split_data()`, obteniendo un conjunto de entrenamiento y uno de prueba.\n",
    "7. (2 puntos) Realice 3 entrenamientos en paralelo:\n",
    "  - Un modelo Random Forest.\n",
    "  - 2 modelos a elección.\n",
    "  Asegúrese de guardar sus modelos entrenados con nombres distintivos. Utilice su función `train_model()` para ello.\n",
    "8. (2 puntos)Mediante la función `evaluate_models()`, evalúe los modelos entrenados, registrando el accuracy de cada modelo en el set de prueba. Luego debe imprimir el mejor modelo seleccionado y su respectiva métrica. Configure un `Trigger` para que la tarea se ejecute solamente si los 3 modelos fueron entrenados y guardados.\n",
    "\n",
    "`Hint:` Recuerde que puede entregar `kwargs` a sus funciones, como por ejemplo la fecha de ejecución `ds`.\n",
    "\n",
    "Una vez creado el script, vuelva a construir el contenedor en Docker, acceda a la aplicación web de Airflow, ejecute su pipeline y muestre sus resultados. Adjunte imágenes que ayuden a mostrar el proceso y sus resultados.\n",
    "\n",
    "Adicionalmente, responda (1 c/u):\n",
    "\n",
    "- ¿Cual es el accuracy de cada modelo en la ejecución de octubre? ¿Se obtienen los mismos resultados a partir de Noviembre?\n",
    "- Analice como afectó el añadir datos a sus modelos mediante el desempeño del modelo y en costo computacional.\n",
    "- Muestre el esquema de su DAG ejecutado en octubre y en noviembre.\n",
    "\n",
    "\n",
    "`Nota:` Para esta sección no debe implementar la tarea en gradio, solamente se espera determinar el mejor modelo y comparar el desempeño obtenido.\n",
    "\n",
    "**IMPORTANTE: Para esta sección, debe adjuntar todos los scripts creados junto a su notebook en la entrega, ya que serán ejecutados para validar el funcionamiento. Para justificar sus respuestas, adicionaslmente puede utilizar imágenes de apoyo, como screenshots.**"
   ]
  },
  {
   "cell_type": "code",
   "execution_count": null,
   "metadata": {
    "id": "cMgK2sKTYJji"
   },
   "outputs": [],
   "source": [
    "#Inserte código aqui"
   ]
  },
  {
   "cell_type": "markdown",
   "metadata": {
    "id": "wrmM65RIRrgm"
   },
   "source": [
    "# Conclusión\n",
    "Eso ha sido todo para el lab de hoy, recuerden que el laboratorio tiene un plazo de entrega de una semana. Cualquier duda del laboratorio, no duden en contactarnos por el foro de U-cursos o por correo.\n",
    "\n",
    "<center>\n",
    "<img src =\"https://media0.giphy.com/media/W12WAzuqod9VS/200w.gif?cid=6c09b952gekq3fm1no1ttwcvgm9oj3khbm6yxbe6qwnx3nad&ep=v1_gifs_search&rid=200w.gif&ct=g\" width = 400 />\n"
   ]
  }
 ],
 "metadata": {
  "colab": {
   "provenance": []
  },
  "kernelspec": {
   "display_name": "Python 3",
   "language": "python",
   "name": "python3"
  },
  "language_info": {
   "codemirror_mode": {
    "name": "ipython",
    "version": 3
   },
   "file_extension": ".py",
   "mimetype": "text/x-python",
   "name": "python",
   "nbconvert_exporter": "python",
   "pygments_lexer": "ipython3",
   "version": "3.10.11"
  }
 },
 "nbformat": 4,
 "nbformat_minor": 0
}
