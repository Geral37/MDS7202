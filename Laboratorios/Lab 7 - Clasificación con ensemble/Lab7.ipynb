{
  "cells": [
    {
      "cell_type": "markdown",
      "metadata": {
        "id": "_Tgm8mCA9Dp3"
      },
      "source": [
        "# Laboratorio 7: Clasificación 🤗\n",
        "\n",
        "<center><strong>MDS7202: Laboratorio de Programación Científica para Ciencia de Datos - Primavera 2024</strong></center>\n"
      ]
    },
    {
      "cell_type": "markdown",
      "metadata": {
        "id": "11Kc_ibM9GXH"
      },
      "source": [
        "### Cuerpo Docente:\n",
        "\n",
        "- Profesores: Ignacio Meza, Sebastián Tinoco\n",
        "- Auxiliar: Eduardo Moya\n",
        "- Ayudantes: Nicolás Ojeda, Melanie Peña, Valentina Rojas"
      ]
    },
    {
      "cell_type": "markdown",
      "metadata": {
        "id": "u9dUSltr9JrN"
      },
      "source": [
        "### Equipo: Ratas.py 🐁\n",
        "\n",
        "- Nombre de alumno 1: Geraldyn Pérez\n",
        "- Nombre de alumno 2: Diego Rojas"
      ]
    },
    {
      "cell_type": "markdown",
      "metadata": {
        "id": "kKmfHLnen3B_"
      },
      "source": [
        "### **Link de repositorio de GitHub:** [Repositorio](https://github.com/Geral37/MDS7202.git)"
      ]
    },
    {
      "cell_type": "markdown",
      "metadata": {
        "id": "YBa48PDF9OHw"
      },
      "source": [
        "### Temas a tratar\n",
        "- Clasificación en problemas desbalanceados\n",
        "- Lightgbm y xgboost\n",
        "- Pipelines"
      ]
    },
    {
      "cell_type": "markdown",
      "metadata": {
        "id": "mkhnnMx49Qrh"
      },
      "source": [
        "### Reglas:\n",
        "\n",
        "- **Grupos de 2 personas**\n",
        "- Cualquier duda fuera del horario de clases al foro. Mensajes al equipo docente serán respondidos por este medio.\n",
        "- Prohibidas las copias.\n",
        "- Pueden usar cualquer matrial del curso que estimen conveniente.\n",
        "- Código que no se pueda ejecutar, no será revisado."
      ]
    },
    {
      "cell_type": "markdown",
      "metadata": {
        "id": "sxzJ48Vv8quO"
      },
      "source": [
        "\n",
        "\n",
        "### Objetivos principales del laboratorio\n",
        "- Comprender cómo trabajar con problemas de clasificación con clases desbalanceadas.\n",
        "- Aplicar los modelos lightgbm y xgboost.\n",
        "- Practicar Pipelines"
      ]
    },
    {
      "cell_type": "markdown",
      "metadata": {
        "id": "k-ao0mOU64Ru"
      },
      "source": [
        "# Parte Teórica [12 puntos]\n",
        "\n",
        "\n"
      ]
    },
    {
      "cell_type": "markdown",
      "metadata": {
        "id": "ApXKwPDmxcEV"
      },
      "source": [
        "1. Explique cuál es la diferencia entre los datos de entrenamiento y validación. [1 punto]\n",
        "\n",
        "2. Explique cuál es el principal desafío al trabajar problemas de clasificación con data no supervisada. [1 punto]\n",
        "\n",
        "3. Explique en **sus palabras** qué es la matriz de confusión y para qué se utiliza. [1 puntos]\n",
        "\n",
        "4. Escriba la fórmula de las siguientes métricas y explique con **sus palabras** cómo se interpretan. [1 punto cada uno]\n",
        "\n",
        "  * Accuracy\n",
        "  * Precision\n",
        "  * Recall\n",
        "  * F1 score\n",
        "\n",
        "5. Explique qué métrica recomendaría para los siguientes contextos de clasificación. [1 punto cada uno]\n",
        "\n",
        "  * Mantenimiento predictivo de fallas de maquinaria pesada en la industria minera.  \n",
        "  * Detección de enfermedades altamente contagiosas.\n",
        "  * Aprobación de créditos de alto riesgo.\n",
        "  * Detección de crímenes.\n",
        "\n",
        "6. Explique qué es la calibración de modelos y para qué se usa. [1 punto]\n"
      ]
    },
    {
      "cell_type": "markdown",
      "metadata": {
        "id": "Yy4QMWD8-FPk"
      },
      "source": [
        "**Respuesta:**"
      ]
    },
    {
      "cell_type": "markdown",
      "metadata": {
        "id": "QYFdD1aK-ICa"
      },
      "source": [
        "1. Los datos de entrenamiento, son aquellos que se usan para entrenar el modelo, mientras que los de validación son los que se usan para medir el rendimiento del modelo sin influir en el proceso de aprendizaje de este, dado que la medición se realiza con datos que no han sido vistos por el modelo.\n",
        "\n",
        "2. El principal desafío es la ausencia de etiquetas, lo que dificulta definir y evaluar clases. Sin referencias conocidas, el modelo debe descubrir patrones por sí solo, lo que puede llevar a resultados poco interpretables o inexactos.\n",
        "\n",
        "3. Es una tabla donde se muestra la cantidad de veces que el modelo clasificó ciertas variables según la etiqueta correspondiente, es decir, muestra cuántas veces las predicciones del modelo coinciden con las etiquetas reales y cuántas no.\n",
        "\n",
        "4. Considerando:\n",
        "\n",
        "*Verdadero positivo (TP):* Instancias positivas que fueron correctamente clasificadas.\n",
        "\n",
        "*Verdadero negativo (TN):* Instancias negativas que fueron correctamente clasificadas.\n",
        "\n",
        "*Falso positivo (FP):* Instancias negativas que fueron incorrectamente clasificadas como positivas.\n",
        "\n",
        "*Falso negativo (FN):* Instancias positivas que fueron incorrectamente clasificadas negativas.\n",
        "\n",
        "  * Accuracy: es la proporción del conjunto de prueba que está clasificado correctamente y se calcula como:\n",
        "\n",
        "$$\n",
        "\\displaystyle \\small accuracy = \\frac{TP + TN}{TP + FP + TN + FN}\n",
        "$$\n",
        "\n",
        "  * Precision: es una medida de la exactitud, o el porcentaje de instancias clasificadas como positivas que realmente lo son y se calcula como:\n",
        "\n",
        "$$\n",
        "\\displaystyle \\small precision = \\frac{TP}{TP + FP}\n",
        "$$\n",
        "\n",
        "  * Recall: es la proporción de instancias positivas que son clasificadas correctamente y se calcula como:\n",
        "  \n",
        "$$\n",
        "\\displaystyle \\small recall = \\frac{TP}{TP + FN}\n",
        "$$\n",
        "\n",
        "  * F1 score: es la combinación entre precision y recall en una solo medida. Esto otorga igual peso a la precisión y la exhaustividad y se calcula como:\n",
        "\n",
        "$$\n",
        "\\displaystyle \\small F_1 = \\frac{2\\times precision \\times recall}{precision + recall}\n",
        "$$\n",
        "\n",
        "5. \n",
        "  * Mantenimiento predictivo de fallas de maquinaria pesada en la industria minera: En este caso, es crucial asegurar que se detecten la mayor cantidad de fallas posibles, con tal de evitar accidentes graves o interrupciones costosas, por lo que lo más adecuado sería utilizar recall.\n",
        "\n",
        "  * Detección de enfermedades altamente contagiosas: En este caso, nos importa tener la menor cantidad de falsos negativos para controlar la propagación de la enfermedad, por lo que lo más adecuado sería utilizar recall.\n",
        "\n",
        "  * Aprobación de créditos de alto riesgo: En este caso, nos importa minimizar los falsos positivos, , ya que otorgar un crédito a un solicitante de alto riesgo puede ser costoso para la entidad financiera, por lo que lo más adecuado sería utilizar precision.\n",
        "\n",
        "  * Detección de crímenes: En este caso, necesitamos mantener un equilibrio entre no perder ningún crimen y no acusar erróneamente a inocentes, por lo que lo más adecuado sería utilizar F1 score.\n",
        "\n",
        "6. La calibración de modelos es el proceso de ajustar las predicciones de un modelo para que las probabilidades que genera sean más confiables y reflejen la realidad. Esto es importante en modelos de clasificación probabilística, ya que permite que, por ejemplo, si un modelo indica una probabilidad del 70%, esa clase ocurra efectivamente el 70% de las veces. Una buena calibración mejora la interpretación de las predicciones y la toma de decisiones\n"
      ]
    },
    {
      "cell_type": "markdown",
      "metadata": {
        "id": "Jg_9jBqtgRDO"
      },
      "source": [
        "# Parte práctica [48 puntos]"
      ]
    },
    {
      "cell_type": "markdown",
      "metadata": {
        "id": "slm6yRfdfZwS"
      },
      "source": [
        "<p align=\"center\">\n",
        "  <img src=\"https://i.ibb.co/61L8z0w/renacin-by-volframio-dcirf4l-fullview.jpg\"\n",
        "\" width=\"400\">\n",
        "</p>\n",
        "\n",
        "\n",
        "\n",
        "Tras el trágico despido de la mítica mascota de Maipú, Renacín decide adentrarse como consultor en el mercado futbolero, el cuál (para variar...) está cargado en especulaciones.\n",
        "\n",
        "Como su principal tarea será asesorar a los directivos de los clubes sobre cuál jugador comprar y cuál no, Renacín desea generar modelos predictivos que evaluén distintas características de los jugadores; todo con el fin de tomar decisiones concretas basadas en los datos.\n",
        "\n",
        "Sin embargo, su condición de corporeo le impidió tomar la versión anterior de MDS7202, por lo que este motivo Renacín contrata a su equipo para lograr su objetivo final. Dado que aún tiene fuertes vínculos con la dirección de deportes de la municipalidad, el corporeo le entrega base de datos con las estadísticas de cada jugador para que su equipo empieze a trabajar ya con un dataset listo para ser usado.\n"
      ]
    },
    {
      "cell_type": "markdown",
      "metadata": {
        "id": "jnbx7RwHfkue"
      },
      "source": [
        "**Los Datos**\n",
        "\n",
        "Para este laboratorio deberán trabajar con el csv `statsplayers.csv`, donde deberán aplicar algoritmos de aprendizaje supervisado de clasificación en base a características que describen de jugadores de fútbol.\n",
        "\n",
        "Para comenzar cargue el dataset señalado y a continuación vea el reporte **`Player_Stats_Report.html`** (adjunto en la carpeta del enunciado) que describe las características principales del `DataFrame`."
      ]
    },
    {
      "cell_type": "code",
      "execution_count": 1,
      "metadata": {
        "colab": {
          "base_uri": "https://localhost:8080/"
        },
        "id": "mX6iwOWUfrp_",
        "outputId": "db1a2e7a-4abe-44f6-f8f6-97971a978a98"
      },
      "outputs": [
        {
          "name": "stdout",
          "output_type": "stream",
          "text": [
            "Ignorando conexión drive-colab\n"
          ]
        }
      ],
      "source": [
        "# Si usted está utilizando Colabolatory le puede ser útil este código para cargar los archivos.\n",
        "try:\n",
        "    from google.colab import drive\n",
        "    drive.mount(\"/content/drive\")\n",
        "    path = 'Dirección donde tiene los archivos en el Drive'\n",
        "except:\n",
        "    print('Ignorando conexión drive-colab')"
      ]
    },
    {
      "cell_type": "markdown",
      "metadata": {},
      "source": [
        "**Librerías necesarias**"
      ]
    },
    {
      "cell_type": "code",
      "execution_count": 12,
      "metadata": {
        "id": "L8Yazzsbn3CH"
      },
      "outputs": [],
      "source": [
        "import pandas as pd\n",
        "import numpy as np\n",
        "\n",
        "from sklearn.compose import ColumnTransformer\n",
        "from sklearn.preprocessing import MinMaxScaler, OneHotEncoder, FunctionTransformer, LabelEncoder\n",
        "from sklearn.model_selection import train_test_split\n",
        "from sklearn.pipeline import Pipeline\n",
        "from sklearn.metrics import accuracy_score, precision_score, recall_score, classification_report,  brier_score_loss\n",
        "from sklearn.svm import SVC\n",
        "from sklearn.calibration import CalibratedClassifierCV, calibration_curve\n",
        "\n",
        "from lightgbm import LGBMClassifier\n",
        "from xgboost import XGBClassifier\n",
        "\n",
        "import matplotlib.pyplot as plt\n"
      ]
    },
    {
      "cell_type": "code",
      "execution_count": 13,
      "metadata": {
        "colab": {
          "base_uri": "https://localhost:8080/",
          "height": 342
        },
        "id": "kTG0jHz7n3CI",
        "outputId": "0f295502-22e3-4a20-f900-611860687b3e"
      },
      "outputs": [
        {
          "data": {
            "text/html": [
              "<div>\n",
              "<style scoped>\n",
              "    .dataframe tbody tr th:only-of-type {\n",
              "        vertical-align: middle;\n",
              "    }\n",
              "\n",
              "    .dataframe tbody tr th {\n",
              "        vertical-align: top;\n",
              "    }\n",
              "\n",
              "    .dataframe thead th {\n",
              "        text-align: right;\n",
              "    }\n",
              "</style>\n",
              "<table border=\"1\" class=\"dataframe\">\n",
              "  <thead>\n",
              "    <tr style=\"text-align: right;\">\n",
              "      <th></th>\n",
              "      <th>Name</th>\n",
              "      <th>Nationality</th>\n",
              "      <th>National_Position</th>\n",
              "      <th>Club_Position</th>\n",
              "      <th>Height</th>\n",
              "      <th>Weight</th>\n",
              "      <th>Preffered_Foot</th>\n",
              "      <th>Age</th>\n",
              "      <th>Work_Rate</th>\n",
              "      <th>Weak_foot</th>\n",
              "      <th>...</th>\n",
              "      <th>Agility</th>\n",
              "      <th>Jumping</th>\n",
              "      <th>Heading</th>\n",
              "      <th>Shot_Power</th>\n",
              "      <th>Finishing</th>\n",
              "      <th>Long_Shots</th>\n",
              "      <th>Curve</th>\n",
              "      <th>Freekick_Accuracy</th>\n",
              "      <th>Penalties</th>\n",
              "      <th>Volleys</th>\n",
              "    </tr>\n",
              "  </thead>\n",
              "  <tbody>\n",
              "    <tr>\n",
              "      <th>0</th>\n",
              "      <td>Cristiano Ronaldo</td>\n",
              "      <td>Portugal</td>\n",
              "      <td>LS</td>\n",
              "      <td>LW</td>\n",
              "      <td>185</td>\n",
              "      <td>80</td>\n",
              "      <td>Right</td>\n",
              "      <td>32</td>\n",
              "      <td>High / Low</td>\n",
              "      <td>4</td>\n",
              "      <td>...</td>\n",
              "      <td>90</td>\n",
              "      <td>95</td>\n",
              "      <td>85</td>\n",
              "      <td>92</td>\n",
              "      <td>93</td>\n",
              "      <td>90</td>\n",
              "      <td>81</td>\n",
              "      <td>76</td>\n",
              "      <td>85</td>\n",
              "      <td>88</td>\n",
              "    </tr>\n",
              "    <tr>\n",
              "      <th>1</th>\n",
              "      <td>Lionel Messi</td>\n",
              "      <td>Argentina</td>\n",
              "      <td>RW</td>\n",
              "      <td>RW</td>\n",
              "      <td>170</td>\n",
              "      <td>72</td>\n",
              "      <td>Left</td>\n",
              "      <td>29</td>\n",
              "      <td>Medium / Medium</td>\n",
              "      <td>4</td>\n",
              "      <td>...</td>\n",
              "      <td>90</td>\n",
              "      <td>68</td>\n",
              "      <td>71</td>\n",
              "      <td>85</td>\n",
              "      <td>95</td>\n",
              "      <td>88</td>\n",
              "      <td>89</td>\n",
              "      <td>90</td>\n",
              "      <td>74</td>\n",
              "      <td>85</td>\n",
              "    </tr>\n",
              "    <tr>\n",
              "      <th>2</th>\n",
              "      <td>Neymar</td>\n",
              "      <td>Brazil</td>\n",
              "      <td>LW</td>\n",
              "      <td>LW</td>\n",
              "      <td>174</td>\n",
              "      <td>68</td>\n",
              "      <td>Right</td>\n",
              "      <td>25</td>\n",
              "      <td>High / Medium</td>\n",
              "      <td>5</td>\n",
              "      <td>...</td>\n",
              "      <td>96</td>\n",
              "      <td>61</td>\n",
              "      <td>62</td>\n",
              "      <td>78</td>\n",
              "      <td>89</td>\n",
              "      <td>77</td>\n",
              "      <td>79</td>\n",
              "      <td>84</td>\n",
              "      <td>81</td>\n",
              "      <td>83</td>\n",
              "    </tr>\n",
              "    <tr>\n",
              "      <th>3</th>\n",
              "      <td>Luis Suárez</td>\n",
              "      <td>Uruguay</td>\n",
              "      <td>LS</td>\n",
              "      <td>ST</td>\n",
              "      <td>182</td>\n",
              "      <td>85</td>\n",
              "      <td>Right</td>\n",
              "      <td>30</td>\n",
              "      <td>High / Medium</td>\n",
              "      <td>4</td>\n",
              "      <td>...</td>\n",
              "      <td>86</td>\n",
              "      <td>69</td>\n",
              "      <td>77</td>\n",
              "      <td>87</td>\n",
              "      <td>94</td>\n",
              "      <td>86</td>\n",
              "      <td>86</td>\n",
              "      <td>84</td>\n",
              "      <td>85</td>\n",
              "      <td>88</td>\n",
              "    </tr>\n",
              "    <tr>\n",
              "      <th>4</th>\n",
              "      <td>Manuel Neuer</td>\n",
              "      <td>Germany</td>\n",
              "      <td>GK</td>\n",
              "      <td>GK</td>\n",
              "      <td>193</td>\n",
              "      <td>92</td>\n",
              "      <td>Right</td>\n",
              "      <td>31</td>\n",
              "      <td>Medium / Medium</td>\n",
              "      <td>4</td>\n",
              "      <td>...</td>\n",
              "      <td>52</td>\n",
              "      <td>78</td>\n",
              "      <td>25</td>\n",
              "      <td>25</td>\n",
              "      <td>13</td>\n",
              "      <td>16</td>\n",
              "      <td>14</td>\n",
              "      <td>11</td>\n",
              "      <td>47</td>\n",
              "      <td>11</td>\n",
              "    </tr>\n",
              "  </tbody>\n",
              "</table>\n",
              "<p>5 rows × 39 columns</p>\n",
              "</div>"
            ],
            "text/plain": [
              "                Name Nationality National_Position Club_Position  Height  \\\n",
              "0  Cristiano Ronaldo    Portugal                LS            LW     185   \n",
              "1       Lionel Messi   Argentina                RW            RW     170   \n",
              "2             Neymar      Brazil                LW            LW     174   \n",
              "3        Luis Suárez     Uruguay                LS            ST     182   \n",
              "4       Manuel Neuer     Germany                GK            GK     193   \n",
              "\n",
              "   Weight Preffered_Foot  Age        Work_Rate  Weak_foot  ...  Agility  \\\n",
              "0      80          Right   32       High / Low          4  ...       90   \n",
              "1      72           Left   29  Medium / Medium          4  ...       90   \n",
              "2      68          Right   25    High / Medium          5  ...       96   \n",
              "3      85          Right   30    High / Medium          4  ...       86   \n",
              "4      92          Right   31  Medium / Medium          4  ...       52   \n",
              "\n",
              "   Jumping  Heading  Shot_Power  Finishing  Long_Shots  Curve  \\\n",
              "0       95       85          92         93          90     81   \n",
              "1       68       71          85         95          88     89   \n",
              "2       61       62          78         89          77     79   \n",
              "3       69       77          87         94          86     86   \n",
              "4       78       25          25         13          16     14   \n",
              "\n",
              "   Freekick_Accuracy  Penalties  Volleys  \n",
              "0                 76         85       88  \n",
              "1                 90         74       85  \n",
              "2                 84         81       83  \n",
              "3                 84         85       88  \n",
              "4                 11         47       11  \n",
              "\n",
              "[5 rows x 39 columns]"
            ]
          },
          "execution_count": 13,
          "metadata": {},
          "output_type": "execute_result"
        }
      ],
      "source": [
        "df = pd.read_csv('stats_players.csv')\n",
        "df.head()"
      ]
    },
    {
      "cell_type": "markdown",
      "metadata": {
        "id": "JdcucZhp-M_0"
      },
      "source": [
        "## 1. Predicción de Seleccionados Nacionales [14 puntos]"
      ]
    },
    {
      "cell_type": "markdown",
      "metadata": {
        "id": "HXrewqxjjzvA"
      },
      "source": [
        "<p align=\"center\">\n",
        "  <img src=\"https://www.futuro.cl/wp-content/uploads/2016/06/chile-argentina-meme-12.jpg\" width=\"300\">\n",
        "</p>\n",
        "\n"
      ]
    },
    {
      "cell_type": "markdown",
      "metadata": {
        "id": "Qfre1YsSDqla"
      },
      "source": [
        "### 1.1 Preprocesamiento [5 puntos]"
      ]
    },
    {
      "cell_type": "markdown",
      "metadata": {
        "id": "IR00u4HTDtxv"
      },
      "source": [
        "Tareas:\n",
        "\n",
        "1. Genere los labels para la clasificación binaria en una variable llamada `label`. Para esto, trabaje sobre el atributo `National_Position` suponiendo que los valores nulos son jugadores no seleccionados para representar a su país. [Sin puntaje]\n",
        "\n",
        "2. Hecho esto, ¿cuántos se tienen ejemplos por cada clase? Comente lo que observa. [1 punto]\n",
        "\n",
        "3. Genere un `ColumnTransformer` en donde especifique las transformaciones que hay que realizar para cada columna (por ejemplo StandarScaler, MinMaxScaler, OneHotEncoder, etc...) para que puedan ser utilizadas correctamente por el modelo predictivo y guárdelo una variable llamada `col_transformer`. [2 puntos]\n",
        "\n",
        "4. Comente y justifique las transformaciones elegidas sobre cada una de las variables (para esto utilice el material `Player_Stats_Report.html` que viene en el zip del lab), al igual que las transformaciones aplicadas. [2 puntos]"
      ]
    },
    {
      "cell_type": "markdown",
      "metadata": {
        "id": "tgAk0kbPjEsx"
      },
      "source": [
        "**Respuesta:**"
      ]
    },
    {
      "cell_type": "code",
      "execution_count": 14,
      "metadata": {
        "colab": {
          "base_uri": "https://localhost:8080/"
        },
        "id": "JhC2sZj9dSI1",
        "outputId": "d447c654-fa14-4417-f32a-687b1501c913"
      },
      "outputs": [
        {
          "name": "stdout",
          "output_type": "stream",
          "text": [
            "label\n",
            "0    16513\n",
            "1     1075\n",
            "Name: count, dtype: int64\n"
          ]
        }
      ],
      "source": [
        "#1. Genere los labels para la clasificación binaria en una variable llamada `label`.\n",
        "df['label'] = df['National_Position'].notnull().astype(int)\n",
        "\n",
        "#2. Ejemplos por cada clase\n",
        "clases = df['label'].value_counts()\n",
        "print(clases)"
      ]
    },
    {
      "cell_type": "markdown",
      "metadata": {
        "id": "PswYEtUGn3CM"
      },
      "source": [
        "2. Se puede observar que hay 1.075 jugadores que son seleccionados para representar a su país y hay 16.513 jugadores que no lo son. Por lo que, solo aprox. el 6% corresponde a seleccionados."
      ]
    },
    {
      "cell_type": "code",
      "execution_count": 15,
      "metadata": {
        "colab": {
          "base_uri": "https://localhost:8080/",
          "height": 1000
        },
        "collapsed": true,
        "id": "w_ibHg3Cp55D",
        "outputId": "d44d624c-fea8-43b0-f800-c8d965db3864"
      },
      "outputs": [
        {
          "data": {
            "text/plain": [
              "Name                 object\n",
              "Nationality          object\n",
              "National_Position    object\n",
              "Club_Position        object\n",
              "Height                int64\n",
              "Weight                int64\n",
              "Preffered_Foot       object\n",
              "Age                   int64\n",
              "Work_Rate            object\n",
              "Weak_foot             int64\n",
              "Skill_Moves           int64\n",
              "Ball_Control          int64\n",
              "Dribbling             int64\n",
              "Marking               int64\n",
              "Sliding_Tackle        int64\n",
              "Standing_Tackle       int64\n",
              "Aggression            int64\n",
              "Reactions             int64\n",
              "Interceptions         int64\n",
              "Vision                int64\n",
              "Composure             int64\n",
              "Crossing              int64\n",
              "Short_Pass            int64\n",
              "Long_Pass             int64\n",
              "Acceleration          int64\n",
              "Speed                 int64\n",
              "Stamina               int64\n",
              "Strength              int64\n",
              "Balance               int64\n",
              "Agility               int64\n",
              "Jumping               int64\n",
              "Heading               int64\n",
              "Shot_Power            int64\n",
              "Finishing             int64\n",
              "Long_Shots            int64\n",
              "Curve                 int64\n",
              "Freekick_Accuracy     int64\n",
              "Penalties             int64\n",
              "Volleys               int64\n",
              "label                 int32\n",
              "dtype: object"
            ]
          },
          "execution_count": 15,
          "metadata": {},
          "output_type": "execute_result"
        }
      ],
      "source": [
        "df.dtypes"
      ]
    },
    {
      "cell_type": "code",
      "execution_count": 16,
      "metadata": {
        "colab": {
          "base_uri": "https://localhost:8080/"
        },
        "id": "fwd3JTqGqfRa",
        "outputId": "79489620-4d92-4ca5-b64b-e96f572137e6"
      },
      "outputs": [
        {
          "name": "stdout",
          "output_type": "stream",
          "text": [
            "Variables numéricas: ['Height', 'Weight', 'Age', 'Weak_foot', 'Skill_Moves', 'Ball_Control', 'Dribbling', 'Marking', 'Sliding_Tackle', 'Standing_Tackle', 'Aggression', 'Reactions', 'Interceptions', 'Vision', 'Composure', 'Crossing', 'Short_Pass', 'Long_Pass', 'Acceleration', 'Speed', 'Stamina', 'Strength', 'Balance', 'Agility', 'Jumping', 'Heading', 'Shot_Power', 'Finishing', 'Long_Shots', 'Curve', 'Freekick_Accuracy', 'Penalties', 'Volleys', 'label']\n",
            "Variables categóricas: ['Name', 'Nationality', 'National_Position', 'Club_Position', 'Preffered_Foot', 'Work_Rate']\n"
          ]
        }
      ],
      "source": [
        "variables_numericas = df.select_dtypes(include=['number']).columns.tolist()\n",
        "\n",
        "variables_categoricas = df.select_dtypes(include=['object']).columns.tolist()\n",
        "\n",
        "print(\"Variables numéricas:\", variables_numericas)\n",
        "print(\"Variables categóricas:\", variables_categoricas)"
      ]
    },
    {
      "cell_type": "code",
      "execution_count": 17,
      "metadata": {
        "colab": {
          "base_uri": "https://localhost:8080/"
        },
        "id": "pOqh2sxUrFNk",
        "outputId": "ed40d5f9-d260-43d6-cc72-5d946877c61b"
      },
      "outputs": [
        {
          "data": {
            "text/plain": [
              "['Name',\n",
              " 'Nationality',\n",
              " 'National_Position',\n",
              " 'Club_Position',\n",
              " 'Preffered_Foot',\n",
              " 'Work_Rate']"
            ]
          },
          "execution_count": 17,
          "metadata": {},
          "output_type": "execute_result"
        }
      ],
      "source": [
        "variables_categoricas"
      ]
    },
    {
      "cell_type": "code",
      "execution_count": 5,
      "metadata": {
        "colab": {
          "base_uri": "https://localhost:8080/"
        },
        "id": "FNo-w_rLn3CM",
        "outputId": "7a9a3758-86dc-45ef-aee7-6c68db89f6da"
      },
      "outputs": [
        {
          "name": "stdout",
          "output_type": "stream",
          "text": [
            "ColumnTransformer(transformers=[('num_div_100',\n",
            "                                 FunctionTransformer(func=<function dividir_por_100 at 0x000002A013A1FB00>),\n",
            "                                 ['Height', 'Weight', 'Age', 'Weak_foot',\n",
            "                                  'Skill_Moves']),\n",
            "                                ('num_minmax', MinMaxScaler(),\n",
            "                                 ['Ball_Control', 'Dribbling', 'Marking',\n",
            "                                  'Sliding_Tackle', 'Standing_Tackle',\n",
            "                                  'Aggression', 'Reactions', 'Interceptions',\n",
            "                                  'Vision', 'Composure', 'Crossing',\n",
            "                                  'Short_Pass', 'Long_Pass', 'Acceleration',\n",
            "                                  'Speed', 'Stamina', 'Strength', 'Balance',\n",
            "                                  'Agility', 'Jumping', 'Heading', 'Shot_Power',\n",
            "                                  'Finishing', 'Long_Shots', 'Curve',\n",
            "                                  'Freekick_Accuracy', 'Penalties',\n",
            "                                  'Volleys']),\n",
            "                                ('cat', OneHotEncoder(handle_unknown='ignore'),\n",
            "                                 ['Preffered_Foot', 'Work_Rate'])])\n"
          ]
        }
      ],
      "source": [
        "#3. Genere un `ColumnTransformer`\n",
        "variables_numericas1 = ['Height', 'Weight', 'Age', 'Weak_foot', 'Skill_Moves']\n",
        "\n",
        "variables_numericas2 = ['Ball_Control', 'Dribbling', 'Marking', 'Sliding_Tackle', 'Standing_Tackle',\n",
        "                        'Aggression', 'Reactions', 'Interceptions', 'Vision', 'Composure', 'Crossing',\n",
        "                        'Short_Pass', 'Long_Pass', 'Acceleration', 'Speed', 'Stamina', 'Strength',\n",
        "                        'Balance', 'Agility', 'Jumping', 'Heading', 'Shot_Power', 'Finishing',\n",
        "                        'Long_Shots', 'Curve', 'Freekick_Accuracy', 'Penalties', 'Volleys']\n",
        "\n",
        "variables_categoricas = ['Preffered_Foot', 'Work_Rate']\n",
        "\n",
        "# Crear una función que divida por 100\n",
        "def dividir_por_100(X):\n",
        "    return X / 100\n",
        "\n",
        "col_transformer = ColumnTransformer(\n",
        "    transformers=[\n",
        "        ('num_div_100', FunctionTransformer(dividir_por_100), variables_numericas1),  # Dividir los valores entre 100 para variables que van hasta 100\n",
        "        ('num_minmax', MinMaxScaler(), variables_numericas2),  # MinMaxScaler para variables numéricas generales\n",
        "        ('cat', OneHotEncoder(handle_unknown='ignore'), variables_categoricas)  # OneHotEncoder para categóricas\n",
        "    ]\n",
        ")\n",
        "\n",
        "print(col_transformer)"
      ]
    },
    {
      "cell_type": "markdown",
      "metadata": {
        "id": "nIcaBv9_n3CN"
      },
      "source": [
        "4."
      ]
    },
    {
      "cell_type": "markdown",
      "metadata": {},
      "source": [
        "Existe una gran cantidad de variables numéricas y algunas categóricas. Las numéricas pueden ser agrupadas en 2 conjuntos:\n",
        "\n",
        "- Características del jugador\n",
        "- Estadísticas de habilidades\n",
        "\n",
        "El primer conjunto varía su dominio para cada variable, mientras que el segundo está acotado entre 0 y 100.\n",
        "\n",
        "Así, se dividen las columnas en 3 grupos y se aplica una transformación distinta para cada uno. Al primer conjunto, dado que no tienen un dominio constante entre ellas, se les aplica MinMaxScaler, mientras que al segundo se le aplica MinMaxScaler pero de manera personalizada pero con el rango fijo entre 0 y 100, utilizando una función que considera que el máximo valor posible es 100.\n",
        "\n",
        "\n",
        "### **( o usamos MinMax para todo no mas?)** \n",
        "Mejor si"
      ]
    },
    {
      "cell_type": "code",
      "execution_count": 18,
      "metadata": {
        "colab": {
          "base_uri": "https://localhost:8080/"
        },
        "id": "lir_-QpByACU",
        "outputId": "4f3ce084-95ee-478d-9cad-453cf80da671"
      },
      "outputs": [
        {
          "name": "stdout",
          "output_type": "stream",
          "text": [
            "ColumnTransformer(transformers=[('num_minmax100',\n",
            "                                 MinMaxScaler(feature_range=(0, 100)),\n",
            "                                 ['Ball_Control', 'Dribbling', 'Marking',\n",
            "                                  'Sliding_Tackle', 'Standing_Tackle',\n",
            "                                  'Aggression', 'Reactions', 'Interceptions',\n",
            "                                  'Vision', 'Composure', 'Crossing',\n",
            "                                  'Short_Pass', 'Long_Pass', 'Acceleration',\n",
            "                                  'Speed', 'Stamina', 'Strength', 'Balance',\n",
            "                                  'Agility', 'Jumping', 'Heading', 'Shot_Power',\n",
            "                                  'Finishing', 'Long_Shots', 'Curve',\n",
            "                                  'Freekick_Accuracy', 'Penalties',\n",
            "                                  'Volleys']),\n",
            "                                ('num_minmax', MinMaxScaler(),\n",
            "                                 ['Height', 'Weight', 'Age', 'Weak_foot',\n",
            "                                  'Skill_Moves']),\n",
            "                                ('cat', OneHotEncoder(handle_unknown='ignore'),\n",
            "                                 ['Name', 'Nationality', 'National_Position',\n",
            "                                  'Club_Position', 'Preffered_Foot',\n",
            "                                  'Work_Rate'])])\n"
          ]
        }
      ],
      "source": [
        "#3. Genere un `ColumnTransformer`\n",
        "\n",
        "col_transformer2 = ColumnTransformer(\n",
        "    transformers=[\n",
        "        ('num_minmax100', MinMaxScaler(feature_range=(0, 100)), variables_numericas2),  # MinMaxScaler para variables numéricas asociadas a estadísticas\n",
        "        ('num_minmax', MinMaxScaler(), variables_numericas1),  # ahora para las otras\n",
        "        ('cat', OneHotEncoder(handle_unknown='ignore'), variables_categoricas)  # OneHotEncoder para categóricas\n",
        "    ]\n",
        ")\n",
        "\n",
        "print(col_transformer2)"
      ]
    },
    {
      "cell_type": "markdown",
      "metadata": {
        "id": "Bv1HOfcNEPF4"
      },
      "source": [
        "### 1.2 Entrenamiento [3 puntos]"
      ]
    },
    {
      "cell_type": "markdown",
      "metadata": {
        "id": "whPkuXTUBvB0"
      },
      "source": [
        "Ahora, vamos a entrenar los pipelines generados en los pasos anteriores. Para esto, debe realizar las siguientes tareas:\n",
        "\n",
        "1. Separe los datos de entrenamiento en un conjunto de entrenamiento y de prueba  (la proporción queda a su juicio). En este paso, seleccione los ejemplos de forma aleatoria e intente mantener la distribución original de labels de cada clase en los conjuntos de prueba/entrenamiento. (vea la documentación de `train_test_split`). [1 puntos]\n",
        "\n",
        "\n",
        "2. Defina un pipeline llamado `pipeline_xgboost` y otro llamado `pipeline_lightgbm`. Estos pipelines deben tener el mismo ColumnTransformer definido en la sección de preprocesamiento, pero deben variar los clasificadores de acuerdo al nombre de cada pipeline. [1 puntos]\n",
        "\n",
        "3. Entrene los pipelines. [1 punto]\n",
        "\n"
      ]
    },
    {
      "cell_type": "markdown",
      "metadata": {
        "id": "kbadONFtjGnE"
      },
      "source": [
        "**Respuesta:**"
      ]
    },
    {
      "cell_type": "code",
      "execution_count": 19,
      "metadata": {
        "colab": {
          "base_uri": "https://localhost:8080/"
        },
        "id": "ylw75PJtzJSu",
        "outputId": "e047faea-5eb5-45ca-f33b-d2d22424024b"
      },
      "outputs": [
        {
          "data": {
            "text/plain": [
              "Index(['Name', 'Nationality', 'National_Position', 'Club_Position', 'Height',\n",
              "       'Weight', 'Preffered_Foot', 'Age', 'Work_Rate', 'Weak_foot',\n",
              "       'Skill_Moves', 'Ball_Control', 'Dribbling', 'Marking', 'Sliding_Tackle',\n",
              "       'Standing_Tackle', 'Aggression', 'Reactions', 'Interceptions', 'Vision',\n",
              "       'Composure', 'Crossing', 'Short_Pass', 'Long_Pass', 'Acceleration',\n",
              "       'Speed', 'Stamina', 'Strength', 'Balance', 'Agility', 'Jumping',\n",
              "       'Heading', 'Shot_Power', 'Finishing', 'Long_Shots', 'Curve',\n",
              "       'Freekick_Accuracy', 'Penalties', 'Volleys', 'label'],\n",
              "      dtype='object')"
            ]
          },
          "execution_count": 19,
          "metadata": {},
          "output_type": "execute_result"
        }
      ],
      "source": [
        "df.columns"
      ]
    },
    {
      "cell_type": "code",
      "execution_count": 20,
      "metadata": {
        "colab": {
          "base_uri": "https://localhost:8080/"
        },
        "id": "lLtlXGTPdWAV",
        "outputId": "0bf51d62-9b38-466b-af94-74f30cb3dcf8"
      },
      "outputs": [
        {
          "name": "stdout",
          "output_type": "stream",
          "text": [
            "Conjunto de entrenamiento: (12311, 36)\n",
            "Conjunto de prueba: (5277, 36)\n"
          ]
        }
      ],
      "source": [
        "# 1\n",
        "\n",
        "# Separar las características (X) y las etiquetas (y)\n",
        "X = df.drop(columns=['label', 'Name', 'Nationality', 'National_Position'])\n",
        "#X = df.drop(columns=['label'])\n",
        "y = df['label']\n",
        "\n",
        "# División de datos en entrenamiento y prueba, estratificando por la variable 'label'\n",
        "X_train, X_test, y_train, y_test = train_test_split(X, y, test_size=0.3, random_state=33, stratify=y)\n",
        "\n",
        "# Verificar la forma de los conjuntos\n",
        "print(\"Conjunto de entrenamiento:\", X_train.shape)\n",
        "print(\"Conjunto de prueba:\", X_test.shape)\n"
      ]
    },
    {
      "cell_type": "code",
      "execution_count": 21,
      "metadata": {
        "colab": {
          "base_uri": "https://localhost:8080/"
        },
        "id": "107s3-4Uzby3",
        "outputId": "c5000dc3-4a24-45be-aadd-c71019cc3977"
      },
      "outputs": [],
      "source": [
        "#2\n",
        "\n",
        "# Pipeline para XGBoost\n",
        "pipeline_xgboost = Pipeline(steps=[\n",
        "    ('preprocessor', col_transformer),\n",
        "    ('classifier', XGBClassifier(random_state=33))\n",
        "])\n",
        "\n",
        "# Pipeline para LightGBM\n",
        "pipeline_lightgbm = Pipeline(steps=[\n",
        "    ('preprocessor', col_transformer),\n",
        "    ('classifier', LGBMClassifier(random_state=33))\n",
        "])"
      ]
    },
    {
      "cell_type": "code",
      "execution_count": 22,
      "metadata": {
        "colab": {
          "base_uri": "https://localhost:8080/"
        },
        "id": "6X8E0XBXzhWW",
        "outputId": "cc91b8c1-5e20-4c51-9572-36f94b4dff13"
      },
      "outputs": [
        {
          "name": "stdout",
          "output_type": "stream",
          "text": [
            "[LightGBM] [Info] Number of positive: 752, number of negative: 11559\n",
            "[LightGBM] [Info] Auto-choosing row-wise multi-threading, the overhead of testing was 0.001604 seconds.\n",
            "You can set `force_row_wise=true` to remove the overhead.\n",
            "And if memory is not enough, you can set `force_col_wise=true`.\n",
            "[LightGBM] [Info] Total Bins 2450\n",
            "[LightGBM] [Info] Number of data points in the train set: 12311, number of used features: 43\n",
            "[LightGBM] [Info] [binary:BoostFromScore]: pavg=0.061084 -> initscore=-2.732483\n",
            "[LightGBM] [Info] Start training from score -2.732483\n",
            "Entrenamiento completado para ambos modelos.\n"
          ]
        }
      ],
      "source": [
        "# Entrenar el pipeline de XGBoost\n",
        "pipeline_xgboost.fit(X_train, y_train)\n",
        "\n",
        "# Entrenar el pipeline de LightGBM\n",
        "pipeline_lightgbm.fit(X_train, y_train)\n",
        "\n",
        "# Verificar la finalización del entrenamiento\n",
        "print(\"Entrenamiento completado para ambos modelos.\")"
      ]
    },
    {
      "cell_type": "markdown",
      "metadata": {
        "id": "poc9HSNBFeKO"
      },
      "source": [
        "### 1.3 Resultados [6 puntos]"
      ]
    },
    {
      "cell_type": "markdown",
      "metadata": {
        "id": "tGGCj8YtFil1"
      },
      "source": [
        "1. Calcule las métricas accuracy, precisión y recall de la clase positiva (la que indica que un jugador es seleccionado nacional) para evaluar el rendimiento de los distintos modelos. Verifique sus resultados usando `classification_report`. [2 puntos]\n",
        "\n",
        "2. Explique qué implican los valores de accuracy, precisión y recall de la clase positiva (la que indica que un jugador es seleccionado nacional) y cómo influye la cantidad de ejemplos por clase en los resultados obtenidos. [2 puntos]\n",
        "\n",
        "3. Explique qué métrica le parece más adecuada y concluya qué modelo tiene un mejor desempeño. [2 puntos]"
      ]
    },
    {
      "cell_type": "markdown",
      "metadata": {
        "id": "A1hkVFdujJTi"
      },
      "source": [
        "**Respuesta:**"
      ]
    },
    {
      "cell_type": "code",
      "execution_count": 23,
      "metadata": {
        "colab": {
          "base_uri": "https://localhost:8080/"
        },
        "id": "eWLCpBV35Ap-",
        "outputId": "3e1003af-b9e4-42f2-95a9-cf06a4c567f4"
      },
      "outputs": [
        {
          "name": "stdout",
          "output_type": "stream",
          "text": [
            "XGBoost - Accuracy: 0.9377, Precision: 0.4651, Recall: 0.1238\n",
            "LightGBM - Accuracy: 0.9399, Precision: 0.5417, Recall: 0.1207\n"
          ]
        }
      ],
      "source": [
        "# Predicciones con XGBoost\n",
        "y_pred_xgboost = pipeline_xgboost.predict(X_test)\n",
        "\n",
        "# Predicciones con LightGBM\n",
        "y_pred_lightgbm = pipeline_lightgbm.predict(X_test)\n",
        "\n",
        "# Calcular las métricas para XGBoost\n",
        "accuracy_xgboost = accuracy_score(y_test, y_pred_xgboost)\n",
        "precision_xgboost = precision_score(y_test, y_pred_xgboost)\n",
        "recall_xgboost = recall_score(y_test, y_pred_xgboost)\n",
        "\n",
        "# Calcular las métricas para LightGBM\n",
        "accuracy_lightgbm = accuracy_score(y_test, y_pred_lightgbm)\n",
        "precision_lightgbm = precision_score(y_test, y_pred_lightgbm)\n",
        "recall_lightgbm = recall_score(y_test, y_pred_lightgbm)\n",
        "\n",
        "# Mostrar resultados\n",
        "print(f\"XGBoost - Accuracy: {accuracy_xgboost:.4f}, Precision: {precision_xgboost:.4f}, Recall: {recall_xgboost:.4f}\")\n",
        "print(f\"LightGBM - Accuracy: {accuracy_lightgbm:.4f}, Precision: {precision_lightgbm:.4f}, Recall: {recall_lightgbm:.4f}\")"
      ]
    },
    {
      "cell_type": "code",
      "execution_count": 25,
      "metadata": {
        "colab": {
          "base_uri": "https://localhost:8080/"
        },
        "id": "EOkIMe2x1xs_",
        "outputId": "12ba3483-ab06-482c-de76-4574c3448a86"
      },
      "outputs": [
        {
          "name": "stdout",
          "output_type": "stream",
          "text": [
            "XGBoost Classification Report:\n",
            "                       precision    recall  f1-score   support\n",
            "\n",
            "      No Seleccionado       0.95      0.99      0.97      4954\n",
            "Seleccionado Nacional       0.47      0.12      0.20       323\n",
            "\n",
            "             accuracy                           0.94      5277\n",
            "            macro avg       0.71      0.56      0.58      5277\n",
            "         weighted avg       0.92      0.94      0.92      5277\n",
            "\n",
            "LightGBM Classification Report:\n",
            "                       precision    recall  f1-score   support\n",
            "\n",
            "      No Seleccionado       0.95      0.99      0.97      4954\n",
            "Seleccionado Nacional       0.54      0.12      0.20       323\n",
            "\n",
            "             accuracy                           0.94      5277\n",
            "            macro avg       0.74      0.56      0.58      5277\n",
            "         weighted avg       0.92      0.94      0.92      5277\n",
            "\n"
          ]
        }
      ],
      "source": [
        "# Generar el informe de clasificación para XGBoost\n",
        "print(\"XGBoost Classification Report:\")\n",
        "print(classification_report(y_test, y_pred_xgboost, target_names=['No Seleccionado', 'Seleccionado Nacional']))\n",
        "\n",
        "# Generar el informe de clasificación para LightGBM\n",
        "print(\"LightGBM Classification Report:\")\n",
        "print(classification_report(y_test, y_pred_lightgbm, target_names=['No Seleccionado', 'Seleccionado Nacional']))"
      ]
    },
    {
      "cell_type": "markdown",
      "metadata": {
        "id": "nBnwc6dQ28Bj"
      },
      "source": [
        "2.  \n",
        "En el caso de XGBoost, la precision es de 0.47, lo que significa que, de todas las predicciones de \"Seleccionado Nacional\", solo el 47% fueron correctas. Esto sugiere un alto número de falsos positivos, lo que indica que el modelo tiende a clasificar incorrectamente a jugadores que no son realmente seleccionados. El recall, con un valor de 0.12, indica que de todos los jugadores que realmente son \"Seleccionados Nacionales\", solo el 12% fue identificado correctamente. Este bajo valor implica que el modelo enfrenta dificultades significativas para detectar a los jugadores seleccionados, lo que puede ser problemático en un contexto donde es crucial identificar positivos. La F1-score de 0.20 refuerza la idea de que el modelo tiene un rendimiento deficiente al no lograr un equilibrio adecuado entre precisión y recall. Este análisis  es equivalente para el caso de LightGBM.\n",
        "\n",
        "En ambos modelos hay 4954 ejemplos de la clase \"No Seleccionado\" y 323 ejemplos de la clase \"Seleccionado Nacional\". Esto muestra un desbalance significativo entre las dos clases, ya que la clase \"Seleccionado Nacional\" representa solo alrededor del 6% del total de ejemplos.\n",
        "\n",
        "Ambos modelos presentan una accuracy de 0.94 (94%), lo que implica que, en general, el 94% de las predicciones son correctas. La alta accuracy se debe principalmente a la gran cantidad de ejemplos de la clase mayoritaria (\"No Seleccionado\"). Esto significa que, aunque los modelos están acertando la mayoría de las predicciones, este éxito se debe a que están clasificando correctamente la clase mayoritaria, mientras que las predicciones de la clase minoritaria son deficientes.\n",
        "\n",
        "3.#\n",
        " En general LightGBM tiene mejor rendimiento. Entrega mejor Accuracy, acertando a gran cantidad de las etiquetas, y también mejor Precisión, entregando menos falsos positivos, pero ambos tienen bajo Recall, dejando fuera muchos positivos. La más adecuada sería recall (o precisión), para capturar la mayor cantidad de posibles seleccionados, ya que es mejor considerar a un jugador como seleccionado y al final que no sea considerado, por sobre dejar pasar la oportunidad de seleccionar a un buen jugador.\n",
        "\n",
        "La más adecuada sería recall (o precisión), para capturar la mayor cantidad de posibles seleccionados, ya que es mejor considerar a un jugador como seleccionado y al final que no sea considerado, por sobre dejar pasar la oportunidad de seleccionar a un buen jugador. En general, LightGBM y XGBoost tienen rendimientos similares. LightGBM tiene mejor Precisión, entregando menos falsos positivos, por lo que este modelo tendría el mejor desempeño."
      ]
    },
    {
      "cell_type": "markdown",
      "metadata": {
        "id": "kZPNe-mn67EO"
      },
      "source": [
        "Quité la posición y cambió lo del recall. lo dejamos?"
      ]
    },
    {
      "cell_type": "markdown",
      "metadata": {
        "id": "uy5VMU6ae_g6"
      },
      "source": [
        "## 2. Predicción de posiciones de jugadores [4 puntos]"
      ]
    },
    {
      "cell_type": "markdown",
      "metadata": {
        "id": "S0PGg_hLgr4H"
      },
      "source": [
        "<p align=\"center\">\n",
        "  <img src=\"https://pbs.twimg.com/media/E1rfA1aWEAYU6Ny.jpg\" width=\"300\">\n",
        "</p>"
      ]
    },
    {
      "cell_type": "markdown",
      "metadata": {
        "id": "I6rSnAesfOm3"
      },
      "source": [
        "En una nueva jornada de desmesuradas transacciones deportivas, Renacín escuchó a sus colegas discutir acerca de que el precio de cada jugador depende en gran medida de la posición en la cancha en la que juega. Y además, que hay bastantes jugadores nuevos que no tienen muy claro en que posición verdaderamente brillarían, por lo que actualmente puede que actualmente estén jugando en posiciones sub-optimas.\n",
        "\n",
        "Viendo que los resultados del primer análisis no son tan esperanzadores, el corporeo los comanda a cambiar su tarea: ahora, les solicita que construyan un clasificador enfocado en predecir la mejor posición de los jugadores en la cancha según sus características.\n",
        "\n",
        "Para lograr esto, primero, les pide que etiqueten de la siguiente manera los valores que aparecen en el atributo `Club_Position`, pidiendo que agrupen los valores en los siguientes grupos:\n",
        "\n",
        "**Nota**:  Renacín les recalca que **no deben utilizar los valores ```Sub``` y ```Res``` de esta columna**.\n",
        "\n",
        "```python\n",
        "ataque = ['ST', 'CF']\n",
        "central_ataque = ['RW', 'CAM', 'LW']\n",
        "central = ['RM', 'CM', 'LM']\n",
        "central_defensa = ['RWB', 'CDM', 'LWB']\n",
        "defensa = ['RB', 'CB', 'LB']\n",
        "arquero = ['GK']\n",
        "```\n",
        "\n",
        "La elección del clasificador se justificar en base a la siguiente [guía](https://scikit-learn.org/stable/tutorial/machine_learning_map/index.html) y se deben comentar los resultados obtenidos en la clasificación.\n",
        "\n",
        "**Tareas:** [1 punto por tarea]\n",
        "\n",
        "1. En un nuevo dataframe, aplique las etiquetas descritas anteriormente en cada uno de los valores señalados en esta sección y guárdelos en la variable `label`.\n",
        "2. Cuente cuántos por clase quedan.\n",
        "3. Entrene el nuevo pipeline y ejecute una evaluación de este.  \n",
        "4. Comente los resultados obtenidos."
      ]
    },
    {
      "cell_type": "markdown",
      "metadata": {
        "id": "sBmSaWh8i2MI"
      },
      "source": [
        "**Respuesta:**"
      ]
    },
    {
      "cell_type": "code",
      "execution_count": 26,
      "metadata": {
        "colab": {
          "base_uri": "https://localhost:8080/",
          "height": 304
        },
        "id": "Ir_7zMh2i1vg",
        "outputId": "a1884158-ce4a-4410-97a2-31c71010a658"
      },
      "outputs": [
        {
          "data": {
            "text/plain": [
              "label_pos\n",
              "defensa            1180\n",
              "central             907\n",
              "arquero             632\n",
              "central_ataque      581\n",
              "ataque              430\n",
              "central_defensa     209\n",
              "Name: count, dtype: int64"
            ]
          },
          "execution_count": 26,
          "metadata": {},
          "output_type": "execute_result"
        }
      ],
      "source": [
        "# Función para etiquetar las posiciones\n",
        "def label_positions(position):\n",
        "    if position in ['ST', 'CF']:\n",
        "        return 'ataque'\n",
        "    elif position in ['RW', 'CAM', 'LW']:\n",
        "        return 'central_ataque'\n",
        "    elif position in ['RM', 'CM', 'LM']:\n",
        "        return 'central'\n",
        "    elif position in ['RWB', 'CDM', 'LWB']:\n",
        "        return 'central_defensa'\n",
        "    elif position in ['RB', 'CB', 'LB']:\n",
        "        return 'defensa'\n",
        "    elif position == 'GK':\n",
        "        return 'arquero'\n",
        "    else:\n",
        "        return None  # Excluimos las posiciones 'Sub' y 'Res'\n",
        "\n",
        "df['label_pos'] = df['Club_Position'].apply(label_positions)\n",
        "\n",
        "df = df[df['label_pos'].notna()]\n",
        "\n",
        "class_counts = df['label_pos'].value_counts()\n",
        "class_counts"
      ]
    },
    {
      "cell_type": "code",
      "execution_count": 27,
      "metadata": {
        "colab": {
          "base_uri": "https://localhost:8080/"
        },
        "id": "NsSdtJOW5O-W",
        "outputId": "786e3af0-3e8a-4d1b-a907-02cbaef1ec06"
      },
      "outputs": [
        {
          "data": {
            "text/plain": [
              "Index(['Name', 'Nationality', 'National_Position', 'Club_Position', 'Height',\n",
              "       'Weight', 'Preffered_Foot', 'Age', 'Work_Rate', 'Weak_foot',\n",
              "       'Skill_Moves', 'Ball_Control', 'Dribbling', 'Marking', 'Sliding_Tackle',\n",
              "       'Standing_Tackle', 'Aggression', 'Reactions', 'Interceptions', 'Vision',\n",
              "       'Composure', 'Crossing', 'Short_Pass', 'Long_Pass', 'Acceleration',\n",
              "       'Speed', 'Stamina', 'Strength', 'Balance', 'Agility', 'Jumping',\n",
              "       'Heading', 'Shot_Power', 'Finishing', 'Long_Shots', 'Curve',\n",
              "       'Freekick_Accuracy', 'Penalties', 'Volleys', 'label', 'label_pos'],\n",
              "      dtype='object')"
            ]
          },
          "execution_count": 27,
          "metadata": {},
          "output_type": "execute_result"
        }
      ],
      "source": [
        "df.columns"
      ]
    },
    {
      "cell_type": "markdown",
      "metadata": {
        "id": "ZPPrVQld86JG"
      },
      "source": [
        "Por lo de la guía debería ser SVC?"
      ]
    },
    {
      "cell_type": "code",
      "execution_count": 28,
      "metadata": {
        "colab": {
          "base_uri": "https://localhost:8080/"
        },
        "id": "5uT8JfZa4jp4",
        "outputId": "9bb85ebf-1275-40e9-effc-10a5ec038a2b"
      },
      "outputs": [
        {
          "name": "stdout",
          "output_type": "stream",
          "text": [
            "Accuracy: 0.7348\n",
            "                 precision    recall  f1-score   support\n",
            "\n",
            "        arquero       1.00      1.00      1.00       126\n",
            "         ataque       0.80      0.83      0.81        86\n",
            "        central       0.54      0.75      0.63       182\n",
            " central_ataque       0.50      0.12      0.19       116\n",
            "central_defensa       1.00      0.05      0.09        42\n",
            "        defensa       0.79      0.97      0.87       236\n",
            "\n",
            "       accuracy                           0.73       788\n",
            "      macro avg       0.77      0.62      0.60       788\n",
            "   weighted avg       0.73      0.73      0.69       788\n",
            "\n"
          ]
        }
      ],
      "source": [
        "X = df.drop(columns=['Club_Position', 'label', 'label_pos'])\n",
        "y = df['label_pos']\n",
        "\n",
        "# Codificar las etiquetas\n",
        "label_encoder = LabelEncoder()\n",
        "y_encoded = label_encoder.fit_transform(y)  # Esto transformará las etiquetas a valores numéricos\n",
        "\n",
        "# Separar los datos en conjuntos de entrenamiento y prueba\n",
        "X_train, X_test, y_train, y_test = train_test_split(X, y_encoded, test_size=0.2, stratify=y_encoded, random_state=42)\n",
        "\n",
        "# Definir el nuevo pipeline\n",
        "pipeline_new = Pipeline(steps=[\n",
        "    ('preprocessor', col_transformer),  # Reutilizamos el ColumnTransformer anterior\n",
        "    ('classifier', SVC())  # Puedes cambiar a LightGBM si lo prefieres\n",
        "])\n",
        "\n",
        "# Entrenar el pipeline\n",
        "pipeline_new.fit(X_train, y_train)\n",
        "\n",
        "# Realizar predicciones\n",
        "y_pred = pipeline_new.predict(X_test)\n",
        "\n",
        "# Evaluar el rendimiento\n",
        "accuracy = accuracy_score(y_test, y_pred)\n",
        "print(f'Accuracy: {accuracy:.4f}')\n",
        "\n",
        "# Mostrar el reporte de clasificación\n",
        "report = classification_report(y_test, y_pred, target_names=label_encoder.classes_)\n",
        "print(report)"
      ]
    },
    {
      "cell_type": "markdown",
      "metadata": {
        "id": "W1dVBegL89GT"
      },
      "source": [
        "Da ahí no mas, probemos con LGBM."
      ]
    },
    {
      "cell_type": "code",
      "execution_count": 19,
      "metadata": {
        "colab": {
          "base_uri": "https://localhost:8080/"
        },
        "id": "dfAxPxlT7HEx",
        "outputId": "5f31bfc5-9d51-4d61-cfe4-dad3950f91b8"
      },
      "outputs": [
        {
          "name": "stdout",
          "output_type": "stream",
          "text": [
            "[LightGBM] [Info] Auto-choosing row-wise multi-threading, the overhead of testing was 0.000799 seconds.\n",
            "You can set `force_row_wise=true` to remove the overhead.\n",
            "And if memory is not enough, you can set `force_col_wise=true`.\n",
            "[LightGBM] [Info] Total Bins 2327\n",
            "[LightGBM] [Info] Number of data points in the train set: 3151, number of used features: 43\n",
            "[LightGBM] [Info] Start training from score -1.828938\n",
            "[LightGBM] [Info] Start training from score -2.214833\n",
            "[LightGBM] [Info] Start training from score -1.469303\n",
            "[LightGBM] [Info] Start training from score -1.913438\n",
            "[LightGBM] [Info] Start training from score -2.937481\n",
            "[LightGBM] [Info] Start training from score -1.205349\n",
            "[LightGBM] [Warning] No further splits with positive gain, best gain: -inf\n",
            "[LightGBM] [Warning] No further splits with positive gain, best gain: -inf\n",
            "[LightGBM] [Warning] No further splits with positive gain, best gain: -inf\n",
            "[LightGBM] [Warning] No further splits with positive gain, best gain: -inf\n",
            "Accuracy: 0.7360\n",
            "                 precision    recall  f1-score   support\n",
            "\n",
            "        arquero       1.00      1.00      1.00       126\n",
            "         ataque       0.77      0.84      0.80        86\n",
            "        central       0.56      0.62      0.59       182\n",
            " central_ataque       0.48      0.34      0.40       116\n",
            "central_defensa       0.38      0.14      0.21        42\n",
            "        defensa       0.83      0.95      0.89       236\n",
            "\n",
            "       accuracy                           0.74       788\n",
            "      macro avg       0.67      0.65      0.65       788\n",
            "   weighted avg       0.71      0.74      0.72       788\n",
            "\n"
          ]
        }
      ],
      "source": [
        "X = df.drop(columns=['Club_Position', 'label', 'label_pos'])\n",
        "y = df['label_pos']\n",
        "\n",
        "# Codificar las etiquetas\n",
        "label_encoder = LabelEncoder()\n",
        "y_encoded = label_encoder.fit_transform(y)  # Esto transformará las etiquetas a valores numéricos\n",
        "\n",
        "# Separar los datos en conjuntos de entrenamiento y prueba\n",
        "X_train, X_test, y_train, y_test = train_test_split(X, y_encoded, test_size=0.2, stratify=y_encoded, random_state=42)\n",
        "\n",
        "# Definir el nuevo pipeline\n",
        "pipeline_new = Pipeline(steps=[\n",
        "    ('preprocessor', col_transformer),  # Reutilizamos el ColumnTransformer anterior\n",
        "    ('classifier', LGBMClassifier())  #\n",
        "])\n",
        "\n",
        "# Entrenar el pipeline\n",
        "pipeline_new.fit(X_train, y_train)\n",
        "\n",
        "# Realizar predicciones\n",
        "y_pred = pipeline_new.predict(X_test)\n",
        "\n",
        "# Evaluar el rendimiento\n",
        "accuracy = accuracy_score(y_test, y_pred)\n",
        "print(f'Accuracy: {accuracy:.4f}')\n",
        "\n",
        "# Mostrar el reporte de clasificación\n",
        "report = classification_report(y_test, y_pred, target_names=label_encoder.classes_)\n",
        "print(report)"
      ]
    },
    {
      "cell_type": "markdown",
      "metadata": {
        "id": "bA1KUjuW85A_"
      },
      "source": [
        "sfgfdg"
      ]
    },
    {
      "cell_type": "markdown",
      "metadata": {
        "id": "9bL2m8nNojXM"
      },
      "source": [
        "## 3. Predicciones de Seleccionados Nacionales para el Jere Klein [30 puntos]"
      ]
    },
    {
      "cell_type": "markdown",
      "metadata": {
        "id": "_2XmRsJdsEh_"
      },
      "source": [
        "<center>\n",
        "<img src='https://www.radioactiva.cl/wp-content/uploads/2024/04/Jere-Klein-1-768x432.webp' width=500 />"
      ]
    },
    {
      "cell_type": "markdown",
      "metadata": {
        "id": "AgmUoVDsqUPu"
      },
      "source": [
        "Después de alcanzar la fama como cantante urbano, Jere Klein decide explorar una nueva faceta. Con su amor por el fútbol y convencido de que los artistas urbanos poseen un talento y versatilidad excepcionales, Jere se embarca en un proyecto innovador: desarrollar un sistema de inteligencia artificial capaz de identificar a jugadores que tienen potencial para convertirse en futbolistas profesionales. Su teoría es que muchos artistas del género urbano chileno, con sus habilidades únicas y su disciplina, podrían destacarse también en el deporte. Con este sistema, Jere espera no solo abrir nuevas oportunidades para sus colegas artistas, sino también demostrar la amplia gama de talentos que pueden ofrecer."
      ]
    },
    {
      "cell_type": "markdown",
      "metadata": {
        "id": "rD8pQ5Zfq8dE"
      },
      "source": [
        "### 3.1 ¿Qué modelo de árbol es más de \"pana\"? [10 puntos]"
      ]
    },
    {
      "cell_type": "markdown",
      "metadata": {
        "id": "zB-KUA4g99eo"
      },
      "source": [
        "<center>\n",
        "<img src='https://64.media.tumblr.com/39189215a7d3d96823cb359f35b44e05/tumblr_psmrhrR3Xw1qf5hjqo4_540.gif' width=300 />"
      ]
    },
    {
      "cell_type": "markdown",
      "metadata": {
        "id": "uL-moVhB9vPH"
      },
      "source": [
        "\n",
        "**Tareas**\n",
        "\n",
        "\n",
        "1. Considerando el la variable llamada `label` creada en la sección 1.1. Para determinar cuál modelo de árbol sería más adecuado para la tarea en cuestión, utilice PyCaret. Este deberá centrarse exclusivamente en modelos de tipo árbol. Jere ha especificado que busca un modelo que tome decisiones rápidamente y que tenga una baja tasa de falsos positivos, ya que planea invertir en estos jugadores. [3 puntos]\n",
        "\n",
        "Para la comparación, utilice los siguientes modelos:\n",
        "\n",
        "```python\n",
        "['et', 'rf', 'dt', 'xgboost', 'lightgbm', 'catboost']\n",
        "```\n",
        "\n",
        "2. Explique en brevemente que son los modelos de la siguiente lista `['et', 'rf', 'dt']` y como funcionan. [3 punto]\n",
        "\n",
        "3. Tras realizar la comparación de modelos, seleccione aquel que muestre el mejor rendimiento en términos de velocidad y precisión, especialmente en la reducción de falsos positivos. Utilice la función `evaluate_model` de PyCaret para revisar y analizar los resultados obtenidos en los siguientes aspectos:\n",
        "\n",
        "  - **Confusión Matrix**: ¿Cómo se encuentran la tasa de verdaderos positivos y verdaderos negativos?\n",
        "  - **Threshold**: ¿Es acaso el umbral por defecto del modelo el mejor para las predicciones?\n",
        "  - **Feature Importance**: ¿Cuáles son las variables con mejor desempeño? ¿A qué podría deberse esto?\n",
        "  - **Learning Curve**: ¿El modelo presenta algún problema?\n",
        "\n",
        "  [4 puntos]"
      ]
    },
    {
      "cell_type": "markdown",
      "metadata": {
        "id": "qY85nrViYROF"
      },
      "source": [
        "**Respuesta**"
      ]
    },
    {
      "cell_type": "code",
      "execution_count": 20,
      "metadata": {
        "colab": {
          "base_uri": "https://localhost:8080/"
        },
        "id": "tUsfPUahBYbk",
        "outputId": "47ae038a-c6e3-4d60-cc84-8bd83c73dabf"
      },
      "outputs": [
        {
          "data": {
            "text/plain": [
              "Index(['Name', 'Nationality', 'National_Position', 'Club_Position', 'Height',\n",
              "       'Weight', 'Preffered_Foot', 'Age', 'Work_Rate', 'Weak_foot',\n",
              "       'Skill_Moves', 'Ball_Control', 'Dribbling', 'Marking', 'Sliding_Tackle',\n",
              "       'Standing_Tackle', 'Aggression', 'Reactions', 'Interceptions', 'Vision',\n",
              "       'Composure', 'Crossing', 'Short_Pass', 'Long_Pass', 'Acceleration',\n",
              "       'Speed', 'Stamina', 'Strength', 'Balance', 'Agility', 'Jumping',\n",
              "       'Heading', 'Shot_Power', 'Finishing', 'Long_Shots', 'Curve',\n",
              "       'Freekick_Accuracy', 'Penalties', 'Volleys', 'label', 'label_pos'],\n",
              "      dtype='object')"
            ]
          },
          "execution_count": 20,
          "metadata": {},
          "output_type": "execute_result"
        }
      ],
      "source": [
        "df.columns"
      ]
    },
    {
      "cell_type": "code",
      "execution_count": null,
      "metadata": {
        "colab": {
          "base_uri": "https://localhost:8080/",
          "height": 356
        },
        "id": "PjONKIcP-0Lw",
        "outputId": "0bd8a81c-eb6c-40c4-80e1-eb8630d4bc0a"
      },
      "outputs": [],
      "source": [
        "from pycaret.datasets import get_data\n",
        "from pycaret.classification import *\n",
        "import os\n",
        "\n",
        "os.environ[\"PYCARET_CUSTOM_LOGGING_LEVEL\"] = \"CRITICAL\"\n",
        "\n",
        "#Continuar código aquí\n",
        "\n",
        "#df = df.drop(columns=['Club_Position'])  # o ya no\n",
        "\n",
        "# Iniciar el entorno de PyCaret\n",
        "clf = setup(data=df, target='label', session_id=7, fold_shuffle=True,\n",
        "             ignore_features=['Name', 'Nationality', 'National_Position'])\n",
        "\n",
        "model_comparison = compare_models(include=['et', 'rf', 'dt', 'xgboost', 'lightgbm', 'catboost'], sort='Precision')\n",
        "\n",
        "best_model = model_comparison\n",
        "\n",
        "evaluate_model(best_model)"
      ]
    },
    {
      "cell_type": "markdown",
      "metadata": {},
      "source": [
        "2. \n",
        "* Arboles de decisión (dt):  es un modelo de aprendizaje supervisado que organiza los datos en una estructura de árbol, donde cada nodo corresponde a una característica del conjunto de datos y cada rama representa una decisión o regla basada en el valor de esa característica. El objetivo es dividir los datos de manera que se maximice la ganancia de información o se minimice la impureza (entropía o Gini). Este proceso continúa hasta que se alcanza un criterio de parada, como un número mínimo de muestras en un nodo o una máxima profundidad del árbol.\n",
        "\n",
        "* Random Forest (rf): es un modelo que crea múltiples árboles de decisión en paralelo, cada árbol se entrena con un subconjunto aleatorio de los datos de entrenamiento, y en cada nodo, se selecciona aleatoriamente un subconjunto de características para determinar la mejor división. La predicción final del Random Forest se obtiene mediante el promedio (para regresión) o el voto mayoritario (para clasificación) de todos los árboles. \n",
        "\n",
        "* Extra Tress (et): es un modelo similar a Random Forest, pero con una mayor aleatoriedad en el proceso de construcción de los árboles. Al igual que en Random Forest, se construyen múltiples árboles de decisión en paralelo utilizando subconjuntos aleatorios de los datos de entrenamiento. Sin embargo, la diferencia clave es que en lugar de buscar la mejor división en cada nodo, Extra Trees elige las divisiones de manera completamente aleatoria.\n",
        "\n",
        "3. \n",
        "- **Confusión Matrix**: ¿Cómo se encuentran la tasa de verdaderos positivos y verdaderos negativos?\n",
        "\n",
        "En base a lo entregado por el modelo, podemos calcular que la tasa de verdaderos positivos es aproximadamente 7.27%, mientras que la tasa de los verdaderos negativos es aproximadamente 99.91%. Esto indica que el modelo es muy bueno detectando correctamente los casos negativos (clase 0), pero que tiene dificultades para identificar correctamente los casos positivos (clase 1).\n",
        "\n",
        "- **Threshold**: ¿Es acaso el umbral por defecto del modelo el mejor para las predicciones?\n",
        "\n",
        "Se puede ver que el umbral es de 0.24, por lo que el modelo tiene un desempeño peor que lanzar una moneda, por lo que no es el mejor.\n",
        "\n",
        "- **Feature Importance**: ¿Cuáles son las variables con mejor desempeño? ¿A qué podría deberse esto?\n",
        "\n",
        "Reactions, Dribbling, Short_Pass, Ball_Control, Vísion, Composure, Crossing, Long_pass, Shot_Power y Stamina.\n",
        "\n",
        "- **Learning Curve**: ¿El modelo presenta algún problema?\n",
        "\n",
        "Se puede observar que la curva de Training Score es igual a 1, por lo que se puede sugerir que hay sobreajuste en el modelo."
      ]
    },
    {
      "cell_type": "markdown",
      "metadata": {
        "id": "K8DSS3u1xMpB"
      },
      "source": [
        "### 3.2 Reducción de dimensionalidad [14 puntos]"
      ]
    },
    {
      "cell_type": "markdown",
      "metadata": {
        "id": "RLu0543p876P"
      },
      "source": [
        "<center>\n",
        "<img src='https://i.kym-cdn.com/photos/images/original/002/258/560/668.gif' width=400 />"
      ]
    },
    {
      "cell_type": "markdown",
      "metadata": {
        "id": "QT-bxJ0txwNF"
      },
      "source": [
        "A pesar de los resultados obtenidos previamente, el manager de Jere ha solicitado el entrenamiento de un modelo de XGBoost utilizando los datos disponibles. Además, se debe proceder a realizar una reducción de dimensionalidad basada en la importancia de las características.\n",
        "\n",
        "Para llevar a cabo esta tarea:\n",
        "\n",
        "1. Inicie entrenando un modelo XGBoost con todas las características disponibles. [2 puntos]\n",
        "\n",
        "2. Una vez el modelo esté entrenado, evalúe y clasifique las características según su importancia de forma descendente. [2 puntos]\n",
        "\n",
        "3. Utilice esta clasificación para ejecutar una búsqueda recursiva de eliminación de características, eliminando progresivamente las menos importantes y evaluando el impacto en el desempeño del modelo hasta identificar las N características más críticas. [2 puntos]\n",
        "\n",
        "4. Con este conjunto reducido de características, entrene un nuevo modelo y evalúe su rendimiento. [2 puntos]\n",
        "\n",
        "5. Posteriormente, responda a las siguientes preguntas para una comprensión más profunda de los cambios y beneficios:\n",
        "\n",
        "  - ¿El rendimiento del modelo con las características seleccionadas es similar al del modelo original? ¿Cómo se comparan en términos de precisión y robustez? [2 puntos]\n",
        "  - ¿Cuáles son los beneficios potenciales de eliminar variables del modelo? Considere factores como la simplificación del modelo, reducción del tiempo de entrenamiento, y mejora en la capacidad de generalización. [2 puntos]\n",
        "  - Comente si el modelo con menor dimensionalidad es más sencillo de explicar. Explique brevemente por qué la eliminación de ciertas características puede facilitar la comprensión y la explicación del comportamiento del modelo. [2 puntos]\n",
        "\n",
        "Notar que con esta metodologia buscamos encontrar un punto entermedio entre número de festures y desempeño. por esto, si observa que al aumentar festires el aumento es despreciable, puede no considerar agregar más features a su modelo."
      ]
    },
    {
      "cell_type": "markdown",
      "metadata": {
        "id": "NHfmK63TuDOS"
      },
      "source": [
        "**Respuesta**"
      ]
    },
    {
      "cell_type": "markdown",
      "metadata": {
        "id": "JcJvy2uSH7Nr"
      },
      "source": [
        "Entrenar con todas las disponibles despues de creadas? o disponibles desde el comienzo?"
      ]
    },
    {
      "cell_type": "code",
      "execution_count": 34,
      "metadata": {
        "colab": {
          "base_uri": "https://localhost:8080/",
          "height": 1000,
          "referenced_widgets": [
            "c0e0d44187fd490aaa337682d32cfb60",
            "a5b528b080764cd2bd4dced2b785a116",
            "8c84564c27a847a6b9a6546624e4b7b8",
            "bc720d6b92cc4535a26f9b245a5e8495",
            "99b17f4122294fccaefd39ac2e5f6b8b",
            "f284fedf1f2444319deab9e745842406",
            "f1650000a89043459d20bb1c375e27ab",
            "ffd3f44bc7cd4fa58e96ea250222a284",
            "1d6439598355480785863e2a672c9bec",
            "1db177db591d468098c31c37f11f1eb5",
            "a171ebd5b4374496881a654e60946c89",
            "b4e155ae58c94161bd23121816df4032",
            "616f180148f8409881442062ea61e726",
            "ec0fa0d2b76c41e4a83f75781399bfb6",
            "335b05f14a624ba688e7bd3fd30b665a",
            "cb41cd90cca1439bbe0fa075d23e7ce0",
            "fdfa3c6637334ee0885ba6a704f6e06b",
            "a6a46e5c7a754366bdd0cc3c69830e66"
          ]
        },
        "id": "HQwUd_nsuDOe",
        "outputId": "d329e2c1-18b0-44a5-ef8a-6447679378a9"
      },
      "outputs": [
        {
          "data": {
            "text/html": [
              "<style type=\"text/css\">\n",
              "#T_0aee0_row11_col1 {\n",
              "  background-color: lightgreen;\n",
              "}\n",
              "</style>\n",
              "<table id=\"T_0aee0\" class=\"dataframe\">\n",
              "  <thead>\n",
              "    <tr>\n",
              "      <th class=\"blank level0\" >&nbsp;</th>\n",
              "      <th id=\"T_0aee0_level0_col0\" class=\"col_heading level0 col0\" >Description</th>\n",
              "      <th id=\"T_0aee0_level0_col1\" class=\"col_heading level0 col1\" >Value</th>\n",
              "    </tr>\n",
              "  </thead>\n",
              "  <tbody>\n",
              "    <tr>\n",
              "      <th id=\"T_0aee0_level0_row0\" class=\"row_heading level0 row0\" >0</th>\n",
              "      <td id=\"T_0aee0_row0_col0\" class=\"data row0 col0\" >Session id</td>\n",
              "      <td id=\"T_0aee0_row0_col1\" class=\"data row0 col1\" >7</td>\n",
              "    </tr>\n",
              "    <tr>\n",
              "      <th id=\"T_0aee0_level0_row1\" class=\"row_heading level0 row1\" >1</th>\n",
              "      <td id=\"T_0aee0_row1_col0\" class=\"data row1 col0\" >Target</td>\n",
              "      <td id=\"T_0aee0_row1_col1\" class=\"data row1 col1\" >label</td>\n",
              "    </tr>\n",
              "    <tr>\n",
              "      <th id=\"T_0aee0_level0_row2\" class=\"row_heading level0 row2\" >2</th>\n",
              "      <td id=\"T_0aee0_row2_col0\" class=\"data row2 col0\" >Target type</td>\n",
              "      <td id=\"T_0aee0_row2_col1\" class=\"data row2 col1\" >Binary</td>\n",
              "    </tr>\n",
              "    <tr>\n",
              "      <th id=\"T_0aee0_level0_row3\" class=\"row_heading level0 row3\" >3</th>\n",
              "      <td id=\"T_0aee0_row3_col0\" class=\"data row3 col0\" >Original data shape</td>\n",
              "      <td id=\"T_0aee0_row3_col1\" class=\"data row3 col1\" >(3939, 41)</td>\n",
              "    </tr>\n",
              "    <tr>\n",
              "      <th id=\"T_0aee0_level0_row4\" class=\"row_heading level0 row4\" >4</th>\n",
              "      <td id=\"T_0aee0_row4_col0\" class=\"data row4 col0\" >Transformed data shape</td>\n",
              "      <td id=\"T_0aee0_row4_col1\" class=\"data row4 col1\" >(3939, 65)</td>\n",
              "    </tr>\n",
              "    <tr>\n",
              "      <th id=\"T_0aee0_level0_row5\" class=\"row_heading level0 row5\" >5</th>\n",
              "      <td id=\"T_0aee0_row5_col0\" class=\"data row5 col0\" >Transformed train set shape</td>\n",
              "      <td id=\"T_0aee0_row5_col1\" class=\"data row5 col1\" >(2757, 65)</td>\n",
              "    </tr>\n",
              "    <tr>\n",
              "      <th id=\"T_0aee0_level0_row6\" class=\"row_heading level0 row6\" >6</th>\n",
              "      <td id=\"T_0aee0_row6_col0\" class=\"data row6 col0\" >Transformed test set shape</td>\n",
              "      <td id=\"T_0aee0_row6_col1\" class=\"data row6 col1\" >(1182, 65)</td>\n",
              "    </tr>\n",
              "    <tr>\n",
              "      <th id=\"T_0aee0_level0_row7\" class=\"row_heading level0 row7\" >7</th>\n",
              "      <td id=\"T_0aee0_row7_col0\" class=\"data row7 col0\" >Ignore features</td>\n",
              "      <td id=\"T_0aee0_row7_col1\" class=\"data row7 col1\" >3</td>\n",
              "    </tr>\n",
              "    <tr>\n",
              "      <th id=\"T_0aee0_level0_row8\" class=\"row_heading level0 row8\" >8</th>\n",
              "      <td id=\"T_0aee0_row8_col0\" class=\"data row8 col0\" >Numeric features</td>\n",
              "      <td id=\"T_0aee0_row8_col1\" class=\"data row8 col1\" >33</td>\n",
              "    </tr>\n",
              "    <tr>\n",
              "      <th id=\"T_0aee0_level0_row9\" class=\"row_heading level0 row9\" >9</th>\n",
              "      <td id=\"T_0aee0_row9_col0\" class=\"data row9 col0\" >Categorical features</td>\n",
              "      <td id=\"T_0aee0_row9_col1\" class=\"data row9 col1\" >4</td>\n",
              "    </tr>\n",
              "    <tr>\n",
              "      <th id=\"T_0aee0_level0_row10\" class=\"row_heading level0 row10\" >10</th>\n",
              "      <td id=\"T_0aee0_row10_col0\" class=\"data row10 col0\" >Rows with missing values</td>\n",
              "      <td id=\"T_0aee0_row10_col1\" class=\"data row10 col1\" >90.7%</td>\n",
              "    </tr>\n",
              "    <tr>\n",
              "      <th id=\"T_0aee0_level0_row11\" class=\"row_heading level0 row11\" >11</th>\n",
              "      <td id=\"T_0aee0_row11_col0\" class=\"data row11 col0\" >Preprocess</td>\n",
              "      <td id=\"T_0aee0_row11_col1\" class=\"data row11 col1\" >True</td>\n",
              "    </tr>\n",
              "    <tr>\n",
              "      <th id=\"T_0aee0_level0_row12\" class=\"row_heading level0 row12\" >12</th>\n",
              "      <td id=\"T_0aee0_row12_col0\" class=\"data row12 col0\" >Imputation type</td>\n",
              "      <td id=\"T_0aee0_row12_col1\" class=\"data row12 col1\" >simple</td>\n",
              "    </tr>\n",
              "    <tr>\n",
              "      <th id=\"T_0aee0_level0_row13\" class=\"row_heading level0 row13\" >13</th>\n",
              "      <td id=\"T_0aee0_row13_col0\" class=\"data row13 col0\" >Numeric imputation</td>\n",
              "      <td id=\"T_0aee0_row13_col1\" class=\"data row13 col1\" >mean</td>\n",
              "    </tr>\n",
              "    <tr>\n",
              "      <th id=\"T_0aee0_level0_row14\" class=\"row_heading level0 row14\" >14</th>\n",
              "      <td id=\"T_0aee0_row14_col0\" class=\"data row14 col0\" >Categorical imputation</td>\n",
              "      <td id=\"T_0aee0_row14_col1\" class=\"data row14 col1\" >mode</td>\n",
              "    </tr>\n",
              "    <tr>\n",
              "      <th id=\"T_0aee0_level0_row15\" class=\"row_heading level0 row15\" >15</th>\n",
              "      <td id=\"T_0aee0_row15_col0\" class=\"data row15 col0\" >Maximum one-hot encoding</td>\n",
              "      <td id=\"T_0aee0_row15_col1\" class=\"data row15 col1\" >25</td>\n",
              "    </tr>\n",
              "    <tr>\n",
              "      <th id=\"T_0aee0_level0_row16\" class=\"row_heading level0 row16\" >16</th>\n",
              "      <td id=\"T_0aee0_row16_col0\" class=\"data row16 col0\" >Encoding method</td>\n",
              "      <td id=\"T_0aee0_row16_col1\" class=\"data row16 col1\" >None</td>\n",
              "    </tr>\n",
              "    <tr>\n",
              "      <th id=\"T_0aee0_level0_row17\" class=\"row_heading level0 row17\" >17</th>\n",
              "      <td id=\"T_0aee0_row17_col0\" class=\"data row17 col0\" >Fold Generator</td>\n",
              "      <td id=\"T_0aee0_row17_col1\" class=\"data row17 col1\" >StratifiedKFold</td>\n",
              "    </tr>\n",
              "    <tr>\n",
              "      <th id=\"T_0aee0_level0_row18\" class=\"row_heading level0 row18\" >18</th>\n",
              "      <td id=\"T_0aee0_row18_col0\" class=\"data row18 col0\" >Fold Number</td>\n",
              "      <td id=\"T_0aee0_row18_col1\" class=\"data row18 col1\" >10</td>\n",
              "    </tr>\n",
              "    <tr>\n",
              "      <th id=\"T_0aee0_level0_row19\" class=\"row_heading level0 row19\" >19</th>\n",
              "      <td id=\"T_0aee0_row19_col0\" class=\"data row19 col0\" >CPU Jobs</td>\n",
              "      <td id=\"T_0aee0_row19_col1\" class=\"data row19 col1\" >-1</td>\n",
              "    </tr>\n",
              "    <tr>\n",
              "      <th id=\"T_0aee0_level0_row20\" class=\"row_heading level0 row20\" >20</th>\n",
              "      <td id=\"T_0aee0_row20_col0\" class=\"data row20 col0\" >Use GPU</td>\n",
              "      <td id=\"T_0aee0_row20_col1\" class=\"data row20 col1\" >False</td>\n",
              "    </tr>\n",
              "    <tr>\n",
              "      <th id=\"T_0aee0_level0_row21\" class=\"row_heading level0 row21\" >21</th>\n",
              "      <td id=\"T_0aee0_row21_col0\" class=\"data row21 col0\" >Log Experiment</td>\n",
              "      <td id=\"T_0aee0_row21_col1\" class=\"data row21 col1\" >False</td>\n",
              "    </tr>\n",
              "    <tr>\n",
              "      <th id=\"T_0aee0_level0_row22\" class=\"row_heading level0 row22\" >22</th>\n",
              "      <td id=\"T_0aee0_row22_col0\" class=\"data row22 col0\" >Experiment Name</td>\n",
              "      <td id=\"T_0aee0_row22_col1\" class=\"data row22 col1\" >clf-default-name</td>\n",
              "    </tr>\n",
              "    <tr>\n",
              "      <th id=\"T_0aee0_level0_row23\" class=\"row_heading level0 row23\" >23</th>\n",
              "      <td id=\"T_0aee0_row23_col0\" class=\"data row23 col0\" >USI</td>\n",
              "      <td id=\"T_0aee0_row23_col1\" class=\"data row23 col1\" >1ec0</td>\n",
              "    </tr>\n",
              "  </tbody>\n",
              "</table>\n"
            ],
            "text/plain": [
              "<pandas.io.formats.style.Styler at 0x7a26a8e8b550>"
            ]
          },
          "metadata": {},
          "output_type": "display_data"
        },
        {
          "data": {
            "text/html": [],
            "text/plain": [
              "<IPython.core.display.HTML object>"
            ]
          },
          "metadata": {},
          "output_type": "display_data"
        },
        {
          "data": {
            "text/html": [
              "<style type=\"text/css\">\n",
              "#T_75351_row10_col0, #T_75351_row10_col1, #T_75351_row10_col2, #T_75351_row10_col3, #T_75351_row10_col4, #T_75351_row10_col5, #T_75351_row10_col6 {\n",
              "  background: yellow;\n",
              "}\n",
              "</style>\n",
              "<table id=\"T_75351\" class=\"dataframe\">\n",
              "  <thead>\n",
              "    <tr>\n",
              "      <th class=\"blank level0\" >&nbsp;</th>\n",
              "      <th id=\"T_75351_level0_col0\" class=\"col_heading level0 col0\" >Accuracy</th>\n",
              "      <th id=\"T_75351_level0_col1\" class=\"col_heading level0 col1\" >AUC</th>\n",
              "      <th id=\"T_75351_level0_col2\" class=\"col_heading level0 col2\" >Recall</th>\n",
              "      <th id=\"T_75351_level0_col3\" class=\"col_heading level0 col3\" >Prec.</th>\n",
              "      <th id=\"T_75351_level0_col4\" class=\"col_heading level0 col4\" >F1</th>\n",
              "      <th id=\"T_75351_level0_col5\" class=\"col_heading level0 col5\" >Kappa</th>\n",
              "      <th id=\"T_75351_level0_col6\" class=\"col_heading level0 col6\" >MCC</th>\n",
              "    </tr>\n",
              "    <tr>\n",
              "      <th class=\"index_name level0\" >Fold</th>\n",
              "      <th class=\"blank col0\" >&nbsp;</th>\n",
              "      <th class=\"blank col1\" >&nbsp;</th>\n",
              "      <th class=\"blank col2\" >&nbsp;</th>\n",
              "      <th class=\"blank col3\" >&nbsp;</th>\n",
              "      <th class=\"blank col4\" >&nbsp;</th>\n",
              "      <th class=\"blank col5\" >&nbsp;</th>\n",
              "      <th class=\"blank col6\" >&nbsp;</th>\n",
              "    </tr>\n",
              "  </thead>\n",
              "  <tbody>\n",
              "    <tr>\n",
              "      <th id=\"T_75351_level0_row0\" class=\"row_heading level0 row0\" >0</th>\n",
              "      <td id=\"T_75351_row0_col0\" class=\"data row0 col0\" >0.9130</td>\n",
              "      <td id=\"T_75351_row0_col1\" class=\"data row0 col1\" >0.8153</td>\n",
              "      <td id=\"T_75351_row0_col2\" class=\"data row0 col2\" >0.3200</td>\n",
              "      <td id=\"T_75351_row0_col3\" class=\"data row0 col3\" >0.5333</td>\n",
              "      <td id=\"T_75351_row0_col4\" class=\"data row0 col4\" >0.4000</td>\n",
              "      <td id=\"T_75351_row0_col5\" class=\"data row0 col5\" >0.3563</td>\n",
              "      <td id=\"T_75351_row0_col6\" class=\"data row0 col6\" >0.3698</td>\n",
              "    </tr>\n",
              "    <tr>\n",
              "      <th id=\"T_75351_level0_row1\" class=\"row_heading level0 row1\" >1</th>\n",
              "      <td id=\"T_75351_row1_col0\" class=\"data row1 col0\" >0.9239</td>\n",
              "      <td id=\"T_75351_row1_col1\" class=\"data row1 col1\" >0.8077</td>\n",
              "      <td id=\"T_75351_row1_col2\" class=\"data row1 col2\" >0.2308</td>\n",
              "      <td id=\"T_75351_row1_col3\" class=\"data row1 col3\" >0.8571</td>\n",
              "      <td id=\"T_75351_row1_col4\" class=\"data row1 col4\" >0.3636</td>\n",
              "      <td id=\"T_75351_row1_col5\" class=\"data row1 col5\" >0.3371</td>\n",
              "      <td id=\"T_75351_row1_col6\" class=\"data row1 col6\" >0.4213</td>\n",
              "    </tr>\n",
              "    <tr>\n",
              "      <th id=\"T_75351_level0_row2\" class=\"row_heading level0 row2\" >2</th>\n",
              "      <td id=\"T_75351_row2_col0\" class=\"data row2 col0\" >0.9058</td>\n",
              "      <td id=\"T_75351_row2_col1\" class=\"data row2 col1\" >0.7669</td>\n",
              "      <td id=\"T_75351_row2_col2\" class=\"data row2 col2\" >0.1538</td>\n",
              "      <td id=\"T_75351_row2_col3\" class=\"data row2 col3\" >0.5000</td>\n",
              "      <td id=\"T_75351_row2_col4\" class=\"data row2 col4\" >0.2353</td>\n",
              "      <td id=\"T_75351_row2_col5\" class=\"data row2 col5\" >0.1998</td>\n",
              "      <td id=\"T_75351_row2_col6\" class=\"data row2 col6\" >0.2400</td>\n",
              "    </tr>\n",
              "    <tr>\n",
              "      <th id=\"T_75351_level0_row3\" class=\"row_heading level0 row3\" >3</th>\n",
              "      <td id=\"T_75351_row3_col0\" class=\"data row3 col0\" >0.9130</td>\n",
              "      <td id=\"T_75351_row3_col1\" class=\"data row3 col1\" >0.7992</td>\n",
              "      <td id=\"T_75351_row3_col2\" class=\"data row3 col2\" >0.3462</td>\n",
              "      <td id=\"T_75351_row3_col3\" class=\"data row3 col3\" >0.5625</td>\n",
              "      <td id=\"T_75351_row3_col4\" class=\"data row3 col4\" >0.4286</td>\n",
              "      <td id=\"T_75351_row3_col5\" class=\"data row3 col5\" >0.3844</td>\n",
              "      <td id=\"T_75351_row3_col6\" class=\"data row3 col6\" >0.3977</td>\n",
              "    </tr>\n",
              "    <tr>\n",
              "      <th id=\"T_75351_level0_row4\" class=\"row_heading level0 row4\" >4</th>\n",
              "      <td id=\"T_75351_row4_col0\" class=\"data row4 col0\" >0.9130</td>\n",
              "      <td id=\"T_75351_row4_col1\" class=\"data row4 col1\" >0.8146</td>\n",
              "      <td id=\"T_75351_row4_col2\" class=\"data row4 col2\" >0.1923</td>\n",
              "      <td id=\"T_75351_row4_col3\" class=\"data row4 col3\" >0.6250</td>\n",
              "      <td id=\"T_75351_row4_col4\" class=\"data row4 col4\" >0.2941</td>\n",
              "      <td id=\"T_75351_row4_col5\" class=\"data row4 col5\" >0.2614</td>\n",
              "      <td id=\"T_75351_row4_col6\" class=\"data row4 col6\" >0.3139</td>\n",
              "    </tr>\n",
              "    <tr>\n",
              "      <th id=\"T_75351_level0_row5\" class=\"row_heading level0 row5\" >5</th>\n",
              "      <td id=\"T_75351_row5_col0\" class=\"data row5 col0\" >0.9022</td>\n",
              "      <td id=\"T_75351_row5_col1\" class=\"data row5 col1\" >0.7438</td>\n",
              "      <td id=\"T_75351_row5_col2\" class=\"data row5 col2\" >0.1923</td>\n",
              "      <td id=\"T_75351_row5_col3\" class=\"data row5 col3\" >0.4545</td>\n",
              "      <td id=\"T_75351_row5_col4\" class=\"data row5 col4\" >0.2703</td>\n",
              "      <td id=\"T_75351_row5_col5\" class=\"data row5 col5\" >0.2270</td>\n",
              "      <td id=\"T_75351_row5_col6\" class=\"data row5 col6\" >0.2513</td>\n",
              "    </tr>\n",
              "    <tr>\n",
              "      <th id=\"T_75351_level0_row6\" class=\"row_heading level0 row6\" >6</th>\n",
              "      <td id=\"T_75351_row6_col0\" class=\"data row6 col0\" >0.9203</td>\n",
              "      <td id=\"T_75351_row6_col1\" class=\"data row6 col1\" >0.8006</td>\n",
              "      <td id=\"T_75351_row6_col2\" class=\"data row6 col2\" >0.2308</td>\n",
              "      <td id=\"T_75351_row6_col3\" class=\"data row6 col3\" >0.7500</td>\n",
              "      <td id=\"T_75351_row6_col4\" class=\"data row6 col4\" >0.3529</td>\n",
              "      <td id=\"T_75351_row6_col5\" class=\"data row6 col5\" >0.3229</td>\n",
              "      <td id=\"T_75351_row6_col6\" class=\"data row6 col6\" >0.3879</td>\n",
              "    </tr>\n",
              "    <tr>\n",
              "      <th id=\"T_75351_level0_row7\" class=\"row_heading level0 row7\" >7</th>\n",
              "      <td id=\"T_75351_row7_col0\" class=\"data row7 col0\" >0.8836</td>\n",
              "      <td id=\"T_75351_row7_col1\" class=\"data row7 col1\" >0.8046</td>\n",
              "      <td id=\"T_75351_row7_col2\" class=\"data row7 col2\" >0.2000</td>\n",
              "      <td id=\"T_75351_row7_col3\" class=\"data row7 col3\" >0.2941</td>\n",
              "      <td id=\"T_75351_row7_col4\" class=\"data row7 col4\" >0.2381</td>\n",
              "      <td id=\"T_75351_row7_col5\" class=\"data row7 col5\" >0.1776</td>\n",
              "      <td id=\"T_75351_row7_col6\" class=\"data row7 col6\" >0.1814</td>\n",
              "    </tr>\n",
              "    <tr>\n",
              "      <th id=\"T_75351_level0_row8\" class=\"row_heading level0 row8\" >8</th>\n",
              "      <td id=\"T_75351_row8_col0\" class=\"data row8 col0\" >0.9091</td>\n",
              "      <td id=\"T_75351_row8_col1\" class=\"data row8 col1\" >0.7634</td>\n",
              "      <td id=\"T_75351_row8_col2\" class=\"data row8 col2\" >0.1200</td>\n",
              "      <td id=\"T_75351_row8_col3\" class=\"data row8 col3\" >0.5000</td>\n",
              "      <td id=\"T_75351_row8_col4\" class=\"data row8 col4\" >0.1935</td>\n",
              "      <td id=\"T_75351_row8_col5\" class=\"data row8 col5\" >0.1641</td>\n",
              "      <td id=\"T_75351_row8_col6\" class=\"data row8 col6\" >0.2125</td>\n",
              "    </tr>\n",
              "    <tr>\n",
              "      <th id=\"T_75351_level0_row9\" class=\"row_heading level0 row9\" >9</th>\n",
              "      <td id=\"T_75351_row9_col0\" class=\"data row9 col0\" >0.8836</td>\n",
              "      <td id=\"T_75351_row9_col1\" class=\"data row9 col1\" >0.7195</td>\n",
              "      <td id=\"T_75351_row9_col2\" class=\"data row9 col2\" >0.0800</td>\n",
              "      <td id=\"T_75351_row9_col3\" class=\"data row9 col3\" >0.1818</td>\n",
              "      <td id=\"T_75351_row9_col4\" class=\"data row9 col4\" >0.1111</td>\n",
              "      <td id=\"T_75351_row9_col5\" class=\"data row9 col5\" >0.0588</td>\n",
              "      <td id=\"T_75351_row9_col6\" class=\"data row9 col6\" >0.0645</td>\n",
              "    </tr>\n",
              "    <tr>\n",
              "      <th id=\"T_75351_level0_row10\" class=\"row_heading level0 row10\" >Mean</th>\n",
              "      <td id=\"T_75351_row10_col0\" class=\"data row10 col0\" >0.9068</td>\n",
              "      <td id=\"T_75351_row10_col1\" class=\"data row10 col1\" >0.7836</td>\n",
              "      <td id=\"T_75351_row10_col2\" class=\"data row10 col2\" >0.2066</td>\n",
              "      <td id=\"T_75351_row10_col3\" class=\"data row10 col3\" >0.5258</td>\n",
              "      <td id=\"T_75351_row10_col4\" class=\"data row10 col4\" >0.2888</td>\n",
              "      <td id=\"T_75351_row10_col5\" class=\"data row10 col5\" >0.2489</td>\n",
              "      <td id=\"T_75351_row10_col6\" class=\"data row10 col6\" >0.2841</td>\n",
              "    </tr>\n",
              "    <tr>\n",
              "      <th id=\"T_75351_level0_row11\" class=\"row_heading level0 row11\" >Std</th>\n",
              "      <td id=\"T_75351_row11_col0\" class=\"data row11 col0\" >0.0130</td>\n",
              "      <td id=\"T_75351_row11_col1\" class=\"data row11 col1\" >0.0315</td>\n",
              "      <td id=\"T_75351_row11_col2\" class=\"data row11 col2\" >0.0776</td>\n",
              "      <td id=\"T_75351_row11_col3\" class=\"data row11 col3\" >0.1870</td>\n",
              "      <td id=\"T_75351_row11_col4\" class=\"data row11 col4\" >0.0938</td>\n",
              "      <td id=\"T_75351_row11_col5\" class=\"data row11 col5\" >0.0973</td>\n",
              "      <td id=\"T_75351_row11_col6\" class=\"data row11 col6\" >0.1085</td>\n",
              "    </tr>\n",
              "  </tbody>\n",
              "</table>\n"
            ],
            "text/plain": [
              "<pandas.io.formats.style.Styler at 0x7a26c08e8250>"
            ]
          },
          "metadata": {},
          "output_type": "display_data"
        },
        {
          "data": {
            "application/vnd.jupyter.widget-view+json": {
              "model_id": "c0e0d44187fd490aaa337682d32cfb60",
              "version_major": 2,
              "version_minor": 0
            },
            "text/plain": [
              "Processing:   0%|          | 0/4 [00:00<?, ?it/s]"
            ]
          },
          "metadata": {
            "application/vnd.jupyter.widget-view+json": {
              "colab": {
                "custom_widget_manager": {
                  "url": "https://ssl.gstatic.com/colaboratory-static/widgets/colab-cdn-widget-manager/2b70e893a8ba7c0f/manager.min.js"
                }
              }
            }
          },
          "output_type": "display_data"
        },
        {
          "data": {
            "text/html": [],
            "text/plain": [
              "<IPython.core.display.HTML object>"
            ]
          },
          "metadata": {},
          "output_type": "display_data"
        },
        {
          "data": {
            "application/vnd.jupyter.widget-view+json": {
              "model_id": "cb41cd90cca1439bbe0fa075d23e7ce0",
              "version_major": 2,
              "version_minor": 0
            },
            "text/plain": [
              "interactive(children=(ToggleButtons(description='Plot Type:', icons=('',), options=(('Pipeline Plot', 'pipelin…"
            ]
          },
          "metadata": {
            "application/vnd.jupyter.widget-view+json": {
              "colab": {
                "custom_widget_manager": {
                  "url": "https://ssl.gstatic.com/colaboratory-static/widgets/colab-cdn-widget-manager/2b70e893a8ba7c0f/manager.min.js"
                }
              }
            }
          },
          "output_type": "display_data"
        }
      ],
      "source": [
        "# Iniciar el entorno de PyCaret\n",
        "clf = setup(data=df, target='label', session_id=7, fold_shuffle=True,\n",
        "             ignore_features=['Name', 'Nationality', 'National_Position'])\n",
        "\n",
        "xgb_model = create_model('xgboost')\n",
        "\n",
        "evaluate_model(xgb_model)"
      ]
    },
    {
      "cell_type": "code",
      "execution_count": 36,
      "metadata": {
        "colab": {
          "base_uri": "https://localhost:8080/",
          "height": 1000
        },
        "id": "Dpwz8MekFn5q",
        "outputId": "bb2a6f58-b6b5-4c4e-a0a9-f8ccb443ad31"
      },
      "outputs": [
        {
          "name": "stdout",
          "output_type": "stream",
          "text": [
            "Longitud de características: 37\n",
            "Longitud de importancias: 64\n",
            "Longitudes no coinciden. Comparando las listas:\n",
            "Características: ['Club_Position', 'Height', 'Weight', 'Preffered_Foot', 'Age', 'Work_Rate', 'Weak_foot', 'Skill_Moves', 'Ball_Control', 'Dribbling', 'Marking', 'Sliding_Tackle', 'Standing_Tackle', 'Aggression', 'Reactions', 'Interceptions', 'Vision', 'Composure', 'Crossing', 'Short_Pass', 'Long_Pass', 'Acceleration', 'Speed', 'Stamina', 'Strength', 'Balance', 'Agility', 'Jumping', 'Heading', 'Shot_Power', 'Finishing', 'Long_Shots', 'Curve', 'Freekick_Accuracy', 'Penalties', 'Volleys', 'label_pos']\n",
            "Importancias: [0.         0.010302   0.00885079 0.         0.         0.01524809\n",
            " 0.         0.01448886 0.00318253 0.         0.01298278 0.\n",
            " 0.         0.         0.         0.02141181 0.01807959 0.01844441\n",
            " 0.02781842 0.01127954 0.01850824 0.         0.         0.02442102\n",
            " 0.04389    0.0050773  0.         0.         0.01559238 0.02976951\n",
            " 0.02636902 0.03387395 0.02274314 0.01333847 0.02167361 0.0180918\n",
            " 0.12433282 0.01554896 0.02642821 0.02297164 0.01853693 0.02921181\n",
            " 0.01311433 0.02018316 0.01902268 0.02749139 0.01878906 0.01702735\n",
            " 0.01109391 0.01209778 0.01727977 0.01883777 0.01465629 0.02057618\n",
            " 0.01700475 0.01884193 0.01896603 0.02067305 0.01377216 0.0145912\n",
            " 0.0051695  0.         0.         0.0083441 ]\n"
          ]
        },
        {
          "data": {
            "application/vnd.google.colaboratory.intrinsic+json": {
              "summary": "{\n  \"name\": \"feature_importance\",\n  \"rows\": 24,\n  \"fields\": [\n    {\n      \"column\": \"Feature\",\n      \"properties\": {\n        \"dtype\": \"string\",\n        \"num_unique_values\": 24,\n        \"samples\": [\n          \"Penalties\",\n          \"Skill_Moves\",\n          \"label_pos\"\n        ],\n        \"semantic_type\": \"\",\n        \"description\": \"\"\n      }\n    },\n    {\n      \"column\": \"Importance\",\n      \"properties\": {\n        \"dtype\": \"float32\",\n        \"num_unique_values\": 24,\n        \"samples\": [\n          0.02167360670864582,\n          0.014488857239484787,\n          0.12433282285928726\n        ],\n        \"semantic_type\": \"\",\n        \"description\": \"\"\n      }\n    }\n  ]\n}",
              "type": "dataframe",
              "variable_name": "feature_importance"
            },
            "text/html": [
              "\n",
              "  <div id=\"df-3261c7af-0182-4b0d-aa5b-94d30924fdef\" class=\"colab-df-container\">\n",
              "    <div>\n",
              "<style scoped>\n",
              "    .dataframe tbody tr th:only-of-type {\n",
              "        vertical-align: middle;\n",
              "    }\n",
              "\n",
              "    .dataframe tbody tr th {\n",
              "        vertical-align: top;\n",
              "    }\n",
              "\n",
              "    .dataframe thead th {\n",
              "        text-align: right;\n",
              "    }\n",
              "</style>\n",
              "<table border=\"1\" class=\"dataframe\">\n",
              "  <thead>\n",
              "    <tr style=\"text-align: right;\">\n",
              "      <th></th>\n",
              "      <th>Feature</th>\n",
              "      <th>Importance</th>\n",
              "    </tr>\n",
              "  </thead>\n",
              "  <tbody>\n",
              "    <tr>\n",
              "      <th>36</th>\n",
              "      <td>label_pos</td>\n",
              "      <td>0.124333</td>\n",
              "    </tr>\n",
              "    <tr>\n",
              "      <th>24</th>\n",
              "      <td>Strength</td>\n",
              "      <td>0.043890</td>\n",
              "    </tr>\n",
              "    <tr>\n",
              "      <th>31</th>\n",
              "      <td>Long_Shots</td>\n",
              "      <td>0.033874</td>\n",
              "    </tr>\n",
              "    <tr>\n",
              "      <th>29</th>\n",
              "      <td>Shot_Power</td>\n",
              "      <td>0.029770</td>\n",
              "    </tr>\n",
              "    <tr>\n",
              "      <th>18</th>\n",
              "      <td>Crossing</td>\n",
              "      <td>0.027818</td>\n",
              "    </tr>\n",
              "    <tr>\n",
              "      <th>30</th>\n",
              "      <td>Finishing</td>\n",
              "      <td>0.026369</td>\n",
              "    </tr>\n",
              "    <tr>\n",
              "      <th>23</th>\n",
              "      <td>Stamina</td>\n",
              "      <td>0.024421</td>\n",
              "    </tr>\n",
              "    <tr>\n",
              "      <th>32</th>\n",
              "      <td>Curve</td>\n",
              "      <td>0.022743</td>\n",
              "    </tr>\n",
              "    <tr>\n",
              "      <th>34</th>\n",
              "      <td>Penalties</td>\n",
              "      <td>0.021674</td>\n",
              "    </tr>\n",
              "    <tr>\n",
              "      <th>15</th>\n",
              "      <td>Interceptions</td>\n",
              "      <td>0.021412</td>\n",
              "    </tr>\n",
              "    <tr>\n",
              "      <th>20</th>\n",
              "      <td>Long_Pass</td>\n",
              "      <td>0.018508</td>\n",
              "    </tr>\n",
              "    <tr>\n",
              "      <th>17</th>\n",
              "      <td>Composure</td>\n",
              "      <td>0.018444</td>\n",
              "    </tr>\n",
              "    <tr>\n",
              "      <th>35</th>\n",
              "      <td>Volleys</td>\n",
              "      <td>0.018092</td>\n",
              "    </tr>\n",
              "    <tr>\n",
              "      <th>16</th>\n",
              "      <td>Vision</td>\n",
              "      <td>0.018080</td>\n",
              "    </tr>\n",
              "    <tr>\n",
              "      <th>28</th>\n",
              "      <td>Heading</td>\n",
              "      <td>0.015592</td>\n",
              "    </tr>\n",
              "    <tr>\n",
              "      <th>5</th>\n",
              "      <td>Work_Rate</td>\n",
              "      <td>0.015248</td>\n",
              "    </tr>\n",
              "    <tr>\n",
              "      <th>7</th>\n",
              "      <td>Skill_Moves</td>\n",
              "      <td>0.014489</td>\n",
              "    </tr>\n",
              "    <tr>\n",
              "      <th>33</th>\n",
              "      <td>Freekick_Accuracy</td>\n",
              "      <td>0.013338</td>\n",
              "    </tr>\n",
              "    <tr>\n",
              "      <th>10</th>\n",
              "      <td>Marking</td>\n",
              "      <td>0.012983</td>\n",
              "    </tr>\n",
              "    <tr>\n",
              "      <th>19</th>\n",
              "      <td>Short_Pass</td>\n",
              "      <td>0.011280</td>\n",
              "    </tr>\n",
              "    <tr>\n",
              "      <th>1</th>\n",
              "      <td>Height</td>\n",
              "      <td>0.010302</td>\n",
              "    </tr>\n",
              "    <tr>\n",
              "      <th>2</th>\n",
              "      <td>Weight</td>\n",
              "      <td>0.008851</td>\n",
              "    </tr>\n",
              "    <tr>\n",
              "      <th>25</th>\n",
              "      <td>Balance</td>\n",
              "      <td>0.005077</td>\n",
              "    </tr>\n",
              "    <tr>\n",
              "      <th>8</th>\n",
              "      <td>Ball_Control</td>\n",
              "      <td>0.003183</td>\n",
              "    </tr>\n",
              "  </tbody>\n",
              "</table>\n",
              "</div>\n",
              "    <div class=\"colab-df-buttons\">\n",
              "\n",
              "  <div class=\"colab-df-container\">\n",
              "    <button class=\"colab-df-convert\" onclick=\"convertToInteractive('df-3261c7af-0182-4b0d-aa5b-94d30924fdef')\"\n",
              "            title=\"Convert this dataframe to an interactive table.\"\n",
              "            style=\"display:none;\">\n",
              "\n",
              "  <svg xmlns=\"http://www.w3.org/2000/svg\" height=\"24px\" viewBox=\"0 -960 960 960\">\n",
              "    <path d=\"M120-120v-720h720v720H120Zm60-500h600v-160H180v160Zm220 220h160v-160H400v160Zm0 220h160v-160H400v160ZM180-400h160v-160H180v160Zm440 0h160v-160H620v160ZM180-180h160v-160H180v160Zm440 0h160v-160H620v160Z\"/>\n",
              "  </svg>\n",
              "    </button>\n",
              "\n",
              "  <style>\n",
              "    .colab-df-container {\n",
              "      display:flex;\n",
              "      gap: 12px;\n",
              "    }\n",
              "\n",
              "    .colab-df-convert {\n",
              "      background-color: #E8F0FE;\n",
              "      border: none;\n",
              "      border-radius: 50%;\n",
              "      cursor: pointer;\n",
              "      display: none;\n",
              "      fill: #1967D2;\n",
              "      height: 32px;\n",
              "      padding: 0 0 0 0;\n",
              "      width: 32px;\n",
              "    }\n",
              "\n",
              "    .colab-df-convert:hover {\n",
              "      background-color: #E2EBFA;\n",
              "      box-shadow: 0px 1px 2px rgba(60, 64, 67, 0.3), 0px 1px 3px 1px rgba(60, 64, 67, 0.15);\n",
              "      fill: #174EA6;\n",
              "    }\n",
              "\n",
              "    .colab-df-buttons div {\n",
              "      margin-bottom: 4px;\n",
              "    }\n",
              "\n",
              "    [theme=dark] .colab-df-convert {\n",
              "      background-color: #3B4455;\n",
              "      fill: #D2E3FC;\n",
              "    }\n",
              "\n",
              "    [theme=dark] .colab-df-convert:hover {\n",
              "      background-color: #434B5C;\n",
              "      box-shadow: 0px 1px 3px 1px rgba(0, 0, 0, 0.15);\n",
              "      filter: drop-shadow(0px 1px 2px rgba(0, 0, 0, 0.3));\n",
              "      fill: #FFFFFF;\n",
              "    }\n",
              "  </style>\n",
              "\n",
              "    <script>\n",
              "      const buttonEl =\n",
              "        document.querySelector('#df-3261c7af-0182-4b0d-aa5b-94d30924fdef button.colab-df-convert');\n",
              "      buttonEl.style.display =\n",
              "        google.colab.kernel.accessAllowed ? 'block' : 'none';\n",
              "\n",
              "      async function convertToInteractive(key) {\n",
              "        const element = document.querySelector('#df-3261c7af-0182-4b0d-aa5b-94d30924fdef');\n",
              "        const dataTable =\n",
              "          await google.colab.kernel.invokeFunction('convertToInteractive',\n",
              "                                                    [key], {});\n",
              "        if (!dataTable) return;\n",
              "\n",
              "        const docLinkHtml = 'Like what you see? Visit the ' +\n",
              "          '<a target=\"_blank\" href=https://colab.research.google.com/notebooks/data_table.ipynb>data table notebook</a>'\n",
              "          + ' to learn more about interactive tables.';\n",
              "        element.innerHTML = '';\n",
              "        dataTable['output_type'] = 'display_data';\n",
              "        await google.colab.output.renderOutput(dataTable, element);\n",
              "        const docLink = document.createElement('div');\n",
              "        docLink.innerHTML = docLinkHtml;\n",
              "        element.appendChild(docLink);\n",
              "      }\n",
              "    </script>\n",
              "  </div>\n",
              "\n",
              "\n",
              "<div id=\"df-ba1daff8-b816-4c99-8abe-1bfe2d305ca6\">\n",
              "  <button class=\"colab-df-quickchart\" onclick=\"quickchart('df-ba1daff8-b816-4c99-8abe-1bfe2d305ca6')\"\n",
              "            title=\"Suggest charts\"\n",
              "            style=\"display:none;\">\n",
              "\n",
              "<svg xmlns=\"http://www.w3.org/2000/svg\" height=\"24px\"viewBox=\"0 0 24 24\"\n",
              "     width=\"24px\">\n",
              "    <g>\n",
              "        <path d=\"M19 3H5c-1.1 0-2 .9-2 2v14c0 1.1.9 2 2 2h14c1.1 0 2-.9 2-2V5c0-1.1-.9-2-2-2zM9 17H7v-7h2v7zm4 0h-2V7h2v10zm4 0h-2v-4h2v4z\"/>\n",
              "    </g>\n",
              "</svg>\n",
              "  </button>\n",
              "\n",
              "<style>\n",
              "  .colab-df-quickchart {\n",
              "      --bg-color: #E8F0FE;\n",
              "      --fill-color: #1967D2;\n",
              "      --hover-bg-color: #E2EBFA;\n",
              "      --hover-fill-color: #174EA6;\n",
              "      --disabled-fill-color: #AAA;\n",
              "      --disabled-bg-color: #DDD;\n",
              "  }\n",
              "\n",
              "  [theme=dark] .colab-df-quickchart {\n",
              "      --bg-color: #3B4455;\n",
              "      --fill-color: #D2E3FC;\n",
              "      --hover-bg-color: #434B5C;\n",
              "      --hover-fill-color: #FFFFFF;\n",
              "      --disabled-bg-color: #3B4455;\n",
              "      --disabled-fill-color: #666;\n",
              "  }\n",
              "\n",
              "  .colab-df-quickchart {\n",
              "    background-color: var(--bg-color);\n",
              "    border: none;\n",
              "    border-radius: 50%;\n",
              "    cursor: pointer;\n",
              "    display: none;\n",
              "    fill: var(--fill-color);\n",
              "    height: 32px;\n",
              "    padding: 0;\n",
              "    width: 32px;\n",
              "  }\n",
              "\n",
              "  .colab-df-quickchart:hover {\n",
              "    background-color: var(--hover-bg-color);\n",
              "    box-shadow: 0 1px 2px rgba(60, 64, 67, 0.3), 0 1px 3px 1px rgba(60, 64, 67, 0.15);\n",
              "    fill: var(--button-hover-fill-color);\n",
              "  }\n",
              "\n",
              "  .colab-df-quickchart-complete:disabled,\n",
              "  .colab-df-quickchart-complete:disabled:hover {\n",
              "    background-color: var(--disabled-bg-color);\n",
              "    fill: var(--disabled-fill-color);\n",
              "    box-shadow: none;\n",
              "  }\n",
              "\n",
              "  .colab-df-spinner {\n",
              "    border: 2px solid var(--fill-color);\n",
              "    border-color: transparent;\n",
              "    border-bottom-color: var(--fill-color);\n",
              "    animation:\n",
              "      spin 1s steps(1) infinite;\n",
              "  }\n",
              "\n",
              "  @keyframes spin {\n",
              "    0% {\n",
              "      border-color: transparent;\n",
              "      border-bottom-color: var(--fill-color);\n",
              "      border-left-color: var(--fill-color);\n",
              "    }\n",
              "    20% {\n",
              "      border-color: transparent;\n",
              "      border-left-color: var(--fill-color);\n",
              "      border-top-color: var(--fill-color);\n",
              "    }\n",
              "    30% {\n",
              "      border-color: transparent;\n",
              "      border-left-color: var(--fill-color);\n",
              "      border-top-color: var(--fill-color);\n",
              "      border-right-color: var(--fill-color);\n",
              "    }\n",
              "    40% {\n",
              "      border-color: transparent;\n",
              "      border-right-color: var(--fill-color);\n",
              "      border-top-color: var(--fill-color);\n",
              "    }\n",
              "    60% {\n",
              "      border-color: transparent;\n",
              "      border-right-color: var(--fill-color);\n",
              "    }\n",
              "    80% {\n",
              "      border-color: transparent;\n",
              "      border-right-color: var(--fill-color);\n",
              "      border-bottom-color: var(--fill-color);\n",
              "    }\n",
              "    90% {\n",
              "      border-color: transparent;\n",
              "      border-bottom-color: var(--fill-color);\n",
              "    }\n",
              "  }\n",
              "</style>\n",
              "\n",
              "  <script>\n",
              "    async function quickchart(key) {\n",
              "      const quickchartButtonEl =\n",
              "        document.querySelector('#' + key + ' button');\n",
              "      quickchartButtonEl.disabled = true;  // To prevent multiple clicks.\n",
              "      quickchartButtonEl.classList.add('colab-df-spinner');\n",
              "      try {\n",
              "        const charts = await google.colab.kernel.invokeFunction(\n",
              "            'suggestCharts', [key], {});\n",
              "      } catch (error) {\n",
              "        console.error('Error during call to suggestCharts:', error);\n",
              "      }\n",
              "      quickchartButtonEl.classList.remove('colab-df-spinner');\n",
              "      quickchartButtonEl.classList.add('colab-df-quickchart-complete');\n",
              "    }\n",
              "    (() => {\n",
              "      let quickchartButtonEl =\n",
              "        document.querySelector('#df-ba1daff8-b816-4c99-8abe-1bfe2d305ca6 button');\n",
              "      quickchartButtonEl.style.display =\n",
              "        google.colab.kernel.accessAllowed ? 'block' : 'none';\n",
              "    })();\n",
              "  </script>\n",
              "</div>\n",
              "\n",
              "  <div id=\"id_bb921192-a77d-4625-8c2d-8dbefab2ce7d\">\n",
              "    <style>\n",
              "      .colab-df-generate {\n",
              "        background-color: #E8F0FE;\n",
              "        border: none;\n",
              "        border-radius: 50%;\n",
              "        cursor: pointer;\n",
              "        display: none;\n",
              "        fill: #1967D2;\n",
              "        height: 32px;\n",
              "        padding: 0 0 0 0;\n",
              "        width: 32px;\n",
              "      }\n",
              "\n",
              "      .colab-df-generate:hover {\n",
              "        background-color: #E2EBFA;\n",
              "        box-shadow: 0px 1px 2px rgba(60, 64, 67, 0.3), 0px 1px 3px 1px rgba(60, 64, 67, 0.15);\n",
              "        fill: #174EA6;\n",
              "      }\n",
              "\n",
              "      [theme=dark] .colab-df-generate {\n",
              "        background-color: #3B4455;\n",
              "        fill: #D2E3FC;\n",
              "      }\n",
              "\n",
              "      [theme=dark] .colab-df-generate:hover {\n",
              "        background-color: #434B5C;\n",
              "        box-shadow: 0px 1px 3px 1px rgba(0, 0, 0, 0.15);\n",
              "        filter: drop-shadow(0px 1px 2px rgba(0, 0, 0, 0.3));\n",
              "        fill: #FFFFFF;\n",
              "      }\n",
              "    </style>\n",
              "    <button class=\"colab-df-generate\" onclick=\"generateWithVariable('feature_importance')\"\n",
              "            title=\"Generate code using this dataframe.\"\n",
              "            style=\"display:none;\">\n",
              "\n",
              "  <svg xmlns=\"http://www.w3.org/2000/svg\" height=\"24px\"viewBox=\"0 0 24 24\"\n",
              "       width=\"24px\">\n",
              "    <path d=\"M7,19H8.4L18.45,9,17,7.55,7,17.6ZM5,21V16.75L18.45,3.32a2,2,0,0,1,2.83,0l1.4,1.43a1.91,1.91,0,0,1,.58,1.4,1.91,1.91,0,0,1-.58,1.4L9.25,21ZM18.45,9,17,7.55Zm-12,3A5.31,5.31,0,0,0,4.9,8.1,5.31,5.31,0,0,0,1,6.5,5.31,5.31,0,0,0,4.9,4.9,5.31,5.31,0,0,0,6.5,1,5.31,5.31,0,0,0,8.1,4.9,5.31,5.31,0,0,0,12,6.5,5.46,5.46,0,0,0,6.5,12Z\"/>\n",
              "  </svg>\n",
              "    </button>\n",
              "    <script>\n",
              "      (() => {\n",
              "      const buttonEl =\n",
              "        document.querySelector('#id_bb921192-a77d-4625-8c2d-8dbefab2ce7d button.colab-df-generate');\n",
              "      buttonEl.style.display =\n",
              "        google.colab.kernel.accessAllowed ? 'block' : 'none';\n",
              "\n",
              "      buttonEl.onclick = () => {\n",
              "        google.colab.notebook.generateWithVariable('feature_importance');\n",
              "      }\n",
              "      })();\n",
              "    </script>\n",
              "  </div>\n",
              "\n",
              "    </div>\n",
              "  </div>\n"
            ],
            "text/plain": [
              "              Feature  Importance\n",
              "36          label_pos    0.124333\n",
              "24           Strength    0.043890\n",
              "31         Long_Shots    0.033874\n",
              "29         Shot_Power    0.029770\n",
              "18           Crossing    0.027818\n",
              "30          Finishing    0.026369\n",
              "23            Stamina    0.024421\n",
              "32              Curve    0.022743\n",
              "34          Penalties    0.021674\n",
              "15      Interceptions    0.021412\n",
              "20          Long_Pass    0.018508\n",
              "17          Composure    0.018444\n",
              "35            Volleys    0.018092\n",
              "16             Vision    0.018080\n",
              "28            Heading    0.015592\n",
              "5           Work_Rate    0.015248\n",
              "7         Skill_Moves    0.014489\n",
              "33  Freekick_Accuracy    0.013338\n",
              "10            Marking    0.012983\n",
              "19         Short_Pass    0.011280\n",
              "1              Height    0.010302\n",
              "2              Weight    0.008851\n",
              "25            Balance    0.005077\n",
              "8        Ball_Control    0.003183"
            ]
          },
          "execution_count": 36,
          "metadata": {},
          "output_type": "execute_result"
        }
      ],
      "source": [
        "X_train = get_config('X_train')  # Obtener el conjunto de entrenamiento\n",
        "feature_names = X_train.columns.tolist()  # Nombres de las características\n",
        "importance_values = xgb_model.feature_importances_  # Importancia de las características\n",
        "\n",
        "print(f'Longitud de características: {len(feature_names)}')\n",
        "print(f'Longitud de importancias: {len(importance_values)}')\n",
        "\n",
        "if len(feature_names) != len(importance_values):\n",
        "    print(\"Longitudes no coinciden. Comparando las listas:\")\n",
        "    print(\"Características:\", feature_names)\n",
        "    print(\"Importancias:\", importance_values)\n",
        "\n",
        "feature_importance = pd.DataFrame({\n",
        "    'Feature': feature_names,\n",
        "    'Importance': importance_values[:len(feature_names)]  # Alinear\n",
        "})\n",
        "\n",
        "feature_importance = feature_importance[feature_importance['Importance'] > 0]\n",
        "feature_importance = feature_importance.sort_values(by='Importance', ascending=False)\n",
        "\n",
        "feature_importance"
      ]
    },
    {
      "cell_type": "code",
      "execution_count": null,
      "metadata": {},
      "outputs": [],
      "source": [
        "y_train = get_config('y')  # Obtener la variable objetivo\n",
        "non=['Name', 'Nationality', 'National_Position']\n",
        "# Inicializar la lista de características\n",
        "feature_names = X_train.columns.tolist()\n",
        "N = 1  \n",
        "# Búsqueda recursiva de eliminación de características\n",
        "while len(feature_names) > N:\n",
        "    # Obtener la importancia de las características\n",
        "    importance_values = xgb_model.feature_importances_\n",
        "\n",
        "    # Crear un DataFrame de importancia de características\n",
        "    feature_importance = pd.DataFrame({\n",
        "        'Feature': feature_names,\n",
        "        'Importance': importance_values[:len(feature_names)]\n",
        "    })\n",
        "\n",
        "    # Filtrar las características menos importantes\n",
        "    feature_importance = feature_importance.sort_values(by='Importance')\n",
        "    least_important_feature = feature_importance.iloc[0]['Feature']  # Obtener la característica menos importante\n",
        "\n",
        "    # Eliminar la característica menos importante del conjunto de características\n",
        "    feature_names.remove(least_important_feature)\n",
        "    print(f'Eliminando característica: {least_important_feature}')\n",
        "    non.append(least_important_feature)\n",
        "\n",
        "    # Reentrenar el modelo con el nuevo conjunto de características\n",
        "    clf = setup(data=df, target='label', session_id=7, fold_shuffle=True,\n",
        "             ignore_features=non)\n",
        "    \n",
        "    xgb_model = create_model('xgboost')\n",
        "\n",
        "    # Evaluar el rendimiento del modelo\n",
        "    evaluate_model(xgb_model)\n",
        "\n",
        "importance_values = xgb_model.feature_importances_\n",
        "feature_importance = pd.DataFrame({\n",
        "        'Feature': feature_names,\n",
        "        'Importance': importance_values[:len(feature_names)]\n",
        "})\n",
        "feature_importance"
      ]
    },
    {
      "cell_type": "markdown",
      "metadata": {},
      "source": [
        "Viendo como va progresando el modelo a medida que se le van agregando features (es decir, viendo los resultados de abajo hacia arriba) se decide tomar un N = 5, ya que al tener N = 6 la mayoría de los valores promedio de las medidas disminuye en vez de aumentar. Por lo tanto, se conservarán las siguientes columnas ['Weak_foot', 'Age','Preffered_Foot', 'Weight', 'Work_Rate']."
      ]
    },
    {
      "cell_type": "code",
      "execution_count": null,
      "metadata": {},
      "outputs": [],
      "source": [
        "omitir=['Name', 'Nationality', 'National_Position', 'Club_Position', 'Standing_Tackle',\n",
        " 'Reactions', 'Aggression', 'Interceptions', 'Skill_Moves', 'Crossing', 'Ball_Control', 'Short_Pass', 'Dribbling',\n",
        " 'Speed', 'Stamina', 'Strength', 'Acceleration', 'Balance', 'Jumping', 'Heading', 'Sliding_Tackle',\n",
        " 'Vision', 'Long_Shots', 'Curve', 'Composure', 'Long_Pass', 'Agility',\n",
        " 'Shot_Power', 'Finishing', 'Freekick_Accuracy', 'Penalties', 'Volleys', 'label_pos', 'Marking','Height']\n",
        "\n",
        "clf = setup(data=df, target='label', session_id=7, fold_shuffle=True,\n",
        "             ignore_features=omitir)\n",
        "    \n",
        "xgb_model2 = create_model('xgboost')\n",
        "evaluate_model(xgb_model2)"
      ]
    },
    {
      "cell_type": "markdown",
      "metadata": {},
      "source": [
        "5.\n",
        "- ¿El rendimiento del modelo con las características seleccionadas es similar al del modelo original? ¿Cómo se comparan en términos de precisión y robustez? \n",
        "\n",
        "El segundo modelo tiene un rendimiento menor en comparación con el original. En cuanto a la precisión, el segundo modelo presenta una media de 0.3230\ty el original de 0.5258. Sin embargo, al ver la robustez del modelo usando la curva de aprendizaje, se puede observar que en el segundo modelo el sobreajuste es menor.\n",
        "\n",
        "- ¿Cuáles son los beneficios potenciales de eliminar variables del modelo? Considere factores como la simplificación del modelo, reducción del tiempo de entrenamiento, y mejora en la capacidad de generalización. \n",
        "\n",
        "La eliminación de variables del modelo ha demostrado ser beneficiosa en nuestra comparación. Aunque el segundo modelo tiene un rendimiento inferior en términos de precisión (0.3230 frente a 0.5258 del modelo original), la reducción de variables ha llevado a una simplificación del modelo, lo que facilita su interpretación. Además, se ha observado que el segundo modelo presenta un menor sobreajuste, lo que sugiere una mejora en su capacidad de generalización. Esto indica que, a pesar de su menor precisión, el segundo modelo podría ser más robusto y menos susceptible a errores en nuevos datos. Por lo tanto, la selección de características ha permitido optimizar el balance entre simplicidad y robustez en los modelos evaluados.\n",
        "\n",
        "- Comente si el modelo con menor dimensionalidad es más sencillo de explicar. Explique brevemente por qué la eliminación de ciertas características puede facilitar la comprensión y la explicación del comportamiento del modelo.\n",
        "\n",
        "Un modelo con menor dimensionalidad es más sencillo de explicar porque tiene menos características, lo que facilita la interpretación de los resultados. La eliminación de ciertas características reduce las interacciones complejas y permite centrarse en las variables más relevantes, facilitando la identificación de los factores que influyen en las predicciones. Además, un modelo más simple es más intuitivo y mejora la comunicación de los resultados, lo que contribuye a una mejor toma de decisiones."
      ]
    },
    {
      "cell_type": "markdown",
      "metadata": {
        "id": "PTG5cH9r3M9g"
      },
      "source": [
        "### 3.3 Calibración Probabilistica [6 puntos]"
      ]
    },
    {
      "cell_type": "markdown",
      "metadata": {
        "id": "CDL0VqjR7yvb"
      },
      "source": [
        "<center>\n",
        "<img src='https://media2.giphy.com/media/l2Je4Ku0Cx292KWv6/200w.gif?cid=6c09b952y0sihtq9tb6sz8j2023x3zxxp3qx1ocgonkpkblj&ep=v1_gifs_search&rid=200w.gif&ct=g' width=400 />"
      ]
    },
    {
      "cell_type": "markdown",
      "metadata": {
        "id": "qmOKxhAw3sic"
      },
      "source": [
        "Para lograr modelos más modulares, se recomienda realizar una calibración del modelo entrenado anteriormente, con el objetivo de obtener salidas que reflejen mayor modularidad.\n",
        "\n",
        "1. Se solicita que utilice un método de calibración que asegure que las probabilidades generadas incrementen de manera monótona. Una métrica ampliamente utilizada para evaluar la precisión de la calibración de un modelo es el Brier Score. Calcule el Brier Score para el modelo tanto antes como después de la calibración. Esto le permitirá realizar una comparación cuantitativa y determinar si la calibración ha mejorado el rendimiento del modelo. Para más información sobre el Brier Score, puede consultar el siguiente enlace: [Scikit-Learn - Brier Score Loss](https://scikit-learn.org/stable/modules/generated/sklearn.metrics.brier_score_loss.html). [3 puntos]\n",
        "\n",
        "2. Tras la calibración, examine y comente los resultados obtenidos. A su análisis añada una comparación visual de las ideales versus las salidas del modelo original (sin calibrar) y del modelo calibrado. [3 puntos]"
      ]
    },
    {
      "cell_type": "markdown",
      "metadata": {
        "id": "QIiYz_qLuD19"
      },
      "source": [
        "**Respuesta**"
      ]
    },
    {
      "cell_type": "code",
      "execution_count": null,
      "metadata": {
        "id": "l0bfSuiFuD2I"
      },
      "outputs": [],
      "source": [
        "#1\n",
        "# Calcular el Brier Score antes de la calibración\n",
        "probabilities = predict_model(xgb_model, data=df)['prediction_score']\n",
        "brier_score_before = brier_score_loss(df['label'], probabilities)\n",
        "print(f\"Brier Score antes de la calibración: {brier_score_before}\")\n",
        "\n",
        "# Obtener las características y la variable objetivo\n",
        "X = df.drop(columns=['label','Name', 'Nationality', 'National_Position', 'Club_Position', 'Preffered_Foot', 'Work_Rate', 'label_pos'])\n",
        "y = df['label']\n",
        "\n",
        "# Ajustar el modelo XGBoost para calibración\n",
        "xgb_clf = XGBClassifier()\n",
        "xgb_clf.fit(X, y)\n",
        "\n",
        "# Calibrar el modelo\n",
        "calibrated_model = CalibratedClassifierCV(estimator=xgb_clf, method='sigmoid', cv='prefit')\n",
        "calibrated_model.fit(X, y)\n",
        "\n",
        "# Calcular el Brier Score después de la calibración\n",
        "calibrated_probabilities = calibrated_model.predict_proba(X)[:, 1]\n",
        "brier_score_after = brier_score_loss(y, calibrated_probabilities)\n",
        "print(f\"Brier Score después de la calibración: {brier_score_after}\")\n",
        "\n",
        "# Comparar los resultados\n",
        "if brier_score_after < brier_score_before:\n",
        "    print(\"La calibración ha mejorado el rendimiento del modelo.\")\n",
        "else:\n",
        "    print(\"No hubo mejora en el rendimiento del modelo tras la calibración.\")\n"
      ]
    },
    {
      "cell_type": "code",
      "execution_count": null,
      "metadata": {},
      "outputs": [],
      "source": [
        "#2\n",
        "# Calcular las curvas de calibración\n",
        "probabilities_original = predict_model(xgb_model, data=df)['prediction_score']\n",
        "probabilities_calibrated = calibrated_model.predict_proba(X)[:, 1]\n",
        "\n",
        "# Generar las curvas de calibración\n",
        "fraction_of_positives_original, mean_predicted_value_original = calibration_curve(df['label'], probabilities_original, n_bins=10)\n",
        "fraction_of_positives_calibrated, mean_predicted_value_calibrated = calibration_curve(df['label'], probabilities_calibrated, n_bins=10)\n",
        "\n",
        "# Visualizar las curvas de calibración\n",
        "plt.figure(figsize=(10, 6))\n",
        "plt.plot(mean_predicted_value_original, fraction_of_positives_original, 's-', label='Modelo Original (Sin Calibrar)')\n",
        "plt.plot(mean_predicted_value_calibrated, fraction_of_positives_calibrated, 's-', label='Modelo Calibrado', color='orange')\n",
        "\n",
        "# Diagonal ideal\n",
        "plt.plot([0, 1], [0, 1], 'k:', label='Ideal')\n",
        "\n",
        "# Configurar el gráfico\n",
        "plt.title('Curvas de Calibración')\n",
        "plt.xlabel('Probabilidad Predicha')\n",
        "plt.ylabel('Fracción de Positivos')\n",
        "plt.legend()\n",
        "plt.grid()\n",
        "plt.show()\n"
      ]
    },
    {
      "cell_type": "markdown",
      "metadata": {},
      "source": [
        "Se puede observar que el Brier Score mejora al realizar la calibración. Además, de manera inusual se puede ver que la aplicación de la calibración produce probabilidades perfectamente calibradas."
      ]
    }
  ],
  "metadata": {
    "colab": {
      "provenance": []
    },
    "kernelspec": {
      "display_name": "base",
      "language": "python",
      "name": "python3"
    },
    "language_info": {
      "codemirror_mode": {
        "name": "ipython",
        "version": 3
      },
      "file_extension": ".py",
      "mimetype": "text/x-python",
      "name": "python",
      "nbconvert_exporter": "python",
      "pygments_lexer": "ipython3",
      "version": "3.12.4"
    },
    "widgets": {
      "application/vnd.jupyter.widget-state+json": {
        "1d6439598355480785863e2a672c9bec": {
          "model_module": "@jupyter-widgets/controls",
          "model_module_version": "1.5.0",
          "model_name": "ProgressStyleModel",
          "state": {
            "_model_module": "@jupyter-widgets/controls",
            "_model_module_version": "1.5.0",
            "_model_name": "ProgressStyleModel",
            "_view_count": null,
            "_view_module": "@jupyter-widgets/base",
            "_view_module_version": "1.2.0",
            "_view_name": "StyleView",
            "bar_color": null,
            "description_width": ""
          }
        },
        "1db177db591d468098c31c37f11f1eb5": {
          "model_module": "@jupyter-widgets/base",
          "model_module_version": "1.2.0",
          "model_name": "LayoutModel",
          "state": {
            "_model_module": "@jupyter-widgets/base",
            "_model_module_version": "1.2.0",
            "_model_name": "LayoutModel",
            "_view_count": null,
            "_view_module": "@jupyter-widgets/base",
            "_view_module_version": "1.2.0",
            "_view_name": "LayoutView",
            "align_content": null,
            "align_items": null,
            "align_self": null,
            "border": null,
            "bottom": null,
            "display": null,
            "flex": null,
            "flex_flow": null,
            "grid_area": null,
            "grid_auto_columns": null,
            "grid_auto_flow": null,
            "grid_auto_rows": null,
            "grid_column": null,
            "grid_gap": null,
            "grid_row": null,
            "grid_template_areas": null,
            "grid_template_columns": null,
            "grid_template_rows": null,
            "height": null,
            "justify_content": null,
            "justify_items": null,
            "left": null,
            "margin": null,
            "max_height": null,
            "max_width": null,
            "min_height": null,
            "min_width": null,
            "object_fit": null,
            "object_position": null,
            "order": null,
            "overflow": null,
            "overflow_x": null,
            "overflow_y": null,
            "padding": null,
            "right": null,
            "top": null,
            "visibility": null,
            "width": null
          }
        },
        "335b05f14a624ba688e7bd3fd30b665a": {
          "model_module": "@jupyter-widgets/base",
          "model_module_version": "1.2.0",
          "model_name": "LayoutModel",
          "state": {
            "_model_module": "@jupyter-widgets/base",
            "_model_module_version": "1.2.0",
            "_model_name": "LayoutModel",
            "_view_count": null,
            "_view_module": "@jupyter-widgets/base",
            "_view_module_version": "1.2.0",
            "_view_name": "LayoutView",
            "align_content": null,
            "align_items": null,
            "align_self": null,
            "border": null,
            "bottom": null,
            "display": null,
            "flex": null,
            "flex_flow": null,
            "grid_area": null,
            "grid_auto_columns": null,
            "grid_auto_flow": null,
            "grid_auto_rows": null,
            "grid_column": null,
            "grid_gap": null,
            "grid_row": null,
            "grid_template_areas": null,
            "grid_template_columns": null,
            "grid_template_rows": null,
            "height": null,
            "justify_content": null,
            "justify_items": null,
            "left": null,
            "margin": null,
            "max_height": null,
            "max_width": null,
            "min_height": null,
            "min_width": null,
            "object_fit": null,
            "object_position": null,
            "order": null,
            "overflow": null,
            "overflow_x": null,
            "overflow_y": null,
            "padding": null,
            "right": null,
            "top": null,
            "visibility": null,
            "width": null
          }
        },
        "616f180148f8409881442062ea61e726": {
          "model_module": "@jupyter-widgets/controls",
          "model_module_version": "1.5.0",
          "model_name": "ToggleButtonsStyleModel",
          "state": {
            "_model_module": "@jupyter-widgets/controls",
            "_model_module_version": "1.5.0",
            "_model_name": "ToggleButtonsStyleModel",
            "_view_count": null,
            "_view_module": "@jupyter-widgets/base",
            "_view_module_version": "1.2.0",
            "_view_name": "StyleView",
            "button_width": "",
            "description_width": "",
            "font_weight": ""
          }
        },
        "8c84564c27a847a6b9a6546624e4b7b8": {
          "model_module": "@jupyter-widgets/controls",
          "model_module_version": "1.5.0",
          "model_name": "FloatProgressModel",
          "state": {
            "_dom_classes": [],
            "_model_module": "@jupyter-widgets/controls",
            "_model_module_version": "1.5.0",
            "_model_name": "FloatProgressModel",
            "_view_count": null,
            "_view_module": "@jupyter-widgets/controls",
            "_view_module_version": "1.5.0",
            "_view_name": "ProgressView",
            "bar_style": "",
            "description": "",
            "description_tooltip": null,
            "layout": "IPY_MODEL_ffd3f44bc7cd4fa58e96ea250222a284",
            "max": 4,
            "min": 0,
            "orientation": "horizontal",
            "style": "IPY_MODEL_1d6439598355480785863e2a672c9bec",
            "value": 4
          }
        },
        "99b17f4122294fccaefd39ac2e5f6b8b": {
          "model_module": "@jupyter-widgets/base",
          "model_module_version": "1.2.0",
          "model_name": "LayoutModel",
          "state": {
            "_model_module": "@jupyter-widgets/base",
            "_model_module_version": "1.2.0",
            "_model_name": "LayoutModel",
            "_view_count": null,
            "_view_module": "@jupyter-widgets/base",
            "_view_module_version": "1.2.0",
            "_view_name": "LayoutView",
            "align_content": null,
            "align_items": null,
            "align_self": null,
            "border": null,
            "bottom": null,
            "display": null,
            "flex": null,
            "flex_flow": null,
            "grid_area": null,
            "grid_auto_columns": null,
            "grid_auto_flow": null,
            "grid_auto_rows": null,
            "grid_column": null,
            "grid_gap": null,
            "grid_row": null,
            "grid_template_areas": null,
            "grid_template_columns": null,
            "grid_template_rows": null,
            "height": null,
            "justify_content": null,
            "justify_items": null,
            "left": null,
            "margin": null,
            "max_height": null,
            "max_width": null,
            "min_height": null,
            "min_width": null,
            "object_fit": null,
            "object_position": null,
            "order": null,
            "overflow": null,
            "overflow_x": null,
            "overflow_y": null,
            "padding": null,
            "right": null,
            "top": null,
            "visibility": "hidden",
            "width": null
          }
        },
        "a171ebd5b4374496881a654e60946c89": {
          "model_module": "@jupyter-widgets/controls",
          "model_module_version": "1.5.0",
          "model_name": "DescriptionStyleModel",
          "state": {
            "_model_module": "@jupyter-widgets/controls",
            "_model_module_version": "1.5.0",
            "_model_name": "DescriptionStyleModel",
            "_view_count": null,
            "_view_module": "@jupyter-widgets/base",
            "_view_module_version": "1.2.0",
            "_view_name": "StyleView",
            "description_width": ""
          }
        },
        "a5b528b080764cd2bd4dced2b785a116": {
          "model_module": "@jupyter-widgets/controls",
          "model_module_version": "1.5.0",
          "model_name": "HTMLModel",
          "state": {
            "_dom_classes": [],
            "_model_module": "@jupyter-widgets/controls",
            "_model_module_version": "1.5.0",
            "_model_name": "HTMLModel",
            "_view_count": null,
            "_view_module": "@jupyter-widgets/controls",
            "_view_module_version": "1.5.0",
            "_view_name": "HTMLView",
            "description": "",
            "description_tooltip": null,
            "layout": "IPY_MODEL_f284fedf1f2444319deab9e745842406",
            "placeholder": "​",
            "style": "IPY_MODEL_f1650000a89043459d20bb1c375e27ab",
            "value": "Processing: 100%"
          }
        },
        "a6a46e5c7a754366bdd0cc3c69830e66": {
          "model_module": "@jupyter-widgets/output",
          "model_module_version": "1.0.0",
          "model_name": "OutputModel",
          "state": {
            "_dom_classes": [],
            "_model_module": "@jupyter-widgets/output",
            "_model_module_version": "1.0.0",
            "_model_name": "OutputModel",
            "_view_count": null,
            "_view_module": "@jupyter-widgets/output",
            "_view_module_version": "1.0.0",
            "_view_name": "OutputView",
            "layout": "IPY_MODEL_335b05f14a624ba688e7bd3fd30b665a",
            "msg_id": "",
            "outputs": [
              {
                "data": {
                  "image/png": "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\n",
                  "text/plain": "<Figure size 800x550 with 1 Axes>"
                },
                "metadata": {},
                "output_type": "display_data"
              }
            ]
          }
        },
        "b4e155ae58c94161bd23121816df4032": {
          "model_module": "@jupyter-widgets/base",
          "model_module_version": "1.2.0",
          "model_name": "LayoutModel",
          "state": {
            "_model_module": "@jupyter-widgets/base",
            "_model_module_version": "1.2.0",
            "_model_name": "LayoutModel",
            "_view_count": null,
            "_view_module": "@jupyter-widgets/base",
            "_view_module_version": "1.2.0",
            "_view_name": "LayoutView",
            "align_content": null,
            "align_items": null,
            "align_self": null,
            "border": null,
            "bottom": null,
            "display": null,
            "flex": null,
            "flex_flow": null,
            "grid_area": null,
            "grid_auto_columns": null,
            "grid_auto_flow": null,
            "grid_auto_rows": null,
            "grid_column": null,
            "grid_gap": null,
            "grid_row": null,
            "grid_template_areas": null,
            "grid_template_columns": null,
            "grid_template_rows": null,
            "height": null,
            "justify_content": null,
            "justify_items": null,
            "left": null,
            "margin": null,
            "max_height": null,
            "max_width": null,
            "min_height": null,
            "min_width": null,
            "object_fit": null,
            "object_position": null,
            "order": null,
            "overflow": null,
            "overflow_x": null,
            "overflow_y": null,
            "padding": null,
            "right": null,
            "top": null,
            "visibility": null,
            "width": null
          }
        },
        "bc720d6b92cc4535a26f9b245a5e8495": {
          "model_module": "@jupyter-widgets/controls",
          "model_module_version": "1.5.0",
          "model_name": "HTMLModel",
          "state": {
            "_dom_classes": [],
            "_model_module": "@jupyter-widgets/controls",
            "_model_module_version": "1.5.0",
            "_model_name": "HTMLModel",
            "_view_count": null,
            "_view_module": "@jupyter-widgets/controls",
            "_view_module_version": "1.5.0",
            "_view_name": "HTMLView",
            "description": "",
            "description_tooltip": null,
            "layout": "IPY_MODEL_1db177db591d468098c31c37f11f1eb5",
            "placeholder": "​",
            "style": "IPY_MODEL_a171ebd5b4374496881a654e60946c89",
            "value": " 4/4 [00:05&lt;00:00,  1.24s/it]"
          }
        },
        "c0e0d44187fd490aaa337682d32cfb60": {
          "model_module": "@jupyter-widgets/controls",
          "model_module_version": "1.5.0",
          "model_name": "HBoxModel",
          "state": {
            "_dom_classes": [],
            "_model_module": "@jupyter-widgets/controls",
            "_model_module_version": "1.5.0",
            "_model_name": "HBoxModel",
            "_view_count": null,
            "_view_module": "@jupyter-widgets/controls",
            "_view_module_version": "1.5.0",
            "_view_name": "HBoxView",
            "box_style": "",
            "children": [
              "IPY_MODEL_a5b528b080764cd2bd4dced2b785a116",
              "IPY_MODEL_8c84564c27a847a6b9a6546624e4b7b8",
              "IPY_MODEL_bc720d6b92cc4535a26f9b245a5e8495"
            ],
            "layout": "IPY_MODEL_99b17f4122294fccaefd39ac2e5f6b8b"
          }
        },
        "cb41cd90cca1439bbe0fa075d23e7ce0": {
          "model_module": "@jupyter-widgets/controls",
          "model_module_version": "1.5.0",
          "model_name": "VBoxModel",
          "state": {
            "_dom_classes": [
              "widget-interact"
            ],
            "_model_module": "@jupyter-widgets/controls",
            "_model_module_version": "1.5.0",
            "_model_name": "VBoxModel",
            "_view_count": null,
            "_view_module": "@jupyter-widgets/controls",
            "_view_module_version": "1.5.0",
            "_view_name": "VBoxView",
            "box_style": "",
            "children": [
              "IPY_MODEL_fdfa3c6637334ee0885ba6a704f6e06b",
              "IPY_MODEL_a6a46e5c7a754366bdd0cc3c69830e66"
            ],
            "layout": "IPY_MODEL_ec0fa0d2b76c41e4a83f75781399bfb6"
          }
        },
        "ec0fa0d2b76c41e4a83f75781399bfb6": {
          "model_module": "@jupyter-widgets/base",
          "model_module_version": "1.2.0",
          "model_name": "LayoutModel",
          "state": {
            "_model_module": "@jupyter-widgets/base",
            "_model_module_version": "1.2.0",
            "_model_name": "LayoutModel",
            "_view_count": null,
            "_view_module": "@jupyter-widgets/base",
            "_view_module_version": "1.2.0",
            "_view_name": "LayoutView",
            "align_content": null,
            "align_items": null,
            "align_self": null,
            "border": null,
            "bottom": null,
            "display": null,
            "flex": null,
            "flex_flow": null,
            "grid_area": null,
            "grid_auto_columns": null,
            "grid_auto_flow": null,
            "grid_auto_rows": null,
            "grid_column": null,
            "grid_gap": null,
            "grid_row": null,
            "grid_template_areas": null,
            "grid_template_columns": null,
            "grid_template_rows": null,
            "height": null,
            "justify_content": null,
            "justify_items": null,
            "left": null,
            "margin": null,
            "max_height": null,
            "max_width": null,
            "min_height": null,
            "min_width": null,
            "object_fit": null,
            "object_position": null,
            "order": null,
            "overflow": null,
            "overflow_x": null,
            "overflow_y": null,
            "padding": null,
            "right": null,
            "top": null,
            "visibility": null,
            "width": null
          }
        },
        "f1650000a89043459d20bb1c375e27ab": {
          "model_module": "@jupyter-widgets/controls",
          "model_module_version": "1.5.0",
          "model_name": "DescriptionStyleModel",
          "state": {
            "_model_module": "@jupyter-widgets/controls",
            "_model_module_version": "1.5.0",
            "_model_name": "DescriptionStyleModel",
            "_view_count": null,
            "_view_module": "@jupyter-widgets/base",
            "_view_module_version": "1.2.0",
            "_view_name": "StyleView",
            "description_width": ""
          }
        },
        "f284fedf1f2444319deab9e745842406": {
          "model_module": "@jupyter-widgets/base",
          "model_module_version": "1.2.0",
          "model_name": "LayoutModel",
          "state": {
            "_model_module": "@jupyter-widgets/base",
            "_model_module_version": "1.2.0",
            "_model_name": "LayoutModel",
            "_view_count": null,
            "_view_module": "@jupyter-widgets/base",
            "_view_module_version": "1.2.0",
            "_view_name": "LayoutView",
            "align_content": null,
            "align_items": null,
            "align_self": null,
            "border": null,
            "bottom": null,
            "display": null,
            "flex": null,
            "flex_flow": null,
            "grid_area": null,
            "grid_auto_columns": null,
            "grid_auto_flow": null,
            "grid_auto_rows": null,
            "grid_column": null,
            "grid_gap": null,
            "grid_row": null,
            "grid_template_areas": null,
            "grid_template_columns": null,
            "grid_template_rows": null,
            "height": null,
            "justify_content": null,
            "justify_items": null,
            "left": null,
            "margin": null,
            "max_height": null,
            "max_width": null,
            "min_height": null,
            "min_width": null,
            "object_fit": null,
            "object_position": null,
            "order": null,
            "overflow": null,
            "overflow_x": null,
            "overflow_y": null,
            "padding": null,
            "right": null,
            "top": null,
            "visibility": null,
            "width": null
          }
        },
        "fdfa3c6637334ee0885ba6a704f6e06b": {
          "model_module": "@jupyter-widgets/controls",
          "model_module_version": "1.5.0",
          "model_name": "ToggleButtonsModel",
          "state": {
            "_dom_classes": [],
            "_model_module": "@jupyter-widgets/controls",
            "_model_module_version": "1.5.0",
            "_model_name": "ToggleButtonsModel",
            "_options_labels": [
              "Pipeline Plot",
              "Hyperparameters",
              "AUC",
              "Confusion Matrix",
              "Threshold",
              "Precision Recall",
              "Prediction Error",
              "Class Report",
              "Feature Selection",
              "Learning Curve",
              "Manifold Learning",
              "Calibration Curve",
              "Validation Curve",
              "Dimensions",
              "Feature Importance",
              "Feature Importance (All)",
              "Decision Boundary",
              "Lift Chart",
              "Gain Chart",
              "Decision Tree",
              "KS Statistic Plot"
            ],
            "_view_count": null,
            "_view_module": "@jupyter-widgets/controls",
            "_view_module_version": "1.5.0",
            "_view_name": "ToggleButtonsView",
            "button_style": "",
            "description": "Plot Type:",
            "description_tooltip": null,
            "disabled": false,
            "icons": [
              ""
            ],
            "index": 6,
            "layout": "IPY_MODEL_b4e155ae58c94161bd23121816df4032",
            "style": "IPY_MODEL_616f180148f8409881442062ea61e726",
            "tooltips": []
          }
        },
        "ffd3f44bc7cd4fa58e96ea250222a284": {
          "model_module": "@jupyter-widgets/base",
          "model_module_version": "1.2.0",
          "model_name": "LayoutModel",
          "state": {
            "_model_module": "@jupyter-widgets/base",
            "_model_module_version": "1.2.0",
            "_model_name": "LayoutModel",
            "_view_count": null,
            "_view_module": "@jupyter-widgets/base",
            "_view_module_version": "1.2.0",
            "_view_name": "LayoutView",
            "align_content": null,
            "align_items": null,
            "align_self": null,
            "border": null,
            "bottom": null,
            "display": null,
            "flex": null,
            "flex_flow": null,
            "grid_area": null,
            "grid_auto_columns": null,
            "grid_auto_flow": null,
            "grid_auto_rows": null,
            "grid_column": null,
            "grid_gap": null,
            "grid_row": null,
            "grid_template_areas": null,
            "grid_template_columns": null,
            "grid_template_rows": null,
            "height": null,
            "justify_content": null,
            "justify_items": null,
            "left": null,
            "margin": null,
            "max_height": null,
            "max_width": null,
            "min_height": null,
            "min_width": null,
            "object_fit": null,
            "object_position": null,
            "order": null,
            "overflow": null,
            "overflow_x": null,
            "overflow_y": null,
            "padding": null,
            "right": null,
            "top": null,
            "visibility": null,
            "width": null
          }
        }
      }
    }
  },
  "nbformat": 4,
  "nbformat_minor": 0
}
