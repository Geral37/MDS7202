{
 "cells": [
  {
   "cell_type": "markdown",
   "metadata": {},
   "source": [
    "![](https://www.dii.uchile.cl/wp-content/uploads/2021/06/Magi%CC%81ster-en-Ciencia-de-Datos.png)"
   ]
  },
  {
   "cell_type": "markdown",
   "metadata": {},
   "source": [
    "# **Proyecto: 'De las Comisiones a la Innovación: El Giro de Ignacio Yacurro'**\n",
    "\n",
    "MDS7202: Laboratorio de Programación Científica para Ciencia de Datos\n",
    "\n",
    "### Cuerpo Docente:\n",
    "\n",
    "- Profesor: Sebastián Tinoco, Ignacio Meza De La Jara\n",
    "- Auxiliar: Eduardo Moya Briones\n",
    "- Ayudante: Nicolás Ojeda González, Melanie Peña Torres, Valentina Rojas Osorio\n",
    "\n",
    "### Equipo: Ratas.py 🐁\n",
    "\n",
    "- Geraldyn Pérez\n",
    "- Diego Rojas"
   ]
  },
  {
   "cell_type": "markdown",
   "metadata": {},
   "source": [
    "## Etapa 1"
   ]
  },
  {
   "cell_type": "markdown",
   "metadata": {},
   "source": [
    "### Análisis exploratorio de datos"
   ]
  },
  {
   "cell_type": "markdown",
   "metadata": {},
   "source": [
    "### Preprocesamiento de datos"
   ]
  },
  {
   "cell_type": "markdown",
   "metadata": {},
   "source": [
    "### División del conjunto de datos"
   ]
  },
  {
   "cell_type": "markdown",
   "metadata": {},
   "source": [
    "### Creación de un modelo baseline"
   ]
  },
  {
   "cell_type": "markdown",
   "metadata": {},
   "source": [
    "### Desarrollo de 3 modelos de Machine Learning"
   ]
  },
  {
   "cell_type": "markdown",
   "metadata": {},
   "source": [
    "### Interpretabilidad del modelo con mejores resultados"
   ]
  },
  {
   "cell_type": "markdown",
   "metadata": {},
   "source": [
    "## Etapa 2"
   ]
  },
  {
   "cell_type": "markdown",
   "metadata": {},
   "source": [
    "### Optimización de modelos"
   ]
  },
  {
   "cell_type": "markdown",
   "metadata": {},
   "source": [
    "- ¿Qué métricas decidieron optimizar?¿Por qué?\n",
    "- ¿Cuanto tiempo le destinaron a esta etapa? ¿Existen indicios de que resultados puedan mejoraar destinando más tiempo?\n",
    "- ¿Qué hiperparámetro tuvo un mayor impacto en el preformance de su modelo?"
   ]
  },
  {
   "cell_type": "markdown",
   "metadata": {},
   "source": [
    "### Interpretabilidad"
   ]
  },
  {
   "cell_type": "markdown",
   "metadata": {},
   "source": [
    "- ¿Podría explicar el funcionamiento de su modelo para una predicción en particular? Si es así, explique 3 ejemplos.\n",
    "- ¿Qué atributo tiene una mayor importancia en la salida de su modelo? ¿Tiene esto sentido con el problema de negocio?\n",
    "- ¿Existe alguna interacción entre atributos que sea relevante para el modelo?\n",
    "- ¿Podría existir sesgo hacia algún atributo en particular? ¿Cuál?"
   ]
  },
  {
   "cell_type": "markdown",
   "metadata": {},
   "source": [
    "### Re-entrenamiento de  Modelos"
   ]
  },
  {
   "cell_type": "markdown",
   "metadata": {},
   "source": [
    "### Tracking con MLFlow"
   ]
  },
  {
   "cell_type": "markdown",
   "metadata": {},
   "source": [
    "### Creación de una aplicación web con Gradio y FastAPI"
   ]
  },
  {
   "cell_type": "markdown",
   "metadata": {},
   "source": [
    "## Etapa 3"
   ]
  }
 ],
 "metadata": {
  "language_info": {
   "name": "python"
  }
 },
 "nbformat": 4,
 "nbformat_minor": 2
}
