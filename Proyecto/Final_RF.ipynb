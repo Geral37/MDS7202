{
 "cells": [
  {
   "cell_type": "markdown",
   "metadata": {},
   "source": [
    "# Preliminar"
   ]
  },
  {
   "cell_type": "code",
   "execution_count": 2,
   "metadata": {},
   "outputs": [],
   "source": [
    "import pandas as pd \n",
    "import optuna\n",
    "from optuna.visualization import plot_contour\n",
    "from optuna.visualization import plot_edf\n",
    "from optuna.visualization import plot_intermediate_values\n",
    "from optuna.visualization import plot_optimization_history\n",
    "from optuna.visualization import plot_parallel_coordinate\n",
    "from optuna.visualization import plot_param_importances\n",
    "from optuna.visualization import plot_slice\n",
    "from sklearn.model_selection import train_test_split\n",
    "from xgboost import XGBClassifier\n",
    "from sklearn.compose import ColumnTransformer\n",
    "from sklearn.preprocessing import StandardScaler\n",
    "from sklearn.ensemble import RandomForestClassifier\n",
    "from sklearn.metrics import average_precision_score\n",
    "from sklearn.model_selection import train_test_split\n",
    "from sklearn.ensemble import RandomForestClassifier\n",
    "from sklearn.metrics import average_precision_score\n",
    "from sklearn.model_selection import train_test_split\n",
    "from sklearn.metrics import average_precision_score\n",
    "from optuna.integration import XGBoostPruningCallback\n",
    "from xgboost import XGBClassifier\n",
    "from sklearn.metrics import f1_score\n",
    "from sklearn.ensemble import ExtraTreesClassifier\n",
    "from sklearn.pipeline import Pipeline\n",
    "from sklearn.preprocessing import StandardScaler\n",
    "from imblearn.over_sampling import SMOTE\n",
    "from sklearn.compose import ColumnTransformer\n",
    "from sklearn.impute import SimpleImputer\n",
    "import joblib\n",
    "\n",
    "X0=pd.read_parquet('X_t0.parquet')\n",
    "X1=pd.read_parquet('X_t1.parquet')\n",
    "X2=pd.read_parquet('X_t2.parquet')\n",
    "y0=pd.read_parquet('y_t0.parquet')\n",
    "y1=pd.read_parquet('y_t1.parquet')"
   ]
  },
  {
   "cell_type": "code",
   "execution_count": 3,
   "metadata": {},
   "outputs": [
    {
     "name": "stdout",
     "output_type": "stream",
     "text": [
      "Entrenamiento: (31007, 77), Validación: (13289, 77)\n"
     ]
    }
   ],
   "source": [
    "data_train, data_val, y_train, y_val = train_test_split(X0, y0, test_size=0.3, stratify=y0, random_state=17)\n",
    "\n",
    "print(f\"Entrenamiento: {data_train.shape}, Validación: {data_val.shape}\")"
   ]
  },
  {
   "cell_type": "markdown",
   "metadata": {},
   "source": [
    "# Métricas en validación"
   ]
  },
  {
   "cell_type": "code",
   "execution_count": 4,
   "metadata": {},
   "outputs": [],
   "source": [
    "from sklearn.metrics import classification_report, confusion_matrix\n",
    "import seaborn as sns\n",
    "import matplotlib.pyplot as plt\n",
    "from pycaret.classification import finalize_model, predict_model\n",
    "\n",
    "def validacion_modelo(best_model, data_val):\n",
    "    \"\"\"\n",
    "    Evalúa el modelo `best_model` de PyCaret usando un conjunto de validación `data_val`.\n",
    "    Calcula el reporte de clasificación y la matriz de confusión, y visualiza los resultados\n",
    "    para el `best_model` y el `finalized_model`.\n",
    "\n",
    "    Parameters:\n",
    "    - best_model: El mejor modelo entrenado de PyCaret.\n",
    "    - data_val: El conjunto de datos de validación con la columna objetivo.\n",
    "    - target_column: El nombre de la columna objetivo (predicción), por defecto es 'previo_fallo'.\n",
    "    \"\"\"\n",
    "    # Finalizar el mejor modelo\n",
    "    finalized_model = finalize_model(best_model)\n",
    "\n",
    "    # Predecir utilizando el best_model\n",
    "    validation_results_best = predict_model(best_model, data=data_val)\n",
    "\n",
    "    # Predecir utilizando el finalized_model\n",
    "    validation_results_finalized = predict_model(finalized_model, data=data_val)\n",
    "\n",
    "    # Obtener las etiquetas verdaderas y predichas para ambos modelos\n",
    "    y_true = y_val['target']\n",
    "    y_pred_best = validation_results_best['prediction_label']\n",
    "    y_pred_finalized = validation_results_finalized['prediction_label']\n",
    "\n",
    "    # Cálculo del AUC-PR\n",
    "    auc_pr_best = average_precision_score(y_true, y_pred_best)\n",
    "    auc_pr_finalized = average_precision_score(y_true, y_pred_finalized)\n",
    "    \n",
    "    # Reporte de clasificación para el best_model\n",
    "    print(\"Reporte de Clasificación para el Best Model:\")\n",
    "    print(\"\\nAUC-PR\", auc_pr_best)\n",
    "    print(classification_report(y_true, y_pred_best))\n",
    "    \n",
    "    # Reporte de clasificación para el finalized_model\n",
    "    print(\"\\nReporte de Clasificación para el Finalized Model:\")\n",
    "    print(\"AUC-PR:\", auc_pr_finalized)\n",
    "    print(classification_report(y_true, y_pred_finalized))\n",
    "\n",
    "    # Matriz de confusión para el best_model\n",
    "    conf_matrix_best = confusion_matrix(y_true, y_pred_best)\n",
    "    \n",
    "    # Matriz de confusión para el finalized_model\n",
    "    conf_matrix_finalized = confusion_matrix(y_true, y_pred_finalized)\n",
    "\n",
    "    # Visualización de la matriz de confusión para el best_model\n",
    "    plt.figure(figsize=(12, 6))\n",
    "\n",
    "    plt.subplot(1, 2, 1)\n",
    "    sns.heatmap(conf_matrix_best, annot=True, fmt='d', cmap='Blues', \n",
    "                xticklabels=['No Fallo', 'Fallo'], yticklabels=['No Fallo', 'Fallo'])\n",
    "    plt.xlabel('Predicción')\n",
    "    plt.ylabel('Real')\n",
    "    plt.title('Matriz de Confusión para el Best Model')\n",
    "\n",
    "    # Visualización de la matriz de confusión para el finalized_model\n",
    "    plt.subplot(1, 2, 2)\n",
    "    sns.heatmap(conf_matrix_finalized, annot=True, fmt='d', cmap='Blues', \n",
    "                xticklabels=['No Fallo', 'Fallo'], yticklabels=['No Fallo', 'Fallo'])\n",
    "    plt.xlabel('Predicción')\n",
    "    plt.ylabel('Real')\n",
    "    plt.title('Matriz de Confusión para el Finalized Model')\n",
    "\n",
    "    plt.tight_layout()\n",
    "    plt.show()"
   ]
  },
  {
   "cell_type": "markdown",
   "metadata": {},
   "source": [
    "# Optuna"
   ]
  },
  {
   "cell_type": "code",
   "execution_count": 5,
   "metadata": {},
   "outputs": [
    {
     "name": "stdout",
     "output_type": "stream",
     "text": [
      "Tamaño del conjunto de entrenamiento: 31007\n",
      "Tamaño del conjunto de validación: 13289\n"
     ]
    }
   ],
   "source": [
    "from sklearn.base import BaseEstimator, TransformerMixin\n",
    "from imblearn.pipeline import Pipeline\n",
    "from sklearn.preprocessing import StandardScaler\n",
    "from sklearn.compose import ColumnTransformer\n",
    "from sklearn.model_selection import train_test_split\n",
    "from sklearn.metrics import f1_score, confusion_matrix\n",
    "from sklearn.ensemble import ExtraTreesClassifier\n",
    "import joblib\n",
    "import numpy as np\n",
    "import matplotlib.pyplot as plt\n",
    "import seaborn as sns\n",
    "import optuna\n",
    "from imblearn.over_sampling import SMOTE\n",
    "\n",
    "# Crear una clase para aplicar SMOTE solo durante el entrenamiento\n",
    "class SMOTETransformer(BaseEstimator, TransformerMixin):\n",
    "    def __init__(self, sampling_strategy='auto', random_state=123):\n",
    "        self.sampling_strategy = sampling_strategy\n",
    "        self.random_state = random_state\n",
    "        self.smote = SMOTE(sampling_strategy=self.sampling_strategy, random_state=self.random_state)\n",
    "\n",
    "    def fit(self, X, y):\n",
    "        return self\n",
    "\n",
    "    def transform(self, X):\n",
    "        return X  # Sin transformación en este paso\n",
    "\n",
    "    def fit_resample(self, X, y):\n",
    "        print(f\"Tamaño original del conjunto de datos: {X.shape}\")  # Tamaño antes de SMOTE\n",
    "        X_resampled, y_resampled = self.smote.fit_resample(X, y)\n",
    "        print(f\"Tamaño después de aplicar SMOTE: {X_resampled.shape}\")  # Tamaño después de SMOTE\n",
    "        return X_resampled, y_resampled\n",
    "\n",
    "# Definir las columnas\n",
    "ys = ['target']\n",
    "binary_columns = ['market_ht_trendmode', 'unique_borrow_protocol_count', 'unique_lending_protocol_count']\n",
    "id_columns = ['borrow_block_number']\n",
    "wallet = ['wallet_address']\n",
    "time_columns = [\n",
    "    'risky_first_tx_timestamp', 'risky_last_tx_timestamp', 'risky_first_last_tx_timestamp_diff',\n",
    "    'time_since_first_deposit', 'time_since_last_liquidated','borrow_timestamp', 'first_tx_timestamp', 'last_tx_timestamp']\n",
    "\n",
    "# Columnas a escalar\n",
    "columns_to_scale = list(X0.columns.difference(id_columns + binary_columns + time_columns + ys + wallet))\n",
    "\n",
    "# Preprocesador para escalar las columnas necesarias y pasar a través las demás\n",
    "preprocessor = ColumnTransformer(\n",
    "    transformers=[ \n",
    "        ('scaler', StandardScaler(), columns_to_scale),\n",
    "        ('passthrough', 'passthrough', id_columns + binary_columns + time_columns)\n",
    "    ]\n",
    ")\n",
    "\n",
    "# Verificar tamaños de los conjuntos\n",
    "print(f\"Tamaño del conjunto de entrenamiento: {data_train.shape[0]}\")\n",
    "print(f\"Tamaño del conjunto de validación: {data_val.shape[0]}\")\n",
    "\n",
    "# Función para crear el pipeline con parámetros configurables\n",
    "def create_pipeline(model):\n",
    "    return Pipeline([\n",
    "        ('preprocessing', preprocessor),  # Preprocesamiento\n",
    "        ('smote', SMOTE(sampling_strategy='auto', random_state=123)),\n",
    "        ('model', model)  # Modelo\n",
    "    ])"
   ]
  },
  {
   "cell_type": "markdown",
   "metadata": {},
   "source": [
    "## ETC"
   ]
  },
  {
   "cell_type": "code",
   "execution_count": null,
   "metadata": {},
   "outputs": [
    {
     "name": "stdout",
     "output_type": "stream",
     "text": [
      "Tamaño del conjunto de entrenamiento: 31007\n",
      "Tamaño del conjunto de validación: 13289\n"
     ]
    },
    {
     "name": "stderr",
     "output_type": "stream",
     "text": [
      "[I 2024-12-12 00:55:48,909] A new study created in memory with name: no-name-f479986f-577d-482d-b4e1-823ca86ffeb3\n"
     ]
    },
    {
     "name": "stdout",
     "output_type": "stream",
     "text": [
      "Rendimiento inicial (F1) en X_test: 0.8824612551787633\n",
      "F1 score en iteración 6: 0.8684582743988685\n",
      "AUC-PR en iteración 6: 0.8533879459283508\n"
     ]
    },
    {
     "data": {
      "image/png": "[encoded data removed]",
      "text/plain": [
       "<Figure size 800x550 with 2 Axes>"
      ]
     },
     "metadata": {},
     "output_type": "display_data"
    },
    {
     "name": "stderr",
     "output_type": "stream",
     "text": [
      "[I 2024-12-12 00:57:13,270] Trial 6 finished with value: 0.8533879459283508 and parameters: {'n_estimators': 472, 'max_depth': 29, 'min_samples_split': 2, 'min_samples_leaf': 2, 'max_features': 'sqrt'}. Best is trial 6 with value: 0.8533879459283508.\n",
      "[I 2024-12-12 00:58:07,865] Trial 8 finished with value: 0.8427724653645547 and parameters: {'n_estimators': 401, 'max_depth': 39, 'min_samples_split': 2, 'min_samples_leaf': 3, 'max_features': 'log2'}. Best is trial 6 with value: 0.8533879459283508.\n"
     ]
    },
    {
     "name": "stdout",
     "output_type": "stream",
     "text": [
      "F1 score en iteración 8: 0.8575719253872905\n",
      "AUC-PR en iteración 8: 0.8427724653645547\n"
     ]
    },
    {
     "name": "stderr",
     "output_type": "stream",
     "text": [
      "[I 2024-12-12 00:58:16,230] Trial 5 finished with value: 0.8465519465087115 and parameters: {'n_estimators': 499, 'max_depth': 33, 'min_samples_split': 3, 'min_samples_leaf': 3, 'max_features': 'sqrt'}. Best is trial 6 with value: 0.8533879459283508.\n"
     ]
    },
    {
     "name": "stdout",
     "output_type": "stream",
     "text": [
      "F1 score en iteración 5: 0.861157155260873\n",
      "AUC-PR en iteración 5: 0.8465519465087115\n",
      "F1 score en iteración 3: 0.8695317313616759\n",
      "AUC-PR en iteración 3: 0.8444461973358843\n"
     ]
    },
    {
     "data": {
      "image/png": "[encoded data removed]",
      "text/plain": [
       "<Figure size 800x550 with 2 Axes>"
      ]
     },
     "metadata": {},
     "output_type": "display_data"
    },
    {
     "name": "stderr",
     "output_type": "stream",
     "text": [
      "[I 2024-12-12 01:01:47,388] Trial 3 finished with value: 0.8444461973358843 and parameters: {'n_estimators': 433, 'max_depth': 31, 'min_samples_split': 2, 'min_samples_leaf': 2, 'max_features': 0.9}. Best is trial 6 with value: 0.8533879459283508.\n",
      "[I 2024-12-12 01:03:53,739] Trial 10 finished with value: 0.8434202276914559 and parameters: {'n_estimators': 1339, 'max_depth': 42, 'min_samples_split': 2, 'min_samples_leaf': 3, 'max_features': 'log2'}. Best is trial 6 with value: 0.8533879459283508.\n"
     ]
    },
    {
     "name": "stdout",
     "output_type": "stream",
     "text": [
      "F1 score en iteración 10: 0.8580237154150198\n",
      "AUC-PR en iteración 10: 0.8434202276914559\n",
      "F1 score en iteración 11: 0.8710055473083834\n",
      "AUC-PR en iteración 11: 0.8536200119375379\n"
     ]
    },
    {
     "data": {
      "image/png": "[encoded data removed]",
      "text/plain": [
       "<Figure size 800x550 with 2 Axes>"
      ]
     },
     "metadata": {},
     "output_type": "display_data"
    },
    {
     "name": "stderr",
     "output_type": "stream",
     "text": [
      "[I 2024-12-12 01:04:02,634] Trial 11 finished with value: 0.8536200119375379 and parameters: {'n_estimators': 889, 'max_depth': 38, 'min_samples_split': 2, 'min_samples_leaf': 2, 'max_features': 'log2'}. Best is trial 11 with value: 0.8536200119375379.\n"
     ]
    },
    {
     "name": "stdout",
     "output_type": "stream",
     "text": [
      "F1 score en iteración 9: 0.8751149249157217\n",
      "AUC-PR en iteración 9: 0.8488707479025557\n"
     ]
    },
    {
     "data": {
      "image/png": "[encoded data removed]",
      "text/plain": [
       "<Figure size 800x550 with 2 Axes>"
      ]
     },
     "metadata": {},
     "output_type": "display_data"
    },
    {
     "name": "stderr",
     "output_type": "stream",
     "text": [
      "[I 2024-12-12 01:06:18,285] Trial 9 finished with value: 0.8488707479025557 and parameters: {'n_estimators': 513, 'max_depth': 33, 'min_samples_split': 2, 'min_samples_leaf': 1, 'max_features': 1.0}. Best is trial 11 with value: 0.8536200119375379.\n",
      "[I 2024-12-12 01:07:24,063] Trial 13 finished with value: 0.8588469020995788 and parameters: {'n_estimators': 1301, 'max_depth': 28, 'min_samples_split': 2, 'min_samples_leaf': 1, 'max_features': 'log2'}. Best is trial 13 with value: 0.8588469020995788.\n"
     ]
    },
    {
     "name": "stdout",
     "output_type": "stream",
     "text": [
      "F1 score en iteración 13: 0.873243858409858\n",
      "AUC-PR en iteración 13: 0.8588469020995788\n"
     ]
    },
    {
     "name": "stderr",
     "output_type": "stream",
     "text": [
      "[I 2024-12-12 01:10:13,121] Trial 12 finished with value: 0.8534876722075281 and parameters: {'n_estimators': 1471, 'max_depth': 40, 'min_samples_split': 2, 'min_samples_leaf': 2, 'max_features': 'log2'}. Best is trial 13 with value: 0.8588469020995788.\n"
     ]
    },
    {
     "name": "stdout",
     "output_type": "stream",
     "text": [
      "F1 score en iteración 12: 0.8704833411543876\n",
      "AUC-PR en iteración 12: 0.8534876722075281\n",
      "F1 score en iteración 15: 0.8754213913576463\n",
      "AUC-PR en iteración 15: 0.8492576548439488\n"
     ]
    },
    {
     "data": {
      "image/png": "[encoded data removed]",
      "text/plain": [
       "<Figure size 800x550 with 2 Axes>"
      ]
     },
     "metadata": {},
     "output_type": "display_data"
    },
    {
     "name": "stderr",
     "output_type": "stream",
     "text": [
      "[I 2024-12-12 01:13:20,394] Trial 15 finished with value: 0.8492576548439488 and parameters: {'n_estimators': 415, 'max_depth': 41, 'min_samples_split': 2, 'min_samples_leaf': 1, 'max_features': 0.9}. Best is trial 13 with value: 0.8588469020995788.\n",
      "[I 2024-12-12 01:13:29,993] Trial 14 finished with value: 0.8448952350349817 and parameters: {'n_estimators': 526, 'max_depth': 35, 'min_samples_split': 3, 'min_samples_leaf': 2, 'max_features': 0.9}. Best is trial 13 with value: 0.8588469020995788.\n"
     ]
    },
    {
     "name": "stdout",
     "output_type": "stream",
     "text": [
      "F1 score en iteración 14: 0.8705013841894802\n",
      "AUC-PR en iteración 14: 0.8448952350349817\n",
      "F1 score en iteración 18: 0.8697568269457779\n",
      "AUC-PR en iteración 18: 0.8558240125485354\n"
     ]
    },
    {
     "name": "stderr",
     "output_type": "stream",
     "text": [
      "[I 2024-12-12 01:16:20,579] Trial 18 finished with value: 0.8558240125485354 and parameters: {'n_estimators': 992, 'max_depth': 27, 'min_samples_split': 3, 'min_samples_leaf': 1, 'max_features': 'log2'}. Best is trial 13 with value: 0.8588469020995788.\n"
     ]
    },
    {
     "name": "stdout",
     "output_type": "stream",
     "text": [
      "F1 score en iteración 1: 0.8709429318566374\n",
      "AUC-PR en iteración 1: 0.845526385107095\n"
     ]
    },
    {
     "name": "stderr",
     "output_type": "stream",
     "text": [
      "[I 2024-12-12 01:16:50,272] Trial 1 finished with value: 0.845526385107095 and parameters: {'n_estimators': 859, 'max_depth': 37, 'min_samples_split': 2, 'min_samples_leaf': 2, 'max_features': 0.9}. Best is trial 13 with value: 0.8588469020995788.\n"
     ]
    },
    {
     "name": "stdout",
     "output_type": "stream",
     "text": [
      "F1 score en iteración 2: 0.8644146228597871\n",
      "AUC-PR en iteración 2: 0.8387431358954841\n"
     ]
    },
    {
     "name": "stderr",
     "output_type": "stream",
     "text": [
      "[I 2024-12-12 01:17:35,352] Trial 2 finished with value: 0.8387431358954841 and parameters: {'n_estimators': 1470, 'max_depth': 39, 'min_samples_split': 3, 'min_samples_leaf': 3, 'max_features': 1.0}. Best is trial 13 with value: 0.8588469020995788.\n"
     ]
    }
   ],
   "source": [
    "# Modelo inicial\n",
    "initial_model = ExtraTreesClassifier(random_state=123)\n",
    "initial_pipeline = create_pipeline(initial_model)\n",
    "\n",
    "# Entrenar el modelo inicial sin optimización de parámetros\n",
    "initial_pipeline.fit(data_train, y_train)\n",
    "\n",
    "# Evaluación inicial en el conjunto de test\n",
    "initial_y_pred = initial_pipeline.predict(data_val)\n",
    "initial_f1 = f1_score(y_val, initial_y_pred)\n",
    "print(f'Rendimiento inicial (F1) en X_test: {initial_f1}')\n",
    "\n",
    "# Crear la función objetivo para Optuna\n",
    "def objective(trial):\n",
    "    # Definir los hiperparámetros a optimizar\n",
    "    n_estimators = trial.suggest_int('n_estimators', 400, 1500)\n",
    "    max_depth = trial.suggest_int('max_depth', 25, 45)\n",
    "    min_samples_split = trial.suggest_int('min_samples_split', 2, 3)\n",
    "    min_samples_leaf = trial.suggest_int('min_samples_leaf', 1, 3)\n",
    "    max_features = trial.suggest_categorical('max_features', ['sqrt', 'log2', 0.9, 1.0])\n",
    "    #max_features=trial.choice(['sqrt', 'log2', None, 0.5, 0.8])\n",
    "    \n",
    "    # Definir el modelo ExtraTreesClassifier con los hiperparámetros sugeridos\n",
    "    model = ExtraTreesClassifier(n_estimators=n_estimators,\n",
    "                                 max_depth=max_depth,\n",
    "                                 min_samples_split=min_samples_split,\n",
    "                                 min_samples_leaf=min_samples_leaf,\n",
    "                                 max_features=max_features,\n",
    "                                 random_state=123)\n",
    "    \n",
    "    # Crear el pipeline\n",
    "    pipeline = create_pipeline(model)\n",
    "    \n",
    "    # Entrenar el modelo\n",
    "    pipeline.fit(data_train, y_train)\n",
    "    \n",
    "    # Realizar predicciones en el conjunto de validación\n",
    "    y_pred = pipeline.predict(data_val)\n",
    "    \n",
    "    # Calcular F1 score en el conjunto de validación\n",
    "    f1 = f1_score(y_val, y_pred)\n",
    "    auc_pr = average_precision_score(y_val, y_pred)\n",
    "    \n",
    "    # Mostrar el rendimiento durante cada iteración\n",
    "    print(f'F1 score en iteración {trial.number}: {f1}')\n",
    "    print(f'AUC-PR en iteración {trial.number}: {auc_pr}')\n",
    "    \n",
    "    # Imprimir matriz de confusión solo si mejora el F1 anterior\n",
    "    global best_f1\n",
    "    if f1 > best_f1:\n",
    "        best_f1 = f1\n",
    "        cm = confusion_matrix(y_val, y_pred)\n",
    "        sns.heatmap(cm, annot=True, fmt='d', cmap='Blues', xticklabels=['Negativo', 'Positivo'], yticklabels=['Negativo', 'Positivo'])\n",
    "        plt.title(f'Matriz de Confusión en Iteración {trial.number}')\n",
    "        plt.show()\n",
    "\n",
    "    return auc_pr  # Queremos maximizar AUC-PR\n",
    "\n",
    "best_f1 = 0.0\n",
    "\n",
    "# Configurar y ejecutar el estudio Optuna\n",
    "study = optuna.create_study(direction='maximize')  \n",
    "study.optimize(objective, n_trials=50, n_jobs=-1)  \n",
    "\n",
    "# Mejor conjunto de parámetros encontrados\n",
    "best_params = study.best_params\n",
    "print(f'Mejores parámetros encontrados: {best_params}')\n",
    "\n",
    "# Crear el modelo final con los mejores parámetros\n",
    "final_model = ExtraTreesClassifier(**best_params, random_state=123)\n",
    "\n",
    "# Crear el pipeline final con el preprocesador\n",
    "final_pipeline = create_pipeline(final_model)\n",
    "\n",
    "# Entrenar el modelo final\n",
    "final_pipeline.fit(data_train, y_train)\n",
    "\n",
    "# Guardar el escalador (transformador) para uso posterior\n",
    "joblib.dump(final_pipeline.named_steps['preprocessing'], 'scaler.pkl')\n",
    "\n",
    "# Evaluación final en el conjunto de test con la métrica F1\n",
    "final_y_pred = final_pipeline.predict(data_val)\n",
    "final_f1 = f1_score(y_val, final_y_pred)\n",
    "final_auc = average_precision_score(y_val, final_y_pred)\n",
    "print(f'Rendimiento final en X_test: (F1) = {final_f1} | AUC-PR = {final_auc}')\n",
    "\n",
    "# Mostrar la matriz de confusión final\n",
    "final_cm = confusion_matrix(y_val, final_y_pred)\n",
    "sns.heatmap(final_cm, annot=True, fmt='d', cmap='Blues', xticklabels=['Negativo', 'Positivo'], yticklabels=['Negativo', 'Positivo'])\n",
    "plt.title('Matriz de Confusión Final')\n",
    "plt.show()\n",
    "\n",
    "# Guardar el pipeline final para uso posterior\n",
    "joblib.dump(final_pipeline, 'final_pipeline.pkl')"
   ]
  },
  {
   "cell_type": "code",
   "execution_count": 13,
   "metadata": {},
   "outputs": [
    {
     "data": {
      "text/plain": [
       "['ETC_model_f1_0.881568749031158_auc0.8629333233190027.pkl']"
      ]
     },
     "execution_count": 13,
     "metadata": {},
     "output_type": "execute_result"
    }
   ],
   "source": [
    "# Guardar el pipeline final y el modelo para uso posterior\n",
    "mod = 'ETC'\n",
    "f1_nombre = str(final_f1)\n",
    "auc_nombre = str(final_auc)\n",
    "joblib.dump(final_pipeline, f'final_pipeline_{mod}_f1_{f1_nombre}_auc{auc_nombre}.pkl')\n",
    "joblib.dump(final_model, f'{mod}_model_f1_{f1_nombre}_auc{auc_nombre}.pkl')"
   ]
  },
  {
   "cell_type": "markdown",
   "metadata": {},
   "source": [
    "### CP para HP"
   ]
  },
  {
   "cell_type": "code",
   "execution_count": 14,
   "metadata": {},
   "outputs": [
    {
     "name": "stdout",
     "output_type": "stream",
     "text": [
      "Index(['n_estimators', 'max_depth', 'min_samples_split', 'min_samples_leaf',\n",
      "       'max_features', 'F1 Score'],\n",
      "      dtype='object')\n"
     ]
    },
    {
     "data": {
      "application/vnd.plotly.v1+json": {
       "config": {
        "plotlyServerURL": "https://plot.ly"
       },
       "data": [
        {
         "dimensions": [
          {
           "label": "Número de Estimadores",
           "values": [
            379,
            209,
            477,
            335,
            428,
            89,
            139,
            232,
            70,
            239,
            170,
            305,
            473,
            293,
            477,
            79,
            192,
            357,
            357,
            361,
            359,
            339,
            418,
            375,
            407,
            420,
            423,
            423,
            421,
            423,
            418,
            301,
            435,
            434,
            434,
            446,
            456,
            500,
            449,
            450,
            459,
            395,
            463,
            457,
            500,
            495,
            395,
            499,
            398,
            393
           ]
          },
          {
           "label": "Profundidad Máxima",
           "values": [
            24,
            17,
            18,
            28,
            24,
            31,
            25,
            22,
            20,
            25,
            31,
            15,
            25,
            35,
            23,
            28,
            23,
            31,
            30,
            28,
            29,
            35,
            35,
            34,
            28,
            35,
            35,
            35,
            35,
            34,
            35,
            35,
            35,
            33,
            33,
            33,
            32,
            33,
            33,
            33,
            33,
            33,
            32,
            33,
            33,
            32,
            32,
            30,
            31,
            32
           ]
          },
          {
           "label": "Mínimo de Muestras para División",
           "values": [
            2,
            4,
            3,
            4,
            3,
            3,
            2,
            2,
            4,
            2,
            2,
            3,
            4,
            4,
            3,
            4,
            4,
            4,
            3,
            4,
            3,
            3,
            3,
            3,
            3,
            3,
            3,
            3,
            3,
            3,
            3,
            3,
            3,
            3,
            3,
            3,
            2,
            2,
            3,
            2,
            2,
            2,
            2,
            2,
            3,
            2,
            3,
            2,
            2,
            2
           ]
          },
          {
           "label": "Mínimo de Muestras para Hoja",
           "values": [
            3,
            1,
            2,
            2,
            2,
            1,
            4,
            1,
            1,
            3,
            3,
            3,
            1,
            4,
            1,
            1,
            4,
            3,
            2,
            2,
            2,
            2,
            2,
            2,
            2,
            2,
            2,
            1,
            2,
            2,
            2,
            2,
            2,
            3,
            3,
            1,
            3,
            3,
            3,
            1,
            1,
            1,
            1,
            1,
            1,
            1,
            1,
            1,
            1,
            1
           ]
          },
          {
           "label": "Puntaje F1",
           "values": [
            0.8400507309731393,
            0.814879963722152,
            0.8196780434976034,
            0.8444411091059694,
            0.8419667411708031,
            0.8454800635007875,
            0.8335243543046872,
            0.8479899933438666,
            0.8451665290631134,
            0.8394322108091083,
            0.8381297680607298,
            0.8253097589894578,
            0.852242074772615,
            0.8327015033493118,
            0.8486067079834413,
            0.8445780018156426,
            0.8269938968557892,
            0.8410270163508554,
            0.8494192751106129,
            0.8489010091889657,
            0.849727981032955,
            0.8522843438822567,
            0.8531083584554677,
            0.8528236987709576,
            0.8495405166126626,
            0.8527262972491207,
            0.8529959266972621,
            0.8609623250729882,
            0.8529247673349718,
            0.8521160597493003,
            0.8531083584554677,
            0.8511961275689677,
            0.8525839861394731,
            0.8423067188635878,
            0.8423067188635878,
            0.8580816443266361,
            0.8432340352734344,
            0.8424329511691273,
            0.8426697355431418,
            0.8615392601241791,
            0.8614117473981265,
            0.8625239040614117,
            0.8608459665901839,
            0.8629333233190027,
            0.8621062629899084,
            0.8599154639437594,
            0.8598088510177924,
            0.8619901403524795,
            0.8626742849836798,
            0.8607898540490296
           ]
          }
         ],
         "domain": {
          "x": [
           0,
           1
          ],
          "y": [
           0,
           1
          ]
         },
         "line": {
          "color": [
           0.8400507309731393,
           0.814879963722152,
           0.8196780434976034,
           0.8444411091059694,
           0.8419667411708031,
           0.8454800635007875,
           0.8335243543046872,
           0.8479899933438666,
           0.8451665290631134,
           0.8394322108091083,
           0.8381297680607298,
           0.8253097589894578,
           0.852242074772615,
           0.8327015033493118,
           0.8486067079834413,
           0.8445780018156426,
           0.8269938968557892,
           0.8410270163508554,
           0.8494192751106129,
           0.8489010091889657,
           0.849727981032955,
           0.8522843438822567,
           0.8531083584554677,
           0.8528236987709576,
           0.8495405166126626,
           0.8527262972491207,
           0.8529959266972621,
           0.8609623250729882,
           0.8529247673349718,
           0.8521160597493003,
           0.8531083584554677,
           0.8511961275689677,
           0.8525839861394731,
           0.8423067188635878,
           0.8423067188635878,
           0.8580816443266361,
           0.8432340352734344,
           0.8424329511691273,
           0.8426697355431418,
           0.8615392601241791,
           0.8614117473981265,
           0.8625239040614117,
           0.8608459665901839,
           0.8629333233190027,
           0.8621062629899084,
           0.8599154639437594,
           0.8598088510177924,
           0.8619901403524795,
           0.8626742849836798,
           0.8607898540490296
          ],
          "coloraxis": "coloraxis"
         },
         "name": "",
         "type": "parcoords"
        }
       ],
       "layout": {
        "coloraxis": {
         "colorbar": {
          "title": {
           "text": "Puntaje F1"
          }
         },
         "colorscale": [
          [
           0,
           "rgb(247,251,255)"
          ],
          [
           0.125,
           "rgb(222,235,247)"
          ],
          [
           0.25,
           "rgb(198,219,239)"
          ],
          [
           0.375,
           "rgb(158,202,225)"
          ],
          [
           0.5,
           "rgb(107,174,214)"
          ],
          [
           0.625,
           "rgb(66,146,198)"
          ],
          [
           0.75,
           "rgb(33,113,181)"
          ],
          [
           0.875,
           "rgb(8,81,156)"
          ],
          [
           1,
           "rgb(8,48,107)"
          ]
         ]
        },
        "legend": {
         "tracegroupgap": 0
        },
        "template": {
         "data": {
          "bar": [
           {
            "error_x": {
             "color": "#2a3f5f"
            },
            "error_y": {
             "color": "#2a3f5f"
            },
            "marker": {
             "line": {
              "color": "#E5ECF6",
              "width": 0.5
             },
             "pattern": {
              "fillmode": "overlay",
              "size": 10,
              "solidity": 0.2
             }
            },
            "type": "bar"
           }
          ],
          "barpolar": [
           {
            "marker": {
             "line": {
              "color": "#E5ECF6",
              "width": 0.5
             },
             "pattern": {
              "fillmode": "overlay",
              "size": 10,
              "solidity": 0.2
             }
            },
            "type": "barpolar"
           }
          ],
          "carpet": [
           {
            "aaxis": {
             "endlinecolor": "#2a3f5f",
             "gridcolor": "white",
             "linecolor": "white",
             "minorgridcolor": "white",
             "startlinecolor": "#2a3f5f"
            },
            "baxis": {
             "endlinecolor": "#2a3f5f",
             "gridcolor": "white",
             "linecolor": "white",
             "minorgridcolor": "white",
             "startlinecolor": "#2a3f5f"
            },
            "type": "carpet"
           }
          ],
          "choropleth": [
           {
            "colorbar": {
             "outlinewidth": 0,
             "ticks": ""
            },
            "type": "choropleth"
           }
          ],
          "contour": [
           {
            "colorbar": {
             "outlinewidth": 0,
             "ticks": ""
            },
            "colorscale": [
             [
              0,
              "#0d0887"
             ],
             [
              0.1111111111111111,
              "#46039f"
             ],
             [
              0.2222222222222222,
              "#7201a8"
             ],
             [
              0.3333333333333333,
              "#9c179e"
             ],
             [
              0.4444444444444444,
              "#bd3786"
             ],
             [
              0.5555555555555556,
              "#d8576b"
             ],
             [
              0.6666666666666666,
              "#ed7953"
             ],
             [
              0.7777777777777778,
              "#fb9f3a"
             ],
             [
              0.8888888888888888,
              "#fdca26"
             ],
             [
              1,
              "#f0f921"
             ]
            ],
            "type": "contour"
           }
          ],
          "contourcarpet": [
           {
            "colorbar": {
             "outlinewidth": 0,
             "ticks": ""
            },
            "type": "contourcarpet"
           }
          ],
          "heatmap": [
           {
            "colorbar": {
             "outlinewidth": 0,
             "ticks": ""
            },
            "colorscale": [
             [
              0,
              "#0d0887"
             ],
             [
              0.1111111111111111,
              "#46039f"
             ],
             [
              0.2222222222222222,
              "#7201a8"
             ],
             [
              0.3333333333333333,
              "#9c179e"
             ],
             [
              0.4444444444444444,
              "#bd3786"
             ],
             [
              0.5555555555555556,
              "#d8576b"
             ],
             [
              0.6666666666666666,
              "#ed7953"
             ],
             [
              0.7777777777777778,
              "#fb9f3a"
             ],
             [
              0.8888888888888888,
              "#fdca26"
             ],
             [
              1,
              "#f0f921"
             ]
            ],
            "type": "heatmap"
           }
          ],
          "heatmapgl": [
           {
            "colorbar": {
             "outlinewidth": 0,
             "ticks": ""
            },
            "colorscale": [
             [
              0,
              "#0d0887"
             ],
             [
              0.1111111111111111,
              "#46039f"
             ],
             [
              0.2222222222222222,
              "#7201a8"
             ],
             [
              0.3333333333333333,
              "#9c179e"
             ],
             [
              0.4444444444444444,
              "#bd3786"
             ],
             [
              0.5555555555555556,
              "#d8576b"
             ],
             [
              0.6666666666666666,
              "#ed7953"
             ],
             [
              0.7777777777777778,
              "#fb9f3a"
             ],
             [
              0.8888888888888888,
              "#fdca26"
             ],
             [
              1,
              "#f0f921"
             ]
            ],
            "type": "heatmapgl"
           }
          ],
          "histogram": [
           {
            "marker": {
             "pattern": {
              "fillmode": "overlay",
              "size": 10,
              "solidity": 0.2
             }
            },
            "type": "histogram"
           }
          ],
          "histogram2d": [
           {
            "colorbar": {
             "outlinewidth": 0,
             "ticks": ""
            },
            "colorscale": [
             [
              0,
              "#0d0887"
             ],
             [
              0.1111111111111111,
              "#46039f"
             ],
             [
              0.2222222222222222,
              "#7201a8"
             ],
             [
              0.3333333333333333,
              "#9c179e"
             ],
             [
              0.4444444444444444,
              "#bd3786"
             ],
             [
              0.5555555555555556,
              "#d8576b"
             ],
             [
              0.6666666666666666,
              "#ed7953"
             ],
             [
              0.7777777777777778,
              "#fb9f3a"
             ],
             [
              0.8888888888888888,
              "#fdca26"
             ],
             [
              1,
              "#f0f921"
             ]
            ],
            "type": "histogram2d"
           }
          ],
          "histogram2dcontour": [
           {
            "colorbar": {
             "outlinewidth": 0,
             "ticks": ""
            },
            "colorscale": [
             [
              0,
              "#0d0887"
             ],
             [
              0.1111111111111111,
              "#46039f"
             ],
             [
              0.2222222222222222,
              "#7201a8"
             ],
             [
              0.3333333333333333,
              "#9c179e"
             ],
             [
              0.4444444444444444,
              "#bd3786"
             ],
             [
              0.5555555555555556,
              "#d8576b"
             ],
             [
              0.6666666666666666,
              "#ed7953"
             ],
             [
              0.7777777777777778,
              "#fb9f3a"
             ],
             [
              0.8888888888888888,
              "#fdca26"
             ],
             [
              1,
              "#f0f921"
             ]
            ],
            "type": "histogram2dcontour"
           }
          ],
          "mesh3d": [
           {
            "colorbar": {
             "outlinewidth": 0,
             "ticks": ""
            },
            "type": "mesh3d"
           }
          ],
          "parcoords": [
           {
            "line": {
             "colorbar": {
              "outlinewidth": 0,
              "ticks": ""
             }
            },
            "type": "parcoords"
           }
          ],
          "pie": [
           {
            "automargin": true,
            "type": "pie"
           }
          ],
          "scatter": [
           {
            "fillpattern": {
             "fillmode": "overlay",
             "size": 10,
             "solidity": 0.2
            },
            "type": "scatter"
           }
          ],
          "scatter3d": [
           {
            "line": {
             "colorbar": {
              "outlinewidth": 0,
              "ticks": ""
             }
            },
            "marker": {
             "colorbar": {
              "outlinewidth": 0,
              "ticks": ""
             }
            },
            "type": "scatter3d"
           }
          ],
          "scattercarpet": [
           {
            "marker": {
             "colorbar": {
              "outlinewidth": 0,
              "ticks": ""
             }
            },
            "type": "scattercarpet"
           }
          ],
          "scattergeo": [
           {
            "marker": {
             "colorbar": {
              "outlinewidth": 0,
              "ticks": ""
             }
            },
            "type": "scattergeo"
           }
          ],
          "scattergl": [
           {
            "marker": {
             "colorbar": {
              "outlinewidth": 0,
              "ticks": ""
             }
            },
            "type": "scattergl"
           }
          ],
          "scattermapbox": [
           {
            "marker": {
             "colorbar": {
              "outlinewidth": 0,
              "ticks": ""
             }
            },
            "type": "scattermapbox"
           }
          ],
          "scatterpolar": [
           {
            "marker": {
             "colorbar": {
              "outlinewidth": 0,
              "ticks": ""
             }
            },
            "type": "scatterpolar"
           }
          ],
          "scatterpolargl": [
           {
            "marker": {
             "colorbar": {
              "outlinewidth": 0,
              "ticks": ""
             }
            },
            "type": "scatterpolargl"
           }
          ],
          "scatterternary": [
           {
            "marker": {
             "colorbar": {
              "outlinewidth": 0,
              "ticks": ""
             }
            },
            "type": "scatterternary"
           }
          ],
          "surface": [
           {
            "colorbar": {
             "outlinewidth": 0,
             "ticks": ""
            },
            "colorscale": [
             [
              0,
              "#0d0887"
             ],
             [
              0.1111111111111111,
              "#46039f"
             ],
             [
              0.2222222222222222,
              "#7201a8"
             ],
             [
              0.3333333333333333,
              "#9c179e"
             ],
             [
              0.4444444444444444,
              "#bd3786"
             ],
             [
              0.5555555555555556,
              "#d8576b"
             ],
             [
              0.6666666666666666,
              "#ed7953"
             ],
             [
              0.7777777777777778,
              "#fb9f3a"
             ],
             [
              0.8888888888888888,
              "#fdca26"
             ],
             [
              1,
              "#f0f921"
             ]
            ],
            "type": "surface"
           }
          ],
          "table": [
           {
            "cells": {
             "fill": {
              "color": "#EBF0F8"
             },
             "line": {
              "color": "white"
             }
            },
            "header": {
             "fill": {
              "color": "#C8D4E3"
             },
             "line": {
              "color": "white"
             }
            },
            "type": "table"
           }
          ]
         },
         "layout": {
          "annotationdefaults": {
           "arrowcolor": "#2a3f5f",
           "arrowhead": 0,
           "arrowwidth": 1
          },
          "autotypenumbers": "strict",
          "coloraxis": {
           "colorbar": {
            "outlinewidth": 0,
            "ticks": ""
           }
          },
          "colorscale": {
           "diverging": [
            [
             0,
             "#8e0152"
            ],
            [
             0.1,
             "#c51b7d"
            ],
            [
             0.2,
             "#de77ae"
            ],
            [
             0.3,
             "#f1b6da"
            ],
            [
             0.4,
             "#fde0ef"
            ],
            [
             0.5,
             "#f7f7f7"
            ],
            [
             0.6,
             "#e6f5d0"
            ],
            [
             0.7,
             "#b8e186"
            ],
            [
             0.8,
             "#7fbc41"
            ],
            [
             0.9,
             "#4d9221"
            ],
            [
             1,
             "#276419"
            ]
           ],
           "sequential": [
            [
             0,
             "#0d0887"
            ],
            [
             0.1111111111111111,
             "#46039f"
            ],
            [
             0.2222222222222222,
             "#7201a8"
            ],
            [
             0.3333333333333333,
             "#9c179e"
            ],
            [
             0.4444444444444444,
             "#bd3786"
            ],
            [
             0.5555555555555556,
             "#d8576b"
            ],
            [
             0.6666666666666666,
             "#ed7953"
            ],
            [
             0.7777777777777778,
             "#fb9f3a"
            ],
            [
             0.8888888888888888,
             "#fdca26"
            ],
            [
             1,
             "#f0f921"
            ]
           ],
           "sequentialminus": [
            [
             0,
             "#0d0887"
            ],
            [
             0.1111111111111111,
             "#46039f"
            ],
            [
             0.2222222222222222,
             "#7201a8"
            ],
            [
             0.3333333333333333,
             "#9c179e"
            ],
            [
             0.4444444444444444,
             "#bd3786"
            ],
            [
             0.5555555555555556,
             "#d8576b"
            ],
            [
             0.6666666666666666,
             "#ed7953"
            ],
            [
             0.7777777777777778,
             "#fb9f3a"
            ],
            [
             0.8888888888888888,
             "#fdca26"
            ],
            [
             1,
             "#f0f921"
            ]
           ]
          },
          "colorway": [
           "#636efa",
           "#EF553B",
           "#00cc96",
           "#ab63fa",
           "#FFA15A",
           "#19d3f3",
           "#FF6692",
           "#B6E880",
           "#FF97FF",
           "#FECB52"
          ],
          "font": {
           "color": "#2a3f5f"
          },
          "geo": {
           "bgcolor": "white",
           "lakecolor": "white",
           "landcolor": "#E5ECF6",
           "showlakes": true,
           "showland": true,
           "subunitcolor": "white"
          },
          "hoverlabel": {
           "align": "left"
          },
          "hovermode": "closest",
          "mapbox": {
           "style": "light"
          },
          "paper_bgcolor": "white",
          "plot_bgcolor": "#E5ECF6",
          "polar": {
           "angularaxis": {
            "gridcolor": "white",
            "linecolor": "white",
            "ticks": ""
           },
           "bgcolor": "#E5ECF6",
           "radialaxis": {
            "gridcolor": "white",
            "linecolor": "white",
            "ticks": ""
           }
          },
          "scene": {
           "xaxis": {
            "backgroundcolor": "#E5ECF6",
            "gridcolor": "white",
            "gridwidth": 2,
            "linecolor": "white",
            "showbackground": true,
            "ticks": "",
            "zerolinecolor": "white"
           },
           "yaxis": {
            "backgroundcolor": "#E5ECF6",
            "gridcolor": "white",
            "gridwidth": 2,
            "linecolor": "white",
            "showbackground": true,
            "ticks": "",
            "zerolinecolor": "white"
           },
           "zaxis": {
            "backgroundcolor": "#E5ECF6",
            "gridcolor": "white",
            "gridwidth": 2,
            "linecolor": "white",
            "showbackground": true,
            "ticks": "",
            "zerolinecolor": "white"
           }
          },
          "shapedefaults": {
           "line": {
            "color": "#2a3f5f"
           }
          },
          "ternary": {
           "aaxis": {
            "gridcolor": "white",
            "linecolor": "white",
            "ticks": ""
           },
           "baxis": {
            "gridcolor": "white",
            "linecolor": "white",
            "ticks": ""
           },
           "bgcolor": "#E5ECF6",
           "caxis": {
            "gridcolor": "white",
            "linecolor": "white",
            "ticks": ""
           }
          },
          "title": {
           "x": 0.05
          },
          "xaxis": {
           "automargin": true,
           "gridcolor": "white",
           "linecolor": "white",
           "ticks": "",
           "title": {
            "standoff": 15
           },
           "zerolinecolor": "white",
           "zerolinewidth": 2
          },
          "yaxis": {
           "automargin": true,
           "gridcolor": "white",
           "linecolor": "white",
           "ticks": "",
           "title": {
            "standoff": 15
           },
           "zerolinecolor": "white",
           "zerolinewidth": 2
          }
         }
        },
        "title": {
         "text": "Paralel Coordinates: Parámetros y Rendimiento"
        }
       }
      }
     },
     "metadata": {},
     "output_type": "display_data"
    }
   ],
   "source": [
    "import plotly.express as px\n",
    "\n",
    "# Obtener los resultados del estudio de Optuna\n",
    "trials_df0 = study.trials\n",
    "trials_data = []\n",
    "\n",
    "# Extraer los parámetros y el valor de cada ensayo\n",
    "for trial in trials_df0:\n",
    "    # Extraer los parámetros y el F1 score\n",
    "    trial_params = trial.params\n",
    "    trial_params['F1 Score'] = trial.value  # Añadir el F1 score como una nueva columna\n",
    "    trials_data.append(trial_params)\n",
    "\n",
    "# Crear un DataFrame a partir de los resultados\n",
    "trials_df = pd.DataFrame(trials_data)\n",
    "\n",
    "# Verificar las columnas del DataFrame\n",
    "print(trials_df.columns)\n",
    "\n",
    "# Crear el gráfico de coordenadas paralelas\n",
    "fig = px.parallel_coordinates(\n",
    "    trials_df,\n",
    "    dimensions=['n_estimators', 'max_depth', 'min_samples_split', \n",
    "                'min_samples_leaf', 'max_features', 'F1 Score'],\n",
    "    color='F1 Score',  # Para colorear según el F1 score\n",
    "    labels={\n",
    "        'n_estimators': 'Número de Estimadores',\n",
    "        'max_depth': 'Profundidad Máxima',\n",
    "        'min_samples_split': 'Mínimo de Muestras para División',\n",
    "        'min_samples_leaf': 'Mínimo de Muestras para Hoja',\n",
    "        'max_features': 'Máximo de Características',\n",
    "        'F1 Score': 'Puntaje F1'\n",
    "    },\n",
    "    color_continuous_scale='Blues',  # Cambiar el color del gráfico\n",
    "    title=\"Paralel Coordinates: Parámetros y Rendimiento\"\n",
    ")\n",
    "\n",
    "# Mostrar el gráfico\n",
    "fig.show()"
   ]
  },
  {
   "cell_type": "markdown",
   "metadata": {},
   "source": [
    "## Random Forest"
   ]
  },
  {
   "cell_type": "code",
   "execution_count": 6,
   "metadata": {},
   "outputs": [
    {
     "name": "stderr",
     "output_type": "stream",
     "text": [
      "[I 2024-12-12 16:45:24,771] A new study created in memory with name: no-name-39403043-7a38-434c-a827-b8e4296a48a2\n"
     ]
    },
    {
     "name": "stdout",
     "output_type": "stream",
     "text": [
      "Rendimiento inicial en X_test: (F1) = 0.891747384734599 | AUC-PR = 0.8759726069149126\n"
     ]
    },
    {
     "name": "stderr",
     "output_type": "stream",
     "text": [
      "[I 2024-12-12 16:47:43,003] Trial 0 finished with value: 0.7807521752030107 and parameters: {'n_estimators': 53, 'max_depth': 15, 'min_samples_split': 4, 'min_samples_leaf': 7, 'max_features': 1.0, 'bootstrap': False}. Best is trial 0 with value: 0.7807521752030107.\n",
      "[I 2024-12-12 16:57:07,154] Trial 1 finished with value: 0.779441218438897 and parameters: {'n_estimators': 106, 'max_depth': 30, 'min_samples_split': 3, 'min_samples_leaf': 3, 'max_features': 1.0, 'bootstrap': False}. Best is trial 0 with value: 0.7807521752030107.\n",
      "[I 2024-12-12 16:59:04,794] Trial 2 finished with value: 0.816433578093543 and parameters: {'n_estimators': 28, 'max_depth': 17, 'min_samples_split': 6, 'min_samples_leaf': 9, 'max_features': 0.9, 'bootstrap': False}. Best is trial 2 with value: 0.816433578093543.\n",
      "[I 2024-12-12 17:06:39,200] Trial 3 finished with value: 0.8340696771126812 and parameters: {'n_estimators': 194, 'max_depth': 16, 'min_samples_split': 2, 'min_samples_leaf': 7, 'max_features': 0.9, 'bootstrap': True}. Best is trial 3 with value: 0.8340696771126812.\n",
      "[I 2024-12-12 17:17:28,372] Trial 4 finished with value: 0.8297379757517815 and parameters: {'n_estimators': 154, 'max_depth': 22, 'min_samples_split': 2, 'min_samples_leaf': 1, 'max_features': 0.9, 'bootstrap': False}. Best is trial 3 with value: 0.8340696771126812.\n",
      "[I 2024-12-12 17:18:32,921] Trial 5 finished with value: 0.8577321476147071 and parameters: {'n_estimators': 273, 'max_depth': 27, 'min_samples_split': 6, 'min_samples_leaf': 5, 'max_features': 'log2', 'bootstrap': True}. Best is trial 5 with value: 0.8577321476147071.\n",
      "[I 2024-12-12 17:19:14,158] Trial 6 finished with value: 0.8477821321518932 and parameters: {'n_estimators': 175, 'max_depth': 29, 'min_samples_split': 6, 'min_samples_leaf': 7, 'max_features': 'log2', 'bootstrap': True}. Best is trial 5 with value: 0.8577321476147071.\n",
      "[I 2024-12-12 17:31:20,486] Trial 7 finished with value: 0.8300513884263176 and parameters: {'n_estimators': 183, 'max_depth': 21, 'min_samples_split': 5, 'min_samples_leaf': 3, 'max_features': 0.9, 'bootstrap': False}. Best is trial 5 with value: 0.8577321476147071.\n",
      "[I 2024-12-12 17:33:34,383] Trial 8 finished with value: 0.8755688160224524 and parameters: {'n_estimators': 280, 'max_depth': 22, 'min_samples_split': 2, 'min_samples_leaf': 3, 'max_features': 'sqrt', 'bootstrap': False}. Best is trial 8 with value: 0.8755688160224524.\n",
      "[I 2024-12-12 17:34:13,137] Trial 9 finished with value: 0.8427240066079206 and parameters: {'n_estimators': 129, 'max_depth': 25, 'min_samples_split': 4, 'min_samples_leaf': 8, 'max_features': 'sqrt', 'bootstrap': True}. Best is trial 8 with value: 0.8755688160224524.\n"
     ]
    },
    {
     "name": "stdout",
     "output_type": "stream",
     "text": [
      "F1 score en iteración 10: 0.899938612645795\n",
      "AUC-PR en iteración 10: 0.8816069337748689\n"
     ]
    },
    {
     "data": {
      "image/png": "[encoded data removed]",
      "text/plain": [
       "<Figure size 800x550 with 2 Axes>"
      ]
     },
     "metadata": {},
     "output_type": "display_data"
    },
    {
     "name": "stderr",
     "output_type": "stream",
     "text": [
      "[I 2024-12-12 17:36:40,210] Trial 10 finished with value: 0.8816069337748689 and parameters: {'n_estimators': 289, 'max_depth': 33, 'min_samples_split': 3, 'min_samples_leaf': 1, 'max_features': 'sqrt', 'bootstrap': False}. Best is trial 10 with value: 0.8816069337748689.\n",
      "[I 2024-12-12 17:39:08,260] Trial 11 finished with value: 0.8812040507499691 and parameters: {'n_estimators': 291, 'max_depth': 33, 'min_samples_split': 3, 'min_samples_leaf': 1, 'max_features': 'sqrt', 'bootstrap': False}. Best is trial 10 with value: 0.8816069337748689.\n"
     ]
    },
    {
     "name": "stdout",
     "output_type": "stream",
     "text": [
      "F1 score en iteración 12: 0.9017535799065778\n",
      "AUC-PR en iteración 12: 0.882929034022097\n"
     ]
    },
    {
     "data": {
      "image/png": "[encoded data removed]",
      "text/plain": [
       "<Figure size 800x550 with 2 Axes>"
      ]
     },
     "metadata": {},
     "output_type": "display_data"
    },
    {
     "name": "stderr",
     "output_type": "stream",
     "text": [
      "[I 2024-12-12 17:41:10,011] Trial 12 finished with value: 0.882929034022097 and parameters: {'n_estimators': 239, 'max_depth': 35, 'min_samples_split': 3, 'min_samples_leaf': 1, 'max_features': 'sqrt', 'bootstrap': False}. Best is trial 12 with value: 0.882929034022097.\n",
      "[I 2024-12-12 17:43:12,162] Trial 13 finished with value: 0.8827989802785372 and parameters: {'n_estimators': 241, 'max_depth': 35, 'min_samples_split': 3, 'min_samples_leaf': 1, 'max_features': 'sqrt', 'bootstrap': False}. Best is trial 12 with value: 0.882929034022097.\n",
      "[I 2024-12-12 17:45:02,105] Trial 14 finished with value: 0.8727032430417186 and parameters: {'n_estimators': 231, 'max_depth': 35, 'min_samples_split': 3, 'min_samples_leaf': 4, 'max_features': 'sqrt', 'bootstrap': False}. Best is trial 12 with value: 0.882929034022097.\n",
      "[I 2024-12-12 19:28:51,110] Trial 15 finished with value: 0.8787656414361045 and parameters: {'n_estimators': 232, 'max_depth': 35, 'min_samples_split': 4, 'min_samples_leaf': 2, 'max_features': 'sqrt', 'bootstrap': False}. Best is trial 12 with value: 0.882929034022097.\n",
      "[I 2024-12-12 19:31:40,914] Trial 16 finished with value: 0.8690091964188559 and parameters: {'n_estimators': 245, 'max_depth': 32, 'min_samples_split': 5, 'min_samples_leaf': 5, 'max_features': 'sqrt', 'bootstrap': False}. Best is trial 12 with value: 0.882929034022097.\n",
      "[I 2024-12-12 19:33:58,893] Trial 17 finished with value: 0.8551087030807244 and parameters: {'n_estimators': 214, 'max_depth': 31, 'min_samples_split': 3, 'min_samples_leaf': 10, 'max_features': 'sqrt', 'bootstrap': False}. Best is trial 12 with value: 0.882929034022097.\n",
      "[I 2024-12-12 19:40:59,557] Trial 18 finished with value: 0.8499265859770888 and parameters: {'n_estimators': 89, 'max_depth': 27, 'min_samples_split': 5, 'min_samples_leaf': 2, 'max_features': 1.0, 'bootstrap': True}. Best is trial 12 with value: 0.882929034022097.\n",
      "[I 2024-12-12 19:43:22,857] Trial 19 finished with value: 0.8821246554695675 and parameters: {'n_estimators': 255, 'max_depth': 35, 'min_samples_split': 2, 'min_samples_leaf': 2, 'max_features': 'log2', 'bootstrap': False}. Best is trial 12 with value: 0.882929034022097.\n",
      "[I 2024-12-12 19:45:44,977] Trial 20 finished with value: 0.8716653243846131 and parameters: {'n_estimators': 206, 'max_depth': 29, 'min_samples_split': 3, 'min_samples_leaf': 4, 'max_features': 'sqrt', 'bootstrap': False}. Best is trial 12 with value: 0.882929034022097.\n",
      "[I 2024-12-12 19:48:07,993] Trial 21 finished with value: 0.8820648889522746 and parameters: {'n_estimators': 264, 'max_depth': 35, 'min_samples_split': 2, 'min_samples_leaf': 2, 'max_features': 'log2', 'bootstrap': False}. Best is trial 12 with value: 0.882929034022097.\n"
     ]
    },
    {
     "name": "stdout",
     "output_type": "stream",
     "text": [
      "F1 score en iteración 22: 0.9015122438013357\n",
      "AUC-PR en iteración 22: 0.8838733342566139\n"
     ]
    },
    {
     "data": {
      "image/png": "[encoded data removed]",
      "text/plain": [
       "<Figure size 800x550 with 2 Axes>"
      ]
     },
     "metadata": {},
     "output_type": "display_data"
    },
    {
     "name": "stderr",
     "output_type": "stream",
     "text": [
      "[I 2024-12-12 19:50:33,430] Trial 22 finished with value: 0.8838733342566139 and parameters: {'n_estimators': 253, 'max_depth': 33, 'min_samples_split': 2, 'min_samples_leaf': 1, 'max_features': 'log2', 'bootstrap': False}. Best is trial 22 with value: 0.8838733342566139.\n",
      "[I 2024-12-12 19:52:41,063] Trial 23 finished with value: 0.8821497489852397 and parameters: {'n_estimators': 232, 'max_depth': 33, 'min_samples_split': 3, 'min_samples_leaf': 1, 'max_features': 'log2', 'bootstrap': False}. Best is trial 22 with value: 0.8838733342566139.\n"
     ]
    },
    {
     "name": "stdout",
     "output_type": "stream",
     "text": [
      "F1 score en iteración 24: 0.9012677679600462\n",
      "AUC-PR en iteración 24: 0.8840275646524444\n"
     ]
    },
    {
     "data": {
      "image/png": "[encoded data removed]",
      "text/plain": [
       "<Figure size 800x550 with 2 Axes>"
      ]
     },
     "metadata": {},
     "output_type": "display_data"
    },
    {
     "name": "stderr",
     "output_type": "stream",
     "text": [
      "[I 2024-12-12 19:54:46,637] Trial 24 finished with value: 0.8840275646524444 and parameters: {'n_estimators': 300, 'max_depth': 33, 'min_samples_split': 2, 'min_samples_leaf': 1, 'max_features': 'log2', 'bootstrap': False}. Best is trial 24 with value: 0.8840275646524444.\n",
      "[I 2024-12-12 19:56:36,643] Trial 25 finished with value: 0.8731581276406057 and parameters: {'n_estimators': 298, 'max_depth': 31, 'min_samples_split': 2, 'min_samples_leaf': 4, 'max_features': 'log2', 'bootstrap': False}. Best is trial 24 with value: 0.8840275646524444.\n",
      "[I 2024-12-12 19:57:44,056] Trial 26 finished with value: 0.8652084130824192 and parameters: {'n_estimators': 264, 'max_depth': 28, 'min_samples_split': 2, 'min_samples_leaf': 3, 'max_features': 'log2', 'bootstrap': True}. Best is trial 24 with value: 0.8840275646524444.\n",
      "[I 2024-12-12 19:59:06,125] Trial 27 finished with value: 0.87993404978452 and parameters: {'n_estimators': 210, 'max_depth': 25, 'min_samples_split': 2, 'min_samples_leaf': 2, 'max_features': 'log2', 'bootstrap': False}. Best is trial 24 with value: 0.8840275646524444.\n",
      "[I 2024-12-12 20:00:06,589] Trial 28 finished with value: 0.8687145275708619 and parameters: {'n_estimators': 163, 'max_depth': 32, 'min_samples_split': 2, 'min_samples_leaf': 6, 'max_features': 'log2', 'bootstrap': False}. Best is trial 24 with value: 0.8840275646524444.\n",
      "[I 2024-12-12 20:21:37,320] Trial 29 finished with value: 0.7817541242684116 and parameters: {'n_estimators': 265, 'max_depth': 33, 'min_samples_split': 4, 'min_samples_leaf': 1, 'max_features': 1.0, 'bootstrap': False}. Best is trial 24 with value: 0.8840275646524444.\n",
      "[I 2024-12-12 20:23:22,432] Trial 30 finished with value: 0.8755840632050944 and parameters: {'n_estimators': 300, 'max_depth': 19, 'min_samples_split': 3, 'min_samples_leaf': 2, 'max_features': 'log2', 'bootstrap': False}. Best is trial 24 with value: 0.8840275646524444.\n",
      "[I 2024-12-12 20:25:24,950] Trial 31 finished with value: 0.8805345761702347 and parameters: {'n_estimators': 244, 'max_depth': 34, 'min_samples_split': 4, 'min_samples_leaf': 1, 'max_features': 'sqrt', 'bootstrap': False}. Best is trial 24 with value: 0.8840275646524444.\n",
      "[I 2024-12-12 20:42:49,178] Trial 32 finished with value: 0.7819518720804663 and parameters: {'n_estimators': 220, 'max_depth': 31, 'min_samples_split': 3, 'min_samples_leaf': 1, 'max_features': 1.0, 'bootstrap': False}. Best is trial 24 with value: 0.8840275646524444.\n",
      "[I 2024-12-12 20:44:20,391] Trial 33 finished with value: 0.8775450740720474 and parameters: {'n_estimators': 249, 'max_depth': 34, 'min_samples_split': 3, 'min_samples_leaf': 3, 'max_features': 'log2', 'bootstrap': False}. Best is trial 24 with value: 0.8840275646524444.\n",
      "[I 2024-12-12 20:44:47,707] Trial 34 finished with value: 0.8808159959246288 and parameters: {'n_estimators': 54, 'max_depth': 30, 'min_samples_split': 2, 'min_samples_leaf': 2, 'max_features': 'sqrt', 'bootstrap': False}. Best is trial 24 with value: 0.8840275646524444.\n",
      "[I 2024-12-12 21:03:19,372] Trial 35 finished with value: 0.8333830190094325 and parameters: {'n_estimators': 272, 'max_depth': 34, 'min_samples_split': 2, 'min_samples_leaf': 1, 'max_features': 0.9, 'bootstrap': False}. Best is trial 24 with value: 0.8840275646524444.\n",
      "[I 2024-12-12 21:16:03,500] Trial 36 finished with value: 0.7795042918193414 and parameters: {'n_estimators': 196, 'max_depth': 32, 'min_samples_split': 4, 'min_samples_leaf': 3, 'max_features': 1.0, 'bootstrap': False}. Best is trial 24 with value: 0.8840275646524444.\n",
      "[I 2024-12-12 21:19:56,180] Trial 37 finished with value: 0.853154494362655 and parameters: {'n_estimators': 146, 'max_depth': 30, 'min_samples_split': 2, 'min_samples_leaf': 2, 'max_features': 0.9, 'bootstrap': True}. Best is trial 24 with value: 0.8840275646524444.\n",
      "[I 2024-12-12 21:20:54,827] Trial 38 finished with value: 0.8817806011741878 and parameters: {'n_estimators': 282, 'max_depth': 34, 'min_samples_split': 3, 'min_samples_leaf': 1, 'max_features': 'log2', 'bootstrap': False}. Best is trial 24 with value: 0.8840275646524444.\n",
      "[I 2024-12-12 21:21:22,896] Trial 39 finished with value: 0.8433258588059076 and parameters: {'n_estimators': 186, 'max_depth': 15, 'min_samples_split': 3, 'min_samples_leaf': 6, 'max_features': 'sqrt', 'bootstrap': True}. Best is trial 24 with value: 0.8840275646524444.\n",
      "[I 2024-12-12 21:21:26,746] Trial 40 finished with value: 0.8503736637481553 and parameters: {'n_estimators': 17, 'max_depth': 25, 'min_samples_split': 2, 'min_samples_leaf': 8, 'max_features': 'log2', 'bootstrap': False}. Best is trial 24 with value: 0.8840275646524444.\n",
      "[I 2024-12-12 21:22:15,988] Trial 41 finished with value: 0.8819602951539971 and parameters: {'n_estimators': 235, 'max_depth': 33, 'min_samples_split': 3, 'min_samples_leaf': 1, 'max_features': 'log2', 'bootstrap': False}. Best is trial 24 with value: 0.8840275646524444.\n",
      "[I 2024-12-12 21:23:02,850] Trial 42 finished with value: 0.8828146606612759 and parameters: {'n_estimators': 223, 'max_depth': 32, 'min_samples_split': 3, 'min_samples_leaf': 1, 'max_features': 'log2', 'bootstrap': False}. Best is trial 24 with value: 0.8840275646524444.\n",
      "[I 2024-12-12 21:23:55,979] Trial 43 finished with value: 0.8794720941652029 and parameters: {'n_estimators': 257, 'max_depth': 32, 'min_samples_split': 4, 'min_samples_leaf': 2, 'max_features': 'log2', 'bootstrap': False}. Best is trial 24 with value: 0.8840275646524444.\n",
      "[I 2024-12-12 21:36:48,846] Trial 44 finished with value: 0.8317004299443063 and parameters: {'n_estimators': 280, 'max_depth': 35, 'min_samples_split': 3, 'min_samples_leaf': 1, 'max_features': 0.9, 'bootstrap': False}. Best is trial 24 with value: 0.8840275646524444.\n",
      "[I 2024-12-12 21:37:53,087] Trial 45 finished with value: 0.876881114189659 and parameters: {'n_estimators': 219, 'max_depth': 34, 'min_samples_split': 2, 'min_samples_leaf': 3, 'max_features': 'log2', 'bootstrap': False}. Best is trial 24 with value: 0.8840275646524444.\n",
      "[I 2024-12-12 21:39:10,857] Trial 46 finished with value: 0.8799198323913736 and parameters: {'n_estimators': 199, 'max_depth': 29, 'min_samples_split': 3, 'min_samples_leaf': 2, 'max_features': 'sqrt', 'bootstrap': False}. Best is trial 24 with value: 0.8840275646524444.\n",
      "[I 2024-12-12 21:39:59,629] Trial 47 finished with value: 0.8754040810831965 and parameters: {'n_estimators': 177, 'max_depth': 33, 'min_samples_split': 4, 'min_samples_leaf': 1, 'max_features': 'sqrt', 'bootstrap': True}. Best is trial 24 with value: 0.8840275646524444.\n",
      "[I 2024-12-12 21:41:09,554] Trial 48 finished with value: 0.8736200347125918 and parameters: {'n_estimators': 241, 'max_depth': 31, 'min_samples_split': 2, 'min_samples_leaf': 4, 'max_features': 'log2', 'bootstrap': False}. Best is trial 24 with value: 0.8840275646524444.\n",
      "[I 2024-12-12 21:42:40,579] Trial 49 finished with value: 0.8814266511073877 and parameters: {'n_estimators': 225, 'max_depth': 35, 'min_samples_split': 5, 'min_samples_leaf': 1, 'max_features': 'sqrt', 'bootstrap': False}. Best is trial 24 with value: 0.8840275646524444.\n",
      "[I 2024-12-12 21:43:18,433] Trial 50 finished with value: 0.8747837148291913 and parameters: {'n_estimators': 132, 'max_depth': 23, 'min_samples_split': 3, 'min_samples_leaf': 3, 'max_features': 'log2', 'bootstrap': False}. Best is trial 24 with value: 0.8840275646524444.\n",
      "[I 2024-12-12 21:44:28,453] Trial 51 finished with value: 0.8816158512588231 and parameters: {'n_estimators': 231, 'max_depth': 33, 'min_samples_split': 3, 'min_samples_leaf': 1, 'max_features': 'log2', 'bootstrap': False}. Best is trial 24 with value: 0.8840275646524444.\n",
      "[I 2024-12-12 21:45:44,633] Trial 52 finished with value: 0.8826718947731829 and parameters: {'n_estimators': 252, 'max_depth': 32, 'min_samples_split': 3, 'min_samples_leaf': 1, 'max_features': 'log2', 'bootstrap': False}. Best is trial 24 with value: 0.8840275646524444.\n",
      "[I 2024-12-12 21:46:58,369] Trial 53 finished with value: 0.879649541725678 and parameters: {'n_estimators': 252, 'max_depth': 32, 'min_samples_split': 3, 'min_samples_leaf': 2, 'max_features': 'log2', 'bootstrap': False}. Best is trial 24 with value: 0.8840275646524444.\n",
      "[I 2024-12-12 21:48:28,872] Trial 54 finished with value: 0.8824928264104219 and parameters: {'n_estimators': 274, 'max_depth': 30, 'min_samples_split': 4, 'min_samples_leaf': 1, 'max_features': 'log2', 'bootstrap': False}. Best is trial 24 with value: 0.8840275646524444.\n",
      "[I 2024-12-12 21:49:13,534] Trial 55 finished with value: 0.8776235061289301 and parameters: {'n_estimators': 96, 'max_depth': 27, 'min_samples_split': 3, 'min_samples_leaf': 2, 'max_features': 'sqrt', 'bootstrap': False}. Best is trial 24 with value: 0.8840275646524444.\n",
      "[I 2024-12-12 21:50:57,157] Trial 56 finished with value: 0.8823985352391834 and parameters: {'n_estimators': 288, 'max_depth': 34, 'min_samples_split': 2, 'min_samples_leaf': 1, 'max_features': 'log2', 'bootstrap': False}. Best is trial 24 with value: 0.8840275646524444.\n",
      "[I 2024-12-12 22:00:48,949] Trial 57 finished with value: 0.8315378151868329 and parameters: {'n_estimators': 261, 'max_depth': 35, 'min_samples_split': 6, 'min_samples_leaf': 10, 'max_features': 0.9, 'bootstrap': True}. Best is trial 24 with value: 0.8840275646524444.\n",
      "[I 2024-12-12 22:14:28,689] Trial 58 finished with value: 0.7820647808277089 and parameters: {'n_estimators': 204, 'max_depth': 32, 'min_samples_split': 2, 'min_samples_leaf': 2, 'max_features': 1.0, 'bootstrap': False}. Best is trial 24 with value: 0.8840275646524444.\n",
      "[I 2024-12-12 22:15:53,029] Trial 59 finished with value: 0.8574769665315437 and parameters: {'n_estimators': 242, 'max_depth': 31, 'min_samples_split': 3, 'min_samples_leaf': 9, 'max_features': 'sqrt', 'bootstrap': False}. Best is trial 24 with value: 0.8840275646524444.\n",
      "[I 2024-12-12 22:17:17,177] Trial 60 finished with value: 0.8825412953361149 and parameters: {'n_estimators': 274, 'max_depth': 34, 'min_samples_split': 2, 'min_samples_leaf': 1, 'max_features': 'log2', 'bootstrap': False}. Best is trial 24 with value: 0.8840275646524444.\n",
      "[I 2024-12-12 22:18:40,695] Trial 61 finished with value: 0.882137472720186 and parameters: {'n_estimators': 272, 'max_depth': 34, 'min_samples_split': 2, 'min_samples_leaf': 1, 'max_features': 'log2', 'bootstrap': False}. Best is trial 24 with value: 0.8840275646524444.\n"
     ]
    },
    {
     "name": "stdout",
     "output_type": "stream",
     "text": [
      "F1 score en iteración 62: 0.9020119797266165\n",
      "AUC-PR en iteración 62: 0.8847296989389077\n"
     ]
    },
    {
     "data": {
      "image/png": "[encoded data removed]",
      "text/plain": [
       "<Figure size 800x550 with 2 Axes>"
      ]
     },
     "metadata": {},
     "output_type": "display_data"
    },
    {
     "name": "stderr",
     "output_type": "stream",
     "text": [
      "[I 2024-12-12 22:20:09,190] Trial 62 finished with value: 0.8847296989389077 and parameters: {'n_estimators': 287, 'max_depth': 33, 'min_samples_split': 2, 'min_samples_leaf': 1, 'max_features': 'log2', 'bootstrap': False}. Best is trial 62 with value: 0.8847296989389077.\n",
      "[I 2024-12-12 22:21:36,864] Trial 63 finished with value: 0.8815881098728737 and parameters: {'n_estimators': 291, 'max_depth': 33, 'min_samples_split': 2, 'min_samples_leaf': 2, 'max_features': 'log2', 'bootstrap': False}. Best is trial 62 with value: 0.8847296989389077.\n",
      "[I 2024-12-12 22:23:05,196] Trial 64 finished with value: 0.8818548092630212 and parameters: {'n_estimators': 294, 'max_depth': 35, 'min_samples_split': 3, 'min_samples_leaf': 1, 'max_features': 'log2', 'bootstrap': False}. Best is trial 62 with value: 0.8847296989389077.\n",
      "[I 2024-12-12 22:24:11,810] Trial 65 finished with value: 0.8797923033578736 and parameters: {'n_estimators': 258, 'max_depth': 32, 'min_samples_split': 2, 'min_samples_leaf': 2, 'max_features': 'log2', 'bootstrap': False}. Best is trial 62 with value: 0.8847296989389077.\n",
      "[I 2024-12-12 22:25:45,383] Trial 66 finished with value: 0.8817542591337972 and parameters: {'n_estimators': 300, 'max_depth': 28, 'min_samples_split': 2, 'min_samples_leaf': 1, 'max_features': 'sqrt', 'bootstrap': False}. Best is trial 62 with value: 0.8847296989389077.\n",
      "[I 2024-12-12 22:26:33,678] Trial 67 finished with value: 0.8659760166487505 and parameters: {'n_estimators': 281, 'max_depth': 18, 'min_samples_split': 3, 'min_samples_leaf': 5, 'max_features': 'log2', 'bootstrap': False}. Best is trial 62 with value: 0.8847296989389077.\n",
      "[I 2024-12-12 22:27:23,612] Trial 68 finished with value: 0.8810289270571949 and parameters: {'n_estimators': 267, 'max_depth': 31, 'min_samples_split': 3, 'min_samples_leaf': 2, 'max_features': 'log2', 'bootstrap': False}. Best is trial 62 with value: 0.8847296989389077.\n",
      "[I 2024-12-12 22:33:57,726] Trial 69 finished with value: 0.8581125898419018 and parameters: {'n_estimators': 252, 'max_depth': 35, 'min_samples_split': 2, 'min_samples_leaf': 1, 'max_features': 1.0, 'bootstrap': True}. Best is trial 62 with value: 0.8847296989389077.\n",
      "[I 2024-12-12 22:34:46,323] Trial 70 finished with value: 0.8769775224469752 and parameters: {'n_estimators': 223, 'max_depth': 33, 'min_samples_split': 4, 'min_samples_leaf': 3, 'max_features': 'sqrt', 'bootstrap': False}. Best is trial 62 with value: 0.8847296989389077.\n",
      "[I 2024-12-12 22:35:36,550] Trial 71 finished with value: 0.882482115607986 and parameters: {'n_estimators': 287, 'max_depth': 34, 'min_samples_split': 2, 'min_samples_leaf': 1, 'max_features': 'log2', 'bootstrap': False}. Best is trial 62 with value: 0.8847296989389077.\n",
      "[I 2024-12-12 22:36:24,539] Trial 72 finished with value: 0.883992034778295 and parameters: {'n_estimators': 275, 'max_depth': 33, 'min_samples_split': 2, 'min_samples_leaf': 1, 'max_features': 'log2', 'bootstrap': False}. Best is trial 62 with value: 0.8847296989389077.\n",
      "[I 2024-12-12 22:37:05,822] Trial 73 finished with value: 0.8835516801420765 and parameters: {'n_estimators': 236, 'max_depth': 30, 'min_samples_split': 2, 'min_samples_leaf': 1, 'max_features': 'log2', 'bootstrap': False}. Best is trial 62 with value: 0.8847296989389077.\n",
      "[I 2024-12-12 22:37:46,678] Trial 74 finished with value: 0.8807433567563174 and parameters: {'n_estimators': 239, 'max_depth': 30, 'min_samples_split': 2, 'min_samples_leaf': 2, 'max_features': 'log2', 'bootstrap': False}. Best is trial 62 with value: 0.8847296989389077.\n",
      "[I 2024-12-12 22:38:33,551] Trial 75 finished with value: 0.8842656259987878 and parameters: {'n_estimators': 267, 'max_depth': 33, 'min_samples_split': 2, 'min_samples_leaf': 1, 'max_features': 'log2', 'bootstrap': False}. Best is trial 62 with value: 0.8847296989389077.\n",
      "[I 2024-12-12 22:39:22,396] Trial 76 finished with value: 0.8842656259987878 and parameters: {'n_estimators': 267, 'max_depth': 33, 'min_samples_split': 2, 'min_samples_leaf': 1, 'max_features': 'log2', 'bootstrap': False}. Best is trial 62 with value: 0.8847296989389077.\n",
      "[I 2024-12-12 22:40:11,546] Trial 77 finished with value: 0.8809936868809743 and parameters: {'n_estimators': 268, 'max_depth': 33, 'min_samples_split': 2, 'min_samples_leaf': 2, 'max_features': 'log2', 'bootstrap': False}. Best is trial 62 with value: 0.8847296989389077.\n",
      "[I 2024-12-12 22:41:03,885] Trial 78 finished with value: 0.8836468018256796 and parameters: {'n_estimators': 283, 'max_depth': 29, 'min_samples_split': 2, 'min_samples_leaf': 1, 'max_features': 'log2', 'bootstrap': False}. Best is trial 62 with value: 0.8847296989389077.\n",
      "[I 2024-12-12 22:41:57,687] Trial 79 finished with value: 0.8828981983543435 and parameters: {'n_estimators': 283, 'max_depth': 31, 'min_samples_split': 2, 'min_samples_leaf': 1, 'max_features': 'log2', 'bootstrap': False}. Best is trial 62 with value: 0.8847296989389077.\n",
      "[I 2024-12-12 22:42:44,129] Trial 80 finished with value: 0.8643842784880944 and parameters: {'n_estimators': 277, 'max_depth': 24, 'min_samples_split': 2, 'min_samples_leaf': 7, 'max_features': 'log2', 'bootstrap': False}. Best is trial 62 with value: 0.8847296989389077.\n"
     ]
    },
    {
     "name": "stdout",
     "output_type": "stream",
     "text": [
      "F1 score en iteración 81: 0.9020995154964239\n",
      "AUC-PR en iteración 81: 0.8856013210916055\n"
     ]
    },
    {
     "data": {
      "image/png": "[encoded data removed]",
      "text/plain": [
       "<Figure size 800x550 with 2 Axes>"
      ]
     },
     "metadata": {},
     "output_type": "display_data"
    },
    {
     "name": "stderr",
     "output_type": "stream",
     "text": [
      "[I 2024-12-12 22:43:40,099] Trial 81 finished with value: 0.8856013210916055 and parameters: {'n_estimators': 293, 'max_depth': 28, 'min_samples_split': 2, 'min_samples_leaf': 1, 'max_features': 'log2', 'bootstrap': False}. Best is trial 81 with value: 0.8856013210916055.\n",
      "[I 2024-12-12 22:44:36,303] Trial 82 finished with value: 0.88541003031523 and parameters: {'n_estimators': 296, 'max_depth': 28, 'min_samples_split': 2, 'min_samples_leaf': 1, 'max_features': 'log2', 'bootstrap': False}. Best is trial 81 with value: 0.8856013210916055.\n",
      "[I 2024-12-12 22:45:30,952] Trial 83 finished with value: 0.8856013210916055 and parameters: {'n_estimators': 293, 'max_depth': 28, 'min_samples_split': 2, 'min_samples_leaf': 1, 'max_features': 'log2', 'bootstrap': False}. Best is trial 81 with value: 0.8856013210916055.\n",
      "[I 2024-12-12 22:46:22,315] Trial 84 finished with value: 0.8812196252299367 and parameters: {'n_estimators': 293, 'max_depth': 26, 'min_samples_split': 2, 'min_samples_leaf': 2, 'max_features': 'log2', 'bootstrap': False}. Best is trial 81 with value: 0.8856013210916055.\n",
      "[I 2024-12-12 22:47:15,022] Trial 85 finished with value: 0.8855413692468757 and parameters: {'n_estimators': 297, 'max_depth': 28, 'min_samples_split': 2, 'min_samples_leaf': 1, 'max_features': 'log2', 'bootstrap': False}. Best is trial 81 with value: 0.8856013210916055.\n",
      "[I 2024-12-12 22:48:08,294] Trial 86 finished with value: 0.8855413692468757 and parameters: {'n_estimators': 300, 'max_depth': 28, 'min_samples_split': 2, 'min_samples_leaf': 1, 'max_features': 'log2', 'bootstrap': False}. Best is trial 81 with value: 0.8856013210916055.\n",
      "[I 2024-12-12 22:48:59,876] Trial 87 finished with value: 0.881266799463432 and parameters: {'n_estimators': 300, 'max_depth': 28, 'min_samples_split': 2, 'min_samples_leaf': 2, 'max_features': 'log2', 'bootstrap': False}. Best is trial 81 with value: 0.8856013210916055.\n",
      "[I 2024-12-12 22:49:35,204] Trial 88 finished with value: 0.8775904601988156 and parameters: {'n_estimators': 292, 'max_depth': 27, 'min_samples_split': 2, 'min_samples_leaf': 1, 'max_features': 'log2', 'bootstrap': True}. Best is trial 81 with value: 0.8856013210916055.\n",
      "[I 2024-12-12 22:50:25,800] Trial 89 finished with value: 0.8840047847316479 and parameters: {'n_estimators': 287, 'max_depth': 26, 'min_samples_split': 2, 'min_samples_leaf': 1, 'max_features': 'log2', 'bootstrap': False}. Best is trial 81 with value: 0.8856013210916055.\n",
      "[I 2024-12-12 23:00:05,120] Trial 90 finished with value: 0.8334357411982606 and parameters: {'n_estimators': 295, 'max_depth': 26, 'min_samples_split': 2, 'min_samples_leaf': 2, 'max_features': 0.9, 'bootstrap': False}. Best is trial 81 with value: 0.8856013210916055.\n",
      "[I 2024-12-12 23:00:56,280] Trial 91 finished with value: 0.8841842820297957 and parameters: {'n_estimators': 286, 'max_depth': 26, 'min_samples_split': 2, 'min_samples_leaf': 1, 'max_features': 'log2', 'bootstrap': False}. Best is trial 81 with value: 0.8856013210916055.\n",
      "[I 2024-12-12 23:01:50,253] Trial 92 finished with value: 0.8836349668575307 and parameters: {'n_estimators': 300, 'max_depth': 29, 'min_samples_split': 2, 'min_samples_leaf': 1, 'max_features': 'log2', 'bootstrap': False}. Best is trial 81 with value: 0.8856013210916055.\n",
      "[I 2024-12-12 23:02:41,012] Trial 93 finished with value: 0.8852671815176828 and parameters: {'n_estimators': 285, 'max_depth': 28, 'min_samples_split': 2, 'min_samples_leaf': 1, 'max_features': 'log2', 'bootstrap': False}. Best is trial 81 with value: 0.8856013210916055.\n",
      "[I 2024-12-12 23:03:31,899] Trial 94 finished with value: 0.8843851987854525 and parameters: {'n_estimators': 285, 'max_depth': 27, 'min_samples_split': 2, 'min_samples_leaf': 1, 'max_features': 'log2', 'bootstrap': False}. Best is trial 81 with value: 0.8856013210916055.\n",
      "[I 2024-12-12 23:04:19,229] Trial 95 finished with value: 0.8850876844034599 and parameters: {'n_estimators': 265, 'max_depth': 28, 'min_samples_split': 2, 'min_samples_leaf': 1, 'max_features': 'log2', 'bootstrap': False}. Best is trial 81 with value: 0.8856013210916055.\n",
      "[I 2024-12-12 23:04:31,171] Trial 96 finished with value: 0.8797355661662188 and parameters: {'n_estimators': 64, 'max_depth': 28, 'min_samples_split': 2, 'min_samples_leaf': 1, 'max_features': 'log2', 'bootstrap': False}. Best is trial 81 with value: 0.8856013210916055.\n",
      "[I 2024-12-12 23:05:20,511] Trial 97 finished with value: 0.880790801789209 and parameters: {'n_estimators': 279, 'max_depth': 28, 'min_samples_split': 2, 'min_samples_leaf': 2, 'max_features': 'log2', 'bootstrap': False}. Best is trial 81 with value: 0.8856013210916055.\n",
      "[I 2024-12-12 23:06:06,492] Trial 98 finished with value: 0.8840164423179967 and parameters: {'n_estimators': 261, 'max_depth': 27, 'min_samples_split': 2, 'min_samples_leaf': 1, 'max_features': 'log2', 'bootstrap': False}. Best is trial 81 with value: 0.8856013210916055.\n",
      "[I 2024-12-12 23:06:58,300] Trial 99 finished with value: 0.8835753988490339 and parameters: {'n_estimators': 291, 'max_depth': 29, 'min_samples_split': 2, 'min_samples_leaf': 1, 'max_features': 'log2', 'bootstrap': False}. Best is trial 81 with value: 0.8856013210916055.\n",
      "[I 2024-12-12 23:07:45,585] Trial 100 finished with value: 0.8798044906469439 and parameters: {'n_estimators': 271, 'max_depth': 28, 'min_samples_split': 2, 'min_samples_leaf': 2, 'max_features': 'log2', 'bootstrap': False}. Best is trial 81 with value: 0.8856013210916055.\n",
      "[I 2024-12-12 23:08:36,066] Trial 101 finished with value: 0.8845163511633215 and parameters: {'n_estimators': 284, 'max_depth': 27, 'min_samples_split': 2, 'min_samples_leaf': 1, 'max_features': 'log2', 'bootstrap': False}. Best is trial 81 with value: 0.8856013210916055.\n",
      "[I 2024-12-12 23:09:25,387] Trial 102 finished with value: 0.8836586694794253 and parameters: {'n_estimators': 278, 'max_depth': 27, 'min_samples_split': 2, 'min_samples_leaf': 1, 'max_features': 'log2', 'bootstrap': False}. Best is trial 81 with value: 0.8856013210916055.\n",
      "[I 2024-12-12 23:10:16,734] Trial 103 finished with value: 0.8852671815176828 and parameters: {'n_estimators': 285, 'max_depth': 28, 'min_samples_split': 2, 'min_samples_leaf': 1, 'max_features': 'log2', 'bootstrap': False}. Best is trial 81 with value: 0.8856013210916055.\n"
     ]
    },
    {
     "name": "stdout",
     "output_type": "stream",
     "text": [
      "F1 score en iteración 104: 0.9020844550419198\n",
      "AUC-PR en iteración 104: 0.8856613105014567\n"
     ]
    },
    {
     "data": {
      "image/png": "[encoded data removed]",
      "text/plain": [
       "<Figure size 800x550 with 2 Axes>"
      ]
     },
     "metadata": {},
     "output_type": "display_data"
    },
    {
     "name": "stderr",
     "output_type": "stream",
     "text": [
      "[I 2024-12-12 23:11:09,478] Trial 104 finished with value: 0.8856613105014567 and parameters: {'n_estimators': 294, 'max_depth': 28, 'min_samples_split': 2, 'min_samples_leaf': 1, 'max_features': 'log2', 'bootstrap': False}. Best is trial 104 with value: 0.8856613105014567.\n",
      "[I 2024-12-12 23:12:01,136] Trial 105 finished with value: 0.8852556623433201 and parameters: {'n_estimators': 290, 'max_depth': 28, 'min_samples_split': 2, 'min_samples_leaf': 1, 'max_features': 'log2', 'bootstrap': False}. Best is trial 104 with value: 0.8856613105014567.\n",
      "[I 2024-12-12 23:23:17,857] Trial 106 finished with value: 0.7836067863588938 and parameters: {'n_estimators': 295, 'max_depth': 28, 'min_samples_split': 2, 'min_samples_leaf': 1, 'max_features': 1.0, 'bootstrap': False}. Best is trial 104 with value: 0.8856613105014567.\n",
      "[I 2024-12-12 23:24:10,749] Trial 107 finished with value: 0.8807674394477745 and parameters: {'n_estimators': 295, 'max_depth': 29, 'min_samples_split': 2, 'min_samples_leaf': 2, 'max_features': 'log2', 'bootstrap': False}. Best is trial 104 with value: 0.8856613105014567.\n",
      "[I 2024-12-12 23:24:47,132] Trial 108 finished with value: 0.8781254917759918 and parameters: {'n_estimators': 289, 'max_depth': 29, 'min_samples_split': 2, 'min_samples_leaf': 1, 'max_features': 'log2', 'bootstrap': True}. Best is trial 104 with value: 0.8856613105014567.\n",
      "[I 2024-12-12 23:33:07,851] Trial 109 finished with value: 0.8211850349872929 and parameters: {'n_estimators': 277, 'max_depth': 25, 'min_samples_split': 2, 'min_samples_leaf': 8, 'max_features': 0.9, 'bootstrap': False}. Best is trial 104 with value: 0.8856613105014567.\n",
      "[I 2024-12-12 23:34:02,133] Trial 110 finished with value: 0.8806719645707828 and parameters: {'n_estimators': 295, 'max_depth': 28, 'min_samples_split': 2, 'min_samples_leaf': 2, 'max_features': 'log2', 'bootstrap': False}. Best is trial 104 with value: 0.8856613105014567.\n",
      "[I 2024-12-12 23:34:54,918] Trial 111 finished with value: 0.8848502038998589 and parameters: {'n_estimators': 283, 'max_depth': 27, 'min_samples_split': 2, 'min_samples_leaf': 1, 'max_features': 'log2', 'bootstrap': False}. Best is trial 104 with value: 0.8856613105014567.\n",
      "[I 2024-12-12 23:35:52,293] Trial 112 finished with value: 0.8839333675684078 and parameters: {'n_estimators': 290, 'max_depth': 26, 'min_samples_split': 2, 'min_samples_leaf': 1, 'max_features': 'log2', 'bootstrap': False}. Best is trial 104 with value: 0.8856613105014567.\n",
      "[I 2024-12-12 23:36:41,539] Trial 113 finished with value: 0.8685590121395531 and parameters: {'n_estimators': 281, 'max_depth': 29, 'min_samples_split': 2, 'min_samples_leaf': 6, 'max_features': 'log2', 'bootstrap': False}. Best is trial 104 with value: 0.8856613105014567.\n",
      "[I 2024-12-12 23:37:39,127] Trial 114 finished with value: 0.8855413692468757 and parameters: {'n_estimators': 300, 'max_depth': 28, 'min_samples_split': 2, 'min_samples_leaf': 1, 'max_features': 'log2', 'bootstrap': False}. Best is trial 104 with value: 0.8856613105014567.\n",
      "[I 2024-12-12 23:38:36,434] Trial 115 finished with value: 0.8855413692468757 and parameters: {'n_estimators': 300, 'max_depth': 28, 'min_samples_split': 2, 'min_samples_leaf': 1, 'max_features': 'log2', 'bootstrap': False}. Best is trial 104 with value: 0.8856613105014567.\n",
      "[I 2024-12-12 23:39:33,307] Trial 116 finished with value: 0.8856127963325634 and parameters: {'n_estimators': 298, 'max_depth': 28, 'min_samples_split': 2, 'min_samples_leaf': 1, 'max_features': 'log2', 'bootstrap': False}. Best is trial 104 with value: 0.8856613105014567.\n",
      "[I 2024-12-12 23:40:27,343] Trial 117 finished with value: 0.8855413692468757 and parameters: {'n_estimators': 300, 'max_depth': 28, 'min_samples_split': 2, 'min_samples_leaf': 1, 'max_features': 'log2', 'bootstrap': False}. Best is trial 104 with value: 0.8856613105014567.\n",
      "[I 2024-12-12 23:41:21,979] Trial 118 finished with value: 0.8817428636941033 and parameters: {'n_estimators': 300, 'max_depth': 30, 'min_samples_split': 5, 'min_samples_leaf': 1, 'max_features': 'log2', 'bootstrap': False}. Best is trial 104 with value: 0.8856613105014567.\n",
      "[I 2024-12-12 23:42:17,542] Trial 119 finished with value: 0.8810289270571949 and parameters: {'n_estimators': 300, 'max_depth': 29, 'min_samples_split': 2, 'min_samples_leaf': 2, 'max_features': 'log2', 'bootstrap': False}. Best is trial 104 with value: 0.8856613105014567.\n",
      "[I 2024-12-12 23:43:13,824] Trial 120 finished with value: 0.8853386058441103 and parameters: {'n_estimators': 295, 'max_depth': 28, 'min_samples_split': 2, 'min_samples_leaf': 1, 'max_features': 'log2', 'bootstrap': False}. Best is trial 104 with value: 0.8856613105014567.\n",
      "[I 2024-12-12 23:44:07,790] Trial 121 finished with value: 0.8856613105014567 and parameters: {'n_estimators': 294, 'max_depth': 28, 'min_samples_split': 2, 'min_samples_leaf': 1, 'max_features': 'log2', 'bootstrap': False}. Best is trial 104 with value: 0.8856613105014567.\n",
      "[I 2024-12-12 23:45:02,721] Trial 122 finished with value: 0.884075222866464 and parameters: {'n_estimators': 294, 'max_depth': 27, 'min_samples_split': 2, 'min_samples_leaf': 1, 'max_features': 'log2', 'bootstrap': False}. Best is trial 104 with value: 0.8856613105014567.\n",
      "[I 2024-12-12 23:45:58,139] Trial 123 finished with value: 0.8834444676900337 and parameters: {'n_estimators': 295, 'max_depth': 29, 'min_samples_split': 2, 'min_samples_leaf': 1, 'max_features': 'log2', 'bootstrap': False}. Best is trial 104 with value: 0.8856613105014567.\n",
      "[I 2024-12-12 23:46:49,814] Trial 124 finished with value: 0.884539734099779 and parameters: {'n_estimators': 274, 'max_depth': 27, 'min_samples_split': 2, 'min_samples_leaf': 1, 'max_features': 'log2', 'bootstrap': False}. Best is trial 104 with value: 0.8856613105014567.\n",
      "[I 2024-12-12 23:59:06,664] Trial 125 finished with value: 0.7817774658945086 and parameters: {'n_estimators': 300, 'max_depth': 30, 'min_samples_split': 2, 'min_samples_leaf': 1, 'max_features': 1.0, 'bootstrap': False}. Best is trial 104 with value: 0.8856613105014567.\n",
      "[I 2024-12-13 00:00:01,380] Trial 126 finished with value: 0.8808027590621893 and parameters: {'n_estimators': 292, 'max_depth': 28, 'min_samples_split': 2, 'min_samples_leaf': 2, 'max_features': 'log2', 'bootstrap': False}. Best is trial 104 with value: 0.8856613105014567.\n",
      "[I 2024-12-13 00:00:36,041] Trial 127 finished with value: 0.8776492425649496 and parameters: {'n_estimators': 278, 'max_depth': 29, 'min_samples_split': 2, 'min_samples_leaf': 1, 'max_features': 'log2', 'bootstrap': True}. Best is trial 104 with value: 0.8856613105014567.\n",
      "[I 2024-12-13 00:01:27,181] Trial 128 finished with value: 0.8802798353132617 and parameters: {'n_estimators': 289, 'max_depth': 28, 'min_samples_split': 2, 'min_samples_leaf': 2, 'max_features': 'log2', 'bootstrap': False}. Best is trial 104 with value: 0.8856613105014567.\n",
      "[I 2024-12-13 00:01:49,891] Trial 129 finished with value: 0.879353981809181 and parameters: {'n_estimators': 117, 'max_depth': 27, 'min_samples_split': 6, 'min_samples_leaf': 1, 'max_features': 'log2', 'bootstrap': False}. Best is trial 104 with value: 0.8856613105014567.\n",
      "[I 2024-12-13 00:02:45,080] Trial 130 finished with value: 0.8840529901743129 and parameters: {'n_estimators': 296, 'max_depth': 26, 'min_samples_split': 2, 'min_samples_leaf': 1, 'max_features': 'log2', 'bootstrap': False}. Best is trial 104 with value: 0.8856613105014567.\n",
      "[I 2024-12-13 00:03:37,917] Trial 131 finished with value: 0.8854470161879581 and parameters: {'n_estimators': 286, 'max_depth': 28, 'min_samples_split': 2, 'min_samples_leaf': 1, 'max_features': 'log2', 'bootstrap': False}. Best is trial 104 with value: 0.8856613105014567.\n",
      "[I 2024-12-13 00:04:35,617] Trial 132 finished with value: 0.8854699423050378 and parameters: {'n_estimators': 287, 'max_depth': 28, 'min_samples_split': 2, 'min_samples_leaf': 1, 'max_features': 'log2', 'bootstrap': False}. Best is trial 104 with value: 0.8856613105014567.\n",
      "[I 2024-12-13 00:05:31,871] Trial 133 finished with value: 0.8836349668575307 and parameters: {'n_estimators': 300, 'max_depth': 29, 'min_samples_split': 2, 'min_samples_leaf': 1, 'max_features': 'log2', 'bootstrap': False}. Best is trial 104 with value: 0.8856613105014567.\n",
      "[I 2024-12-13 00:06:27,718] Trial 134 finished with value: 0.8839205891718107 and parameters: {'n_estimators': 289, 'max_depth': 27, 'min_samples_split': 2, 'min_samples_leaf': 1, 'max_features': 'log2', 'bootstrap': False}. Best is trial 104 with value: 0.8856613105014567.\n",
      "[I 2024-12-13 00:07:18,725] Trial 135 finished with value: 0.8853870337311737 and parameters: {'n_estimators': 271, 'max_depth': 28, 'min_samples_split': 2, 'min_samples_leaf': 1, 'max_features': 'log2', 'bootstrap': False}. Best is trial 104 with value: 0.8856613105014567.\n",
      "[I 2024-12-13 00:17:09,257] Trial 136 finished with value: 0.8314665433146905 and parameters: {'n_estimators': 271, 'max_depth': 29, 'min_samples_split': 2, 'min_samples_leaf': 1, 'max_features': 0.9, 'bootstrap': False}. Best is trial 104 with value: 0.8856613105014567.\n",
      "[I 2024-12-13 00:18:00,503] Trial 137 finished with value: 0.88541003031523 and parameters: {'n_estimators': 280, 'max_depth': 28, 'min_samples_split': 2, 'min_samples_leaf': 1, 'max_features': 'log2', 'bootstrap': False}. Best is trial 104 with value: 0.8856613105014567.\n",
      "[I 2024-12-13 00:18:50,513] Trial 138 finished with value: 0.8802919740957493 and parameters: {'n_estimators': 280, 'max_depth': 27, 'min_samples_split': 2, 'min_samples_leaf': 2, 'max_features': 'log2', 'bootstrap': False}. Best is trial 104 with value: 0.8856613105014567.\n",
      "[I 2024-12-13 00:19:22,186] Trial 139 finished with value: 0.8833135787124639 and parameters: {'n_estimators': 166, 'max_depth': 28, 'min_samples_split': 2, 'min_samples_leaf': 1, 'max_features': 'log2', 'bootstrap': False}. Best is trial 104 with value: 0.8856613105014567.\n",
      "[I 2024-12-13 00:20:14,576] Trial 140 finished with value: 0.8839802039904747 and parameters: {'n_estimators': 286, 'max_depth': 29, 'min_samples_split': 2, 'min_samples_leaf': 1, 'max_features': 'log2', 'bootstrap': False}. Best is trial 104 with value: 0.8856613105014567.\n",
      "[I 2024-12-13 00:21:06,811] Trial 141 finished with value: 0.885529891828221 and parameters: {'n_estimators': 291, 'max_depth': 28, 'min_samples_split': 2, 'min_samples_leaf': 1, 'max_features': 'log2', 'bootstrap': False}. Best is trial 104 with value: 0.8856613105014567.\n",
      "[I 2024-12-13 00:22:01,152] Trial 142 finished with value: 0.885529891828221 and parameters: {'n_estimators': 291, 'max_depth': 28, 'min_samples_split': 2, 'min_samples_leaf': 1, 'max_features': 'log2', 'bootstrap': False}. Best is trial 104 with value: 0.8856613105014567.\n",
      "[I 2024-12-13 00:22:56,981] Trial 143 finished with value: 0.8841230207878116 and parameters: {'n_estimators': 293, 'max_depth': 27, 'min_samples_split': 2, 'min_samples_leaf': 1, 'max_features': 'log2', 'bootstrap': False}. Best is trial 104 with value: 0.8856613105014567.\n",
      "[I 2024-12-13 00:23:54,070] Trial 144 finished with value: 0.8834563746768074 and parameters: {'n_estimators': 300, 'max_depth': 30, 'min_samples_split': 2, 'min_samples_leaf': 1, 'max_features': 'log2', 'bootstrap': False}. Best is trial 104 with value: 0.8856613105014567.\n",
      "[I 2024-12-13 00:24:53,631] Trial 145 finished with value: 0.8852556623433201 and parameters: {'n_estimators': 290, 'max_depth': 28, 'min_samples_split': 2, 'min_samples_leaf': 1, 'max_features': 'log2', 'bootstrap': False}. Best is trial 104 with value: 0.8856613105014567.\n",
      "[I 2024-12-13 00:25:45,043] Trial 146 finished with value: 0.872969322424316 and parameters: {'n_estimators': 285, 'max_depth': 27, 'min_samples_split': 2, 'min_samples_leaf': 4, 'max_features': 'log2', 'bootstrap': False}. Best is trial 104 with value: 0.8856613105014567.\n",
      "[I 2024-12-13 00:26:39,208] Trial 147 finished with value: 0.8842557063703993 and parameters: {'n_estimators': 295, 'max_depth': 26, 'min_samples_split': 2, 'min_samples_leaf': 1, 'max_features': 'log2', 'bootstrap': False}. Best is trial 104 with value: 0.8856613105014567.\n",
      "[I 2024-12-13 00:27:33,162] Trial 148 finished with value: 0.8804698230080146 and parameters: {'n_estimators': 275, 'max_depth': 28, 'min_samples_split': 2, 'min_samples_leaf': 2, 'max_features': 'log2', 'bootstrap': False}. Best is trial 104 with value: 0.8856613105014567.\n",
      "[I 2024-12-13 00:35:36,237] Trial 149 finished with value: 0.8568089008021584 and parameters: {'n_estimators': 289, 'max_depth': 29, 'min_samples_split': 2, 'min_samples_leaf': 1, 'max_features': 1.0, 'bootstrap': True}. Best is trial 104 with value: 0.8856613105014567.\n",
      "[I 2024-12-13 00:36:27,966] Trial 150 finished with value: 0.8850876844034599 and parameters: {'n_estimators': 281, 'max_depth': 28, 'min_samples_split': 2, 'min_samples_leaf': 1, 'max_features': 'log2', 'bootstrap': False}. Best is trial 104 with value: 0.8856613105014567.\n",
      "[I 2024-12-13 00:37:17,963] Trial 151 finished with value: 0.8805026593953276 and parameters: {'n_estimators': 280, 'max_depth': 20, 'min_samples_split': 2, 'min_samples_leaf': 1, 'max_features': 'log2', 'bootstrap': False}. Best is trial 104 with value: 0.8856613105014567.\n",
      "[I 2024-12-13 00:38:20,628] Trial 152 finished with value: 0.8855413692468757 and parameters: {'n_estimators': 300, 'max_depth': 28, 'min_samples_split': 2, 'min_samples_leaf': 1, 'max_features': 'log2', 'bootstrap': False}. Best is trial 104 with value: 0.8856613105014567.\n",
      "[I 2024-12-13 00:39:16,931] Trial 153 finished with value: 0.8845877673030176 and parameters: {'n_estimators': 295, 'max_depth': 27, 'min_samples_split': 2, 'min_samples_leaf': 1, 'max_features': 'log2', 'bootstrap': False}. Best is trial 104 with value: 0.8856613105014567.\n",
      "[I 2024-12-13 00:40:23,323] Trial 154 finished with value: 0.8836349668575307 and parameters: {'n_estimators': 300, 'max_depth': 29, 'min_samples_split': 2, 'min_samples_leaf': 1, 'max_features': 'log2', 'bootstrap': False}. Best is trial 104 with value: 0.8856613105014567.\n",
      "[I 2024-12-13 00:41:25,190] Trial 155 finished with value: 0.8852556623433201 and parameters: {'n_estimators': 290, 'max_depth': 28, 'min_samples_split': 2, 'min_samples_leaf': 1, 'max_features': 'log2', 'bootstrap': False}. Best is trial 104 with value: 0.8856613105014567.\n",
      "[I 2024-12-13 00:42:33,591] Trial 156 finished with value: 0.8839802039904747 and parameters: {'n_estimators': 286, 'max_depth': 29, 'min_samples_split': 2, 'min_samples_leaf': 1, 'max_features': 'log2', 'bootstrap': False}. Best is trial 104 with value: 0.8856613105014567.\n",
      "[I 2024-12-13 00:43:32,734] Trial 157 finished with value: 0.8841348074896906 and parameters: {'n_estimators': 300, 'max_depth': 27, 'min_samples_split': 2, 'min_samples_leaf': 1, 'max_features': 'log2', 'bootstrap': False}. Best is trial 104 with value: 0.8856613105014567.\n",
      "[I 2024-12-13 00:44:28,792] Trial 158 finished with value: 0.8804698230080146 and parameters: {'n_estimators': 293, 'max_depth': 28, 'min_samples_split': 2, 'min_samples_leaf': 2, 'max_features': 'log2', 'bootstrap': False}. Best is trial 104 with value: 0.8856613105014567.\n",
      "[W 2024-12-13 00:44:36,536] Trial 159 failed with parameters: {'n_estimators': 294, 'max_depth': 30, 'min_samples_split': 2, 'min_samples_leaf': 1, 'max_features': 'log2', 'bootstrap': False} because of the following error: KeyboardInterrupt().\n",
      "Traceback (most recent call last):\n",
      "  File \"c:\\Users\\diego\\AppData\\Local\\Programs\\Python\\Python310\\lib\\site-packages\\optuna\\study\\_optimize.py\", line 197, in _run_trial\n",
      "    value_or_values = func(trial)\n",
      "  File \"C:\\Users\\diego\\AppData\\Local\\Temp\\ipykernel_17720\\982576787.py\", line 36, in objective\n",
      "    pipeline.fit(data_train, y_train)\n",
      "  File \"c:\\Users\\diego\\AppData\\Local\\Programs\\Python\\Python310\\lib\\site-packages\\sklearn\\base.py\", line 1474, in wrapper\n",
      "    return fit_method(estimator, *args, **kwargs)\n",
      "  File \"c:\\Users\\diego\\AppData\\Local\\Programs\\Python\\Python310\\lib\\site-packages\\imblearn\\pipeline.py\", line 333, in fit\n",
      "    self._final_estimator.fit(Xt, yt, **last_step_params[\"fit\"])\n",
      "  File \"c:\\Users\\diego\\AppData\\Local\\Programs\\Python\\Python310\\lib\\site-packages\\sklearn\\base.py\", line 1474, in wrapper\n",
      "    return fit_method(estimator, *args, **kwargs)\n",
      "  File \"c:\\Users\\diego\\AppData\\Local\\Programs\\Python\\Python310\\lib\\site-packages\\sklearn\\ensemble\\_forest.py\", line 489, in fit\n",
      "    trees = Parallel(\n",
      "  File \"c:\\Users\\diego\\AppData\\Local\\Programs\\Python\\Python310\\lib\\site-packages\\sklearn\\utils\\parallel.py\", line 67, in __call__\n",
      "    return super().__call__(iterable_with_config)\n",
      "  File \"c:\\Users\\diego\\AppData\\Local\\Programs\\Python\\Python310\\lib\\site-packages\\joblib\\parallel.py\", line 1863, in __call__\n",
      "    return output if self.return_generator else list(output)\n",
      "  File \"c:\\Users\\diego\\AppData\\Local\\Programs\\Python\\Python310\\lib\\site-packages\\joblib\\parallel.py\", line 1792, in _get_sequential_output\n",
      "    res = func(*args, **kwargs)\n",
      "  File \"c:\\Users\\diego\\AppData\\Local\\Programs\\Python\\Python310\\lib\\site-packages\\sklearn\\utils\\parallel.py\", line 129, in __call__\n",
      "    return self.function(*args, **kwargs)\n",
      "  File \"c:\\Users\\diego\\AppData\\Local\\Programs\\Python\\Python310\\lib\\site-packages\\sklearn\\ensemble\\_forest.py\", line 200, in _parallel_build_trees\n",
      "    tree._fit(\n",
      "  File \"c:\\Users\\diego\\AppData\\Local\\Programs\\Python\\Python310\\lib\\site-packages\\sklearn\\tree\\_classes.py\", line 472, in _fit\n",
      "    builder.build(self.tree_, X, y, sample_weight, missing_values_in_feature_mask)\n",
      "KeyboardInterrupt\n",
      "[W 2024-12-13 00:44:36,612] Trial 159 failed with value None.\n"
     ]
    },
    {
     "ename": "KeyboardInterrupt",
     "evalue": "",
     "output_type": "error",
     "traceback": [
      "\u001b[1;31m---------------------------------------------------------------------------\u001b[0m",
      "\u001b[1;31mKeyboardInterrupt\u001b[0m                         Traceback (most recent call last)",
      "Cell \u001b[1;32mIn[6], line 63\u001b[0m\n\u001b[0;32m     61\u001b[0m \u001b[38;5;66;03m# Configurar y ejecutar el estudio Optuna\u001b[39;00m\n\u001b[0;32m     62\u001b[0m study_rf \u001b[38;5;241m=\u001b[39m optuna\u001b[38;5;241m.\u001b[39mcreate_study(direction\u001b[38;5;241m=\u001b[39m\u001b[38;5;124m'\u001b[39m\u001b[38;5;124mmaximize\u001b[39m\u001b[38;5;124m'\u001b[39m)  \n\u001b[1;32m---> 63\u001b[0m \u001b[43mstudy_rf\u001b[49m\u001b[38;5;241;43m.\u001b[39;49m\u001b[43moptimize\u001b[49m\u001b[43m(\u001b[49m\u001b[43mobjective\u001b[49m\u001b[43m,\u001b[49m\u001b[43m \u001b[49m\u001b[43mn_trials\u001b[49m\u001b[38;5;241;43m=\u001b[39;49m\u001b[38;5;241;43m200\u001b[39;49m\u001b[43m,\u001b[49m\u001b[43m \u001b[49m\u001b[43mn_jobs\u001b[49m\u001b[38;5;241;43m=\u001b[39;49m\u001b[38;5;241;43m1\u001b[39;49m\u001b[43m)\u001b[49m  \n\u001b[0;32m     65\u001b[0m \u001b[38;5;66;03m# Mejor conjunto de parámetros encontrados\u001b[39;00m\n\u001b[0;32m     66\u001b[0m best_params_rf \u001b[38;5;241m=\u001b[39m study_rf\u001b[38;5;241m.\u001b[39mbest_params\n",
      "File \u001b[1;32mc:\\Users\\diego\\AppData\\Local\\Programs\\Python\\Python310\\lib\\site-packages\\optuna\\study\\study.py:475\u001b[0m, in \u001b[0;36mStudy.optimize\u001b[1;34m(self, func, n_trials, timeout, n_jobs, catch, callbacks, gc_after_trial, show_progress_bar)\u001b[0m\n\u001b[0;32m    373\u001b[0m \u001b[38;5;28;01mdef\u001b[39;00m \u001b[38;5;21moptimize\u001b[39m(\n\u001b[0;32m    374\u001b[0m     \u001b[38;5;28mself\u001b[39m,\n\u001b[0;32m    375\u001b[0m     func: ObjectiveFuncType,\n\u001b[1;32m   (...)\u001b[0m\n\u001b[0;32m    382\u001b[0m     show_progress_bar: \u001b[38;5;28mbool\u001b[39m \u001b[38;5;241m=\u001b[39m \u001b[38;5;28;01mFalse\u001b[39;00m,\n\u001b[0;32m    383\u001b[0m ) \u001b[38;5;241m-\u001b[39m\u001b[38;5;241m>\u001b[39m \u001b[38;5;28;01mNone\u001b[39;00m:\n\u001b[0;32m    384\u001b[0m     \u001b[38;5;124;03m\"\"\"Optimize an objective function.\u001b[39;00m\n\u001b[0;32m    385\u001b[0m \n\u001b[0;32m    386\u001b[0m \u001b[38;5;124;03m    Optimization is done by choosing a suitable set of hyperparameter values from a given\u001b[39;00m\n\u001b[1;32m   (...)\u001b[0m\n\u001b[0;32m    473\u001b[0m \u001b[38;5;124;03m            If nested invocation of this method occurs.\u001b[39;00m\n\u001b[0;32m    474\u001b[0m \u001b[38;5;124;03m    \"\"\"\u001b[39;00m\n\u001b[1;32m--> 475\u001b[0m     \u001b[43m_optimize\u001b[49m\u001b[43m(\u001b[49m\n\u001b[0;32m    476\u001b[0m \u001b[43m        \u001b[49m\u001b[43mstudy\u001b[49m\u001b[38;5;241;43m=\u001b[39;49m\u001b[38;5;28;43mself\u001b[39;49m\u001b[43m,\u001b[49m\n\u001b[0;32m    477\u001b[0m \u001b[43m        \u001b[49m\u001b[43mfunc\u001b[49m\u001b[38;5;241;43m=\u001b[39;49m\u001b[43mfunc\u001b[49m\u001b[43m,\u001b[49m\n\u001b[0;32m    478\u001b[0m \u001b[43m        \u001b[49m\u001b[43mn_trials\u001b[49m\u001b[38;5;241;43m=\u001b[39;49m\u001b[43mn_trials\u001b[49m\u001b[43m,\u001b[49m\n\u001b[0;32m    479\u001b[0m \u001b[43m        \u001b[49m\u001b[43mtimeout\u001b[49m\u001b[38;5;241;43m=\u001b[39;49m\u001b[43mtimeout\u001b[49m\u001b[43m,\u001b[49m\n\u001b[0;32m    480\u001b[0m \u001b[43m        \u001b[49m\u001b[43mn_jobs\u001b[49m\u001b[38;5;241;43m=\u001b[39;49m\u001b[43mn_jobs\u001b[49m\u001b[43m,\u001b[49m\n\u001b[0;32m    481\u001b[0m \u001b[43m        \u001b[49m\u001b[43mcatch\u001b[49m\u001b[38;5;241;43m=\u001b[39;49m\u001b[38;5;28;43mtuple\u001b[39;49m\u001b[43m(\u001b[49m\u001b[43mcatch\u001b[49m\u001b[43m)\u001b[49m\u001b[43m \u001b[49m\u001b[38;5;28;43;01mif\u001b[39;49;00m\u001b[43m \u001b[49m\u001b[38;5;28;43misinstance\u001b[39;49m\u001b[43m(\u001b[49m\u001b[43mcatch\u001b[49m\u001b[43m,\u001b[49m\u001b[43m \u001b[49m\u001b[43mIterable\u001b[49m\u001b[43m)\u001b[49m\u001b[43m \u001b[49m\u001b[38;5;28;43;01melse\u001b[39;49;00m\u001b[43m \u001b[49m\u001b[43m(\u001b[49m\u001b[43mcatch\u001b[49m\u001b[43m,\u001b[49m\u001b[43m)\u001b[49m\u001b[43m,\u001b[49m\n\u001b[0;32m    482\u001b[0m \u001b[43m        \u001b[49m\u001b[43mcallbacks\u001b[49m\u001b[38;5;241;43m=\u001b[39;49m\u001b[43mcallbacks\u001b[49m\u001b[43m,\u001b[49m\n\u001b[0;32m    483\u001b[0m \u001b[43m        \u001b[49m\u001b[43mgc_after_trial\u001b[49m\u001b[38;5;241;43m=\u001b[39;49m\u001b[43mgc_after_trial\u001b[49m\u001b[43m,\u001b[49m\n\u001b[0;32m    484\u001b[0m \u001b[43m        \u001b[49m\u001b[43mshow_progress_bar\u001b[49m\u001b[38;5;241;43m=\u001b[39;49m\u001b[43mshow_progress_bar\u001b[49m\u001b[43m,\u001b[49m\n\u001b[0;32m    485\u001b[0m \u001b[43m    \u001b[49m\u001b[43m)\u001b[49m\n",
      "File \u001b[1;32mc:\\Users\\diego\\AppData\\Local\\Programs\\Python\\Python310\\lib\\site-packages\\optuna\\study\\_optimize.py:63\u001b[0m, in \u001b[0;36m_optimize\u001b[1;34m(study, func, n_trials, timeout, n_jobs, catch, callbacks, gc_after_trial, show_progress_bar)\u001b[0m\n\u001b[0;32m     61\u001b[0m \u001b[38;5;28;01mtry\u001b[39;00m:\n\u001b[0;32m     62\u001b[0m     \u001b[38;5;28;01mif\u001b[39;00m n_jobs \u001b[38;5;241m==\u001b[39m \u001b[38;5;241m1\u001b[39m:\n\u001b[1;32m---> 63\u001b[0m         \u001b[43m_optimize_sequential\u001b[49m\u001b[43m(\u001b[49m\n\u001b[0;32m     64\u001b[0m \u001b[43m            \u001b[49m\u001b[43mstudy\u001b[49m\u001b[43m,\u001b[49m\n\u001b[0;32m     65\u001b[0m \u001b[43m            \u001b[49m\u001b[43mfunc\u001b[49m\u001b[43m,\u001b[49m\n\u001b[0;32m     66\u001b[0m \u001b[43m            \u001b[49m\u001b[43mn_trials\u001b[49m\u001b[43m,\u001b[49m\n\u001b[0;32m     67\u001b[0m \u001b[43m            \u001b[49m\u001b[43mtimeout\u001b[49m\u001b[43m,\u001b[49m\n\u001b[0;32m     68\u001b[0m \u001b[43m            \u001b[49m\u001b[43mcatch\u001b[49m\u001b[43m,\u001b[49m\n\u001b[0;32m     69\u001b[0m \u001b[43m            \u001b[49m\u001b[43mcallbacks\u001b[49m\u001b[43m,\u001b[49m\n\u001b[0;32m     70\u001b[0m \u001b[43m            \u001b[49m\u001b[43mgc_after_trial\u001b[49m\u001b[43m,\u001b[49m\n\u001b[0;32m     71\u001b[0m \u001b[43m            \u001b[49m\u001b[43mreseed_sampler_rng\u001b[49m\u001b[38;5;241;43m=\u001b[39;49m\u001b[38;5;28;43;01mFalse\u001b[39;49;00m\u001b[43m,\u001b[49m\n\u001b[0;32m     72\u001b[0m \u001b[43m            \u001b[49m\u001b[43mtime_start\u001b[49m\u001b[38;5;241;43m=\u001b[39;49m\u001b[38;5;28;43;01mNone\u001b[39;49;00m\u001b[43m,\u001b[49m\n\u001b[0;32m     73\u001b[0m \u001b[43m            \u001b[49m\u001b[43mprogress_bar\u001b[49m\u001b[38;5;241;43m=\u001b[39;49m\u001b[43mprogress_bar\u001b[49m\u001b[43m,\u001b[49m\n\u001b[0;32m     74\u001b[0m \u001b[43m        \u001b[49m\u001b[43m)\u001b[49m\n\u001b[0;32m     75\u001b[0m     \u001b[38;5;28;01melse\u001b[39;00m:\n\u001b[0;32m     76\u001b[0m         \u001b[38;5;28;01mif\u001b[39;00m n_jobs \u001b[38;5;241m==\u001b[39m \u001b[38;5;241m-\u001b[39m\u001b[38;5;241m1\u001b[39m:\n",
      "File \u001b[1;32mc:\\Users\\diego\\AppData\\Local\\Programs\\Python\\Python310\\lib\\site-packages\\optuna\\study\\_optimize.py:160\u001b[0m, in \u001b[0;36m_optimize_sequential\u001b[1;34m(study, func, n_trials, timeout, catch, callbacks, gc_after_trial, reseed_sampler_rng, time_start, progress_bar)\u001b[0m\n\u001b[0;32m    157\u001b[0m         \u001b[38;5;28;01mbreak\u001b[39;00m\n\u001b[0;32m    159\u001b[0m \u001b[38;5;28;01mtry\u001b[39;00m:\n\u001b[1;32m--> 160\u001b[0m     frozen_trial \u001b[38;5;241m=\u001b[39m \u001b[43m_run_trial\u001b[49m\u001b[43m(\u001b[49m\u001b[43mstudy\u001b[49m\u001b[43m,\u001b[49m\u001b[43m \u001b[49m\u001b[43mfunc\u001b[49m\u001b[43m,\u001b[49m\u001b[43m \u001b[49m\u001b[43mcatch\u001b[49m\u001b[43m)\u001b[49m\n\u001b[0;32m    161\u001b[0m \u001b[38;5;28;01mfinally\u001b[39;00m:\n\u001b[0;32m    162\u001b[0m     \u001b[38;5;66;03m# The following line mitigates memory problems that can be occurred in some\u001b[39;00m\n\u001b[0;32m    163\u001b[0m     \u001b[38;5;66;03m# environments (e.g., services that use computing containers such as GitHub Actions).\u001b[39;00m\n\u001b[0;32m    164\u001b[0m     \u001b[38;5;66;03m# Please refer to the following PR for further details:\u001b[39;00m\n\u001b[0;32m    165\u001b[0m     \u001b[38;5;66;03m# https://github.com/optuna/optuna/pull/325.\u001b[39;00m\n\u001b[0;32m    166\u001b[0m     \u001b[38;5;28;01mif\u001b[39;00m gc_after_trial:\n",
      "File \u001b[1;32mc:\\Users\\diego\\AppData\\Local\\Programs\\Python\\Python310\\lib\\site-packages\\optuna\\study\\_optimize.py:248\u001b[0m, in \u001b[0;36m_run_trial\u001b[1;34m(study, func, catch)\u001b[0m\n\u001b[0;32m    241\u001b[0m         \u001b[38;5;28;01massert\u001b[39;00m \u001b[38;5;28;01mFalse\u001b[39;00m, \u001b[38;5;124m\"\u001b[39m\u001b[38;5;124mShould not reach.\u001b[39m\u001b[38;5;124m\"\u001b[39m\n\u001b[0;32m    243\u001b[0m \u001b[38;5;28;01mif\u001b[39;00m (\n\u001b[0;32m    244\u001b[0m     frozen_trial\u001b[38;5;241m.\u001b[39mstate \u001b[38;5;241m==\u001b[39m TrialState\u001b[38;5;241m.\u001b[39mFAIL\n\u001b[0;32m    245\u001b[0m     \u001b[38;5;129;01mand\u001b[39;00m func_err \u001b[38;5;129;01mis\u001b[39;00m \u001b[38;5;129;01mnot\u001b[39;00m \u001b[38;5;28;01mNone\u001b[39;00m\n\u001b[0;32m    246\u001b[0m     \u001b[38;5;129;01mand\u001b[39;00m \u001b[38;5;129;01mnot\u001b[39;00m \u001b[38;5;28misinstance\u001b[39m(func_err, catch)\n\u001b[0;32m    247\u001b[0m ):\n\u001b[1;32m--> 248\u001b[0m     \u001b[38;5;28;01mraise\u001b[39;00m func_err\n\u001b[0;32m    249\u001b[0m \u001b[38;5;28;01mreturn\u001b[39;00m frozen_trial\n",
      "File \u001b[1;32mc:\\Users\\diego\\AppData\\Local\\Programs\\Python\\Python310\\lib\\site-packages\\optuna\\study\\_optimize.py:197\u001b[0m, in \u001b[0;36m_run_trial\u001b[1;34m(study, func, catch)\u001b[0m\n\u001b[0;32m    195\u001b[0m \u001b[38;5;28;01mwith\u001b[39;00m get_heartbeat_thread(trial\u001b[38;5;241m.\u001b[39m_trial_id, study\u001b[38;5;241m.\u001b[39m_storage):\n\u001b[0;32m    196\u001b[0m     \u001b[38;5;28;01mtry\u001b[39;00m:\n\u001b[1;32m--> 197\u001b[0m         value_or_values \u001b[38;5;241m=\u001b[39m \u001b[43mfunc\u001b[49m\u001b[43m(\u001b[49m\u001b[43mtrial\u001b[49m\u001b[43m)\u001b[49m\n\u001b[0;32m    198\u001b[0m     \u001b[38;5;28;01mexcept\u001b[39;00m exceptions\u001b[38;5;241m.\u001b[39mTrialPruned \u001b[38;5;28;01mas\u001b[39;00m e:\n\u001b[0;32m    199\u001b[0m         \u001b[38;5;66;03m# TODO(mamu): Handle multi-objective cases.\u001b[39;00m\n\u001b[0;32m    200\u001b[0m         state \u001b[38;5;241m=\u001b[39m TrialState\u001b[38;5;241m.\u001b[39mPRUNED\n",
      "Cell \u001b[1;32mIn[6], line 36\u001b[0m, in \u001b[0;36mobjective\u001b[1;34m(trial)\u001b[0m\n\u001b[0;32m     33\u001b[0m pipeline \u001b[38;5;241m=\u001b[39m create_pipeline(model)\n\u001b[0;32m     35\u001b[0m \u001b[38;5;66;03m# Entrenar el modelo\u001b[39;00m\n\u001b[1;32m---> 36\u001b[0m \u001b[43mpipeline\u001b[49m\u001b[38;5;241;43m.\u001b[39;49m\u001b[43mfit\u001b[49m\u001b[43m(\u001b[49m\u001b[43mdata_train\u001b[49m\u001b[43m,\u001b[49m\u001b[43m \u001b[49m\u001b[43my_train\u001b[49m\u001b[43m)\u001b[49m\n\u001b[0;32m     38\u001b[0m \u001b[38;5;66;03m# Realizar predicciones en el conjunto de validación\u001b[39;00m\n\u001b[0;32m     39\u001b[0m y_pred \u001b[38;5;241m=\u001b[39m pipeline\u001b[38;5;241m.\u001b[39mpredict(data_val)\n",
      "File \u001b[1;32mc:\\Users\\diego\\AppData\\Local\\Programs\\Python\\Python310\\lib\\site-packages\\sklearn\\base.py:1474\u001b[0m, in \u001b[0;36m_fit_context.<locals>.decorator.<locals>.wrapper\u001b[1;34m(estimator, *args, **kwargs)\u001b[0m\n\u001b[0;32m   1467\u001b[0m     estimator\u001b[38;5;241m.\u001b[39m_validate_params()\n\u001b[0;32m   1469\u001b[0m \u001b[38;5;28;01mwith\u001b[39;00m config_context(\n\u001b[0;32m   1470\u001b[0m     skip_parameter_validation\u001b[38;5;241m=\u001b[39m(\n\u001b[0;32m   1471\u001b[0m         prefer_skip_nested_validation \u001b[38;5;129;01mor\u001b[39;00m global_skip_validation\n\u001b[0;32m   1472\u001b[0m     )\n\u001b[0;32m   1473\u001b[0m ):\n\u001b[1;32m-> 1474\u001b[0m     \u001b[38;5;28;01mreturn\u001b[39;00m fit_method(estimator, \u001b[38;5;241m*\u001b[39margs, \u001b[38;5;241m*\u001b[39m\u001b[38;5;241m*\u001b[39mkwargs)\n",
      "File \u001b[1;32mc:\\Users\\diego\\AppData\\Local\\Programs\\Python\\Python310\\lib\\site-packages\\imblearn\\pipeline.py:333\u001b[0m, in \u001b[0;36mPipeline.fit\u001b[1;34m(self, X, y, **params)\u001b[0m\n\u001b[0;32m    331\u001b[0m     \u001b[38;5;28;01mif\u001b[39;00m \u001b[38;5;28mself\u001b[39m\u001b[38;5;241m.\u001b[39m_final_estimator \u001b[38;5;241m!=\u001b[39m \u001b[38;5;124m\"\u001b[39m\u001b[38;5;124mpassthrough\u001b[39m\u001b[38;5;124m\"\u001b[39m:\n\u001b[0;32m    332\u001b[0m         last_step_params \u001b[38;5;241m=\u001b[39m routed_params[\u001b[38;5;28mself\u001b[39m\u001b[38;5;241m.\u001b[39msteps[\u001b[38;5;241m-\u001b[39m\u001b[38;5;241m1\u001b[39m][\u001b[38;5;241m0\u001b[39m]]\n\u001b[1;32m--> 333\u001b[0m         \u001b[38;5;28mself\u001b[39m\u001b[38;5;241m.\u001b[39m_final_estimator\u001b[38;5;241m.\u001b[39mfit(Xt, yt, \u001b[38;5;241m*\u001b[39m\u001b[38;5;241m*\u001b[39mlast_step_params[\u001b[38;5;124m\"\u001b[39m\u001b[38;5;124mfit\u001b[39m\u001b[38;5;124m\"\u001b[39m])\n\u001b[0;32m    334\u001b[0m \u001b[38;5;28;01mreturn\u001b[39;00m \u001b[38;5;28mself\u001b[39m\n",
      "File \u001b[1;32mc:\\Users\\diego\\AppData\\Local\\Programs\\Python\\Python310\\lib\\site-packages\\sklearn\\base.py:1474\u001b[0m, in \u001b[0;36m_fit_context.<locals>.decorator.<locals>.wrapper\u001b[1;34m(estimator, *args, **kwargs)\u001b[0m\n\u001b[0;32m   1467\u001b[0m     estimator\u001b[38;5;241m.\u001b[39m_validate_params()\n\u001b[0;32m   1469\u001b[0m \u001b[38;5;28;01mwith\u001b[39;00m config_context(\n\u001b[0;32m   1470\u001b[0m     skip_parameter_validation\u001b[38;5;241m=\u001b[39m(\n\u001b[0;32m   1471\u001b[0m         prefer_skip_nested_validation \u001b[38;5;129;01mor\u001b[39;00m global_skip_validation\n\u001b[0;32m   1472\u001b[0m     )\n\u001b[0;32m   1473\u001b[0m ):\n\u001b[1;32m-> 1474\u001b[0m     \u001b[38;5;28;01mreturn\u001b[39;00m fit_method(estimator, \u001b[38;5;241m*\u001b[39margs, \u001b[38;5;241m*\u001b[39m\u001b[38;5;241m*\u001b[39mkwargs)\n",
      "File \u001b[1;32mc:\\Users\\diego\\AppData\\Local\\Programs\\Python\\Python310\\lib\\site-packages\\sklearn\\ensemble\\_forest.py:489\u001b[0m, in \u001b[0;36mBaseForest.fit\u001b[1;34m(self, X, y, sample_weight)\u001b[0m\n\u001b[0;32m    478\u001b[0m trees \u001b[38;5;241m=\u001b[39m [\n\u001b[0;32m    479\u001b[0m     \u001b[38;5;28mself\u001b[39m\u001b[38;5;241m.\u001b[39m_make_estimator(append\u001b[38;5;241m=\u001b[39m\u001b[38;5;28;01mFalse\u001b[39;00m, random_state\u001b[38;5;241m=\u001b[39mrandom_state)\n\u001b[0;32m    480\u001b[0m     \u001b[38;5;28;01mfor\u001b[39;00m i \u001b[38;5;129;01min\u001b[39;00m \u001b[38;5;28mrange\u001b[39m(n_more_estimators)\n\u001b[0;32m    481\u001b[0m ]\n\u001b[0;32m    483\u001b[0m \u001b[38;5;66;03m# Parallel loop: we prefer the threading backend as the Cython code\u001b[39;00m\n\u001b[0;32m    484\u001b[0m \u001b[38;5;66;03m# for fitting the trees is internally releasing the Python GIL\u001b[39;00m\n\u001b[0;32m    485\u001b[0m \u001b[38;5;66;03m# making threading more efficient than multiprocessing in\u001b[39;00m\n\u001b[0;32m    486\u001b[0m \u001b[38;5;66;03m# that case. However, for joblib 0.12+ we respect any\u001b[39;00m\n\u001b[0;32m    487\u001b[0m \u001b[38;5;66;03m# parallel_backend contexts set at a higher level,\u001b[39;00m\n\u001b[0;32m    488\u001b[0m \u001b[38;5;66;03m# since correctness does not rely on using threads.\u001b[39;00m\n\u001b[1;32m--> 489\u001b[0m trees \u001b[38;5;241m=\u001b[39m \u001b[43mParallel\u001b[49m\u001b[43m(\u001b[49m\n\u001b[0;32m    490\u001b[0m \u001b[43m    \u001b[49m\u001b[43mn_jobs\u001b[49m\u001b[38;5;241;43m=\u001b[39;49m\u001b[38;5;28;43mself\u001b[39;49m\u001b[38;5;241;43m.\u001b[39;49m\u001b[43mn_jobs\u001b[49m\u001b[43m,\u001b[49m\n\u001b[0;32m    491\u001b[0m \u001b[43m    \u001b[49m\u001b[43mverbose\u001b[49m\u001b[38;5;241;43m=\u001b[39;49m\u001b[38;5;28;43mself\u001b[39;49m\u001b[38;5;241;43m.\u001b[39;49m\u001b[43mverbose\u001b[49m\u001b[43m,\u001b[49m\n\u001b[0;32m    492\u001b[0m \u001b[43m    \u001b[49m\u001b[43mprefer\u001b[49m\u001b[38;5;241;43m=\u001b[39;49m\u001b[38;5;124;43m\"\u001b[39;49m\u001b[38;5;124;43mthreads\u001b[39;49m\u001b[38;5;124;43m\"\u001b[39;49m\u001b[43m,\u001b[49m\n\u001b[0;32m    493\u001b[0m \u001b[43m\u001b[49m\u001b[43m)\u001b[49m\u001b[43m(\u001b[49m\n\u001b[0;32m    494\u001b[0m \u001b[43m    \u001b[49m\u001b[43mdelayed\u001b[49m\u001b[43m(\u001b[49m\u001b[43m_parallel_build_trees\u001b[49m\u001b[43m)\u001b[49m\u001b[43m(\u001b[49m\n\u001b[0;32m    495\u001b[0m \u001b[43m        \u001b[49m\u001b[43mt\u001b[49m\u001b[43m,\u001b[49m\n\u001b[0;32m    496\u001b[0m \u001b[43m        \u001b[49m\u001b[38;5;28;43mself\u001b[39;49m\u001b[38;5;241;43m.\u001b[39;49m\u001b[43mbootstrap\u001b[49m\u001b[43m,\u001b[49m\n\u001b[0;32m    497\u001b[0m \u001b[43m        \u001b[49m\u001b[43mX\u001b[49m\u001b[43m,\u001b[49m\n\u001b[0;32m    498\u001b[0m \u001b[43m        \u001b[49m\u001b[43my\u001b[49m\u001b[43m,\u001b[49m\n\u001b[0;32m    499\u001b[0m \u001b[43m        \u001b[49m\u001b[43msample_weight\u001b[49m\u001b[43m,\u001b[49m\n\u001b[0;32m    500\u001b[0m \u001b[43m        \u001b[49m\u001b[43mi\u001b[49m\u001b[43m,\u001b[49m\n\u001b[0;32m    501\u001b[0m \u001b[43m        \u001b[49m\u001b[38;5;28;43mlen\u001b[39;49m\u001b[43m(\u001b[49m\u001b[43mtrees\u001b[49m\u001b[43m)\u001b[49m\u001b[43m,\u001b[49m\n\u001b[0;32m    502\u001b[0m \u001b[43m        \u001b[49m\u001b[43mverbose\u001b[49m\u001b[38;5;241;43m=\u001b[39;49m\u001b[38;5;28;43mself\u001b[39;49m\u001b[38;5;241;43m.\u001b[39;49m\u001b[43mverbose\u001b[49m\u001b[43m,\u001b[49m\n\u001b[0;32m    503\u001b[0m \u001b[43m        \u001b[49m\u001b[43mclass_weight\u001b[49m\u001b[38;5;241;43m=\u001b[39;49m\u001b[38;5;28;43mself\u001b[39;49m\u001b[38;5;241;43m.\u001b[39;49m\u001b[43mclass_weight\u001b[49m\u001b[43m,\u001b[49m\n\u001b[0;32m    504\u001b[0m \u001b[43m        \u001b[49m\u001b[43mn_samples_bootstrap\u001b[49m\u001b[38;5;241;43m=\u001b[39;49m\u001b[43mn_samples_bootstrap\u001b[49m\u001b[43m,\u001b[49m\n\u001b[0;32m    505\u001b[0m \u001b[43m        \u001b[49m\u001b[43mmissing_values_in_feature_mask\u001b[49m\u001b[38;5;241;43m=\u001b[39;49m\u001b[43mmissing_values_in_feature_mask\u001b[49m\u001b[43m,\u001b[49m\n\u001b[0;32m    506\u001b[0m \u001b[43m    \u001b[49m\u001b[43m)\u001b[49m\n\u001b[0;32m    507\u001b[0m \u001b[43m    \u001b[49m\u001b[38;5;28;43;01mfor\u001b[39;49;00m\u001b[43m \u001b[49m\u001b[43mi\u001b[49m\u001b[43m,\u001b[49m\u001b[43m \u001b[49m\u001b[43mt\u001b[49m\u001b[43m \u001b[49m\u001b[38;5;129;43;01min\u001b[39;49;00m\u001b[43m \u001b[49m\u001b[38;5;28;43menumerate\u001b[39;49m\u001b[43m(\u001b[49m\u001b[43mtrees\u001b[49m\u001b[43m)\u001b[49m\n\u001b[0;32m    508\u001b[0m \u001b[43m\u001b[49m\u001b[43m)\u001b[49m\n\u001b[0;32m    510\u001b[0m \u001b[38;5;66;03m# Collect newly grown trees\u001b[39;00m\n\u001b[0;32m    511\u001b[0m \u001b[38;5;28mself\u001b[39m\u001b[38;5;241m.\u001b[39mestimators_\u001b[38;5;241m.\u001b[39mextend(trees)\n",
      "File \u001b[1;32mc:\\Users\\diego\\AppData\\Local\\Programs\\Python\\Python310\\lib\\site-packages\\sklearn\\utils\\parallel.py:67\u001b[0m, in \u001b[0;36mParallel.__call__\u001b[1;34m(self, iterable)\u001b[0m\n\u001b[0;32m     62\u001b[0m config \u001b[38;5;241m=\u001b[39m get_config()\n\u001b[0;32m     63\u001b[0m iterable_with_config \u001b[38;5;241m=\u001b[39m (\n\u001b[0;32m     64\u001b[0m     (_with_config(delayed_func, config), args, kwargs)\n\u001b[0;32m     65\u001b[0m     \u001b[38;5;28;01mfor\u001b[39;00m delayed_func, args, kwargs \u001b[38;5;129;01min\u001b[39;00m iterable\n\u001b[0;32m     66\u001b[0m )\n\u001b[1;32m---> 67\u001b[0m \u001b[38;5;28;01mreturn\u001b[39;00m \u001b[38;5;28;43msuper\u001b[39;49m\u001b[43m(\u001b[49m\u001b[43m)\u001b[49m\u001b[38;5;241;43m.\u001b[39;49m\u001b[38;5;21;43m__call__\u001b[39;49m\u001b[43m(\u001b[49m\u001b[43miterable_with_config\u001b[49m\u001b[43m)\u001b[49m\n",
      "File \u001b[1;32mc:\\Users\\diego\\AppData\\Local\\Programs\\Python\\Python310\\lib\\site-packages\\joblib\\parallel.py:1863\u001b[0m, in \u001b[0;36mParallel.__call__\u001b[1;34m(self, iterable)\u001b[0m\n\u001b[0;32m   1861\u001b[0m     output \u001b[38;5;241m=\u001b[39m \u001b[38;5;28mself\u001b[39m\u001b[38;5;241m.\u001b[39m_get_sequential_output(iterable)\n\u001b[0;32m   1862\u001b[0m     \u001b[38;5;28mnext\u001b[39m(output)\n\u001b[1;32m-> 1863\u001b[0m     \u001b[38;5;28;01mreturn\u001b[39;00m output \u001b[38;5;28;01mif\u001b[39;00m \u001b[38;5;28mself\u001b[39m\u001b[38;5;241m.\u001b[39mreturn_generator \u001b[38;5;28;01melse\u001b[39;00m \u001b[38;5;28;43mlist\u001b[39;49m\u001b[43m(\u001b[49m\u001b[43moutput\u001b[49m\u001b[43m)\u001b[49m\n\u001b[0;32m   1865\u001b[0m \u001b[38;5;66;03m# Let's create an ID that uniquely identifies the current call. If the\u001b[39;00m\n\u001b[0;32m   1866\u001b[0m \u001b[38;5;66;03m# call is interrupted early and that the same instance is immediately\u001b[39;00m\n\u001b[0;32m   1867\u001b[0m \u001b[38;5;66;03m# re-used, this id will be used to prevent workers that were\u001b[39;00m\n\u001b[0;32m   1868\u001b[0m \u001b[38;5;66;03m# concurrently finalizing a task from the previous call to run the\u001b[39;00m\n\u001b[0;32m   1869\u001b[0m \u001b[38;5;66;03m# callback.\u001b[39;00m\n\u001b[0;32m   1870\u001b[0m \u001b[38;5;28;01mwith\u001b[39;00m \u001b[38;5;28mself\u001b[39m\u001b[38;5;241m.\u001b[39m_lock:\n",
      "File \u001b[1;32mc:\\Users\\diego\\AppData\\Local\\Programs\\Python\\Python310\\lib\\site-packages\\joblib\\parallel.py:1792\u001b[0m, in \u001b[0;36mParallel._get_sequential_output\u001b[1;34m(self, iterable)\u001b[0m\n\u001b[0;32m   1790\u001b[0m \u001b[38;5;28mself\u001b[39m\u001b[38;5;241m.\u001b[39mn_dispatched_batches \u001b[38;5;241m+\u001b[39m\u001b[38;5;241m=\u001b[39m \u001b[38;5;241m1\u001b[39m\n\u001b[0;32m   1791\u001b[0m \u001b[38;5;28mself\u001b[39m\u001b[38;5;241m.\u001b[39mn_dispatched_tasks \u001b[38;5;241m+\u001b[39m\u001b[38;5;241m=\u001b[39m \u001b[38;5;241m1\u001b[39m\n\u001b[1;32m-> 1792\u001b[0m res \u001b[38;5;241m=\u001b[39m func(\u001b[38;5;241m*\u001b[39margs, \u001b[38;5;241m*\u001b[39m\u001b[38;5;241m*\u001b[39mkwargs)\n\u001b[0;32m   1793\u001b[0m \u001b[38;5;28mself\u001b[39m\u001b[38;5;241m.\u001b[39mn_completed_tasks \u001b[38;5;241m+\u001b[39m\u001b[38;5;241m=\u001b[39m \u001b[38;5;241m1\u001b[39m\n\u001b[0;32m   1794\u001b[0m \u001b[38;5;28mself\u001b[39m\u001b[38;5;241m.\u001b[39mprint_progress()\n",
      "File \u001b[1;32mc:\\Users\\diego\\AppData\\Local\\Programs\\Python\\Python310\\lib\\site-packages\\sklearn\\utils\\parallel.py:129\u001b[0m, in \u001b[0;36m_FuncWrapper.__call__\u001b[1;34m(self, *args, **kwargs)\u001b[0m\n\u001b[0;32m    127\u001b[0m     config \u001b[38;5;241m=\u001b[39m {}\n\u001b[0;32m    128\u001b[0m \u001b[38;5;28;01mwith\u001b[39;00m config_context(\u001b[38;5;241m*\u001b[39m\u001b[38;5;241m*\u001b[39mconfig):\n\u001b[1;32m--> 129\u001b[0m     \u001b[38;5;28;01mreturn\u001b[39;00m \u001b[38;5;28mself\u001b[39m\u001b[38;5;241m.\u001b[39mfunction(\u001b[38;5;241m*\u001b[39margs, \u001b[38;5;241m*\u001b[39m\u001b[38;5;241m*\u001b[39mkwargs)\n",
      "File \u001b[1;32mc:\\Users\\diego\\AppData\\Local\\Programs\\Python\\Python310\\lib\\site-packages\\sklearn\\ensemble\\_forest.py:200\u001b[0m, in \u001b[0;36m_parallel_build_trees\u001b[1;34m(tree, bootstrap, X, y, sample_weight, tree_idx, n_trees, verbose, class_weight, n_samples_bootstrap, missing_values_in_feature_mask)\u001b[0m\n\u001b[0;32m    192\u001b[0m     tree\u001b[38;5;241m.\u001b[39m_fit(\n\u001b[0;32m    193\u001b[0m         X,\n\u001b[0;32m    194\u001b[0m         y,\n\u001b[1;32m   (...)\u001b[0m\n\u001b[0;32m    197\u001b[0m         missing_values_in_feature_mask\u001b[38;5;241m=\u001b[39mmissing_values_in_feature_mask,\n\u001b[0;32m    198\u001b[0m     )\n\u001b[0;32m    199\u001b[0m \u001b[38;5;28;01melse\u001b[39;00m:\n\u001b[1;32m--> 200\u001b[0m     \u001b[43mtree\u001b[49m\u001b[38;5;241;43m.\u001b[39;49m\u001b[43m_fit\u001b[49m\u001b[43m(\u001b[49m\n\u001b[0;32m    201\u001b[0m \u001b[43m        \u001b[49m\u001b[43mX\u001b[49m\u001b[43m,\u001b[49m\n\u001b[0;32m    202\u001b[0m \u001b[43m        \u001b[49m\u001b[43my\u001b[49m\u001b[43m,\u001b[49m\n\u001b[0;32m    203\u001b[0m \u001b[43m        \u001b[49m\u001b[43msample_weight\u001b[49m\u001b[38;5;241;43m=\u001b[39;49m\u001b[43msample_weight\u001b[49m\u001b[43m,\u001b[49m\n\u001b[0;32m    204\u001b[0m \u001b[43m        \u001b[49m\u001b[43mcheck_input\u001b[49m\u001b[38;5;241;43m=\u001b[39;49m\u001b[38;5;28;43;01mFalse\u001b[39;49;00m\u001b[43m,\u001b[49m\n\u001b[0;32m    205\u001b[0m \u001b[43m        \u001b[49m\u001b[43mmissing_values_in_feature_mask\u001b[49m\u001b[38;5;241;43m=\u001b[39;49m\u001b[43mmissing_values_in_feature_mask\u001b[49m\u001b[43m,\u001b[49m\n\u001b[0;32m    206\u001b[0m \u001b[43m    \u001b[49m\u001b[43m)\u001b[49m\n\u001b[0;32m    208\u001b[0m \u001b[38;5;28;01mreturn\u001b[39;00m tree\n",
      "File \u001b[1;32mc:\\Users\\diego\\AppData\\Local\\Programs\\Python\\Python310\\lib\\site-packages\\sklearn\\tree\\_classes.py:472\u001b[0m, in \u001b[0;36mBaseDecisionTree._fit\u001b[1;34m(self, X, y, sample_weight, check_input, missing_values_in_feature_mask)\u001b[0m\n\u001b[0;32m    461\u001b[0m \u001b[38;5;28;01melse\u001b[39;00m:\n\u001b[0;32m    462\u001b[0m     builder \u001b[38;5;241m=\u001b[39m BestFirstTreeBuilder(\n\u001b[0;32m    463\u001b[0m         splitter,\n\u001b[0;32m    464\u001b[0m         min_samples_split,\n\u001b[1;32m   (...)\u001b[0m\n\u001b[0;32m    469\u001b[0m         \u001b[38;5;28mself\u001b[39m\u001b[38;5;241m.\u001b[39mmin_impurity_decrease,\n\u001b[0;32m    470\u001b[0m     )\n\u001b[1;32m--> 472\u001b[0m \u001b[43mbuilder\u001b[49m\u001b[38;5;241;43m.\u001b[39;49m\u001b[43mbuild\u001b[49m\u001b[43m(\u001b[49m\u001b[38;5;28;43mself\u001b[39;49m\u001b[38;5;241;43m.\u001b[39;49m\u001b[43mtree_\u001b[49m\u001b[43m,\u001b[49m\u001b[43m \u001b[49m\u001b[43mX\u001b[49m\u001b[43m,\u001b[49m\u001b[43m \u001b[49m\u001b[43my\u001b[49m\u001b[43m,\u001b[49m\u001b[43m \u001b[49m\u001b[43msample_weight\u001b[49m\u001b[43m,\u001b[49m\u001b[43m \u001b[49m\u001b[43mmissing_values_in_feature_mask\u001b[49m\u001b[43m)\u001b[49m\n\u001b[0;32m    474\u001b[0m \u001b[38;5;28;01mif\u001b[39;00m \u001b[38;5;28mself\u001b[39m\u001b[38;5;241m.\u001b[39mn_outputs_ \u001b[38;5;241m==\u001b[39m \u001b[38;5;241m1\u001b[39m \u001b[38;5;129;01mand\u001b[39;00m is_classifier(\u001b[38;5;28mself\u001b[39m):\n\u001b[0;32m    475\u001b[0m     \u001b[38;5;28mself\u001b[39m\u001b[38;5;241m.\u001b[39mn_classes_ \u001b[38;5;241m=\u001b[39m \u001b[38;5;28mself\u001b[39m\u001b[38;5;241m.\u001b[39mn_classes_[\u001b[38;5;241m0\u001b[39m]\n",
      "\u001b[1;31mKeyboardInterrupt\u001b[0m: "
     ]
    }
   ],
   "source": [
    "# Modelo inicial\n",
    "initial_model = RandomForestClassifier(random_state=123)\n",
    "initial_pipeline = create_pipeline(initial_model)\n",
    "\n",
    "# Entrenar el modelo inicial sin optimización de parámetros\n",
    "initial_pipeline.fit(data_train, y_train)\n",
    "\n",
    "# Evaluación inicial en el conjunto de test\n",
    "initial_y_pred = initial_pipeline.predict(data_val)\n",
    "initial_f1 = f1_score(y_val, initial_y_pred)\n",
    "initial_auc_pr = average_precision_score(y_val, initial_y_pred)\n",
    "print(f'Rendimiento inicial en X_test: (F1) = {initial_f1} | AUC-PR = {initial_auc_pr}')\n",
    "\n",
    "# Crear la función objetivo para Optuna\n",
    "def objective(trial):\n",
    "    # Definir los hiperparámetros a optimizar\n",
    "    params = {\n",
    "        \"n_estimators\": trial.suggest_int(\"n_estimators\", 10, 300),\n",
    "        \"max_depth\": trial.suggest_int(\"max_depth\", 15, 35),\n",
    "        \"min_samples_split\": trial.suggest_int(\"min_samples_split\", 2, 6),\n",
    "        \"min_samples_leaf\": trial.suggest_int(\"min_samples_leaf\", 1, 10),\n",
    "        \"max_features\": trial.suggest_categorical(\"max_features\", [\"sqrt\", \"log2\", 0.9, 1.0]),\n",
    "        \"bootstrap\": trial.suggest_categorical(\"bootstrap\", [True, False])\n",
    "    }\n",
    "    \n",
    "    # Entrena el modelo\n",
    "    model = RandomForestClassifier(\n",
    "        random_state=17,\n",
    "        **params\n",
    "    )\n",
    "    \n",
    "    # Crear el pipeline\n",
    "    pipeline = create_pipeline(model)\n",
    "    \n",
    "    # Entrenar el modelo\n",
    "    pipeline.fit(data_train, y_train)\n",
    "    \n",
    "    # Realizar predicciones en el conjunto de validación\n",
    "    y_pred = pipeline.predict(data_val)\n",
    "    \n",
    "    # Calcular F1 score en el conjunto de validación\n",
    "    f1 = f1_score(y_val, y_pred)\n",
    "    auc_pr = average_precision_score(y_val, y_pred)\n",
    "    \n",
    "    # Imprimir matriz de confusión solo si mejora el F1 anterior\n",
    "    global best_auc_pr\n",
    "    if auc_pr > best_auc_pr:\n",
    "        best_auc_pr = auc_pr\n",
    "        # Mostrar el rendimiento durante cada iteración\n",
    "        print(f'F1 score en iteración {trial.number}: {f1}')\n",
    "        print(f'AUC-PR en iteración {trial.number}: {auc_pr}')\n",
    "        cm = confusion_matrix(y_val, y_pred)\n",
    "        sns.heatmap(cm, annot=True, fmt='d', cmap='Blues', xticklabels=['Negativo', 'Positivo'], yticklabels=['Negativo', 'Positivo'])\n",
    "        plt.title(f'Matriz de Confusión en Iteración {trial.number}')\n",
    "        plt.show()\n",
    "\n",
    "    return auc_pr  # Queremos maximizar AUC-PR\n",
    "\n",
    "best_auc_pr = initial_auc_pr\n",
    "\n",
    "# Configurar y ejecutar el estudio Optuna\n",
    "study_rf = optuna.create_study(direction='maximize')  \n",
    "study_rf.optimize(objective, n_trials=200, n_jobs=1)  \n",
    "\n",
    "# Mejor conjunto de parámetros encontrados\n",
    "best_params_rf = study_rf.best_params\n",
    "print(f'Mejores parámetros encontrados: {best_params_rf}')\n",
    "\n",
    "# Crear el modelo final con los mejores parámetros\n",
    "final_model_rf = RandomForestClassifier(**best_params_rf, random_state=123)\n",
    "\n",
    "# Crear el pipeline final con el preprocesador\n",
    "final_pipeline_rf = create_pipeline(final_model_rf)\n",
    "\n",
    "# Entrenar el modelo final\n",
    "final_pipeline_rf.fit(data_train, y_train)\n",
    "\n",
    "# Guardar el escalador (transformador) para uso posterior\n",
    "joblib.dump(final_pipeline_rf.named_steps['preprocessing'], 'scaler.pkl')\n",
    "\n",
    "# Evaluación final en el conjunto de test con la métrica F1\n",
    "final_y_pred = final_pipeline_rf.predict(data_val)\n",
    "final_f1 = f1_score(y_val, final_y_pred)\n",
    "final_auc = average_precision_score(y_val, final_y_pred)\n",
    "print(f'Rendimiento final en X_test: (F1) = {final_f1} | AUC-PR = {final_auc}')\n",
    "\n",
    "# Mostrar la matriz de confusión final\n",
    "final_cm_rf = confusion_matrix(y_val, final_y_pred)\n",
    "sns.heatmap(final_cm_rf, annot=True, fmt='d', cmap='Blues', xticklabels=['Negativo', 'Positivo'], yticklabels=['Negativo', 'Positivo'])\n",
    "plt.title('Matriz de Confusión Final')\n",
    "plt.show()\n",
    "\n",
    "# Guardar el pipeline final para uso posterior\n",
    "joblib.dump(final_pipeline_rf, 'final_pipeline.pkl')"
   ]
  },
  {
   "cell_type": "markdown",
   "metadata": {},
   "source": [
    "[I 2024-12-12 23:11:09,478] Trial 104 finished with value: 0.8856613105014567 and parameters: {'n_estimators': 294, 'max_depth': 28, 'min_samples_split': 2, 'min_samples_leaf': 1, 'max_features': 'log2', 'bootstrap': False}. Best is trial 104 with value: 0.8856613105014567\n",
    "\n",
    "F1 score en iteración 104: 0.9020844550419198\n",
    "AUC-PR en iteración 104: 0.8856613105014567"
   ]
  },
  {
   "cell_type": "code",
   "execution_count": 8,
   "metadata": {},
   "outputs": [
    {
     "name": "stdout",
     "output_type": "stream",
     "text": [
      "Mejores parámetros encontrados: {'n_estimators': 294, 'max_depth': 28, 'min_samples_split': 2, 'min_samples_leaf': 1, 'max_features': 'log2', 'bootstrap': False}\n",
      "Rendimiento final en X_test: (F1) = 0.9013889954723352 | AUC-PR = 0.8835528002270768\n"
     ]
    },
    {
     "data": {
      "image/png": "[encoded data removed]",
      "text/plain": [
       "<Figure size 800x550 with 2 Axes>"
      ]
     },
     "metadata": {},
     "output_type": "display_data"
    }
   ],
   "source": [
    "# Mejor conjunto de parámetros encontrados\n",
    "best_params_rf = {\n",
    "    'n_estimators': 294,\n",
    "    'max_depth': 28,\n",
    "    'min_samples_split': 2,\n",
    "    'min_samples_leaf': 1,\n",
    "    'max_features': 'log2',\n",
    "    'bootstrap': False\n",
    "}\n",
    "\n",
    "#best_params_rf = study_rf.best_params\n",
    "print(f'Mejores parámetros encontrados: {best_params_rf}')\n",
    "\n",
    "# Crear el modelo final con los mejores parámetros\n",
    "final_model_rf = RandomForestClassifier(**best_params_rf, random_state=123)\n",
    "\n",
    "# Crear el pipeline final con el preprocesador\n",
    "final_pipeline_rf = create_pipeline(final_model_rf)\n",
    "\n",
    "# Entrenar el modelo final\n",
    "final_pipeline_rf.fit(data_train, y_train)\n",
    "\n",
    "# Guardar el escalador (transformador) para uso posterior\n",
    "joblib.dump(final_pipeline_rf.named_steps['preprocessing'], 'scaler.pkl')\n",
    "\n",
    "# Evaluación final en el conjunto de test con la métrica F1\n",
    "final_y_pred = final_pipeline_rf.predict(data_val)\n",
    "final_f1 = f1_score(y_val, final_y_pred)\n",
    "final_auc = average_precision_score(y_val, final_y_pred)\n",
    "print(f'Rendimiento final en X_test: (F1) = {final_f1} | AUC-PR = {final_auc}')\n",
    "\n",
    "# Mostrar la matriz de confusión final\n",
    "final_cm_rf = confusion_matrix(y_val, final_y_pred)\n",
    "sns.heatmap(final_cm_rf, annot=True, fmt='d', cmap='Blues', xticklabels=['Negativo', 'Positivo'], yticklabels=['Negativo', 'Positivo'])\n",
    "plt.title('Matriz de Confusión Final')\n",
    "plt.show()"
   ]
  },
  {
   "cell_type": "code",
   "execution_count": 10,
   "metadata": {},
   "outputs": [
    {
     "data": {
      "text/plain": [
       "['RF_model_f1_0.9013889954723352_auc0.8835528002270768.pkl']"
      ]
     },
     "execution_count": 10,
     "metadata": {},
     "output_type": "execute_result"
    }
   ],
   "source": [
    "# Guardar el pipeline final y el modelo para uso posterior\n",
    "mod = 'RF'\n",
    "f1_nombre = str(final_f1)\n",
    "auc_nombre = str(final_auc)\n",
    "joblib.dump(final_pipeline_rf, f'final_pipeline_{mod}_f1_{f1_nombre}_auc{auc_nombre}.pkl')\n",
    "joblib.dump(final_model_rf, f'{mod}_model_f1_{f1_nombre}_auc{auc_nombre}.pkl')"
   ]
  },
  {
   "cell_type": "code",
   "execution_count": 7,
   "metadata": {},
   "outputs": [
    {
     "name": "stdout",
     "output_type": "stream",
     "text": [
      "Index(['n_estimators', 'max_depth', 'min_samples_split', 'min_samples_leaf',\n",
      "       'max_features', 'bootstrap', 'F1 Score'],\n",
      "      dtype='object')\n"
     ]
    },
    {
     "data": {
      "application/vnd.plotly.v1+json": {
       "config": {
        "plotlyServerURL": "https://plot.ly"
       },
       "data": [
        {
         "dimensions": [
          {
           "label": "Número de Estimadores",
           "values": [
            53,
            106,
            28,
            194,
            154,
            273,
            175,
            183,
            280,
            129,
            289,
            291,
            239,
            241,
            231,
            232,
            245,
            214,
            89,
            255,
            206,
            264,
            253,
            232,
            300,
            298,
            264,
            210,
            163,
            265,
            300,
            244,
            220,
            249,
            54,
            272,
            196,
            146,
            282,
            186,
            17,
            235,
            223,
            257,
            280,
            219,
            199,
            177,
            241,
            225,
            132,
            231,
            252,
            252,
            274,
            96,
            288,
            261,
            204,
            242,
            274,
            272,
            287,
            291,
            294,
            258,
            300,
            281,
            267,
            252,
            223,
            287,
            275,
            236,
            239,
            267,
            267,
            268,
            283,
            283,
            277,
            293,
            296,
            293,
            293,
            297,
            300,
            300,
            292,
            287,
            295,
            286,
            300,
            285,
            285,
            265,
            64,
            279,
            261,
            291,
            271,
            284,
            278,
            285,
            294,
            290,
            295,
            295,
            289,
            277,
            295,
            283,
            290,
            281,
            300,
            300,
            298,
            300,
            300,
            300,
            295,
            294,
            294,
            295,
            274,
            300,
            292,
            278,
            289,
            117,
            296,
            286,
            287,
            300,
            289,
            271,
            271,
            280,
            280,
            166,
            286,
            291,
            291,
            293,
            300,
            290,
            285,
            295,
            275,
            289,
            281,
            280,
            300,
            295,
            300,
            290,
            286,
            300,
            293,
            294
           ]
          },
          {
           "label": "Profundidad Máxima",
           "values": [
            15,
            30,
            17,
            16,
            22,
            27,
            29,
            21,
            22,
            25,
            33,
            33,
            35,
            35,
            35,
            35,
            32,
            31,
            27,
            35,
            29,
            35,
            33,
            33,
            33,
            31,
            28,
            25,
            32,
            33,
            19,
            34,
            31,
            34,
            30,
            34,
            32,
            30,
            34,
            15,
            25,
            33,
            32,
            32,
            35,
            34,
            29,
            33,
            31,
            35,
            23,
            33,
            32,
            32,
            30,
            27,
            34,
            35,
            32,
            31,
            34,
            34,
            33,
            33,
            35,
            32,
            28,
            18,
            31,
            35,
            33,
            34,
            33,
            30,
            30,
            33,
            33,
            33,
            29,
            31,
            24,
            28,
            28,
            28,
            26,
            28,
            28,
            28,
            27,
            26,
            26,
            26,
            29,
            28,
            27,
            28,
            28,
            28,
            27,
            29,
            28,
            27,
            27,
            28,
            28,
            28,
            28,
            29,
            29,
            25,
            28,
            27,
            26,
            29,
            28,
            28,
            28,
            28,
            30,
            29,
            28,
            28,
            27,
            29,
            27,
            30,
            28,
            29,
            28,
            27,
            26,
            28,
            28,
            29,
            27,
            28,
            29,
            28,
            27,
            28,
            29,
            28,
            28,
            27,
            30,
            28,
            27,
            26,
            28,
            29,
            28,
            20,
            28,
            27,
            29,
            28,
            29,
            27,
            28,
            30
           ]
          },
          {
           "label": "Mínimo de Muestras para División",
           "values": [
            4,
            3,
            6,
            2,
            2,
            6,
            6,
            5,
            2,
            4,
            3,
            3,
            3,
            3,
            3,
            4,
            5,
            3,
            5,
            2,
            3,
            2,
            2,
            3,
            2,
            2,
            2,
            2,
            2,
            4,
            3,
            4,
            3,
            3,
            2,
            2,
            4,
            2,
            3,
            3,
            2,
            3,
            3,
            4,
            3,
            2,
            3,
            4,
            2,
            5,
            3,
            3,
            3,
            3,
            4,
            3,
            2,
            6,
            2,
            3,
            2,
            2,
            2,
            2,
            3,
            2,
            2,
            3,
            3,
            2,
            4,
            2,
            2,
            2,
            2,
            2,
            2,
            2,
            2,
            2,
            2,
            2,
            2,
            2,
            2,
            2,
            2,
            2,
            2,
            2,
            2,
            2,
            2,
            2,
            2,
            2,
            2,
            2,
            2,
            2,
            2,
            2,
            2,
            2,
            2,
            2,
            2,
            2,
            2,
            2,
            2,
            2,
            2,
            2,
            2,
            2,
            2,
            2,
            5,
            2,
            2,
            2,
            2,
            2,
            2,
            2,
            2,
            2,
            2,
            6,
            2,
            2,
            2,
            2,
            2,
            2,
            2,
            2,
            2,
            2,
            2,
            2,
            2,
            2,
            2,
            2,
            2,
            2,
            2,
            2,
            2,
            2,
            2,
            2,
            2,
            2,
            2,
            2,
            2,
            2
           ]
          },
          {
           "label": "Mínimo de Muestras para Hoja",
           "values": [
            7,
            3,
            9,
            7,
            1,
            5,
            7,
            3,
            3,
            8,
            1,
            1,
            1,
            1,
            4,
            2,
            5,
            10,
            2,
            2,
            4,
            2,
            1,
            1,
            1,
            4,
            3,
            2,
            6,
            1,
            2,
            1,
            1,
            3,
            2,
            1,
            3,
            2,
            1,
            6,
            8,
            1,
            1,
            2,
            1,
            3,
            2,
            1,
            4,
            1,
            3,
            1,
            1,
            2,
            1,
            2,
            1,
            10,
            2,
            9,
            1,
            1,
            1,
            2,
            1,
            2,
            1,
            5,
            2,
            1,
            3,
            1,
            1,
            1,
            2,
            1,
            1,
            2,
            1,
            1,
            7,
            1,
            1,
            1,
            2,
            1,
            1,
            2,
            1,
            1,
            2,
            1,
            1,
            1,
            1,
            1,
            1,
            2,
            1,
            1,
            2,
            1,
            1,
            1,
            1,
            1,
            1,
            2,
            1,
            8,
            2,
            1,
            1,
            6,
            1,
            1,
            1,
            1,
            1,
            2,
            1,
            1,
            1,
            1,
            1,
            1,
            2,
            1,
            2,
            1,
            1,
            1,
            1,
            1,
            1,
            1,
            1,
            1,
            2,
            1,
            1,
            1,
            1,
            1,
            1,
            1,
            4,
            1,
            2,
            1,
            1,
            1,
            1,
            1,
            1,
            1,
            1,
            1,
            2,
            1
           ]
          },
          {
           "label": "Puntaje F1",
           "values": [
            0.7807521752030107,
            0.779441218438897,
            0.816433578093543,
            0.8340696771126812,
            0.8297379757517815,
            0.8577321476147071,
            0.8477821321518932,
            0.8300513884263176,
            0.8755688160224524,
            0.8427240066079206,
            0.8816069337748689,
            0.8812040507499691,
            0.882929034022097,
            0.8827989802785372,
            0.8727032430417186,
            0.8787656414361045,
            0.8690091964188559,
            0.8551087030807244,
            0.8499265859770888,
            0.8821246554695675,
            0.8716653243846131,
            0.8820648889522746,
            0.8838733342566139,
            0.8821497489852397,
            0.8840275646524444,
            0.8731581276406057,
            0.8652084130824192,
            0.87993404978452,
            0.8687145275708619,
            0.7817541242684116,
            0.8755840632050944,
            0.8805345761702347,
            0.7819518720804663,
            0.8775450740720474,
            0.8808159959246288,
            0.8333830190094325,
            0.7795042918193414,
            0.853154494362655,
            0.8817806011741878,
            0.8433258588059076,
            0.8503736637481553,
            0.8819602951539971,
            0.8828146606612759,
            0.8794720941652029,
            0.8317004299443063,
            0.876881114189659,
            0.8799198323913736,
            0.8754040810831965,
            0.8736200347125918,
            0.8814266511073877,
            0.8747837148291913,
            0.8816158512588231,
            0.8826718947731829,
            0.879649541725678,
            0.8824928264104219,
            0.8776235061289301,
            0.8823985352391834,
            0.8315378151868329,
            0.7820647808277089,
            0.8574769665315437,
            0.8825412953361149,
            0.882137472720186,
            0.8847296989389077,
            0.8815881098728737,
            0.8818548092630212,
            0.8797923033578736,
            0.8817542591337972,
            0.8659760166487505,
            0.8810289270571949,
            0.8581125898419018,
            0.8769775224469752,
            0.882482115607986,
            0.883992034778295,
            0.8835516801420765,
            0.8807433567563174,
            0.8842656259987878,
            0.8842656259987878,
            0.8809936868809743,
            0.8836468018256796,
            0.8828981983543435,
            0.8643842784880944,
            0.8856013210916055,
            0.88541003031523,
            0.8856013210916055,
            0.8812196252299367,
            0.8855413692468757,
            0.8855413692468757,
            0.881266799463432,
            0.8775904601988156,
            0.8840047847316479,
            0.8334357411982606,
            0.8841842820297957,
            0.8836349668575307,
            0.8852671815176828,
            0.8843851987854525,
            0.8850876844034599,
            0.8797355661662188,
            0.880790801789209,
            0.8840164423179967,
            0.8835753988490339,
            0.8798044906469439,
            0.8845163511633215,
            0.8836586694794253,
            0.8852671815176828,
            0.8856613105014567,
            0.8852556623433201,
            0.7836067863588938,
            0.8807674394477745,
            0.8781254917759918,
            0.8211850349872929,
            0.8806719645707828,
            0.8848502038998589,
            0.8839333675684078,
            0.8685590121395531,
            0.8855413692468757,
            0.8855413692468757,
            0.8856127963325634,
            0.8855413692468757,
            0.8817428636941033,
            0.8810289270571949,
            0.8853386058441103,
            0.8856613105014567,
            0.884075222866464,
            0.8834444676900337,
            0.884539734099779,
            0.7817774658945086,
            0.8808027590621893,
            0.8776492425649496,
            0.8802798353132617,
            0.879353981809181,
            0.8840529901743129,
            0.8854470161879581,
            0.8854699423050378,
            0.8836349668575307,
            0.8839205891718107,
            0.8853870337311737,
            0.8314665433146905,
            0.88541003031523,
            0.8802919740957493,
            0.8833135787124639,
            0.8839802039904747,
            0.885529891828221,
            0.885529891828221,
            0.8841230207878116,
            0.8834563746768074,
            0.8852556623433201,
            0.872969322424316,
            0.8842557063703993,
            0.8804698230080146,
            0.8568089008021584,
            0.8850876844034599,
            0.8805026593953276,
            0.8855413692468757,
            0.8845877673030176,
            0.8836349668575307,
            0.8852556623433201,
            0.8839802039904747,
            0.8841348074896906,
            0.8804698230080146,
            null
           ]
          }
         ],
         "domain": {
          "x": [
           0,
           1
          ],
          "y": [
           0,
           1
          ]
         },
         "line": {
          "color": [
           0.7807521752030107,
           0.779441218438897,
           0.816433578093543,
           0.8340696771126812,
           0.8297379757517815,
           0.8577321476147071,
           0.8477821321518932,
           0.8300513884263176,
           0.8755688160224524,
           0.8427240066079206,
           0.8816069337748689,
           0.8812040507499691,
           0.882929034022097,
           0.8827989802785372,
           0.8727032430417186,
           0.8787656414361045,
           0.8690091964188559,
           0.8551087030807244,
           0.8499265859770888,
           0.8821246554695675,
           0.8716653243846131,
           0.8820648889522746,
           0.8838733342566139,
           0.8821497489852397,
           0.8840275646524444,
           0.8731581276406057,
           0.8652084130824192,
           0.87993404978452,
           0.8687145275708619,
           0.7817541242684116,
           0.8755840632050944,
           0.8805345761702347,
           0.7819518720804663,
           0.8775450740720474,
           0.8808159959246288,
           0.8333830190094325,
           0.7795042918193414,
           0.853154494362655,
           0.8817806011741878,
           0.8433258588059076,
           0.8503736637481553,
           0.8819602951539971,
           0.8828146606612759,
           0.8794720941652029,
           0.8317004299443063,
           0.876881114189659,
           0.8799198323913736,
           0.8754040810831965,
           0.8736200347125918,
           0.8814266511073877,
           0.8747837148291913,
           0.8816158512588231,
           0.8826718947731829,
           0.879649541725678,
           0.8824928264104219,
           0.8776235061289301,
           0.8823985352391834,
           0.8315378151868329,
           0.7820647808277089,
           0.8574769665315437,
           0.8825412953361149,
           0.882137472720186,
           0.8847296989389077,
           0.8815881098728737,
           0.8818548092630212,
           0.8797923033578736,
           0.8817542591337972,
           0.8659760166487505,
           0.8810289270571949,
           0.8581125898419018,
           0.8769775224469752,
           0.882482115607986,
           0.883992034778295,
           0.8835516801420765,
           0.8807433567563174,
           0.8842656259987878,
           0.8842656259987878,
           0.8809936868809743,
           0.8836468018256796,
           0.8828981983543435,
           0.8643842784880944,
           0.8856013210916055,
           0.88541003031523,
           0.8856013210916055,
           0.8812196252299367,
           0.8855413692468757,
           0.8855413692468757,
           0.881266799463432,
           0.8775904601988156,
           0.8840047847316479,
           0.8334357411982606,
           0.8841842820297957,
           0.8836349668575307,
           0.8852671815176828,
           0.8843851987854525,
           0.8850876844034599,
           0.8797355661662188,
           0.880790801789209,
           0.8840164423179967,
           0.8835753988490339,
           0.8798044906469439,
           0.8845163511633215,
           0.8836586694794253,
           0.8852671815176828,
           0.8856613105014567,
           0.8852556623433201,
           0.7836067863588938,
           0.8807674394477745,
           0.8781254917759918,
           0.8211850349872929,
           0.8806719645707828,
           0.8848502038998589,
           0.8839333675684078,
           0.8685590121395531,
           0.8855413692468757,
           0.8855413692468757,
           0.8856127963325634,
           0.8855413692468757,
           0.8817428636941033,
           0.8810289270571949,
           0.8853386058441103,
           0.8856613105014567,
           0.884075222866464,
           0.8834444676900337,
           0.884539734099779,
           0.7817774658945086,
           0.8808027590621893,
           0.8776492425649496,
           0.8802798353132617,
           0.879353981809181,
           0.8840529901743129,
           0.8854470161879581,
           0.8854699423050378,
           0.8836349668575307,
           0.8839205891718107,
           0.8853870337311737,
           0.8314665433146905,
           0.88541003031523,
           0.8802919740957493,
           0.8833135787124639,
           0.8839802039904747,
           0.885529891828221,
           0.885529891828221,
           0.8841230207878116,
           0.8834563746768074,
           0.8852556623433201,
           0.872969322424316,
           0.8842557063703993,
           0.8804698230080146,
           0.8568089008021584,
           0.8850876844034599,
           0.8805026593953276,
           0.8855413692468757,
           0.8845877673030176,
           0.8836349668575307,
           0.8852556623433201,
           0.8839802039904747,
           0.8841348074896906,
           0.8804698230080146,
           null
          ],
          "coloraxis": "coloraxis"
         },
         "name": "",
         "type": "parcoords"
        }
       ],
       "layout": {
        "coloraxis": {
         "colorbar": {
          "title": {
           "text": "Puntaje F1"
          }
         },
         "colorscale": [
          [
           0,
           "rgb(247,251,255)"
          ],
          [
           0.125,
           "rgb(222,235,247)"
          ],
          [
           0.25,
           "rgb(198,219,239)"
          ],
          [
           0.375,
           "rgb(158,202,225)"
          ],
          [
           0.5,
           "rgb(107,174,214)"
          ],
          [
           0.625,
           "rgb(66,146,198)"
          ],
          [
           0.75,
           "rgb(33,113,181)"
          ],
          [
           0.875,
           "rgb(8,81,156)"
          ],
          [
           1,
           "rgb(8,48,107)"
          ]
         ]
        },
        "legend": {
         "tracegroupgap": 0
        },
        "template": {
         "data": {
          "bar": [
           {
            "error_x": {
             "color": "#2a3f5f"
            },
            "error_y": {
             "color": "#2a3f5f"
            },
            "marker": {
             "line": {
              "color": "#E5ECF6",
              "width": 0.5
             },
             "pattern": {
              "fillmode": "overlay",
              "size": 10,
              "solidity": 0.2
             }
            },
            "type": "bar"
           }
          ],
          "barpolar": [
           {
            "marker": {
             "line": {
              "color": "#E5ECF6",
              "width": 0.5
             },
             "pattern": {
              "fillmode": "overlay",
              "size": 10,
              "solidity": 0.2
             }
            },
            "type": "barpolar"
           }
          ],
          "carpet": [
           {
            "aaxis": {
             "endlinecolor": "#2a3f5f",
             "gridcolor": "white",
             "linecolor": "white",
             "minorgridcolor": "white",
             "startlinecolor": "#2a3f5f"
            },
            "baxis": {
             "endlinecolor": "#2a3f5f",
             "gridcolor": "white",
             "linecolor": "white",
             "minorgridcolor": "white",
             "startlinecolor": "#2a3f5f"
            },
            "type": "carpet"
           }
          ],
          "choropleth": [
           {
            "colorbar": {
             "outlinewidth": 0,
             "ticks": ""
            },
            "type": "choropleth"
           }
          ],
          "contour": [
           {
            "colorbar": {
             "outlinewidth": 0,
             "ticks": ""
            },
            "colorscale": [
             [
              0,
              "#0d0887"
             ],
             [
              0.1111111111111111,
              "#46039f"
             ],
             [
              0.2222222222222222,
              "#7201a8"
             ],
             [
              0.3333333333333333,
              "#9c179e"
             ],
             [
              0.4444444444444444,
              "#bd3786"
             ],
             [
              0.5555555555555556,
              "#d8576b"
             ],
             [
              0.6666666666666666,
              "#ed7953"
             ],
             [
              0.7777777777777778,
              "#fb9f3a"
             ],
             [
              0.8888888888888888,
              "#fdca26"
             ],
             [
              1,
              "#f0f921"
             ]
            ],
            "type": "contour"
           }
          ],
          "contourcarpet": [
           {
            "colorbar": {
             "outlinewidth": 0,
             "ticks": ""
            },
            "type": "contourcarpet"
           }
          ],
          "heatmap": [
           {
            "colorbar": {
             "outlinewidth": 0,
             "ticks": ""
            },
            "colorscale": [
             [
              0,
              "#0d0887"
             ],
             [
              0.1111111111111111,
              "#46039f"
             ],
             [
              0.2222222222222222,
              "#7201a8"
             ],
             [
              0.3333333333333333,
              "#9c179e"
             ],
             [
              0.4444444444444444,
              "#bd3786"
             ],
             [
              0.5555555555555556,
              "#d8576b"
             ],
             [
              0.6666666666666666,
              "#ed7953"
             ],
             [
              0.7777777777777778,
              "#fb9f3a"
             ],
             [
              0.8888888888888888,
              "#fdca26"
             ],
             [
              1,
              "#f0f921"
             ]
            ],
            "type": "heatmap"
           }
          ],
          "heatmapgl": [
           {
            "colorbar": {
             "outlinewidth": 0,
             "ticks": ""
            },
            "colorscale": [
             [
              0,
              "#0d0887"
             ],
             [
              0.1111111111111111,
              "#46039f"
             ],
             [
              0.2222222222222222,
              "#7201a8"
             ],
             [
              0.3333333333333333,
              "#9c179e"
             ],
             [
              0.4444444444444444,
              "#bd3786"
             ],
             [
              0.5555555555555556,
              "#d8576b"
             ],
             [
              0.6666666666666666,
              "#ed7953"
             ],
             [
              0.7777777777777778,
              "#fb9f3a"
             ],
             [
              0.8888888888888888,
              "#fdca26"
             ],
             [
              1,
              "#f0f921"
             ]
            ],
            "type": "heatmapgl"
           }
          ],
          "histogram": [
           {
            "marker": {
             "pattern": {
              "fillmode": "overlay",
              "size": 10,
              "solidity": 0.2
             }
            },
            "type": "histogram"
           }
          ],
          "histogram2d": [
           {
            "colorbar": {
             "outlinewidth": 0,
             "ticks": ""
            },
            "colorscale": [
             [
              0,
              "#0d0887"
             ],
             [
              0.1111111111111111,
              "#46039f"
             ],
             [
              0.2222222222222222,
              "#7201a8"
             ],
             [
              0.3333333333333333,
              "#9c179e"
             ],
             [
              0.4444444444444444,
              "#bd3786"
             ],
             [
              0.5555555555555556,
              "#d8576b"
             ],
             [
              0.6666666666666666,
              "#ed7953"
             ],
             [
              0.7777777777777778,
              "#fb9f3a"
             ],
             [
              0.8888888888888888,
              "#fdca26"
             ],
             [
              1,
              "#f0f921"
             ]
            ],
            "type": "histogram2d"
           }
          ],
          "histogram2dcontour": [
           {
            "colorbar": {
             "outlinewidth": 0,
             "ticks": ""
            },
            "colorscale": [
             [
              0,
              "#0d0887"
             ],
             [
              0.1111111111111111,
              "#46039f"
             ],
             [
              0.2222222222222222,
              "#7201a8"
             ],
             [
              0.3333333333333333,
              "#9c179e"
             ],
             [
              0.4444444444444444,
              "#bd3786"
             ],
             [
              0.5555555555555556,
              "#d8576b"
             ],
             [
              0.6666666666666666,
              "#ed7953"
             ],
             [
              0.7777777777777778,
              "#fb9f3a"
             ],
             [
              0.8888888888888888,
              "#fdca26"
             ],
             [
              1,
              "#f0f921"
             ]
            ],
            "type": "histogram2dcontour"
           }
          ],
          "mesh3d": [
           {
            "colorbar": {
             "outlinewidth": 0,
             "ticks": ""
            },
            "type": "mesh3d"
           }
          ],
          "parcoords": [
           {
            "line": {
             "colorbar": {
              "outlinewidth": 0,
              "ticks": ""
             }
            },
            "type": "parcoords"
           }
          ],
          "pie": [
           {
            "automargin": true,
            "type": "pie"
           }
          ],
          "scatter": [
           {
            "fillpattern": {
             "fillmode": "overlay",
             "size": 10,
             "solidity": 0.2
            },
            "type": "scatter"
           }
          ],
          "scatter3d": [
           {
            "line": {
             "colorbar": {
              "outlinewidth": 0,
              "ticks": ""
             }
            },
            "marker": {
             "colorbar": {
              "outlinewidth": 0,
              "ticks": ""
             }
            },
            "type": "scatter3d"
           }
          ],
          "scattercarpet": [
           {
            "marker": {
             "colorbar": {
              "outlinewidth": 0,
              "ticks": ""
             }
            },
            "type": "scattercarpet"
           }
          ],
          "scattergeo": [
           {
            "marker": {
             "colorbar": {
              "outlinewidth": 0,
              "ticks": ""
             }
            },
            "type": "scattergeo"
           }
          ],
          "scattergl": [
           {
            "marker": {
             "colorbar": {
              "outlinewidth": 0,
              "ticks": ""
             }
            },
            "type": "scattergl"
           }
          ],
          "scattermapbox": [
           {
            "marker": {
             "colorbar": {
              "outlinewidth": 0,
              "ticks": ""
             }
            },
            "type": "scattermapbox"
           }
          ],
          "scatterpolar": [
           {
            "marker": {
             "colorbar": {
              "outlinewidth": 0,
              "ticks": ""
             }
            },
            "type": "scatterpolar"
           }
          ],
          "scatterpolargl": [
           {
            "marker": {
             "colorbar": {
              "outlinewidth": 0,
              "ticks": ""
             }
            },
            "type": "scatterpolargl"
           }
          ],
          "scatterternary": [
           {
            "marker": {
             "colorbar": {
              "outlinewidth": 0,
              "ticks": ""
             }
            },
            "type": "scatterternary"
           }
          ],
          "surface": [
           {
            "colorbar": {
             "outlinewidth": 0,
             "ticks": ""
            },
            "colorscale": [
             [
              0,
              "#0d0887"
             ],
             [
              0.1111111111111111,
              "#46039f"
             ],
             [
              0.2222222222222222,
              "#7201a8"
             ],
             [
              0.3333333333333333,
              "#9c179e"
             ],
             [
              0.4444444444444444,
              "#bd3786"
             ],
             [
              0.5555555555555556,
              "#d8576b"
             ],
             [
              0.6666666666666666,
              "#ed7953"
             ],
             [
              0.7777777777777778,
              "#fb9f3a"
             ],
             [
              0.8888888888888888,
              "#fdca26"
             ],
             [
              1,
              "#f0f921"
             ]
            ],
            "type": "surface"
           }
          ],
          "table": [
           {
            "cells": {
             "fill": {
              "color": "#EBF0F8"
             },
             "line": {
              "color": "white"
             }
            },
            "header": {
             "fill": {
              "color": "#C8D4E3"
             },
             "line": {
              "color": "white"
             }
            },
            "type": "table"
           }
          ]
         },
         "layout": {
          "annotationdefaults": {
           "arrowcolor": "#2a3f5f",
           "arrowhead": 0,
           "arrowwidth": 1
          },
          "autotypenumbers": "strict",
          "coloraxis": {
           "colorbar": {
            "outlinewidth": 0,
            "ticks": ""
           }
          },
          "colorscale": {
           "diverging": [
            [
             0,
             "#8e0152"
            ],
            [
             0.1,
             "#c51b7d"
            ],
            [
             0.2,
             "#de77ae"
            ],
            [
             0.3,
             "#f1b6da"
            ],
            [
             0.4,
             "#fde0ef"
            ],
            [
             0.5,
             "#f7f7f7"
            ],
            [
             0.6,
             "#e6f5d0"
            ],
            [
             0.7,
             "#b8e186"
            ],
            [
             0.8,
             "#7fbc41"
            ],
            [
             0.9,
             "#4d9221"
            ],
            [
             1,
             "#276419"
            ]
           ],
           "sequential": [
            [
             0,
             "#0d0887"
            ],
            [
             0.1111111111111111,
             "#46039f"
            ],
            [
             0.2222222222222222,
             "#7201a8"
            ],
            [
             0.3333333333333333,
             "#9c179e"
            ],
            [
             0.4444444444444444,
             "#bd3786"
            ],
            [
             0.5555555555555556,
             "#d8576b"
            ],
            [
             0.6666666666666666,
             "#ed7953"
            ],
            [
             0.7777777777777778,
             "#fb9f3a"
            ],
            [
             0.8888888888888888,
             "#fdca26"
            ],
            [
             1,
             "#f0f921"
            ]
           ],
           "sequentialminus": [
            [
             0,
             "#0d0887"
            ],
            [
             0.1111111111111111,
             "#46039f"
            ],
            [
             0.2222222222222222,
             "#7201a8"
            ],
            [
             0.3333333333333333,
             "#9c179e"
            ],
            [
             0.4444444444444444,
             "#bd3786"
            ],
            [
             0.5555555555555556,
             "#d8576b"
            ],
            [
             0.6666666666666666,
             "#ed7953"
            ],
            [
             0.7777777777777778,
             "#fb9f3a"
            ],
            [
             0.8888888888888888,
             "#fdca26"
            ],
            [
             1,
             "#f0f921"
            ]
           ]
          },
          "colorway": [
           "#636efa",
           "#EF553B",
           "#00cc96",
           "#ab63fa",
           "#FFA15A",
           "#19d3f3",
           "#FF6692",
           "#B6E880",
           "#FF97FF",
           "#FECB52"
          ],
          "font": {
           "color": "#2a3f5f"
          },
          "geo": {
           "bgcolor": "white",
           "lakecolor": "white",
           "landcolor": "#E5ECF6",
           "showlakes": true,
           "showland": true,
           "subunitcolor": "white"
          },
          "hoverlabel": {
           "align": "left"
          },
          "hovermode": "closest",
          "mapbox": {
           "style": "light"
          },
          "paper_bgcolor": "white",
          "plot_bgcolor": "#E5ECF6",
          "polar": {
           "angularaxis": {
            "gridcolor": "white",
            "linecolor": "white",
            "ticks": ""
           },
           "bgcolor": "#E5ECF6",
           "radialaxis": {
            "gridcolor": "white",
            "linecolor": "white",
            "ticks": ""
           }
          },
          "scene": {
           "xaxis": {
            "backgroundcolor": "#E5ECF6",
            "gridcolor": "white",
            "gridwidth": 2,
            "linecolor": "white",
            "showbackground": true,
            "ticks": "",
            "zerolinecolor": "white"
           },
           "yaxis": {
            "backgroundcolor": "#E5ECF6",
            "gridcolor": "white",
            "gridwidth": 2,
            "linecolor": "white",
            "showbackground": true,
            "ticks": "",
            "zerolinecolor": "white"
           },
           "zaxis": {
            "backgroundcolor": "#E5ECF6",
            "gridcolor": "white",
            "gridwidth": 2,
            "linecolor": "white",
            "showbackground": true,
            "ticks": "",
            "zerolinecolor": "white"
           }
          },
          "shapedefaults": {
           "line": {
            "color": "#2a3f5f"
           }
          },
          "ternary": {
           "aaxis": {
            "gridcolor": "white",
            "linecolor": "white",
            "ticks": ""
           },
           "baxis": {
            "gridcolor": "white",
            "linecolor": "white",
            "ticks": ""
           },
           "bgcolor": "#E5ECF6",
           "caxis": {
            "gridcolor": "white",
            "linecolor": "white",
            "ticks": ""
           }
          },
          "title": {
           "x": 0.05
          },
          "xaxis": {
           "automargin": true,
           "gridcolor": "white",
           "linecolor": "white",
           "ticks": "",
           "title": {
            "standoff": 15
           },
           "zerolinecolor": "white",
           "zerolinewidth": 2
          },
          "yaxis": {
           "automargin": true,
           "gridcolor": "white",
           "linecolor": "white",
           "ticks": "",
           "title": {
            "standoff": 15
           },
           "zerolinecolor": "white",
           "zerolinewidth": 2
          }
         }
        },
        "title": {
         "text": "Paralel Coordinates: Parámetros y Rendimiento (Random Forest)"
        }
       }
      }
     },
     "metadata": {},
     "output_type": "display_data"
    }
   ],
   "source": [
    "import plotly.express as px\n",
    "\n",
    "# Obtener los resultados del estudio de Optuna\n",
    "trials_df0_rf = study_rf.trials\n",
    "trials_data_rf = []\n",
    "\n",
    "# Extraer los parámetros y el valor de cada ensayo\n",
    "for trial in trials_df0_rf:\n",
    "    # Extraer los parámetros y el F1 score\n",
    "    trial_params = trial.params\n",
    "    trial_params['F1 Score'] = trial.value  # Añadir el F1 score como una nueva columna\n",
    "    trials_data_rf.append(trial_params)\n",
    "\n",
    "# Crear un DataFrame a partir de los resultados\n",
    "trials_df_rf = pd.DataFrame(trials_data_rf)\n",
    "\n",
    "# Verificar las columnas del DataFrame\n",
    "print(trials_df_rf.columns)\n",
    "\n",
    "# Crear el gráfico de coordenadas paralelas para Random Forest\n",
    "fig_rf = px.parallel_coordinates(\n",
    "    trials_df_rf,\n",
    "    dimensions=['n_estimators', 'max_depth', 'min_samples_split',\n",
    "                 'min_samples_leaf', 'max_features', 'bootstrap', 'F1 Score'],\n",
    "    color='F1 Score',  # Para colorear según el F1 score\n",
    "    labels={\n",
    "        'n_estimators': 'Número de Estimadores',\n",
    "        'max_depth': 'Profundidad Máxima',\n",
    "        'min_samples_split': 'Mínimo de Muestras para División',\n",
    "        'min_samples_leaf': 'Mínimo de Muestras para Hoja',\n",
    "        'max_features': 'Máximo de Características',\n",
    "        'bootstrap': 'Bootstrap',\n",
    "        'F1 Score': 'Puntaje F1'\n",
    "    },\n",
    "    color_continuous_scale='Blues',  # Cambiar el color del gráfico\n",
    "    title=\"Paralel Coordinates: Parámetros y Rendimiento (Random Forest)\"\n",
    ")\n",
    "\n",
    "# Mostrar el gráfico\n",
    "fig_rf.show()"
   ]
  },
  {
   "cell_type": "markdown",
   "metadata": {},
   "source": [
    "## XGBoost"
   ]
  },
  {
   "cell_type": "code",
   "execution_count": null,
   "metadata": {},
   "outputs": [
    {
     "name": "stderr",
     "output_type": "stream",
     "text": [
      "[I 2024-12-12 00:53:16,461] A new study created in memory with name: no-name-60c3e9f8-037b-4789-bc94-d98756959e58\n"
     ]
    },
    {
     "name": "stdout",
     "output_type": "stream",
     "text": [
      "Rendimiento inicial (F1) en X_test: 0.9018980105190945\n"
     ]
    }
   ],
   "source": [
    "# Modelo inicial\n",
    "initial_model =  XGBClassifier(**best_params_xgb, random_state=123)\n",
    "#initial_model =  XGBClassifier(random_state=123)\n",
    "initial_pipeline = create_pipeline(initial_model)\n",
    "\n",
    "# Entrenar el modelo inicial sin optimización de parámetros\n",
    "initial_pipeline.fit(data_train, y_train)\n",
    "\n",
    "# Evaluación inicial en el conjunto de test\n",
    "initial_y_pred = initial_pipeline.predict(data_val)\n",
    "initial_f1 = f1_score(y_val, initial_y_pred)\n",
    "print(f'Rendimiento inicial (F1) en X_test: {initial_f1}')\n",
    "\n",
    "# Crear la función objetivo para Optuna\n",
    "def objective(trial):\n",
    "    # Definir los hiperparámetros a optimizar\n",
    "    params = {\n",
    "        \"objective\": \"binary:logistic\",  # Para clasificación binaria\n",
    "        \"eval_metric\": \"aucpr\",  # Métrica usada durante el entrenamiento\n",
    "        \"max_depth\": trial.suggest_int(\"max_depth\", 14, 26),\n",
    "        \"learning_rate\": trial.suggest_loguniform(\"learning_rate\", 0.001, 0.2),\n",
    "        \"subsample\": trial.suggest_float(\"subsample\", 0.8, 1.0),\n",
    "        \"colsample_bytree\": trial.suggest_float(\"colsample_bytree\", 0.5, 1.0),\n",
    "        \"min_child_weight\": trial.suggest_int(\"min_child_weight\", 1, 3),\n",
    "        \"gamma\": trial.suggest_float(\"gamma\", 0, 1),\n",
    "        \"n_estimators\": trial.suggest_int(\"n_estimators\", 100, 500),\n",
    "    }\n",
    "    \n",
    "    # Entrena el modelo\n",
    "    model =  XGBClassifier(\n",
    "        random_state=17,\n",
    "        **params\n",
    "    )\n",
    "    \n",
    "    # Crear el pipeline\n",
    "    pipeline = create_pipeline(model)\n",
    "    \n",
    "    # Entrenar el modelo\n",
    "    pipeline.fit(data_train, y_train)\n",
    "    \n",
    "    # Realizar predicciones en el conjunto de validación\n",
    "    y_pred = pipeline.predict(data_val)\n",
    "    \n",
    "    # Calcular F1 score en el conjunto de validación\n",
    "    f1 = f1_score(y_val, y_pred)\n",
    "    auc_pr = average_precision_score(y_val, y_pred)\n",
    "    \n",
    "    # Mostrar el rendimiento durante cada iteración\n",
    "    print(f'F1 score en iteración {trial.number}: {f1}')\n",
    "    print(f'AUC-PR en iteración {trial.number}: {auc_pr}')\n",
    "    \n",
    "    # Imprimir matriz de confusión solo si mejora el F1 anterior\n",
    "    global best_f1\n",
    "    if f1 > best_f1:\n",
    "        best_f1 = f1\n",
    "        cm = confusion_matrix(y_val, y_pred)\n",
    "        sns.heatmap(cm, annot=True, fmt='d', cmap='Blues', xticklabels=['Negativo', 'Positivo'], yticklabels=['Negativo', 'Positivo'])\n",
    "        plt.title(f'Matriz de Confusión en Iteración {trial.number}')\n",
    "        plt.show()\n",
    "\n",
    "    return auc_pr  # Queremos maximizar AUC-PR\n",
    "\n",
    "best_f1 = 0.0\n",
    "\n",
    "# Configurar y ejecutar el estudio Optuna\n",
    "study_xgb = optuna.create_study(direction='maximize')  \n",
    "study_xgb.optimize(objective, n_trials=50, n_jobs=-1)  \n",
    "\n",
    "# Mejor conjunto de parámetros encontrados\n",
    "best_params_xgb = study_xgb.best_params\n",
    "print(f'Mejores parámetros encontrados: {best_params_xgb}')\n",
    "\n",
    "# Crear el modelo final con los mejores parámetros\n",
    "final_model_xgb = XGBClassifier(**best_params_xgb, random_state=123)\n",
    "\n",
    "# Crear el pipeline final con el preprocesador\n",
    "final_pipeline_xgb = create_pipeline(final_model_xgb)\n",
    "\n",
    "# Entrenar el modelo final\n",
    "final_pipeline_xgb.fit(data_train, y_train)\n",
    "\n",
    "# Guardar el escalador (transformador) para uso posterior\n",
    "joblib.dump(final_pipeline_xgb.named_steps['preprocessing'], 'scaler.pkl')\n",
    "\n",
    "# Evaluación final en el conjunto de test con la métrica F1\n",
    "final_y_pred = final_pipeline_xgb.predict(data_val)\n",
    "final_f1 = f1_score(y_val, final_y_pred)\n",
    "final_auc = average_precision_score(y_val, final_y_pred)\n",
    "print(f'Rendimiento final en X_test: (F1) = {final_f1} | AUC-PR = {final_auc}')\n",
    "\n",
    "# Mostrar la matriz de confusión final\n",
    "final_cm_xgb = confusion_matrix(y_val, final_y_pred)\n",
    "sns.heatmap(final_cm_xgb, annot=True, fmt='d', cmap='Blues', xticklabels=['Negativo', 'Positivo'], yticklabels=['Negativo', 'Positivo'])\n",
    "plt.title('Matriz de Confusión Final')\n",
    "plt.show()\n",
    "\n",
    "# Guardar el pipeline final para uso posterior\n",
    "joblib.dump(final_pipeline_xgb, 'final_pipeline.pkl')"
   ]
  },
  {
   "cell_type": "code",
   "execution_count": 23,
   "metadata": {},
   "outputs": [
    {
     "data": {
      "text/plain": [
       "['XGB_model_f1_0.9018980105190945_auc0.8807832055205326.pkl']"
      ]
     },
     "execution_count": 23,
     "metadata": {},
     "output_type": "execute_result"
    }
   ],
   "source": [
    "# Guardar el pipeline final y el modelo para uso posterior\n",
    "mod = 'XGB'\n",
    "f1_nombre = str(final_f1)\n",
    "auc_nombre = str(final_auc)\n",
    "joblib.dump(final_pipeline, f'final_pipeline_{mod}_f1_{f1_nombre}_auc{auc_nombre}.pkl')\n",
    "joblib.dump(final_model, f'{mod}_model_f1_{f1_nombre}_auc{auc_nombre}.pkl')"
   ]
  },
  {
   "cell_type": "code",
   "execution_count": 24,
   "metadata": {},
   "outputs": [
    {
     "name": "stdout",
     "output_type": "stream",
     "text": [
      "Index(['max_depth', 'learning_rate', 'subsample', 'colsample_bytree',\n",
      "       'min_child_weight', 'gamma', 'n_estimators', 'F1 Score'],\n",
      "      dtype='object')\n"
     ]
    },
    {
     "data": {
      "application/vnd.plotly.v1+json": {
       "config": {
        "plotlyServerURL": "https://plot.ly"
       },
       "data": [
        {
         "dimensions": [
          {
           "label": "Profundidad Máxima",
           "values": [
            19,
            17,
            9,
            16,
            11,
            15,
            19,
            13,
            10,
            19,
            19,
            19,
            12,
            16,
            19,
            7,
            9,
            7,
            20,
            20,
            20,
            20,
            17,
            17,
            17,
            17,
            17,
            17,
            17,
            17,
            17,
            15,
            14,
            15,
            15,
            15,
            15,
            14,
            15,
            15,
            14,
            14,
            14,
            14,
            13,
            13,
            18,
            18,
            18,
            18
           ]
          },
          {
           "label": "Tasa de Aprendizaje",
           "values": [
            0.07590835332887501,
            0.0954148528084853,
            0.006648182452123838,
            0.005051859222662464,
            0.0537964057605094,
            0.01419805789917059,
            0.00211885069858208,
            0.001333654632723137,
            0.025487633982430154,
            0.10571851513933057,
            0.0025170242907386676,
            0.0012468525787238244,
            0.0012056842125695612,
            0.08665476717918216,
            0.10162510097294207,
            0.008129270783203907,
            0.13386578005895247,
            0.030689816118332942,
            0.12685828227980575,
            0.13969032879820772,
            0.040102284090244716,
            0.035576203026846075,
            0.037041031614407756,
            0.03489682599204453,
            0.03624054259929704,
            0.04353006440438634,
            0.045678713201340204,
            0.016734904456357915,
            0.06229269022255299,
            0.06760860845127042,
            0.06952401209570534,
            0.06765387545239542,
            0.06659159550286659,
            0.06655581804505412,
            0.06877589086350896,
            0.07020960927458007,
            0.06838415867884011,
            0.018326337274074657,
            0.07226091671766315,
            0.08590981607565648,
            0.021195621260088667,
            0.020023481517363228,
            0.0936323465732138,
            0.022068074749226802,
            0.022656759317922423,
            0.02407223207398977,
            0.09921751510313266,
            0.10748983286092399,
            0.09305621548729907,
            0.10158727033674605
           ]
          },
          {
           "label": "Submuestreo",
           "values": [
            0.9417119250179793,
            0.9660159763437676,
            0.8831876549206039,
            0.9532428005314186,
            0.9927715234673522,
            0.9851751533117061,
            0.971398451301966,
            0.9204088374624826,
            0.8222769714045906,
            0.9082108928673686,
            0.8940403163462646,
            0.8770642702876817,
            0.990612130538025,
            0.8963309538397118,
            0.8098367243719352,
            0.901891361357247,
            0.9456780268285468,
            0.862058085497241,
            0.8723047199231008,
            0.861549524411456,
            0.8012505792273177,
            0.8036024713256541,
            0.8057709918221811,
            0.8132323380205164,
            0.811791411806372,
            0.8092395952290885,
            0.8268226259833144,
            0.833519023790352,
            0.8220664051796779,
            0.8368772626986248,
            0.8395074378897935,
            0.8326381696076073,
            0.850686001981824,
            0.8381840972393153,
            0.8397928006570647,
            0.8342558092220397,
            0.8393337179163288,
            0.844938950877861,
            0.8494098821804896,
            0.8473963858003356,
            0.8605376596402069,
            0.8499730218651199,
            0.8578034711713605,
            0.8526907906562077,
            0.8555067320691062,
            0.856871412907741,
            0.8191139164002113,
            0.8223572388290485,
            0.8210677643045634,
            0.8213432877110761
           ]
          },
          {
           "label": "Submuestreo de Columnas",
           "values": [
            0.7944825120012706,
            0.6051522703898009,
            0.5940457320508341,
            0.8573536612833332,
            0.9296192843504756,
            0.7820409305295007,
            0.8264866247023304,
            0.6944312252946196,
            0.7917894970200927,
            0.6597793980880662,
            0.7241799298112868,
            0.8020756867522836,
            0.9711772941864136,
            0.5271244557045563,
            0.7784621623516603,
            0.8392764153142875,
            0.8108414896988382,
            0.5187086479066129,
            0.5582316926477949,
            0.6599566244675279,
            0.5081661723536285,
            0.5296711111537674,
            0.5334586845678803,
            0.5183157392881648,
            0.6579001322639798,
            0.6570848608475929,
            0.880667584351582,
            0.9024340471045207,
            0.564863701964437,
            0.5666946536573964,
            0.5779541136896915,
            0.8783404654568786,
            0.5795546240367282,
            0.5764650052879842,
            0.5792301282674646,
            0.5844519190775248,
            0.7452034407550041,
            0.7585805701611547,
            0.6168372326243696,
            0.6177631539574775,
            0.6065365062044213,
            0.6082746461628801,
            0.6059366498567493,
            0.6089144296627947,
            0.6243161782712444,
            0.6185369097860418,
            0.6196037511441175,
            0.6227812313791988,
            0.6221254938823517,
            0.6310335061206674
           ]
          },
          {
           "label": "Peso Mínimo de Hoja",
           "values": [
            1,
            3,
            1,
            3,
            2,
            3,
            2,
            3,
            3,
            3,
            2,
            2,
            2,
            1,
            3,
            1,
            3,
            2,
            1,
            2,
            2,
            2,
            1,
            1,
            2,
            1,
            1,
            1,
            1,
            1,
            1,
            1,
            1,
            1,
            1,
            1,
            1,
            1,
            1,
            1,
            1,
            1,
            1,
            1,
            1,
            3,
            3,
            3,
            3,
            3
           ]
          },
          {
           "label": "Valor Gamma",
           "values": [
            0.34891372893734485,
            0.9018285732946127,
            0.2215028056212185,
            0.9519399736968561,
            0.39964201510541664,
            0.830730384970194,
            0.36460608912532144,
            0.19650177513920752,
            0.8686622036419406,
            0.5476116528175833,
            0.8848112975437653,
            0.6011095421920102,
            0.3034377501457105,
            0.4282471931086824,
            0.22857334203294477,
            0.14481783523656522,
            0.7883757029841362,
            0.6806453680450152,
            0.6161723564467917,
            0.6008731248111807,
            0.019389916435275323,
            0.012748376995572852,
            0.04608291215834981,
            0.04355292522285609,
            0.05609018065512683,
            0.03757725653821142,
            0.04414152626804835,
            0.48637869374302356,
            0.4550647117852965,
            0.4617986674720501,
            0.4622494933500183,
            0.47185475243293895,
            0.459845961988394,
            0.4633638380398145,
            0.4605731163279731,
            0.46788417528517123,
            0.46070794214576116,
            0.31631308618480414,
            0.2778692566079393,
            0.32308892910716497,
            0.277064998586354,
            0.28525970701353753,
            0.28290855303520057,
            0.3164625666894762,
            0.24403504053989533,
            0.245441021158192,
            0.2665267777169721,
            0.24829774962605244,
            0.2301488800198951,
            0.37293184706122473
           ]
          },
          {
           "label": "Número de Estimadores",
           "values": [
            269,
            333,
            449,
            298,
            157,
            240,
            414,
            446,
            260,
            469,
            329,
            324,
            250,
            422,
            171,
            378,
            301,
            373,
            491,
            498,
            114,
            122,
            115,
            131,
            101,
            108,
            147,
            186,
            181,
            189,
            180,
            200,
            185,
            200,
            214,
            208,
            199,
            213,
            216,
            214,
            217,
            219,
            227,
            165,
            228,
            167,
            233,
            160,
            156,
            159
           ]
          },
          {
           "label": "Puntaje F1",
           "values": [
            0.8731319708351757,
            0.8713966962903258,
            0.8357108644181706,
            0.8459588604025254,
            0.8578117168601517,
            0.8589143461203597,
            0.8478204174005132,
            0.8356786864111106,
            0.8492879684717292,
            0.8759360508796449,
            0.8486622383516567,
            0.8431565026147867,
            0.8100281009682981,
            0.8793142078249873,
            0.8810409548158515,
            0.8072304890182439,
            0.8731173188052606,
            0.8372593258303878,
            0.8777031245134779,
            0.874300298233143,
            0.8724642327767435,
            0.8713678386737891,
            0.8753871408007464,
            0.8756980285644833,
            0.8642054498692007,
            0.8723491807053622,
            0.8717762157161357,
            0.8623339494157591,
            0.8819678004648445,
            0.8786786491348346,
            0.8793557650098452,
            0.8767329141006547,
            0.8809112704820592,
            0.8809195286902178,
            0.8792984463691436,
            0.8799582410858525,
            0.8785191736554138,
            0.8661070323967737,
            0.8816507088228853,
            0.8821137628365348,
            0.8716917670144375,
            0.8707251504343234,
            0.8812245097956746,
            0.8646250634560302,
            0.8665626046684474,
            0.8566995197954765,
            0.8816358949627009,
            0.8769217170616025,
            0.8821895526921901,
            0.8788728537143085
           ]
          }
         ],
         "domain": {
          "x": [
           0,
           1
          ],
          "y": [
           0,
           1
          ]
         },
         "line": {
          "color": [
           0.8731319708351757,
           0.8713966962903258,
           0.8357108644181706,
           0.8459588604025254,
           0.8578117168601517,
           0.8589143461203597,
           0.8478204174005132,
           0.8356786864111106,
           0.8492879684717292,
           0.8759360508796449,
           0.8486622383516567,
           0.8431565026147867,
           0.8100281009682981,
           0.8793142078249873,
           0.8810409548158515,
           0.8072304890182439,
           0.8731173188052606,
           0.8372593258303878,
           0.8777031245134779,
           0.874300298233143,
           0.8724642327767435,
           0.8713678386737891,
           0.8753871408007464,
           0.8756980285644833,
           0.8642054498692007,
           0.8723491807053622,
           0.8717762157161357,
           0.8623339494157591,
           0.8819678004648445,
           0.8786786491348346,
           0.8793557650098452,
           0.8767329141006547,
           0.8809112704820592,
           0.8809195286902178,
           0.8792984463691436,
           0.8799582410858525,
           0.8785191736554138,
           0.8661070323967737,
           0.8816507088228853,
           0.8821137628365348,
           0.8716917670144375,
           0.8707251504343234,
           0.8812245097956746,
           0.8646250634560302,
           0.8665626046684474,
           0.8566995197954765,
           0.8816358949627009,
           0.8769217170616025,
           0.8821895526921901,
           0.8788728537143085
          ],
          "coloraxis": "coloraxis"
         },
         "name": "",
         "type": "parcoords"
        }
       ],
       "layout": {
        "coloraxis": {
         "colorbar": {
          "title": {
           "text": "Puntaje F1"
          }
         },
         "colorscale": [
          [
           0,
           "rgb(247,251,255)"
          ],
          [
           0.125,
           "rgb(222,235,247)"
          ],
          [
           0.25,
           "rgb(198,219,239)"
          ],
          [
           0.375,
           "rgb(158,202,225)"
          ],
          [
           0.5,
           "rgb(107,174,214)"
          ],
          [
           0.625,
           "rgb(66,146,198)"
          ],
          [
           0.75,
           "rgb(33,113,181)"
          ],
          [
           0.875,
           "rgb(8,81,156)"
          ],
          [
           1,
           "rgb(8,48,107)"
          ]
         ]
        },
        "legend": {
         "tracegroupgap": 0
        },
        "template": {
         "data": {
          "bar": [
           {
            "error_x": {
             "color": "#2a3f5f"
            },
            "error_y": {
             "color": "#2a3f5f"
            },
            "marker": {
             "line": {
              "color": "#E5ECF6",
              "width": 0.5
             },
             "pattern": {
              "fillmode": "overlay",
              "size": 10,
              "solidity": 0.2
             }
            },
            "type": "bar"
           }
          ],
          "barpolar": [
           {
            "marker": {
             "line": {
              "color": "#E5ECF6",
              "width": 0.5
             },
             "pattern": {
              "fillmode": "overlay",
              "size": 10,
              "solidity": 0.2
             }
            },
            "type": "barpolar"
           }
          ],
          "carpet": [
           {
            "aaxis": {
             "endlinecolor": "#2a3f5f",
             "gridcolor": "white",
             "linecolor": "white",
             "minorgridcolor": "white",
             "startlinecolor": "#2a3f5f"
            },
            "baxis": {
             "endlinecolor": "#2a3f5f",
             "gridcolor": "white",
             "linecolor": "white",
             "minorgridcolor": "white",
             "startlinecolor": "#2a3f5f"
            },
            "type": "carpet"
           }
          ],
          "choropleth": [
           {
            "colorbar": {
             "outlinewidth": 0,
             "ticks": ""
            },
            "type": "choropleth"
           }
          ],
          "contour": [
           {
            "colorbar": {
             "outlinewidth": 0,
             "ticks": ""
            },
            "colorscale": [
             [
              0,
              "#0d0887"
             ],
             [
              0.1111111111111111,
              "#46039f"
             ],
             [
              0.2222222222222222,
              "#7201a8"
             ],
             [
              0.3333333333333333,
              "#9c179e"
             ],
             [
              0.4444444444444444,
              "#bd3786"
             ],
             [
              0.5555555555555556,
              "#d8576b"
             ],
             [
              0.6666666666666666,
              "#ed7953"
             ],
             [
              0.7777777777777778,
              "#fb9f3a"
             ],
             [
              0.8888888888888888,
              "#fdca26"
             ],
             [
              1,
              "#f0f921"
             ]
            ],
            "type": "contour"
           }
          ],
          "contourcarpet": [
           {
            "colorbar": {
             "outlinewidth": 0,
             "ticks": ""
            },
            "type": "contourcarpet"
           }
          ],
          "heatmap": [
           {
            "colorbar": {
             "outlinewidth": 0,
             "ticks": ""
            },
            "colorscale": [
             [
              0,
              "#0d0887"
             ],
             [
              0.1111111111111111,
              "#46039f"
             ],
             [
              0.2222222222222222,
              "#7201a8"
             ],
             [
              0.3333333333333333,
              "#9c179e"
             ],
             [
              0.4444444444444444,
              "#bd3786"
             ],
             [
              0.5555555555555556,
              "#d8576b"
             ],
             [
              0.6666666666666666,
              "#ed7953"
             ],
             [
              0.7777777777777778,
              "#fb9f3a"
             ],
             [
              0.8888888888888888,
              "#fdca26"
             ],
             [
              1,
              "#f0f921"
             ]
            ],
            "type": "heatmap"
           }
          ],
          "heatmapgl": [
           {
            "colorbar": {
             "outlinewidth": 0,
             "ticks": ""
            },
            "colorscale": [
             [
              0,
              "#0d0887"
             ],
             [
              0.1111111111111111,
              "#46039f"
             ],
             [
              0.2222222222222222,
              "#7201a8"
             ],
             [
              0.3333333333333333,
              "#9c179e"
             ],
             [
              0.4444444444444444,
              "#bd3786"
             ],
             [
              0.5555555555555556,
              "#d8576b"
             ],
             [
              0.6666666666666666,
              "#ed7953"
             ],
             [
              0.7777777777777778,
              "#fb9f3a"
             ],
             [
              0.8888888888888888,
              "#fdca26"
             ],
             [
              1,
              "#f0f921"
             ]
            ],
            "type": "heatmapgl"
           }
          ],
          "histogram": [
           {
            "marker": {
             "pattern": {
              "fillmode": "overlay",
              "size": 10,
              "solidity": 0.2
             }
            },
            "type": "histogram"
           }
          ],
          "histogram2d": [
           {
            "colorbar": {
             "outlinewidth": 0,
             "ticks": ""
            },
            "colorscale": [
             [
              0,
              "#0d0887"
             ],
             [
              0.1111111111111111,
              "#46039f"
             ],
             [
              0.2222222222222222,
              "#7201a8"
             ],
             [
              0.3333333333333333,
              "#9c179e"
             ],
             [
              0.4444444444444444,
              "#bd3786"
             ],
             [
              0.5555555555555556,
              "#d8576b"
             ],
             [
              0.6666666666666666,
              "#ed7953"
             ],
             [
              0.7777777777777778,
              "#fb9f3a"
             ],
             [
              0.8888888888888888,
              "#fdca26"
             ],
             [
              1,
              "#f0f921"
             ]
            ],
            "type": "histogram2d"
           }
          ],
          "histogram2dcontour": [
           {
            "colorbar": {
             "outlinewidth": 0,
             "ticks": ""
            },
            "colorscale": [
             [
              0,
              "#0d0887"
             ],
             [
              0.1111111111111111,
              "#46039f"
             ],
             [
              0.2222222222222222,
              "#7201a8"
             ],
             [
              0.3333333333333333,
              "#9c179e"
             ],
             [
              0.4444444444444444,
              "#bd3786"
             ],
             [
              0.5555555555555556,
              "#d8576b"
             ],
             [
              0.6666666666666666,
              "#ed7953"
             ],
             [
              0.7777777777777778,
              "#fb9f3a"
             ],
             [
              0.8888888888888888,
              "#fdca26"
             ],
             [
              1,
              "#f0f921"
             ]
            ],
            "type": "histogram2dcontour"
           }
          ],
          "mesh3d": [
           {
            "colorbar": {
             "outlinewidth": 0,
             "ticks": ""
            },
            "type": "mesh3d"
           }
          ],
          "parcoords": [
           {
            "line": {
             "colorbar": {
              "outlinewidth": 0,
              "ticks": ""
             }
            },
            "type": "parcoords"
           }
          ],
          "pie": [
           {
            "automargin": true,
            "type": "pie"
           }
          ],
          "scatter": [
           {
            "fillpattern": {
             "fillmode": "overlay",
             "size": 10,
             "solidity": 0.2
            },
            "type": "scatter"
           }
          ],
          "scatter3d": [
           {
            "line": {
             "colorbar": {
              "outlinewidth": 0,
              "ticks": ""
             }
            },
            "marker": {
             "colorbar": {
              "outlinewidth": 0,
              "ticks": ""
             }
            },
            "type": "scatter3d"
           }
          ],
          "scattercarpet": [
           {
            "marker": {
             "colorbar": {
              "outlinewidth": 0,
              "ticks": ""
             }
            },
            "type": "scattercarpet"
           }
          ],
          "scattergeo": [
           {
            "marker": {
             "colorbar": {
              "outlinewidth": 0,
              "ticks": ""
             }
            },
            "type": "scattergeo"
           }
          ],
          "scattergl": [
           {
            "marker": {
             "colorbar": {
              "outlinewidth": 0,
              "ticks": ""
             }
            },
            "type": "scattergl"
           }
          ],
          "scattermapbox": [
           {
            "marker": {
             "colorbar": {
              "outlinewidth": 0,
              "ticks": ""
             }
            },
            "type": "scattermapbox"
           }
          ],
          "scatterpolar": [
           {
            "marker": {
             "colorbar": {
              "outlinewidth": 0,
              "ticks": ""
             }
            },
            "type": "scatterpolar"
           }
          ],
          "scatterpolargl": [
           {
            "marker": {
             "colorbar": {
              "outlinewidth": 0,
              "ticks": ""
             }
            },
            "type": "scatterpolargl"
           }
          ],
          "scatterternary": [
           {
            "marker": {
             "colorbar": {
              "outlinewidth": 0,
              "ticks": ""
             }
            },
            "type": "scatterternary"
           }
          ],
          "surface": [
           {
            "colorbar": {
             "outlinewidth": 0,
             "ticks": ""
            },
            "colorscale": [
             [
              0,
              "#0d0887"
             ],
             [
              0.1111111111111111,
              "#46039f"
             ],
             [
              0.2222222222222222,
              "#7201a8"
             ],
             [
              0.3333333333333333,
              "#9c179e"
             ],
             [
              0.4444444444444444,
              "#bd3786"
             ],
             [
              0.5555555555555556,
              "#d8576b"
             ],
             [
              0.6666666666666666,
              "#ed7953"
             ],
             [
              0.7777777777777778,
              "#fb9f3a"
             ],
             [
              0.8888888888888888,
              "#fdca26"
             ],
             [
              1,
              "#f0f921"
             ]
            ],
            "type": "surface"
           }
          ],
          "table": [
           {
            "cells": {
             "fill": {
              "color": "#EBF0F8"
             },
             "line": {
              "color": "white"
             }
            },
            "header": {
             "fill": {
              "color": "#C8D4E3"
             },
             "line": {
              "color": "white"
             }
            },
            "type": "table"
           }
          ]
         },
         "layout": {
          "annotationdefaults": {
           "arrowcolor": "#2a3f5f",
           "arrowhead": 0,
           "arrowwidth": 1
          },
          "autotypenumbers": "strict",
          "coloraxis": {
           "colorbar": {
            "outlinewidth": 0,
            "ticks": ""
           }
          },
          "colorscale": {
           "diverging": [
            [
             0,
             "#8e0152"
            ],
            [
             0.1,
             "#c51b7d"
            ],
            [
             0.2,
             "#de77ae"
            ],
            [
             0.3,
             "#f1b6da"
            ],
            [
             0.4,
             "#fde0ef"
            ],
            [
             0.5,
             "#f7f7f7"
            ],
            [
             0.6,
             "#e6f5d0"
            ],
            [
             0.7,
             "#b8e186"
            ],
            [
             0.8,
             "#7fbc41"
            ],
            [
             0.9,
             "#4d9221"
            ],
            [
             1,
             "#276419"
            ]
           ],
           "sequential": [
            [
             0,
             "#0d0887"
            ],
            [
             0.1111111111111111,
             "#46039f"
            ],
            [
             0.2222222222222222,
             "#7201a8"
            ],
            [
             0.3333333333333333,
             "#9c179e"
            ],
            [
             0.4444444444444444,
             "#bd3786"
            ],
            [
             0.5555555555555556,
             "#d8576b"
            ],
            [
             0.6666666666666666,
             "#ed7953"
            ],
            [
             0.7777777777777778,
             "#fb9f3a"
            ],
            [
             0.8888888888888888,
             "#fdca26"
            ],
            [
             1,
             "#f0f921"
            ]
           ],
           "sequentialminus": [
            [
             0,
             "#0d0887"
            ],
            [
             0.1111111111111111,
             "#46039f"
            ],
            [
             0.2222222222222222,
             "#7201a8"
            ],
            [
             0.3333333333333333,
             "#9c179e"
            ],
            [
             0.4444444444444444,
             "#bd3786"
            ],
            [
             0.5555555555555556,
             "#d8576b"
            ],
            [
             0.6666666666666666,
             "#ed7953"
            ],
            [
             0.7777777777777778,
             "#fb9f3a"
            ],
            [
             0.8888888888888888,
             "#fdca26"
            ],
            [
             1,
             "#f0f921"
            ]
           ]
          },
          "colorway": [
           "#636efa",
           "#EF553B",
           "#00cc96",
           "#ab63fa",
           "#FFA15A",
           "#19d3f3",
           "#FF6692",
           "#B6E880",
           "#FF97FF",
           "#FECB52"
          ],
          "font": {
           "color": "#2a3f5f"
          },
          "geo": {
           "bgcolor": "white",
           "lakecolor": "white",
           "landcolor": "#E5ECF6",
           "showlakes": true,
           "showland": true,
           "subunitcolor": "white"
          },
          "hoverlabel": {
           "align": "left"
          },
          "hovermode": "closest",
          "mapbox": {
           "style": "light"
          },
          "paper_bgcolor": "white",
          "plot_bgcolor": "#E5ECF6",
          "polar": {
           "angularaxis": {
            "gridcolor": "white",
            "linecolor": "white",
            "ticks": ""
           },
           "bgcolor": "#E5ECF6",
           "radialaxis": {
            "gridcolor": "white",
            "linecolor": "white",
            "ticks": ""
           }
          },
          "scene": {
           "xaxis": {
            "backgroundcolor": "#E5ECF6",
            "gridcolor": "white",
            "gridwidth": 2,
            "linecolor": "white",
            "showbackground": true,
            "ticks": "",
            "zerolinecolor": "white"
           },
           "yaxis": {
            "backgroundcolor": "#E5ECF6",
            "gridcolor": "white",
            "gridwidth": 2,
            "linecolor": "white",
            "showbackground": true,
            "ticks": "",
            "zerolinecolor": "white"
           },
           "zaxis": {
            "backgroundcolor": "#E5ECF6",
            "gridcolor": "white",
            "gridwidth": 2,
            "linecolor": "white",
            "showbackground": true,
            "ticks": "",
            "zerolinecolor": "white"
           }
          },
          "shapedefaults": {
           "line": {
            "color": "#2a3f5f"
           }
          },
          "ternary": {
           "aaxis": {
            "gridcolor": "white",
            "linecolor": "white",
            "ticks": ""
           },
           "baxis": {
            "gridcolor": "white",
            "linecolor": "white",
            "ticks": ""
           },
           "bgcolor": "#E5ECF6",
           "caxis": {
            "gridcolor": "white",
            "linecolor": "white",
            "ticks": ""
           }
          },
          "title": {
           "x": 0.05
          },
          "xaxis": {
           "automargin": true,
           "gridcolor": "white",
           "linecolor": "white",
           "ticks": "",
           "title": {
            "standoff": 15
           },
           "zerolinecolor": "white",
           "zerolinewidth": 2
          },
          "yaxis": {
           "automargin": true,
           "gridcolor": "white",
           "linecolor": "white",
           "ticks": "",
           "title": {
            "standoff": 15
           },
           "zerolinecolor": "white",
           "zerolinewidth": 2
          }
         }
        },
        "title": {
         "text": "Paralel Coordinates: Parámetros y Rendimiento (XGBoost)"
        }
       }
      }
     },
     "metadata": {},
     "output_type": "display_data"
    }
   ],
   "source": [
    "# Obtener los resultados del estudio de Optuna\n",
    "trials_df0_xgb = study_xgb.trials\n",
    "trials_data_xgb = []\n",
    "\n",
    "# Extraer los parámetros y el valor de cada ensayo\n",
    "for trial in trials_df0_xgb:\n",
    "    # Extraer los parámetros y el F1 score\n",
    "    trial_params = trial.params\n",
    "    trial_params['F1 Score'] = trial.value  # Añadir el F1 score como una nueva columna\n",
    "    trials_data_xgb.append(trial_params)\n",
    "\n",
    "# Crear un DataFrame para los resultados de XGBoost\n",
    "trials_df_xgb = pd.DataFrame(trials_data_xgb)\n",
    "\n",
    "# Verificar las columnas del DataFrame\n",
    "print(trials_df_xgb.columns)\n",
    "\n",
    "# Crear el gráfico de coordenadas paralelas para XGBoost\n",
    "fig_xgb = px.parallel_coordinates(\n",
    "    trials_df_xgb,\n",
    "    dimensions=['max_depth', 'learning_rate', 'subsample', 'colsample_bytree',\n",
    "                 'min_child_weight', 'gamma', 'n_estimators', 'F1 Score'],\n",
    "    color='F1 Score',  # Para colorear según el F1 score\n",
    "    labels={\n",
    "        'max_depth': 'Profundidad Máxima',\n",
    "        'learning_rate': 'Tasa de Aprendizaje',\n",
    "        'subsample': 'Submuestreo',\n",
    "        'colsample_bytree': 'Submuestreo de Columnas',\n",
    "        'min_child_weight': 'Peso Mínimo de Hoja',\n",
    "        'gamma': 'Valor Gamma',\n",
    "        'n_estimators': 'Número de Estimadores',\n",
    "        'F1 Score': 'Puntaje F1'\n",
    "    },\n",
    "    color_continuous_scale='Blues',  # Cambiar el color del gráfico\n",
    "    title=\"Paralel Coordinates: Parámetros y Rendimiento (XGBoost)\"\n",
    ")\n",
    "\n",
    "# Mostrar el gráfico\n",
    "fig_xgb.show()"
   ]
  }
 ],
 "metadata": {
  "kernelspec": {
   "display_name": "Python 3",
   "language": "python",
   "name": "python3"
  },
  "language_info": {
   "codemirror_mode": {
    "name": "ipython",
    "version": 3
   },
   "file_extension": ".py",
   "mimetype": "text/x-python",
   "name": "python",
   "nbconvert_exporter": "python",
   "pygments_lexer": "ipython3",
   "version": "3.10.11"
  }
 },
 "nbformat": 4,
 "nbformat_minor": 2
}
